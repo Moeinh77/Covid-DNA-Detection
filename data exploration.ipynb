{
 "cells": [
  {
   "cell_type": "code",
   "execution_count": 2,
   "id": "551814aa",
   "metadata": {},
   "outputs": [],
   "source": [
    "import pandas as pd\n",
    "import os\n",
    "import seaborn as sns\n",
    "import numpy as np"
   ]
  },
  {
   "cell_type": "code",
   "execution_count": 3,
   "id": "dae68f5d",
   "metadata": {},
   "outputs": [
    {
     "name": "stdout",
     "output_type": "stream",
     "text": [
      "test_(2).csv  read , length:  1090\n",
      "Index(['PID', 'CLASS', 'SEQ'], dtype='object')\n",
      "test_(3).csv  read , length:  4000\n",
      "Index(['PID', 'CLASS', 'SEQ'], dtype='object')\n",
      "test_(5).csv  read , length:  5010\n",
      "Index(['PID', 'CLASS', 'SEQ'], dtype='object')\n",
      "test_(4).csv  read , length:  3500\n",
      "Index(['PID', 'CLASS', 'SEQ'], dtype='object')\n",
      "test_(1).csv  read , length:  3143\n",
      "Index(['PID', 'CLASS', 'SEQ'], dtype='object')\n",
      "Test data size:  16743\n"
     ]
    }
   ],
   "source": [
    "df_list = []\n",
    "test_size = 0\n",
    "df_training = pd.read_csv('data/covid/training.csv')\n",
    "for t in os.listdir('data/covid/test'):\n",
    "    df = pd.read_csv('data/covid/test/'+t)\n",
    "    print(t , ' read', ', length: ', len(df))\n",
    "    print(df.columns)\n",
    "    test_size += len(df)\n",
    "    df_list.append(df)\n",
    "print('Test data size: ', test_size)"
   ]
  },
  {
   "cell_type": "code",
   "execution_count": 4,
   "id": "4febe309",
   "metadata": {},
   "outputs": [],
   "source": [
    "merged_test_dfs = pd.concat(df_list)"
   ]
  },
  {
   "cell_type": "code",
   "execution_count": 5,
   "id": "13271195",
   "metadata": {},
   "outputs": [
    {
     "data": {
      "text/html": [
       "<div>\n",
       "<style scoped>\n",
       "    .dataframe tbody tr th:only-of-type {\n",
       "        vertical-align: middle;\n",
       "    }\n",
       "\n",
       "    .dataframe tbody tr th {\n",
       "        vertical-align: top;\n",
       "    }\n",
       "\n",
       "    .dataframe thead th {\n",
       "        text-align: right;\n",
       "    }\n",
       "</style>\n",
       "<table border=\"1\" class=\"dataframe\">\n",
       "  <thead>\n",
       "    <tr style=\"text-align: right;\">\n",
       "      <th></th>\n",
       "      <th>PID</th>\n",
       "      <th>CLASS</th>\n",
       "      <th>SEQ</th>\n",
       "    </tr>\n",
       "  </thead>\n",
       "  <tbody>\n",
       "    <tr>\n",
       "      <th>0</th>\n",
       "      <td>JF292909 |SARS coronavirus MA15 isolate d2ym4|...</td>\n",
       "      <td>1</td>\n",
       "      <td>CGATCTCTTGTAGATCTGTTCTCTAAACGAACTTTAAAATCTGTGT...</td>\n",
       "    </tr>\n",
       "  </tbody>\n",
       "</table>\n",
       "</div>"
      ],
      "text/plain": [
       "                                                 PID  CLASS  \\\n",
       "0  JF292909 |SARS coronavirus MA15 isolate d2ym4|...      1   \n",
       "\n",
       "                                                 SEQ  \n",
       "0  CGATCTCTTGTAGATCTGTTCTCTAAACGAACTTTAAAATCTGTGT...  "
      ]
     },
     "execution_count": 5,
     "metadata": {},
     "output_type": "execute_result"
    }
   ],
   "source": [
    "merged_test_dfs.head(1)"
   ]
  },
  {
   "cell_type": "code",
   "execution_count": 6,
   "id": "5a8f1a4a",
   "metadata": {},
   "outputs": [
    {
     "data": {
      "text/plain": [
       "18243"
      ]
     },
     "execution_count": 6,
     "metadata": {},
     "output_type": "execute_result"
    }
   ],
   "source": [
    "all_data = pd.concat([merged_test_dfs, df_training])\n",
    "len(all_data)"
   ]
  },
  {
   "cell_type": "code",
   "execution_count": 7,
   "id": "5977e875",
   "metadata": {},
   "outputs": [
    {
     "name": "stdout",
     "output_type": "stream",
     "text": [
      "Index(['PID', 'CLASS', 'SEQ'], dtype='object')\n"
     ]
    },
    {
     "data": {
      "text/html": [
       "<div>\n",
       "<style scoped>\n",
       "    .dataframe tbody tr th:only-of-type {\n",
       "        vertical-align: middle;\n",
       "    }\n",
       "\n",
       "    .dataframe tbody tr th {\n",
       "        vertical-align: top;\n",
       "    }\n",
       "\n",
       "    .dataframe thead th {\n",
       "        text-align: right;\n",
       "    }\n",
       "</style>\n",
       "<table border=\"1\" class=\"dataframe\">\n",
       "  <thead>\n",
       "    <tr style=\"text-align: right;\">\n",
       "      <th></th>\n",
       "      <th>PID</th>\n",
       "      <th>CLASS</th>\n",
       "      <th>SEQ</th>\n",
       "    </tr>\n",
       "  </thead>\n",
       "  <tbody>\n",
       "    <tr>\n",
       "      <th>0</th>\n",
       "      <td>JF292909 |SARS coronavirus MA15 isolate d2ym4|...</td>\n",
       "      <td>1</td>\n",
       "      <td>CGATCTCTTGTAGATCTGTTCTCTAAACGAACTTTAAAATCTGTGT...</td>\n",
       "    </tr>\n",
       "    <tr>\n",
       "      <th>1</th>\n",
       "      <td>JF292910 |SARS coronavirus MA15 isolate d2ym5|...</td>\n",
       "      <td>1</td>\n",
       "      <td>CGATCTCTTGTAGATCTGTTCTCTAAACGAACTTTAAAATCTGTGT...</td>\n",
       "    </tr>\n",
       "    <tr>\n",
       "      <th>2</th>\n",
       "      <td>JF292911 |SARS coronavirus MA15 isolate d4ym1|...</td>\n",
       "      <td>1</td>\n",
       "      <td>CGATCTCTTGTAGATCTGTTCTCTAAACGAACTTTAAAATCTGTGT...</td>\n",
       "    </tr>\n",
       "    <tr>\n",
       "      <th>3</th>\n",
       "      <td>JF292912 |SARS coronavirus MA15 isolate d4ym2|...</td>\n",
       "      <td>1</td>\n",
       "      <td>CGATCTCTTGTAGATCTGTTCTCTAAACGAACTTTAAAATCTGTGT...</td>\n",
       "    </tr>\n",
       "    <tr>\n",
       "      <th>4</th>\n",
       "      <td>JF292913 |SARS coronavirus MA15 isolate d4ym3|...</td>\n",
       "      <td>1</td>\n",
       "      <td>CGATCTCTTGTAGATCTGTTCTCTAAACGAACTTTAAAATCTGTGT...</td>\n",
       "    </tr>\n",
       "  </tbody>\n",
       "</table>\n",
       "</div>"
      ],
      "text/plain": [
       "                                                 PID  CLASS  \\\n",
       "0  JF292909 |SARS coronavirus MA15 isolate d2ym4|...      1   \n",
       "1  JF292910 |SARS coronavirus MA15 isolate d2ym5|...      1   \n",
       "2  JF292911 |SARS coronavirus MA15 isolate d4ym1|...      1   \n",
       "3  JF292912 |SARS coronavirus MA15 isolate d4ym2|...      1   \n",
       "4  JF292913 |SARS coronavirus MA15 isolate d4ym3|...      1   \n",
       "\n",
       "                                                 SEQ  \n",
       "0  CGATCTCTTGTAGATCTGTTCTCTAAACGAACTTTAAAATCTGTGT...  \n",
       "1  CGATCTCTTGTAGATCTGTTCTCTAAACGAACTTTAAAATCTGTGT...  \n",
       "2  CGATCTCTTGTAGATCTGTTCTCTAAACGAACTTTAAAATCTGTGT...  \n",
       "3  CGATCTCTTGTAGATCTGTTCTCTAAACGAACTTTAAAATCTGTGT...  \n",
       "4  CGATCTCTTGTAGATCTGTTCTCTAAACGAACTTTAAAATCTGTGT...  "
      ]
     },
     "execution_count": 7,
     "metadata": {},
     "output_type": "execute_result"
    }
   ],
   "source": [
    "columns = ['PID', 'CLASS', 'SEQ']\n",
    "all_data_final = all_data[columns]\n",
    "print(all_data_final.columns)\n",
    "all_data_final.head()"
   ]
  },
  {
   "cell_type": "code",
   "execution_count": 8,
   "id": "a1a6b467",
   "metadata": {},
   "outputs": [
    {
     "data": {
      "text/plain": [
       "18243"
      ]
     },
     "execution_count": 8,
     "metadata": {},
     "output_type": "execute_result"
    }
   ],
   "source": [
    "all_data_final.dropna()\n",
    "len(all_data_final)"
   ]
  },
  {
   "cell_type": "code",
   "execution_count": 9,
   "id": "dd9b7ded",
   "metadata": {},
   "outputs": [],
   "source": [
    "all_data_final['CLASS'].apply(lambda x: int(x))\n",
    "all_data_final.reset_index(inplace=True)"
   ]
  },
  {
   "cell_type": "code",
   "execution_count": 10,
   "id": "b93cb0a8",
   "metadata": {},
   "outputs": [],
   "source": [
    "# all_data_final.to_csv('all_data.csv', index=False)"
   ]
  },
  {
   "cell_type": "code",
   "execution_count": 11,
   "id": "2fcba7cb",
   "metadata": {},
   "outputs": [
    {
     "name": "stdout",
     "output_type": "stream",
     "text": [
      "Average length of the seqeunces:  24861\n"
     ]
    }
   ],
   "source": [
    "print('Average length of the seqeunces: ', int(np.mean(all_data_final['SEQ'].str.len())))"
   ]
  },
  {
   "cell_type": "code",
   "execution_count": 12,
   "id": "dcb55824",
   "metadata": {},
   "outputs": [
    {
     "ename": "AttributeError",
     "evalue": "'AxesSubplot' object has no attribute 'counts'",
     "output_type": "error",
     "traceback": [
      "\u001b[0;31m---------------------------------------------------------------------------\u001b[0m",
      "\u001b[0;31mAttributeError\u001b[0m                            Traceback (most recent call last)",
      "\u001b[0;32m/tmp/ipykernel_264530/624947834.py\u001b[0m in \u001b[0;36m<module>\u001b[0;34m\u001b[0m\n\u001b[0;32m----> 1\u001b[0;31m \u001b[0msns\u001b[0m\u001b[0;34m.\u001b[0m\u001b[0mcountplot\u001b[0m\u001b[0;34m(\u001b[0m\u001b[0mdata\u001b[0m\u001b[0;34m=\u001b[0m \u001b[0mall_data_final\u001b[0m\u001b[0;34m,\u001b[0m \u001b[0mx\u001b[0m \u001b[0;34m=\u001b[0m \u001b[0;34m'CLASS'\u001b[0m\u001b[0;34m)\u001b[0m\u001b[0;34m.\u001b[0m\u001b[0mcounts\u001b[0m\u001b[0;34m\u001b[0m\u001b[0;34m\u001b[0m\u001b[0m\n\u001b[0m",
      "\u001b[0;31mAttributeError\u001b[0m: 'AxesSubplot' object has no attribute 'counts'"
     ]
    },
    {
     "data": {
      "image/png": "[encoded data removed]",
      "text/plain": [
       "<Figure size 432x288 with 1 Axes>"
      ]
     },
     "metadata": {
      "needs_background": "light"
     },
     "output_type": "display_data"
    }
   ],
   "source": [
    "sns.countplot(data= all_data_final, x = 'CLASS')."
   ]
  },
  {
   "cell_type": "code",
   "execution_count": null,
   "id": "4e045a4b",
   "metadata": {},
   "outputs": [],
   "source": [
    "T = −1.5, C = 0.5, A = 1.5, G = −0.5"
   ]
  },
  {
   "cell_type": "code",
   "execution_count": null,
   "id": "bb2bd574",
   "metadata": {},
   "outputs": [],
   "source": []
  }
 ],
 "metadata": {
  "kernelspec": {
   "display_name": "Python 3 (ipykernel)",
   "language": "python",
   "name": "python3"
  },
  "language_info": {
   "codemirror_mode": {
    "name": "ipython",
    "version": 3
   },
   "file_extension": ".py",
   "mimetype": "text/x-python",
   "name": "python",
   "nbconvert_exporter": "python",
   "pygments_lexer": "ipython3",
   "version": "3.8.12"
  }
 },
 "nbformat": 4,
 "nbformat_minor": 5
}
