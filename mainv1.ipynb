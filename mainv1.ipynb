{
 "cells": [
  {
   "cell_type": "code",
   "execution_count": 8,
   "id": "551814aa",
   "metadata": {},
   "outputs": [],
   "source": [
    "import pandas as pd\n",
    "import os\n",
    "import seaborn as sns\n",
    "import numpy as np\n",
    "import pickle\n",
    "import matplotlib.pyplot as plt\n",
    "from sklearn.decomposition import PCA"
   ]
  },
  {
   "cell_type": "code",
   "execution_count": 2,
   "id": "da637366",
   "metadata": {},
   "outputs": [
    {
     "name": "stderr",
     "output_type": "stream",
     "text": [
      "2022-02-25 10:24:05.695724: I tensorflow/stream_executor/cuda/cuda_gpu_executor.cc:939] successful NUMA node read from SysFS had negative value (-1), but there must be at least one NUMA node, so returning NUMA node zero\n",
      "2022-02-25 10:24:05.700026: I tensorflow/stream_executor/cuda/cuda_gpu_executor.cc:939] successful NUMA node read from SysFS had negative value (-1), but there must be at least one NUMA node, so returning NUMA node zero\n",
      "2022-02-25 10:24:05.700356: I tensorflow/stream_executor/cuda/cuda_gpu_executor.cc:939] successful NUMA node read from SysFS had negative value (-1), but there must be at least one NUMA node, so returning NUMA node zero\n"
     ]
    }
   ],
   "source": [
    "import tensorflow as tf\n",
    "from tensorflow import keras\n",
    "from tensorflow.keras import layers\n",
    "\n",
    "gpu_devices = tf.config.experimental.list_physical_devices('GPU')\n",
    "for device in gpu_devices:\n",
    "    tf.config.experimental.set_memory_growth(device, True)"
   ]
  },
  {
   "cell_type": "code",
   "execution_count": 3,
   "id": "634c5f14",
   "metadata": {},
   "outputs": [],
   "source": [
    "NUM_CLASSES = 6"
   ]
  },
  {
   "cell_type": "markdown",
   "id": "21e8b950",
   "metadata": {},
   "source": [
    "### The networks"
   ]
  },
  {
   "cell_type": "markdown",
   "id": "9ebe5589",
   "metadata": {},
   "source": [
    "#### Transformer"
   ]
  },
  {
   "cell_type": "code",
   "execution_count": 4,
   "id": "be5abb89",
   "metadata": {},
   "outputs": [],
   "source": [
    "class TokenAndPositionEmbedding(layers.Layer):\n",
    "    def __init__(self, maxlen, vocab_size, embed_dim):\n",
    "        super(TokenAndPositionEmbedding, self).__init__()\n",
    "        self.embed_dim = embed_dim\n",
    "        self.token_emb = layers.Embedding(input_dim= vocab_size, output_dim= embed_dim)\n",
    "        self.maxlen = maxlen\n",
    "        # self.pos_emb = layers.Embedding(input_dim= maxlen, output_dim= embed_dim)\n",
    "\n",
    "    def get_angles(self, pos, i, embd_dim):\n",
    "        angle_rates = 1 / np.power(10000, (2 * (i//2)) / np.float32(embd_dim))\n",
    "        return pos * angle_rates\n",
    "\n",
    "    def positional_encoding(self, max_pos_enc, embd_dim):\n",
    "        angle_rads = self.get_angles(np.arange(max_pos_enc)[:, np.newaxis],\n",
    "                                np.arange(embd_dim)[np.newaxis, :],\n",
    "                                embd_dim)\n",
    "\n",
    "        # apply sin to even indices in the array; 2i\n",
    "        angle_rads[:, 0::2] = np.sin(angle_rads[:, 0::2])\n",
    "\n",
    "        # apply cos to odd indices in the array; 2i+1\n",
    "        angle_rads[:, 1::2] = np.cos(angle_rads[:, 1::2])\n",
    "\n",
    "        pos_encoding = angle_rads[np.newaxis, ...]\n",
    "\n",
    "        return tf.cast(pos_encoding, dtype=tf.float32)\n",
    "\n",
    "    def call(self, x):\n",
    "        # positions = tf.range(start=0, limit=maxlen, delta=1)\n",
    "        positions = self.positional_encoding(max_pos_enc= self.maxlen, embd_dim= self.embed_dim)\n",
    "        # print(positions.shape)\n",
    "        # positions = self.pos_encoding(positions)\n",
    "        x = self.token_emb(x)\n",
    "        # print(x.shape)\n",
    "        return x + positions"
   ]
  },
  {
   "cell_type": "code",
   "execution_count": 5,
   "id": "78a66e7c",
   "metadata": {},
   "outputs": [],
   "source": [
    "class TransformerBlock(layers.Layer):\n",
    "    def __init__(self, embed_dim, num_heads, ff_dim, rate=0.1):\n",
    "        super(TransformerBlock, self).__init__()\n",
    "        self.att = layers.MultiHeadAttention(num_heads= num_heads, key_dim= embed_dim)\n",
    "        self.ffn = keras.Sequential(\n",
    "            [layers.Dense(ff_dim, activation=\"relu\"), layers.Dense(embed_dim),]\n",
    "        )\n",
    "        self.layernorm1 = layers.LayerNormalization(epsilon=1e-6)\n",
    "        self.layernorm2 = layers.LayerNormalization(epsilon=1e-6)\n",
    "        self.dropout1 = layers.Dropout(rate)\n",
    "        self.dropout2 = layers.Dropout(rate)\n",
    "\n",
    "    def call(self, inputs, training):\n",
    "        attn_output = self.att(inputs, inputs)\n",
    "        attn_output = self.dropout1(attn_output, training=training)\n",
    "        out1 = self.layernorm1(inputs + attn_output)\n",
    "        # print('out1.shape:', out1.shape)\n",
    "        ffn_output = self.ffn(out1)\n",
    "        ffn_output = self.dropout2(ffn_output, training=training)\n",
    "        # print('ffn_output.shape:', ffn_output.shape)\n",
    "        return self.layernorm2(out1 + ffn_output)"
   ]
  },
  {
   "cell_type": "code",
   "execution_count": 6,
   "id": "6a755131",
   "metadata": {},
   "outputs": [],
   "source": [
    "# def create_model_transformer(maxlen = 30121, vocab_size = 259,\n",
    "#                             embed_dim = 50, num_heads = 2, \n",
    "#                             ff_dim = 16, dout = 0.1, \n",
    "#                             extra_dense_nodes = 20):\n",
    "#     '''\n",
    "#     embed_dim - Embedding size for each token\n",
    "#     num_heads - Number of attention heads\n",
    "#     ff_dim - Hidden layer size in feed forward network inside transformer\n",
    "#     '''\n",
    "#     inputs = layers.Input(shape=(maxlen,))\n",
    "#     embedding_layer = TokenAndPositionEmbedding(maxlen, vocab_size, embed_dim)\n",
    "#     x = embedding_layer(inputs)\n",
    "#     transformer_block = TransformerBlock(embed_dim, num_heads, ff_dim)\n",
    "#     print(x.shape)\n",
    "#     x = transformer_block(x)\n",
    "#     x = layers.GlobalAveragePooling1D()(x)\n",
    "#     x = layers.Dropout(dout)(x)\n",
    "#     if extra_dense_nodes!= 0:\n",
    "#         x = layers.Dense(extra_dense_nodes, activation= \"relu\")(x)\n",
    "#         x = layers.Dropout(dout)(x)\n",
    "#     outputs = layers.Dense(NUM_CLASSES, activation= \"softmax\")(x)\n",
    "\n",
    "#     model= keras.Model(inputs=inputs, outputs= outputs)\n",
    "#     model.summary()\n",
    "\n",
    "#     return model"
   ]
  },
  {
   "cell_type": "markdown",
   "id": "547fc7cc",
   "metadata": {},
   "source": [
    "### Transformer and CNN"
   ]
  },
  {
   "cell_type": "code",
   "execution_count": 7,
   "id": "5d7d7a84",
   "metadata": {},
   "outputs": [],
   "source": [
    "from tensorflow.keras.layers import Conv1D\n",
    " \n",
    "@tf.autograph.experimental.do_not_convert # added to silence a warning related to TF\n",
    "def create_model_cnn_transformer(maxlen = 30121, vocab_size = 259,\n",
    "                                embed_dim = 50, num_heads = 2, \n",
    "                                ff_dim = 16, dout = 0.1,\n",
    "                                cnn_filters = 64, cnn_window = 3, \n",
    "                                pool_window = 2, extra_dense_nodes = 20,\n",
    "                                summary = False):\n",
    "    '''\n",
    "    embed_dim - Embedding size for each token\n",
    "    num_heads - Number of attention heads\n",
    "    ff_dim - Hidden layer size in feed forward network inside transformer\n",
    "    '''\n",
    "    # input\n",
    "    inputs = layers.Input(shape=(maxlen,))\n",
    "    # embeddding\n",
    "    embedding_layer = TokenAndPositionEmbedding(inputs.shape[1], vocab_size, embed_dim)\n",
    "    x = embedding_layer(inputs)\n",
    "    # print('embedding output shape:', x.shape)\n",
    "    # convolution\n",
    "    x = Conv1D(filters= cnn_filters, kernel_size= cnn_window)(x)\n",
    "    x = layers.MaxPooling1D(pool_size=pool_window)(x)\n",
    "    # transformer\n",
    "    transformer_block = TransformerBlock(x.shape[2], num_heads, ff_dim)\n",
    "    # print('transformer_block input shape:', x.shape)\n",
    "    x = transformer_block(x)\n",
    "    # extra dense layers\n",
    "    x = layers.GlobalAveragePooling1D()(x)\n",
    "    x = layers.Dropout(dout)(x)\n",
    "    if extra_dense_nodes!= 0:\n",
    "        x = layers.Dense(extra_dense_nodes, activation= \"relu\")(x)\n",
    "        x = layers.Dropout(dout)(x)\n",
    "    # output\n",
    "    outputs = layers.Dense(NUM_CLASSES, activation= \"softmax\")(x)\n",
    "\n",
    "    model= keras.Model(inputs=inputs, outputs= outputs)\n",
    "    if summary:\n",
    "        model.summary()\n",
    "    \n",
    "    return model"
   ]
  },
  {
   "cell_type": "markdown",
   "id": "d200e781",
   "metadata": {},
   "source": [
    "### LSTM"
   ]
  },
  {
   "cell_type": "code",
   "execution_count": 8,
   "id": "6c6d3ac1",
   "metadata": {},
   "outputs": [],
   "source": [
    "# from tensorflow.keras.models import Sequential\n",
    "# from tensorflow.keras.layers import Dense, LSTM, Embedding\n",
    "\n",
    "# def create_LSTM_model(hidden_unit = 100, embedding_vec = 50):\n",
    "#     model = Sequential()\n",
    "#     model.add(Embedding(VOCAB_SIZE, embedding_vec, input_length= maxlen))\n",
    "#     model.add(LSTM(hidden_unit))\n",
    "#     model.add(Dense(NUM_CLASSES, activation='softmax'))\n",
    "    \n",
    "#     model.compile(loss='sparse_categorical_crossentropy', optimizer='adam', metrics=['accuracy'])\n",
    "#     model.summary()\n",
    "#     return model"
   ]
  },
  {
   "cell_type": "markdown",
   "id": "a16735c7",
   "metadata": {},
   "source": [
    "### Kmer method"
   ]
  },
  {
   "cell_type": "markdown",
   "id": "f27ca049",
   "metadata": {},
   "source": [
    "#### Loading the saved data"
   ]
  },
  {
   "cell_type": "code",
   "execution_count": 7,
   "id": "368a5d21",
   "metadata": {},
   "outputs": [
    {
     "data": {
      "text/plain": [
       "((1500, 30121), (1500,))"
      ]
     },
     "execution_count": 7,
     "metadata": {},
     "output_type": "execute_result"
    }
   ],
   "source": [
    "with open('X_train_k3.pkl', 'rb') as f:\n",
    "    X_train = pickle.load(f)\n",
    "with open('Y_train_k3.pkl', 'rb') as f:\n",
    "    Y_train = pickle.load(f)\n",
    "    \n",
    "X_train.shape,Y_train.shape"
   ]
  },
  {
   "cell_type": "code",
   "execution_count": 8,
   "id": "d554919b",
   "metadata": {},
   "outputs": [
    {
     "data": {
      "text/plain": [
       "((1090, 30121), (1090,))"
      ]
     },
     "execution_count": 8,
     "metadata": {},
     "output_type": "execute_result"
    }
   ],
   "source": [
    "with open('X_test_list_k3.pkl', 'rb') as f:\n",
    "    X_test = pickle.load(f)\n",
    "with open('Y_test_list_k3.pkl', 'rb') as f:\n",
    "    Y_test = pickle.load(f)\n",
    "\n",
    "X_test[0].shape, Y_test[0].shape    "
   ]
  },
  {
   "cell_type": "code",
   "execution_count": 9,
   "id": "64a3a99a",
   "metadata": {},
   "outputs": [
    {
     "data": {
      "image/png": "[encoded data removed]",
      "text/plain": [
       "<Figure size 432x288 with 5 Axes>"
      ]
     },
     "metadata": {
      "needs_background": "light"
     },
     "output_type": "display_data"
    }
   ],
   "source": [
    "test_indicies = [2,3,4,5,1]\n",
    "tests_order = [4,0,1,2,3] # the order that test sets are saved in Y_test\n",
    "fig, ax= plt.subplots(1,len(Y_test))\n",
    "fig.tight_layout()\n",
    "\n",
    "for i in range(len(Y_test)):\n",
    "    ax[i].set_title('test set '+ str(i+1))   \n",
    "    sns.countplot(x = Y_test[tests_order[i]], ax=ax[i])\n",
    "\n",
    "# plt.title('Class distribution in test sets', loc = 'left')\n",
    "fig.show()"
   ]
  },
  {
   "cell_type": "markdown",
   "id": "1d95cf66",
   "metadata": {},
   "source": [
    "#### Training helpers"
   ]
  },
  {
   "cell_type": "code",
   "execution_count": 20,
   "id": "2cb8ebdf",
   "metadata": {},
   "outputs": [],
   "source": [
    "model_names = ['transformer_cnn_k3_32f_4pool',\n",
    "            'transformer_cnn_k3_16f_4pool',\n",
    "            'transformer_cnn_k3_64f_4pool',\n",
    "            'transformer_cnn_k3_128f_4pool']"
   ]
  },
  {
   "cell_type": "code",
   "execution_count": 11,
   "id": "341f9cb5",
   "metadata": {},
   "outputs": [],
   "source": [
    "lr_decay = tf.keras.callbacks.ReduceLROnPlateau(\n",
    "    monitor=\"val_loss\",\n",
    "    factor=0.1,\n",
    "    patience=3,\n",
    "    )"
   ]
  },
  {
   "cell_type": "code",
   "execution_count": 12,
   "id": "37f25ce0",
   "metadata": {},
   "outputs": [],
   "source": [
    "adam_opt = tf.keras.optimizers.Adam(learning_rate=3e-3)"
   ]
  },
  {
   "cell_type": "code",
   "execution_count": 13,
   "id": "92772731",
   "metadata": {},
   "outputs": [],
   "source": [
    "def evaluate_model(model, model_name):\n",
    "    model.load_weights('weights/'+model_name)\n",
    "    for i in range(5):\n",
    "        print('Test set {} results:'.format(test_indicies[i]))\n",
    "        with open(model_name+'_test_results.txt','a') as f:\n",
    "            f.write('Test set '+str(test_indicies[i])+' results:')\n",
    "            f.write('\\n'+str(model.evaluate(X_test[i], Y_test[i], batch_size=4)))\n",
    "            f.write('\\n')\n"
   ]
  },
  {
   "cell_type": "code",
   "execution_count": 14,
   "id": "947a5b50",
   "metadata": {},
   "outputs": [],
   "source": [
    "def plot_history(history, model_name):\n",
    "    print('Highest train acc: {} epoch: {}\\n\\\n",
    "           Highest val acc: {} epoch {}'\\\n",
    "        .format(max(history.history['accuracy']), np.argmax(history.history['accuracy'])\n",
    "                max(history.history['val_accuracy']), np.argmax(history.history['val_accuracy'])))\n",
    "\n",
    "    plt.title('Training history of '+ model_name)\n",
    "    plt.plot(history.history['accuracy'],'ro-')\n",
    "    plt.plot(history.history['val_accuracy'],'bx-')\n",
    "    plt.legend(['accuracy','val_accuracy'])\n",
    "    plt.savefig(model_name+'.png')\n",
    "    plt.show()"
   ]
  },
  {
   "cell_type": "markdown",
   "id": "72b3e254",
   "metadata": {},
   "source": [
    "#### CNN_Transformer"
   ]
  },
  {
   "cell_type": "code",
   "execution_count": 15,
   "id": "9009084d",
   "metadata": {},
   "outputs": [
    {
     "name": "stdout",
     "output_type": "stream",
     "text": [
      "transformer_cnn_k3_32f_4pool\n"
     ]
    },
    {
     "name": "stderr",
     "output_type": "stream",
     "text": [
      "2022-02-25 01:17:37.095720: I tensorflow/core/platform/cpu_feature_guard.cc:151] This TensorFlow binary is optimized with oneAPI Deep Neural Network Library (oneDNN) to use the following CPU instructions in performance-critical operations:  AVX2 FMA\n",
      "To enable them in other operations, rebuild TensorFlow with the appropriate compiler flags.\n",
      "2022-02-25 01:17:37.096335: I tensorflow/stream_executor/cuda/cuda_gpu_executor.cc:939] successful NUMA node read from SysFS had negative value (-1), but there must be at least one NUMA node, so returning NUMA node zero\n",
      "2022-02-25 01:17:37.097018: I tensorflow/stream_executor/cuda/cuda_gpu_executor.cc:939] successful NUMA node read from SysFS had negative value (-1), but there must be at least one NUMA node, so returning NUMA node zero\n",
      "2022-02-25 01:17:37.097466: I tensorflow/stream_executor/cuda/cuda_gpu_executor.cc:939] successful NUMA node read from SysFS had negative value (-1), but there must be at least one NUMA node, so returning NUMA node zero\n",
      "2022-02-25 01:17:37.437011: I tensorflow/stream_executor/cuda/cuda_gpu_executor.cc:939] successful NUMA node read from SysFS had negative value (-1), but there must be at least one NUMA node, so returning NUMA node zero\n",
      "2022-02-25 01:17:37.437361: I tensorflow/stream_executor/cuda/cuda_gpu_executor.cc:939] successful NUMA node read from SysFS had negative value (-1), but there must be at least one NUMA node, so returning NUMA node zero\n",
      "2022-02-25 01:17:37.437663: I tensorflow/stream_executor/cuda/cuda_gpu_executor.cc:939] successful NUMA node read from SysFS had negative value (-1), but there must be at least one NUMA node, so returning NUMA node zero\n",
      "2022-02-25 01:17:37.437972: I tensorflow/core/common_runtime/gpu/gpu_device.cc:1525] Created device /job:localhost/replica:0/task:0/device:GPU:0 with 10337 MB memory:  -> device: 0, name: GeForce GTX 1080 Ti, pci bus id: 0000:01:00.0, compute capability: 6.1\n"
     ]
    },
    {
     "name": "stdout",
     "output_type": "stream",
     "text": [
      "Epoch 1/20\n"
     ]
    },
    {
     "name": "stderr",
     "output_type": "stream",
     "text": [
      "2022-02-25 01:17:38.764531: I tensorflow/stream_executor/cuda/cuda_dnn.cc:366] Loaded cuDNN version 8201\n",
      "2022-02-25 01:17:38.947947: W tensorflow/stream_executor/gpu/asm_compiler.cc:111] *** WARNING *** You are using ptxas 10.1.243, which is older than 11.1. ptxas before 11.1 is known to miscompile XLA code, leading to incorrect results or invalid-address errors.\n",
      "\n",
      "You may not need to update to CUDA 11.1; cherry-picking the ptxas binary is often sufficient.\n"
     ]
    },
    {
     "name": "stdout",
     "output_type": "stream",
     "text": [
      "  4/375 [..............................] - ETA: 1:09 - loss: 1.8961 - accuracy: 0.0625  "
     ]
    },
    {
     "ename": "KeyboardInterrupt",
     "evalue": "",
     "output_type": "error",
     "traceback": [
      "\u001b[0;31m---------------------------------------------------------------------------\u001b[0m",
      "\u001b[0;31mKeyboardInterrupt\u001b[0m                         Traceback (most recent call last)",
      "\u001b[0;32m/tmp/ipykernel_21008/2883472942.py\u001b[0m in \u001b[0;36m<module>\u001b[0;34m\u001b[0m\n\u001b[1;32m      9\u001b[0m \u001b[0mmodel\u001b[0m\u001b[0;34m.\u001b[0m\u001b[0mcompile\u001b[0m\u001b[0;34m(\u001b[0m\u001b[0moptimizer\u001b[0m\u001b[0;34m=\u001b[0m \u001b[0madam_opt\u001b[0m\u001b[0;34m,\u001b[0m \u001b[0mloss\u001b[0m\u001b[0;34m=\u001b[0m \u001b[0;34m\"sparse_categorical_crossentropy\"\u001b[0m\u001b[0;34m,\u001b[0m \u001b[0mmetrics\u001b[0m\u001b[0;34m=\u001b[0m\u001b[0;34m[\u001b[0m\u001b[0;34m\"accuracy\"\u001b[0m\u001b[0;34m]\u001b[0m\u001b[0;34m)\u001b[0m\u001b[0;34m\u001b[0m\u001b[0;34m\u001b[0m\u001b[0m\n\u001b[1;32m     10\u001b[0m \u001b[0;34m\u001b[0m\u001b[0m\n\u001b[0;32m---> 11\u001b[0;31m history = model.fit(X_train, Y_train,\n\u001b[0m\u001b[1;32m     12\u001b[0m                     \u001b[0mbatch_size\u001b[0m\u001b[0;34m=\u001b[0m\u001b[0;36m4\u001b[0m\u001b[0;34m,\u001b[0m \u001b[0mepochs\u001b[0m\u001b[0;34m=\u001b[0m\u001b[0;36m20\u001b[0m\u001b[0;34m,\u001b[0m\u001b[0;34m\u001b[0m\u001b[0;34m\u001b[0m\u001b[0m\n\u001b[1;32m     13\u001b[0m                     \u001b[0mvalidation_data\u001b[0m\u001b[0;34m=\u001b[0m\u001b[0;34m(\u001b[0m\u001b[0mX_test\u001b[0m\u001b[0;34m[\u001b[0m\u001b[0;36m0\u001b[0m\u001b[0;34m]\u001b[0m\u001b[0;34m,\u001b[0m \u001b[0mY_test\u001b[0m\u001b[0;34m[\u001b[0m\u001b[0;36m0\u001b[0m\u001b[0;34m]\u001b[0m\u001b[0;34m)\u001b[0m\u001b[0;34m,\u001b[0m\u001b[0;34m\u001b[0m\u001b[0;34m\u001b[0m\u001b[0m\n",
      "\u001b[0;32m/home/jlw742/tf/lib/python3.8/site-packages/keras/utils/traceback_utils.py\u001b[0m in \u001b[0;36merror_handler\u001b[0;34m(*args, **kwargs)\u001b[0m\n\u001b[1;32m     62\u001b[0m     \u001b[0mfiltered_tb\u001b[0m \u001b[0;34m=\u001b[0m \u001b[0;32mNone\u001b[0m\u001b[0;34m\u001b[0m\u001b[0;34m\u001b[0m\u001b[0m\n\u001b[1;32m     63\u001b[0m     \u001b[0;32mtry\u001b[0m\u001b[0;34m:\u001b[0m\u001b[0;34m\u001b[0m\u001b[0;34m\u001b[0m\u001b[0m\n\u001b[0;32m---> 64\u001b[0;31m       \u001b[0;32mreturn\u001b[0m \u001b[0mfn\u001b[0m\u001b[0;34m(\u001b[0m\u001b[0;34m*\u001b[0m\u001b[0margs\u001b[0m\u001b[0;34m,\u001b[0m \u001b[0;34m**\u001b[0m\u001b[0mkwargs\u001b[0m\u001b[0;34m)\u001b[0m\u001b[0;34m\u001b[0m\u001b[0;34m\u001b[0m\u001b[0m\n\u001b[0m\u001b[1;32m     65\u001b[0m     \u001b[0;32mexcept\u001b[0m \u001b[0mException\u001b[0m \u001b[0;32mas\u001b[0m \u001b[0me\u001b[0m\u001b[0;34m:\u001b[0m  \u001b[0;31m# pylint: disable=broad-except\u001b[0m\u001b[0;34m\u001b[0m\u001b[0;34m\u001b[0m\u001b[0m\n\u001b[1;32m     66\u001b[0m       \u001b[0mfiltered_tb\u001b[0m \u001b[0;34m=\u001b[0m \u001b[0m_process_traceback_frames\u001b[0m\u001b[0;34m(\u001b[0m\u001b[0me\u001b[0m\u001b[0;34m.\u001b[0m\u001b[0m__traceback__\u001b[0m\u001b[0;34m)\u001b[0m\u001b[0;34m\u001b[0m\u001b[0;34m\u001b[0m\u001b[0m\n",
      "\u001b[0;32m/home/jlw742/tf/lib/python3.8/site-packages/keras/engine/training.py\u001b[0m in \u001b[0;36mfit\u001b[0;34m(self, x, y, batch_size, epochs, verbose, callbacks, validation_split, validation_data, shuffle, class_weight, sample_weight, initial_epoch, steps_per_epoch, validation_steps, validation_batch_size, validation_freq, max_queue_size, workers, use_multiprocessing)\u001b[0m\n\u001b[1;32m   1214\u001b[0m                 _r=1):\n\u001b[1;32m   1215\u001b[0m               \u001b[0mcallbacks\u001b[0m\u001b[0;34m.\u001b[0m\u001b[0mon_train_batch_begin\u001b[0m\u001b[0;34m(\u001b[0m\u001b[0mstep\u001b[0m\u001b[0;34m)\u001b[0m\u001b[0;34m\u001b[0m\u001b[0;34m\u001b[0m\u001b[0m\n\u001b[0;32m-> 1216\u001b[0;31m               \u001b[0mtmp_logs\u001b[0m \u001b[0;34m=\u001b[0m \u001b[0mself\u001b[0m\u001b[0;34m.\u001b[0m\u001b[0mtrain_function\u001b[0m\u001b[0;34m(\u001b[0m\u001b[0miterator\u001b[0m\u001b[0;34m)\u001b[0m\u001b[0;34m\u001b[0m\u001b[0;34m\u001b[0m\u001b[0m\n\u001b[0m\u001b[1;32m   1217\u001b[0m               \u001b[0;32mif\u001b[0m \u001b[0mdata_handler\u001b[0m\u001b[0;34m.\u001b[0m\u001b[0mshould_sync\u001b[0m\u001b[0;34m:\u001b[0m\u001b[0;34m\u001b[0m\u001b[0;34m\u001b[0m\u001b[0m\n\u001b[1;32m   1218\u001b[0m                 \u001b[0mcontext\u001b[0m\u001b[0;34m.\u001b[0m\u001b[0masync_wait\u001b[0m\u001b[0;34m(\u001b[0m\u001b[0;34m)\u001b[0m\u001b[0;34m\u001b[0m\u001b[0;34m\u001b[0m\u001b[0m\n",
      "\u001b[0;32m/home/jlw742/tf/lib/python3.8/site-packages/tensorflow/python/util/traceback_utils.py\u001b[0m in \u001b[0;36merror_handler\u001b[0;34m(*args, **kwargs)\u001b[0m\n\u001b[1;32m    148\u001b[0m     \u001b[0mfiltered_tb\u001b[0m \u001b[0;34m=\u001b[0m \u001b[0;32mNone\u001b[0m\u001b[0;34m\u001b[0m\u001b[0;34m\u001b[0m\u001b[0m\n\u001b[1;32m    149\u001b[0m     \u001b[0;32mtry\u001b[0m\u001b[0;34m:\u001b[0m\u001b[0;34m\u001b[0m\u001b[0;34m\u001b[0m\u001b[0m\n\u001b[0;32m--> 150\u001b[0;31m       \u001b[0;32mreturn\u001b[0m \u001b[0mfn\u001b[0m\u001b[0;34m(\u001b[0m\u001b[0;34m*\u001b[0m\u001b[0margs\u001b[0m\u001b[0;34m,\u001b[0m \u001b[0;34m**\u001b[0m\u001b[0mkwargs\u001b[0m\u001b[0;34m)\u001b[0m\u001b[0;34m\u001b[0m\u001b[0;34m\u001b[0m\u001b[0m\n\u001b[0m\u001b[1;32m    151\u001b[0m     \u001b[0;32mexcept\u001b[0m \u001b[0mException\u001b[0m \u001b[0;32mas\u001b[0m \u001b[0me\u001b[0m\u001b[0;34m:\u001b[0m\u001b[0;34m\u001b[0m\u001b[0;34m\u001b[0m\u001b[0m\n\u001b[1;32m    152\u001b[0m       \u001b[0mfiltered_tb\u001b[0m \u001b[0;34m=\u001b[0m \u001b[0m_process_traceback_frames\u001b[0m\u001b[0;34m(\u001b[0m\u001b[0me\u001b[0m\u001b[0;34m.\u001b[0m\u001b[0m__traceback__\u001b[0m\u001b[0;34m)\u001b[0m\u001b[0;34m\u001b[0m\u001b[0;34m\u001b[0m\u001b[0m\n",
      "\u001b[0;32m/home/jlw742/tf/lib/python3.8/site-packages/tensorflow/python/eager/def_function.py\u001b[0m in \u001b[0;36m__call__\u001b[0;34m(self, *args, **kwds)\u001b[0m\n\u001b[1;32m    908\u001b[0m \u001b[0;34m\u001b[0m\u001b[0m\n\u001b[1;32m    909\u001b[0m       \u001b[0;32mwith\u001b[0m \u001b[0mOptionalXlaContext\u001b[0m\u001b[0;34m(\u001b[0m\u001b[0mself\u001b[0m\u001b[0;34m.\u001b[0m\u001b[0m_jit_compile\u001b[0m\u001b[0;34m)\u001b[0m\u001b[0;34m:\u001b[0m\u001b[0;34m\u001b[0m\u001b[0;34m\u001b[0m\u001b[0m\n\u001b[0;32m--> 910\u001b[0;31m         \u001b[0mresult\u001b[0m \u001b[0;34m=\u001b[0m \u001b[0mself\u001b[0m\u001b[0;34m.\u001b[0m\u001b[0m_call\u001b[0m\u001b[0;34m(\u001b[0m\u001b[0;34m*\u001b[0m\u001b[0margs\u001b[0m\u001b[0;34m,\u001b[0m \u001b[0;34m**\u001b[0m\u001b[0mkwds\u001b[0m\u001b[0;34m)\u001b[0m\u001b[0;34m\u001b[0m\u001b[0;34m\u001b[0m\u001b[0m\n\u001b[0m\u001b[1;32m    911\u001b[0m \u001b[0;34m\u001b[0m\u001b[0m\n\u001b[1;32m    912\u001b[0m       \u001b[0mnew_tracing_count\u001b[0m \u001b[0;34m=\u001b[0m \u001b[0mself\u001b[0m\u001b[0;34m.\u001b[0m\u001b[0mexperimental_get_tracing_count\u001b[0m\u001b[0;34m(\u001b[0m\u001b[0;34m)\u001b[0m\u001b[0;34m\u001b[0m\u001b[0;34m\u001b[0m\u001b[0m\n",
      "\u001b[0;32m/home/jlw742/tf/lib/python3.8/site-packages/tensorflow/python/eager/def_function.py\u001b[0m in \u001b[0;36m_call\u001b[0;34m(self, *args, **kwds)\u001b[0m\n\u001b[1;32m    940\u001b[0m       \u001b[0;31m# In this case we have created variables on the first call, so we run the\u001b[0m\u001b[0;34m\u001b[0m\u001b[0;34m\u001b[0m\u001b[0;34m\u001b[0m\u001b[0m\n\u001b[1;32m    941\u001b[0m       \u001b[0;31m# defunned version which is guaranteed to never create variables.\u001b[0m\u001b[0;34m\u001b[0m\u001b[0;34m\u001b[0m\u001b[0;34m\u001b[0m\u001b[0m\n\u001b[0;32m--> 942\u001b[0;31m       \u001b[0;32mreturn\u001b[0m \u001b[0mself\u001b[0m\u001b[0;34m.\u001b[0m\u001b[0m_stateless_fn\u001b[0m\u001b[0;34m(\u001b[0m\u001b[0;34m*\u001b[0m\u001b[0margs\u001b[0m\u001b[0;34m,\u001b[0m \u001b[0;34m**\u001b[0m\u001b[0mkwds\u001b[0m\u001b[0;34m)\u001b[0m  \u001b[0;31m# pylint: disable=not-callable\u001b[0m\u001b[0;34m\u001b[0m\u001b[0;34m\u001b[0m\u001b[0m\n\u001b[0m\u001b[1;32m    943\u001b[0m     \u001b[0;32melif\u001b[0m \u001b[0mself\u001b[0m\u001b[0;34m.\u001b[0m\u001b[0m_stateful_fn\u001b[0m \u001b[0;32mis\u001b[0m \u001b[0;32mnot\u001b[0m \u001b[0;32mNone\u001b[0m\u001b[0;34m:\u001b[0m\u001b[0;34m\u001b[0m\u001b[0;34m\u001b[0m\u001b[0m\n\u001b[1;32m    944\u001b[0m       \u001b[0;31m# Release the lock early so that multiple threads can perform the call\u001b[0m\u001b[0;34m\u001b[0m\u001b[0;34m\u001b[0m\u001b[0;34m\u001b[0m\u001b[0m\n",
      "\u001b[0;32m/home/jlw742/tf/lib/python3.8/site-packages/tensorflow/python/eager/function.py\u001b[0m in \u001b[0;36m__call__\u001b[0;34m(self, *args, **kwargs)\u001b[0m\n\u001b[1;32m   3128\u001b[0m       (graph_function,\n\u001b[1;32m   3129\u001b[0m        filtered_flat_args) = self._maybe_define_function(args, kwargs)\n\u001b[0;32m-> 3130\u001b[0;31m     return graph_function._call_flat(\n\u001b[0m\u001b[1;32m   3131\u001b[0m         filtered_flat_args, captured_inputs=graph_function.captured_inputs)  # pylint: disable=protected-access\n\u001b[1;32m   3132\u001b[0m \u001b[0;34m\u001b[0m\u001b[0m\n",
      "\u001b[0;32m/home/jlw742/tf/lib/python3.8/site-packages/tensorflow/python/eager/function.py\u001b[0m in \u001b[0;36m_call_flat\u001b[0;34m(self, args, captured_inputs, cancellation_manager)\u001b[0m\n\u001b[1;32m   1957\u001b[0m         and executing_eagerly):\n\u001b[1;32m   1958\u001b[0m       \u001b[0;31m# No tape is watching; skip to running the function.\u001b[0m\u001b[0;34m\u001b[0m\u001b[0;34m\u001b[0m\u001b[0;34m\u001b[0m\u001b[0m\n\u001b[0;32m-> 1959\u001b[0;31m       return self._build_call_outputs(self._inference_function.call(\n\u001b[0m\u001b[1;32m   1960\u001b[0m           ctx, args, cancellation_manager=cancellation_manager))\n\u001b[1;32m   1961\u001b[0m     forward_backward = self._select_forward_and_backward_functions(\n",
      "\u001b[0;32m/home/jlw742/tf/lib/python3.8/site-packages/tensorflow/python/eager/function.py\u001b[0m in \u001b[0;36mcall\u001b[0;34m(self, ctx, args, cancellation_manager)\u001b[0m\n\u001b[1;32m    596\u001b[0m       \u001b[0;32mwith\u001b[0m \u001b[0m_InterpolateFunctionError\u001b[0m\u001b[0;34m(\u001b[0m\u001b[0mself\u001b[0m\u001b[0;34m)\u001b[0m\u001b[0;34m:\u001b[0m\u001b[0;34m\u001b[0m\u001b[0;34m\u001b[0m\u001b[0m\n\u001b[1;32m    597\u001b[0m         \u001b[0;32mif\u001b[0m \u001b[0mcancellation_manager\u001b[0m \u001b[0;32mis\u001b[0m \u001b[0;32mNone\u001b[0m\u001b[0;34m:\u001b[0m\u001b[0;34m\u001b[0m\u001b[0;34m\u001b[0m\u001b[0m\n\u001b[0;32m--> 598\u001b[0;31m           outputs = execute.execute(\n\u001b[0m\u001b[1;32m    599\u001b[0m               \u001b[0mstr\u001b[0m\u001b[0;34m(\u001b[0m\u001b[0mself\u001b[0m\u001b[0;34m.\u001b[0m\u001b[0msignature\u001b[0m\u001b[0;34m.\u001b[0m\u001b[0mname\u001b[0m\u001b[0;34m)\u001b[0m\u001b[0;34m,\u001b[0m\u001b[0;34m\u001b[0m\u001b[0;34m\u001b[0m\u001b[0m\n\u001b[1;32m    600\u001b[0m               \u001b[0mnum_outputs\u001b[0m\u001b[0;34m=\u001b[0m\u001b[0mself\u001b[0m\u001b[0;34m.\u001b[0m\u001b[0m_num_outputs\u001b[0m\u001b[0;34m,\u001b[0m\u001b[0;34m\u001b[0m\u001b[0;34m\u001b[0m\u001b[0m\n",
      "\u001b[0;32m/home/jlw742/tf/lib/python3.8/site-packages/tensorflow/python/eager/execute.py\u001b[0m in \u001b[0;36mquick_execute\u001b[0;34m(op_name, num_outputs, inputs, attrs, ctx, name)\u001b[0m\n\u001b[1;32m     56\u001b[0m   \u001b[0;32mtry\u001b[0m\u001b[0;34m:\u001b[0m\u001b[0;34m\u001b[0m\u001b[0;34m\u001b[0m\u001b[0m\n\u001b[1;32m     57\u001b[0m     \u001b[0mctx\u001b[0m\u001b[0;34m.\u001b[0m\u001b[0mensure_initialized\u001b[0m\u001b[0;34m(\u001b[0m\u001b[0;34m)\u001b[0m\u001b[0;34m\u001b[0m\u001b[0;34m\u001b[0m\u001b[0m\n\u001b[0;32m---> 58\u001b[0;31m     tensors = pywrap_tfe.TFE_Py_Execute(ctx._handle, device_name, op_name,\n\u001b[0m\u001b[1;32m     59\u001b[0m                                         inputs, attrs, num_outputs)\n\u001b[1;32m     60\u001b[0m   \u001b[0;32mexcept\u001b[0m \u001b[0mcore\u001b[0m\u001b[0;34m.\u001b[0m\u001b[0m_NotOkStatusException\u001b[0m \u001b[0;32mas\u001b[0m \u001b[0me\u001b[0m\u001b[0;34m:\u001b[0m\u001b[0;34m\u001b[0m\u001b[0;34m\u001b[0m\u001b[0m\n",
      "\u001b[0;31mKeyboardInterrupt\u001b[0m: "
     ]
    }
   ],
   "source": [
    "model_name = model_names[0]\n",
    "print(model_name)\n",
    "check_point = tf.keras.callbacks.ModelCheckpoint(\n",
    "    'weights/' + model_name, monitor='val_loss', verbose=0, save_best_only=True,\n",
    "    save_weights_only=True)\n",
    "\n",
    "model = create_model_cnn_transformer(cnn_filters=32, pool_window=4)\n",
    "\n",
    "model.compile(optimizer= adam_opt, loss= \"sparse_categorical_crossentropy\", metrics=[\"accuracy\"])\n",
    "\n",
    "history = model.fit(X_train, Y_train,\n",
    "                    batch_size=4, epochs=20,\n",
    "                    validation_data=(X_test[0], Y_test[0]),\n",
    "                    callbacks = [check_point])\n",
    "\n",
    "plot_history(history, model_name)\n",
    "evaluate_model(model, model_name)\n",
    "\n",
    "# tf.keras.utils.plot_model(cnn_transformer1, to_file='cnn_transformer_32f_4pool.png', show_shapes=True)"
   ]
  },
  {
   "cell_type": "code",
   "execution_count": 17,
   "id": "ed1d4b37",
   "metadata": {},
   "outputs": [
    {
     "name": "stdout",
     "output_type": "stream",
     "text": [
      "transformer_cnn_k3_16f_4pool\n",
      "Epoch 1/20\n",
      "375/375 [==============================] - 98s 261ms/step - loss: 0.7428 - accuracy: 0.6660 - val_loss: 0.4512 - val_accuracy: 0.7945\n",
      "Epoch 2/20\n",
      "375/375 [==============================] - 97s 259ms/step - loss: 0.3675 - accuracy: 0.8107 - val_loss: 0.4355 - val_accuracy: 0.8844\n",
      "Epoch 3/20\n",
      "375/375 [==============================] - 97s 260ms/step - loss: 0.3189 - accuracy: 0.8460 - val_loss: 0.4059 - val_accuracy: 0.9229\n",
      "Epoch 4/20\n",
      "375/375 [==============================] - 97s 259ms/step - loss: 0.2152 - accuracy: 0.9207 - val_loss: 0.3681 - val_accuracy: 0.9312\n",
      "Epoch 5/20\n",
      "375/375 [==============================] - 97s 260ms/step - loss: 0.1566 - accuracy: 0.9467 - val_loss: 0.3232 - val_accuracy: 0.9688\n",
      "Epoch 6/20\n",
      "375/375 [==============================] - 97s 260ms/step - loss: 0.1168 - accuracy: 0.9660 - val_loss: 0.3068 - val_accuracy: 0.9385\n",
      "Epoch 7/20\n",
      "375/375 [==============================] - 97s 259ms/step - loss: 0.0958 - accuracy: 0.9653 - val_loss: 0.3160 - val_accuracy: 0.9752\n",
      "Epoch 8/20\n",
      "375/375 [==============================] - 97s 259ms/step - loss: 0.1250 - accuracy: 0.9673 - val_loss: 0.2658 - val_accuracy: 0.9761\n",
      "Epoch 9/20\n",
      "375/375 [==============================] - 97s 260ms/step - loss: 0.0637 - accuracy: 0.9780 - val_loss: 0.2770 - val_accuracy: 0.9817\n",
      "Epoch 10/20\n",
      "375/375 [==============================] - 97s 259ms/step - loss: 0.0543 - accuracy: 0.9793 - val_loss: 0.2686 - val_accuracy: 0.9835\n",
      "Epoch 11/20\n",
      "375/375 [==============================] - 97s 259ms/step - loss: 0.0455 - accuracy: 0.9840 - val_loss: 0.3128 - val_accuracy: 0.9798\n",
      "Epoch 12/20\n",
      "375/375 [==============================] - 97s 259ms/step - loss: 0.0311 - accuracy: 0.9920 - val_loss: 0.3328 - val_accuracy: 0.9817\n",
      "Epoch 13/20\n",
      "375/375 [==============================] - 97s 260ms/step - loss: 0.0913 - accuracy: 0.9747 - val_loss: 0.3148 - val_accuracy: 0.9752\n",
      "Epoch 14/20\n",
      "375/375 [==============================] - 97s 259ms/step - loss: 0.0467 - accuracy: 0.9840 - val_loss: 0.4840 - val_accuracy: 0.9073\n",
      "Epoch 15/20\n",
      "375/375 [==============================] - 97s 260ms/step - loss: 0.0155 - accuracy: 0.9967 - val_loss: 0.3728 - val_accuracy: 0.9596\n",
      "Epoch 16/20\n",
      "375/375 [==============================] - 97s 259ms/step - loss: 0.0138 - accuracy: 0.9980 - val_loss: 0.3679 - val_accuracy: 0.9780\n",
      "Epoch 17/20\n",
      "375/375 [==============================] - 97s 259ms/step - loss: 0.0477 - accuracy: 0.9867 - val_loss: 0.2974 - val_accuracy: 0.9679\n",
      "Epoch 18/20\n",
      "375/375 [==============================] - 97s 260ms/step - loss: 0.0533 - accuracy: 0.9827 - val_loss: 0.3590 - val_accuracy: 0.9798\n",
      "Epoch 19/20\n",
      "375/375 [==============================] - 97s 259ms/step - loss: 0.0180 - accuracy: 0.9940 - val_loss: 0.3329 - val_accuracy: 0.9826\n",
      "Epoch 20/20\n",
      "375/375 [==============================] - 97s 259ms/step - loss: 0.0124 - accuracy: 0.9953 - val_loss: 0.3282 - val_accuracy: 0.9835\n",
      "Highest train acc: 0.9980000257492065 | Highest val acc: 0.9834862351417542 \n"
     ]
    },
    {
     "data": {
      "image/png": "[encoded data removed]",
      "text/plain": [
       "<Figure size 432x288 with 1 Axes>"
      ]
     },
     "metadata": {
      "needs_background": "light"
     },
     "output_type": "display_data"
    },
    {
     "name": "stdout",
     "output_type": "stream",
     "text": [
      "Test set 2 results:\n",
      "273/273 [==============================] - 24s 88ms/step - loss: 0.2658 - accuracy: 0.9761\n",
      "Test set 3 results:\n",
      "1000/1000 [==============================] - 80s 80ms/step - loss: 0.1077 - accuracy: 0.9875\n",
      "Test set 4 results:\n",
      "1253/1253 [==============================] - 111s 88ms/step - loss: 0.0801 - accuracy: 0.9888\n",
      "Test set 5 results:\n",
      "875/875 [==============================] - 70s 80ms/step - loss: 0.0969 - accuracy: 0.9903\n",
      "Test set 1 results:\n",
      "786/786 [==============================] - 69s 88ms/step - loss: 0.1692 - accuracy: 0.9440\n"
     ]
    }
   ],
   "source": [
    "model_name = model_names[1]\n",
    "print(model_name)\n",
    "check_point = tf.keras.callbacks.ModelCheckpoint(\n",
    "    'weights/' + model_name, monitor='val_loss', verbose=0, save_best_only=True,\n",
    "    save_weights_only=True)\n",
    "\n",
    "model = create_model_cnn_transformer(cnn_filters=16, pool_window=4)\n",
    "\n",
    "model.compile(optimizer= adam_opt, loss= \"sparse_categorical_crossentropy\", metrics=[\"accuracy\"])\n",
    "\n",
    "history = model.fit(X_train, Y_train,\n",
    "                    batch_size=4, epochs=20,\n",
    "                    validation_data=(X_test[0], Y_test[0]),\n",
    "                    callbacks = [check_point])\n",
    "\n",
    "plot_history(history, model_name)\n",
    "evaluate_model(model, model_name)\n",
    "\n",
    "# tf.keras.utils.plot_model(cnn_transformer1, to_file='cnn_transformer_32f_4pool.png', show_shapes=True)"
   ]
  },
  {
   "cell_type": "code",
   "execution_count": 19,
   "id": "5e9187e7",
   "metadata": {},
   "outputs": [
    {
     "name": "stdout",
     "output_type": "stream",
     "text": [
      "transformer_cnn_k3_64f_4pool\n",
      "Epoch 1/20\n",
      "375/375 [==============================] - 102s 269ms/step - loss: 0.8899 - accuracy: 0.5613 - val_loss: 0.6826 - val_accuracy: 0.6248\n",
      "Epoch 2/20\n",
      "375/375 [==============================] - 101s 269ms/step - loss: 0.5709 - accuracy: 0.6760 - val_loss: 0.5601 - val_accuracy: 0.7284\n",
      "Epoch 3/20\n",
      "375/375 [==============================] - 101s 269ms/step - loss: 0.5986 - accuracy: 0.6773 - val_loss: 0.6588 - val_accuracy: 0.7468\n",
      "Epoch 4/20\n",
      "375/375 [==============================] - 101s 269ms/step - loss: 0.4797 - accuracy: 0.7567 - val_loss: 0.5225 - val_accuracy: 0.8349\n",
      "Epoch 5/20\n",
      "375/375 [==============================] - 101s 269ms/step - loss: 0.3895 - accuracy: 0.8220 - val_loss: 0.5452 - val_accuracy: 0.7734\n",
      "Epoch 6/20\n",
      "375/375 [==============================] - 101s 269ms/step - loss: 0.2890 - accuracy: 0.8793 - val_loss: 0.2853 - val_accuracy: 0.9220\n",
      "Epoch 7/20\n",
      "375/375 [==============================] - 101s 269ms/step - loss: 0.2773 - accuracy: 0.8933 - val_loss: 0.3188 - val_accuracy: 0.9128\n",
      "Epoch 8/20\n",
      "375/375 [==============================] - 101s 269ms/step - loss: 0.1821 - accuracy: 0.9360 - val_loss: 0.2252 - val_accuracy: 0.9651\n",
      "Epoch 9/20\n",
      "375/375 [==============================] - 101s 269ms/step - loss: 0.1528 - accuracy: 0.9460 - val_loss: 0.2166 - val_accuracy: 0.9651\n",
      "Epoch 10/20\n",
      "375/375 [==============================] - 101s 269ms/step - loss: 0.1550 - accuracy: 0.9400 - val_loss: 0.2779 - val_accuracy: 0.9550\n",
      "Epoch 11/20\n",
      "375/375 [==============================] - 101s 269ms/step - loss: 0.1336 - accuracy: 0.9473 - val_loss: 0.2298 - val_accuracy: 0.9688\n",
      "Epoch 12/20\n",
      "375/375 [==============================] - 101s 269ms/step - loss: 0.1239 - accuracy: 0.9613 - val_loss: 0.4209 - val_accuracy: 0.8523\n",
      "Epoch 13/20\n",
      "375/375 [==============================] - 101s 269ms/step - loss: 0.0836 - accuracy: 0.9720 - val_loss: 0.2637 - val_accuracy: 0.9743\n",
      "Epoch 14/20\n",
      "375/375 [==============================] - 101s 269ms/step - loss: 0.0862 - accuracy: 0.9760 - val_loss: 0.3193 - val_accuracy: 0.9706\n",
      "Epoch 15/20\n",
      "375/375 [==============================] - 101s 269ms/step - loss: 0.1316 - accuracy: 0.9553 - val_loss: 0.3089 - val_accuracy: 0.9670\n",
      "Epoch 16/20\n",
      "375/375 [==============================] - 101s 268ms/step - loss: 0.1242 - accuracy: 0.9633 - val_loss: 0.2936 - val_accuracy: 0.9679\n",
      "Epoch 17/20\n",
      "375/375 [==============================] - 101s 268ms/step - loss: 0.0776 - accuracy: 0.9773 - val_loss: 0.2960 - val_accuracy: 0.9752\n",
      "Epoch 18/20\n",
      "375/375 [==============================] - 101s 269ms/step - loss: 0.0512 - accuracy: 0.9847 - val_loss: 0.3296 - val_accuracy: 0.9734\n",
      "Epoch 19/20\n",
      "375/375 [==============================] - 101s 269ms/step - loss: 0.1091 - accuracy: 0.9667 - val_loss: 0.3117 - val_accuracy: 0.9670\n",
      "Epoch 20/20\n",
      "375/375 [==============================] - 101s 269ms/step - loss: 0.0438 - accuracy: 0.9860 - val_loss: 0.3489 - val_accuracy: 0.9780\n",
      "Highest train acc: 0.9860000014305115 | Highest val acc: 0.9779816269874573 \n"
     ]
    },
    {
     "data": {
      "image/png": "[encoded data removed]",
      "text/plain": [
       "<Figure size 432x288 with 1 Axes>"
      ]
     },
     "metadata": {
      "needs_background": "light"
     },
     "output_type": "display_data"
    },
    {
     "name": "stdout",
     "output_type": "stream",
     "text": [
      "Test set 2 results:\n",
      "273/273 [==============================] - 26s 96ms/step - loss: 0.2166 - accuracy: 0.9651\n",
      "Test set 3 results:\n",
      "1000/1000 [==============================] - 89s 89ms/step - loss: 0.2567 - accuracy: 0.9392\n",
      "Test set 4 results:\n",
      "1253/1253 [==============================] - 121s 96ms/step - loss: 0.2241 - accuracy: 0.9477\n",
      "Test set 5 results:\n",
      "875/875 [==============================] - 78s 89ms/step - loss: 0.2076 - accuracy: 0.9714\n",
      "Test set 1 results:\n",
      "786/786 [==============================] - 76s 96ms/step - loss: 0.2544 - accuracy: 0.9125\n"
     ]
    }
   ],
   "source": [
    "model_name = model_names[2]\n",
    "print(model_name)\n",
    "check_point = tf.keras.callbacks.ModelCheckpoint(\n",
    "    'weights/' + model_name, monitor='val_loss', verbose=0, save_best_only=True,\n",
    "    save_weights_only=True)\n",
    "\n",
    "model = create_model_cnn_transformer(cnn_filters=64, pool_window=4)\n",
    "\n",
    "model.compile(optimizer= adam_opt, loss= \"sparse_categorical_crossentropy\", metrics=[\"accuracy\"])\n",
    "\n",
    "history = model.fit(X_train, Y_train,\n",
    "                    batch_size=4, epochs=20,\n",
    "                    validation_data=(X_test[0], Y_test[0]),\n",
    "                    callbacks = [check_point])\n",
    "\n",
    "plot_history(history, model_name)\n",
    "evaluate_model(model, model_name)\n",
    "\n",
    "# tf.keras.utils.plot_model(cnn_transformer1, to_file='cnn_transformer_32f_4pool.png', show_shapes=True)"
   ]
  },
  {
   "cell_type": "code",
   "execution_count": 21,
   "id": "09c8f3f2",
   "metadata": {},
   "outputs": [
    {
     "name": "stdout",
     "output_type": "stream",
     "text": [
      "transformer_cnn_k3_128f_4pool\n",
      "Epoch 1/20\n",
      "375/375 [==============================] - 118s 312ms/step - loss: 1.8083 - accuracy: 0.1580 - val_loss: 1.7913 - val_accuracy: 0.1835\n",
      "Epoch 2/20\n",
      "375/375 [==============================] - 117s 311ms/step - loss: 1.7940 - accuracy: 0.1513 - val_loss: 1.7897 - val_accuracy: 0.1835\n",
      "Epoch 3/20\n",
      "375/375 [==============================] - ETA: 0s - loss: 1.7934 - accuracy: 0.1507"
     ]
    }
   ],
   "source": [
    "model_name = model_names[3]\n",
    "print(model_name)\n",
    "check_point = tf.keras.callbacks.ModelCheckpoint(\n",
    "    'weights/' + model_name, monitor='val_loss', verbose=0, save_best_only=True,\n",
    "    save_weights_only=True)\n",
    "\n",
    "model = create_model_cnn_transformer(cnn_filters=128, pool_window=4)\n",
    "\n",
    "model.compile(optimizer= adam_opt, loss= \"sparse_categorical_crossentropy\", metrics=[\"accuracy\"])\n",
    "\n",
    "history = model.fit(X_train, Y_train,\n",
    "                    batch_size=4, epochs=20,\n",
    "                    validation_data=(X_test[0], Y_test[0]),\n",
    "                    callbacks = [check_point])\n",
    "\n",
    "plot_history(history, model_name)\n",
    "evaluate_model(model, model_name)\n",
    "\n",
    "# tf.keras.utils.plot_model(cnn_transformer1, to_file='cnn_transformer_32f_4pool.png', show_shapes=True)"
   ]
  }
 ],
 "metadata": {
  "kernelspec": {
   "display_name": "Python 3 (ipykernel)",
   "language": "python",
   "name": "python3"
  },
  "language_info": {
   "codemirror_mode": {
    "name": "ipython",
    "version": 3
   },
   "file_extension": ".py",
   "mimetype": "text/x-python",
   "name": "python",
   "nbconvert_exporter": "python",
   "pygments_lexer": "ipython3",
   "version": "3.8.12"
  }
 },
 "nbformat": 4,
 "nbformat_minor": 5
}
