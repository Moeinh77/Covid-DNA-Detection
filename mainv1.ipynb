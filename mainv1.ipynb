{
 "cells": [
  {
   "cell_type": "code",
   "execution_count": 34,
   "id": "551814aa",
   "metadata": {},
   "outputs": [],
   "source": [
    "import pandas as pd\n",
    "import os\n",
    "import seaborn as sns\n",
    "import numpy as np\n",
    "import pickle\n",
    "import matplotlib.pyplot as plt"
   ]
  },
  {
   "cell_type": "code",
   "execution_count": 2,
   "id": "da637366",
   "metadata": {},
   "outputs": [],
   "source": [
    "import tensorflow as tf\n",
    "from tensorflow import keras\n",
    "from tensorflow.keras import layers\n",
    "from tensorflow.keras.preprocessing.text import Tokenizer\n",
    "from sklearn.decomposition import PCA"
   ]
  },
  {
   "cell_type": "code",
   "execution_count": 3,
   "id": "634c5f14",
   "metadata": {},
   "outputs": [],
   "source": [
    "NUM_CLASSES = 6"
   ]
  },
  {
   "cell_type": "markdown",
   "id": "21e8b950",
   "metadata": {},
   "source": [
    "### The networks"
   ]
  },
  {
   "cell_type": "markdown",
   "id": "9ebe5589",
   "metadata": {},
   "source": [
    "#### Transformer"
   ]
  },
  {
   "cell_type": "code",
   "execution_count": 4,
   "id": "be5abb89",
   "metadata": {},
   "outputs": [],
   "source": [
    "class TokenAndPositionEmbedding(layers.Layer):\n",
    "    def __init__(self, maxlen, vocab_size, embed_dim):\n",
    "        super(TokenAndPositionEmbedding, self).__init__()\n",
    "        self.embed_dim = embed_dim\n",
    "        self.token_emb = layers.Embedding(input_dim= vocab_size, output_dim= embed_dim)\n",
    "        self.maxlen = maxlen\n",
    "        # self.pos_emb = layers.Embedding(input_dim= maxlen, output_dim= embed_dim)\n",
    "\n",
    "    def get_angles(self, pos, i, embd_dim):\n",
    "        angle_rates = 1 / np.power(10000, (2 * (i//2)) / np.float32(embd_dim))\n",
    "        return pos * angle_rates\n",
    "\n",
    "    def positional_encoding(self, max_pos_enc, embd_dim):\n",
    "        angle_rads = self.get_angles(np.arange(max_pos_enc)[:, np.newaxis],\n",
    "                                np.arange(embd_dim)[np.newaxis, :],\n",
    "                                embd_dim)\n",
    "\n",
    "        # apply sin to even indices in the array; 2i\n",
    "        angle_rads[:, 0::2] = np.sin(angle_rads[:, 0::2])\n",
    "\n",
    "        # apply cos to odd indices in the array; 2i+1\n",
    "        angle_rads[:, 1::2] = np.cos(angle_rads[:, 1::2])\n",
    "\n",
    "        pos_encoding = angle_rads[np.newaxis, ...]\n",
    "\n",
    "        return tf.cast(pos_encoding, dtype=tf.float32)\n",
    "\n",
    "    def call(self, x):\n",
    "        # positions = tf.range(start=0, limit=maxlen, delta=1)\n",
    "        positions = self.positional_encoding(max_pos_enc= self.maxlen, embd_dim= self.embed_dim)\n",
    "        # print(positions.shape)\n",
    "        # positions = self.pos_encoding(positions)\n",
    "        x = self.token_emb(x)\n",
    "        # print(x.shape)\n",
    "        return x + positions"
   ]
  },
  {
   "cell_type": "code",
   "execution_count": 5,
   "id": "78a66e7c",
   "metadata": {},
   "outputs": [],
   "source": [
    "class TransformerBlock(layers.Layer):\n",
    "    def __init__(self, embed_dim, num_heads, ff_dim, rate=0.1):\n",
    "        super(TransformerBlock, self).__init__()\n",
    "        self.att = layers.MultiHeadAttention(num_heads= num_heads, key_dim= embed_dim)\n",
    "        self.ffn = keras.Sequential(\n",
    "            [layers.Dense(ff_dim, activation=\"relu\"), layers.Dense(embed_dim),]\n",
    "        )\n",
    "        self.layernorm1 = layers.LayerNormalization(epsilon=1e-6)\n",
    "        self.layernorm2 = layers.LayerNormalization(epsilon=1e-6)\n",
    "        self.dropout1 = layers.Dropout(rate)\n",
    "        self.dropout2 = layers.Dropout(rate)\n",
    "\n",
    "    def call(self, inputs, training):\n",
    "        attn_output = self.att(inputs, inputs)\n",
    "        attn_output = self.dropout1(attn_output, training=training)\n",
    "        out1 = self.layernorm1(inputs + attn_output)\n",
    "        # print('out1.shape:', out1.shape)\n",
    "        ffn_output = self.ffn(out1)\n",
    "        ffn_output = self.dropout2(ffn_output, training=training)\n",
    "        # print('ffn_output.shape:', ffn_output.shape)\n",
    "        return self.layernorm2(out1 + ffn_output)"
   ]
  },
  {
   "cell_type": "code",
   "execution_count": 6,
   "id": "6a755131",
   "metadata": {},
   "outputs": [],
   "source": [
    "# def create_model_transformer(maxlen = 30121, vocab_size = 259,\n",
    "#                             embed_dim = 50, num_heads = 2, \n",
    "#                             ff_dim = 16, dout = 0.1, \n",
    "#                             extra_dense_nodes = 20):\n",
    "#     '''\n",
    "#     embed_dim - Embedding size for each token\n",
    "#     num_heads - Number of attention heads\n",
    "#     ff_dim - Hidden layer size in feed forward network inside transformer\n",
    "#     '''\n",
    "#     inputs = layers.Input(shape=(maxlen,))\n",
    "#     embedding_layer = TokenAndPositionEmbedding(maxlen, vocab_size, embed_dim)\n",
    "#     x = embedding_layer(inputs)\n",
    "#     transformer_block = TransformerBlock(embed_dim, num_heads, ff_dim)\n",
    "#     print(x.shape)\n",
    "#     x = transformer_block(x)\n",
    "#     x = layers.GlobalAveragePooling1D()(x)\n",
    "#     x = layers.Dropout(dout)(x)\n",
    "#     if extra_dense_nodes!= 0:\n",
    "#         x = layers.Dense(extra_dense_nodes, activation= \"relu\")(x)\n",
    "#         x = layers.Dropout(dout)(x)\n",
    "#     outputs = layers.Dense(NUM_CLASSES, activation= \"softmax\")(x)\n",
    "\n",
    "#     model= keras.Model(inputs=inputs, outputs= outputs)\n",
    "#     model.summary()\n",
    "#     model.compile(optimizer= \"adam\", loss= \"sparse_categorical_crossentropy\", metrics=[\"accuracy\"])\n",
    "\n",
    "#     return model"
   ]
  },
  {
   "cell_type": "markdown",
   "id": "547fc7cc",
   "metadata": {},
   "source": [
    "### Transformer and CNN"
   ]
  },
  {
   "cell_type": "code",
   "execution_count": 7,
   "id": "5d7d7a84",
   "metadata": {},
   "outputs": [],
   "source": [
    "from tensorflow.keras.layers import Conv1D\n",
    " \n",
    "@tf.autograph.experimental.do_not_convert # added to silence a warning related to TF\n",
    "def create_model_cnn_transformer(maxlen = 30121, vocab_size = 259,\n",
    "                                embed_dim = 50, num_heads = 2, \n",
    "                                ff_dim = 16, dout = 0.1,\n",
    "                                cnn_filters = 64, cnn_window = 3, \n",
    "                                pool_window = 2, extra_dense_nodes = 20):\n",
    "    '''\n",
    "    embed_dim - Embedding size for each token\n",
    "    num_heads - Number of attention heads\n",
    "    ff_dim - Hidden layer size in feed forward network inside transformer\n",
    "    '''\n",
    "    # input\n",
    "    inputs = layers.Input(shape=(maxlen,))\n",
    "    # embeddding\n",
    "    embedding_layer = TokenAndPositionEmbedding(inputs.shape[1], vocab_size, embed_dim)\n",
    "    x = embedding_layer(inputs)\n",
    "    # print('embedding output shape:', x.shape)\n",
    "    # convolution\n",
    "    x = Conv1D(filters= cnn_filters, kernel_size= cnn_window)(x)\n",
    "    x = layers.MaxPooling1D(pool_size=pool_window)(x)\n",
    "    # transformer\n",
    "    transformer_block = TransformerBlock(x.shape[2], num_heads, ff_dim)\n",
    "    # print('transformer_block input shape:', x.shape)\n",
    "    x = transformer_block(x)\n",
    "    # extra dense layers\n",
    "    x = layers.GlobalAveragePooling1D()(x)\n",
    "    x = layers.Dropout(dout)(x)\n",
    "    if extra_dense_nodes!= 0:\n",
    "        x = layers.Dense(extra_dense_nodes, activation= \"relu\")(x)\n",
    "        x = layers.Dropout(dout)(x)\n",
    "    # output\n",
    "    outputs = layers.Dense(NUM_CLASSES, activation= \"softmax\")(x)\n",
    "\n",
    "    model= keras.Model(inputs=inputs, outputs= outputs)\n",
    "    model.summary()\n",
    "    model.compile(optimizer= \"adam\", loss= \"sparse_categorical_crossentropy\", metrics=[\"accuracy\"])\n",
    "    \n",
    "    return model"
   ]
  },
  {
   "cell_type": "markdown",
   "id": "d200e781",
   "metadata": {},
   "source": [
    "### LSTM"
   ]
  },
  {
   "cell_type": "code",
   "execution_count": 8,
   "id": "6c6d3ac1",
   "metadata": {},
   "outputs": [],
   "source": [
    "# from tensorflow.keras.models import Sequential\n",
    "# from tensorflow.keras.layers import Dense, LSTM, Embedding\n",
    "\n",
    "# def create_LSTM_model(hidden_unit = 100, embedding_vec = 50):\n",
    "#     model = Sequential()\n",
    "#     model.add(Embedding(VOCAB_SIZE, embedding_vec, input_length= maxlen))\n",
    "#     model.add(LSTM(hidden_unit))\n",
    "#     model.add(Dense(NUM_CLASSES, activation='softmax'))\n",
    "    \n",
    "#     model.compile(loss='sparse_categorical_crossentropy', optimizer='adam', metrics=['accuracy'])\n",
    "#     model.summary()\n",
    "#     return model"
   ]
  },
  {
   "cell_type": "markdown",
   "id": "a16735c7",
   "metadata": {},
   "source": [
    "### Kmer method"
   ]
  },
  {
   "cell_type": "markdown",
   "id": "edcf9a1e",
   "metadata": {},
   "source": [
    "#### preparing data"
   ]
  },
  {
   "cell_type": "code",
   "execution_count": 9,
   "id": "787c8604",
   "metadata": {},
   "outputs": [],
   "source": [
    "KMER = 3"
   ]
  },
  {
   "cell_type": "code",
   "execution_count": 10,
   "id": "1e28e86c",
   "metadata": {},
   "outputs": [
    {
     "data": {
      "text/html": [
       "<div>\n",
       "<style scoped>\n",
       "    .dataframe tbody tr th:only-of-type {\n",
       "        vertical-align: middle;\n",
       "    }\n",
       "\n",
       "    .dataframe tbody tr th {\n",
       "        vertical-align: top;\n",
       "    }\n",
       "\n",
       "    .dataframe thead th {\n",
       "        text-align: right;\n",
       "    }\n",
       "</style>\n",
       "<table border=\"1\" class=\"dataframe\">\n",
       "  <thead>\n",
       "    <tr style=\"text-align: right;\">\n",
       "      <th></th>\n",
       "      <th>PID</th>\n",
       "      <th>CLASS</th>\n",
       "      <th>CLASSNAME</th>\n",
       "      <th>SEQ</th>\n",
       "    </tr>\n",
       "  </thead>\n",
       "  <tbody>\n",
       "    <tr>\n",
       "      <th>0</th>\n",
       "      <td>AB257344 |SARS coronavirus Frankfurt 1 genomic...</td>\n",
       "      <td>1</td>\n",
       "      <td>SARS-COV-1</td>\n",
       "      <td>GATCTCTTGTAGATCTGTTCTCTAAACGAACTTTAAAATCTGTGTA...</td>\n",
       "    </tr>\n",
       "    <tr>\n",
       "      <th>1</th>\n",
       "      <td>AH013708 |SARS coronavirus Sin0409| partial se...</td>\n",
       "      <td>1</td>\n",
       "      <td>SARS-COV-1</td>\n",
       "      <td>CATTCAGTACGGTCGTAGCGGTATAACACTGGGAGTACTCGTGCCA...</td>\n",
       "    </tr>\n",
       "    <tr>\n",
       "      <th>2</th>\n",
       "      <td>AH013709 |SARS coronavirus Sin_WNV| partial se...</td>\n",
       "      <td>1</td>\n",
       "      <td>SARS-COV-1</td>\n",
       "      <td>CACGCGCGGGCAAGTCAATGTGCACTCTTTCCGAACAACTTGATTA...</td>\n",
       "    </tr>\n",
       "  </tbody>\n",
       "</table>\n",
       "</div>"
      ],
      "text/plain": [
       "                                                 PID  CLASS   CLASSNAME  \\\n",
       "0  AB257344 |SARS coronavirus Frankfurt 1 genomic...      1  SARS-COV-1   \n",
       "1  AH013708 |SARS coronavirus Sin0409| partial se...      1  SARS-COV-1   \n",
       "2  AH013709 |SARS coronavirus Sin_WNV| partial se...      1  SARS-COV-1   \n",
       "\n",
       "                                                 SEQ  \n",
       "0  GATCTCTTGTAGATCTGTTCTCTAAACGAACTTTAAAATCTGTGTA...  \n",
       "1  CATTCAGTACGGTCGTAGCGGTATAACACTGGGAGTACTCGTGCCA...  \n",
       "2  CACGCGCGGGCAAGTCAATGTGCACTCTTTCCGAACAACTTGATTA...  "
      ]
     },
     "execution_count": 10,
     "metadata": {},
     "output_type": "execute_result"
    }
   ],
   "source": [
    "df_training = pd.read_csv('data/covid/training.csv')\n",
    "df_training.head(3)"
   ]
  },
  {
   "cell_type": "code",
   "execution_count": 11,
   "id": "88544304",
   "metadata": {},
   "outputs": [],
   "source": [
    "df_training['CLASS'] = df_training['CLASS'].apply(lambda x : x-1)"
   ]
  },
  {
   "cell_type": "code",
   "execution_count": 12,
   "id": "9336c1ca",
   "metadata": {},
   "outputs": [
    {
     "data": {
      "text/plain": [
       "['cca', 'cag', 'agc', 'gct', 'ctg', 'tgt']"
      ]
     },
     "execution_count": 12,
     "metadata": {},
     "output_type": "execute_result"
    }
   ],
   "source": [
    "def kmer_fun(seq, win_size = 3):\n",
    "    kmer_list = []\n",
    "    for x in range(len(seq) - win_size + 1):\n",
    "        kmer_list.append(seq[x:x+win_size].lower())\n",
    "    return kmer_list\n",
    "\n",
    "# So let’s try it out with a simple sequence\n",
    "mySeq = 'CCAGCTGT'\n",
    "kmer_fun(mySeq, win_size= KMER)"
   ]
  },
  {
   "cell_type": "code",
   "execution_count": 13,
   "id": "8511325a",
   "metadata": {},
   "outputs": [
    {
     "data": {
      "text/html": [
       "<div>\n",
       "<style scoped>\n",
       "    .dataframe tbody tr th:only-of-type {\n",
       "        vertical-align: middle;\n",
       "    }\n",
       "\n",
       "    .dataframe tbody tr th {\n",
       "        vertical-align: top;\n",
       "    }\n",
       "\n",
       "    .dataframe thead th {\n",
       "        text-align: right;\n",
       "    }\n",
       "</style>\n",
       "<table border=\"1\" class=\"dataframe\">\n",
       "  <thead>\n",
       "    <tr style=\"text-align: right;\">\n",
       "      <th></th>\n",
       "      <th>PID</th>\n",
       "      <th>CLASS</th>\n",
       "      <th>CLASSNAME</th>\n",
       "      <th>SEQ</th>\n",
       "      <th>KMER_SEQ</th>\n",
       "    </tr>\n",
       "  </thead>\n",
       "  <tbody>\n",
       "    <tr>\n",
       "      <th>0</th>\n",
       "      <td>AB257344 |SARS coronavirus Frankfurt 1 genomic...</td>\n",
       "      <td>0</td>\n",
       "      <td>SARS-COV-1</td>\n",
       "      <td>GATCTCTTGTAGATCTGTTCTCTAAACGAACTTTAAAATCTGTGTA...</td>\n",
       "      <td>[gat, atc, tct, ctc, tct, ctt, ttg, tgt, gta, ...</td>\n",
       "    </tr>\n",
       "  </tbody>\n",
       "</table>\n",
       "</div>"
      ],
      "text/plain": [
       "                                                 PID  CLASS   CLASSNAME  \\\n",
       "0  AB257344 |SARS coronavirus Frankfurt 1 genomic...      0  SARS-COV-1   \n",
       "\n",
       "                                                 SEQ  \\\n",
       "0  GATCTCTTGTAGATCTGTTCTCTAAACGAACTTTAAAATCTGTGTA...   \n",
       "\n",
       "                                            KMER_SEQ  \n",
       "0  [gat, atc, tct, ctc, tct, ctt, ttg, tgt, gta, ...  "
      ]
     },
     "execution_count": 13,
     "metadata": {},
     "output_type": "execute_result"
    }
   ],
   "source": [
    "df_training['KMER_SEQ'] = df_training['SEQ'].apply(lambda x: kmer_fun(x, KMER))\n",
    "df_training.head(1)"
   ]
  },
  {
   "cell_type": "code",
   "execution_count": 14,
   "id": "3d0219f6",
   "metadata": {},
   "outputs": [
    {
     "name": "stdout",
     "output_type": "stream",
     "text": [
      "Found 259 unique tokens\n"
     ]
    }
   ],
   "source": [
    "tokenizer = Tokenizer()\n",
    "tokenizer.fit_on_texts(df_training['KMER_SEQ'])\n",
    "word_index = tokenizer.word_index\n",
    "VOCAB_SIZE = len(word_index)\n",
    "print('Found %s unique tokens' % VOCAB_SIZE)"
   ]
  },
  {
   "cell_type": "code",
   "execution_count": 15,
   "id": "d22ce291",
   "metadata": {},
   "outputs": [
    {
     "data": {
      "text/html": [
       "<div>\n",
       "<style scoped>\n",
       "    .dataframe tbody tr th:only-of-type {\n",
       "        vertical-align: middle;\n",
       "    }\n",
       "\n",
       "    .dataframe tbody tr th {\n",
       "        vertical-align: top;\n",
       "    }\n",
       "\n",
       "    .dataframe thead th {\n",
       "        text-align: right;\n",
       "    }\n",
       "</style>\n",
       "<table border=\"1\" class=\"dataframe\">\n",
       "  <thead>\n",
       "    <tr style=\"text-align: right;\">\n",
       "      <th></th>\n",
       "      <th>PID</th>\n",
       "      <th>CLASS</th>\n",
       "      <th>CLASSNAME</th>\n",
       "      <th>SEQ</th>\n",
       "      <th>KMER_SEQ</th>\n",
       "      <th>KMER_SEQ_NUM</th>\n",
       "    </tr>\n",
       "  </thead>\n",
       "  <tbody>\n",
       "    <tr>\n",
       "      <th>0</th>\n",
       "      <td>AB257344 |SARS coronavirus Frankfurt 1 genomic...</td>\n",
       "      <td>0</td>\n",
       "      <td>SARS-COV-1</td>\n",
       "      <td>GATCTCTTGTAGATCTGTTCTCTAAACGAACTTTAAAATCTGTGTA...</td>\n",
       "      <td>[gat, atc, tct, ctc, tct, ctt, ttg, tgt, gta, ...</td>\n",
       "      <td>[32, 45, 22, 50, 22, 11, 3, 5, 41, 47, 17, 32,...</td>\n",
       "    </tr>\n",
       "  </tbody>\n",
       "</table>\n",
       "</div>"
      ],
      "text/plain": [
       "                                                 PID  CLASS   CLASSNAME  \\\n",
       "0  AB257344 |SARS coronavirus Frankfurt 1 genomic...      0  SARS-COV-1   \n",
       "\n",
       "                                                 SEQ  \\\n",
       "0  GATCTCTTGTAGATCTGTTCTCTAAACGAACTTTAAAATCTGTGTA...   \n",
       "\n",
       "                                            KMER_SEQ  \\\n",
       "0  [gat, atc, tct, ctc, tct, ctt, ttg, tgt, gta, ...   \n",
       "\n",
       "                                        KMER_SEQ_NUM  \n",
       "0  [32, 45, 22, 50, 22, 11, 3, 5, 41, 47, 17, 32,...  "
      ]
     },
     "execution_count": 15,
     "metadata": {},
     "output_type": "execute_result"
    }
   ],
   "source": [
    "df_training['KMER_SEQ_NUM'] = tokenizer.texts_to_sequences(df_training['KMER_SEQ'])\n",
    "df_training.head(1)"
   ]
  },
  {
   "cell_type": "code",
   "execution_count": 16,
   "id": "9a77d16c",
   "metadata": {},
   "outputs": [
    {
     "data": {
      "text/plain": [
       "30121"
      ]
     },
     "execution_count": 16,
     "metadata": {},
     "output_type": "execute_result"
    }
   ],
   "source": [
    "x_train = df_training['KMER_SEQ_NUM']\n",
    "MAXLEN = np.max(df_training['KMER_SEQ_NUM'].str.len())\n",
    "MAXLEN"
   ]
  },
  {
   "cell_type": "code",
   "execution_count": 19,
   "id": "12703b72",
   "metadata": {},
   "outputs": [
    {
     "data": {
      "text/plain": [
       "((1500, 30121), (1500,))"
      ]
     },
     "execution_count": 19,
     "metadata": {},
     "output_type": "execute_result"
    }
   ],
   "source": [
    "X_train = tf.keras.preprocessing.sequence.pad_sequences(X_train, maxlen = MAXLEN)\n",
    "Y_train = df_training['CLASS']\n",
    "X_train.shape, y_train.shape"
   ]
  },
  {
   "cell_type": "code",
   "execution_count": 20,
   "id": "bc9a4a51",
   "metadata": {},
   "outputs": [],
   "source": [
    "with open('X_train_k3.pkl', 'wb') as f:\n",
    "    pickle.dump(x_train, f)\n",
    "with open('Y_train_k3.pkl', 'wb') as f:\n",
    "    pickle.dump(y_train, f)"
   ]
  },
  {
   "cell_type": "markdown",
   "id": "f27ca049",
   "metadata": {},
   "source": [
    "#### Loading the saved data"
   ]
  },
  {
   "cell_type": "code",
   "execution_count": 22,
   "id": "368a5d21",
   "metadata": {},
   "outputs": [
    {
     "data": {
      "text/plain": [
       "((1500, 30121), (1500,))"
      ]
     },
     "execution_count": 22,
     "metadata": {},
     "output_type": "execute_result"
    }
   ],
   "source": [
    "with open('X_train_k3.pkl', 'rb') as f:\n",
    "    X_train = pickle.load(f)\n",
    "with open('Y_train_k3.pkl', 'rb') as f:\n",
    "    Y_train = pickle.load(f)\n",
    "    \n",
    "X_train.shape,Y_train.shape"
   ]
  },
  {
   "cell_type": "code",
   "execution_count": 27,
   "id": "d554919b",
   "metadata": {},
   "outputs": [
    {
     "data": {
      "text/plain": [
       "((1090, 30121), (1090,))"
      ]
     },
     "execution_count": 27,
     "metadata": {},
     "output_type": "execute_result"
    }
   ],
   "source": [
    "with open('X_test_list_k3.pkl', 'rb') as f:\n",
    "    X_test = pickle.load(f)\n",
    "with open('Y_test_list_k3.pkl', 'rb') as f:\n",
    "    Y_test = pickle.load(f)\n",
    "\n",
    "X_test[0].shape, Y_test[0].shape    "
   ]
  },
  {
   "cell_type": "code",
   "execution_count": 50,
   "id": "3206c36b",
   "metadata": {},
   "outputs": [
    {
     "data": {
      "image/png": "[encoded data removed]",
      "text/plain": [
       "<Figure size 432x288 with 5 Axes>"
      ]
     },
     "metadata": {
      "needs_background": "light"
     },
     "output_type": "display_data"
    }
   ],
   "source": [
    "fig, ax =plt.subplots(1,len(Y_test))\n",
    "fig.tight_layout()\n",
    "\n",
    "for i in range(len(Y_test)):\n",
    "    sns.countplot(x = Y_test[i], ax=ax[i])\n",
    "    \n",
    "fig.show()"
   ]
  },
  {
   "cell_type": "markdown",
   "id": "72b3e254",
   "metadata": {},
   "source": [
    "#### CNN_Transformer"
   ]
  },
  {
   "cell_type": "code",
   "execution_count": 28,
   "id": "9009084d",
   "metadata": {},
   "outputs": [
    {
     "name": "stderr",
     "output_type": "stream",
     "text": [
      "2022-02-23 13:25:01.820281: I tensorflow/stream_executor/cuda/cuda_gpu_executor.cc:939] successful NUMA node read from SysFS had negative value (-1), but there must be at least one NUMA node, so returning NUMA node zero\n",
      "2022-02-23 13:25:01.848987: I tensorflow/stream_executor/cuda/cuda_gpu_executor.cc:939] successful NUMA node read from SysFS had negative value (-1), but there must be at least one NUMA node, so returning NUMA node zero\n",
      "2022-02-23 13:25:01.849767: I tensorflow/stream_executor/cuda/cuda_gpu_executor.cc:939] successful NUMA node read from SysFS had negative value (-1), but there must be at least one NUMA node, so returning NUMA node zero\n",
      "2022-02-23 13:25:01.850793: I tensorflow/core/platform/cpu_feature_guard.cc:151] This TensorFlow binary is optimized with oneAPI Deep Neural Network Library (oneDNN) to use the following CPU instructions in performance-critical operations:  AVX2 FMA\n",
      "To enable them in other operations, rebuild TensorFlow with the appropriate compiler flags.\n",
      "2022-02-23 13:25:01.851711: I tensorflow/stream_executor/cuda/cuda_gpu_executor.cc:939] successful NUMA node read from SysFS had negative value (-1), but there must be at least one NUMA node, so returning NUMA node zero\n",
      "2022-02-23 13:25:01.852485: I tensorflow/stream_executor/cuda/cuda_gpu_executor.cc:939] successful NUMA node read from SysFS had negative value (-1), but there must be at least one NUMA node, so returning NUMA node zero\n",
      "2022-02-23 13:25:01.853102: I tensorflow/stream_executor/cuda/cuda_gpu_executor.cc:939] successful NUMA node read from SysFS had negative value (-1), but there must be at least one NUMA node, so returning NUMA node zero\n",
      "2022-02-23 13:25:02.577973: I tensorflow/stream_executor/cuda/cuda_gpu_executor.cc:939] successful NUMA node read from SysFS had negative value (-1), but there must be at least one NUMA node, so returning NUMA node zero\n",
      "2022-02-23 13:25:02.578416: I tensorflow/stream_executor/cuda/cuda_gpu_executor.cc:939] successful NUMA node read from SysFS had negative value (-1), but there must be at least one NUMA node, so returning NUMA node zero\n",
      "2022-02-23 13:25:02.578735: I tensorflow/stream_executor/cuda/cuda_gpu_executor.cc:939] successful NUMA node read from SysFS had negative value (-1), but there must be at least one NUMA node, so returning NUMA node zero\n",
      "2022-02-23 13:25:02.579031: I tensorflow/core/common_runtime/gpu/gpu_device.cc:1525] Created device /job:localhost/replica:0/task:0/device:GPU:0 with 10337 MB memory:  -> device: 0, name: GeForce GTX 1080 Ti, pci bus id: 0000:01:00.0, compute capability: 6.1\n"
     ]
    },
    {
     "name": "stdout",
     "output_type": "stream",
     "text": [
      "Model: \"model\"\n",
      "_________________________________________________________________\n",
      " Layer (type)                Output Shape              Param #   \n",
      "=================================================================\n",
      " input_1 (InputLayer)        [(None, 30121)]           0         \n",
      "                                                                 \n",
      " token_and_position_embeddin  (None, 30121, 50)        12950     \n",
      " g (TokenAndPositionEmbeddin                                     \n",
      " g)                                                              \n",
      "                                                                 \n",
      " conv1d (Conv1D)             (None, 30119, 32)         4832      \n",
      "                                                                 \n",
      " max_pooling1d (MaxPooling1D  (None, 7529, 32)         0         \n",
      " )                                                               \n",
      "                                                                 \n",
      " transformer_block (Transfor  (None, 7529, 32)         9616      \n",
      " merBlock)                                                       \n",
      "                                                                 \n",
      " global_average_pooling1d (G  (None, 32)               0         \n",
      " lobalAveragePooling1D)                                          \n",
      "                                                                 \n",
      " dropout_2 (Dropout)         (None, 32)                0         \n",
      "                                                                 \n",
      " dense_2 (Dense)             (None, 20)                660       \n",
      "                                                                 \n",
      " dropout_3 (Dropout)         (None, 20)                0         \n",
      "                                                                 \n",
      " dense_3 (Dense)             (None, 6)                 126       \n",
      "                                                                 \n",
      "=================================================================\n",
      "Total params: 28,184\n",
      "Trainable params: 28,184\n",
      "Non-trainable params: 0\n",
      "_________________________________________________________________\n",
      "('You must install pydot (`pip install pydot`) and install graphviz (see instructions at https://graphviz.gitlab.io/download/) ', 'for plot_model/model_to_dot to work.')\n"
     ]
    }
   ],
   "source": [
    "cnn_transformer1 = create_model_cnn_transformer(cnn_filters=32, pool_window=4)\n",
    "tf.keras.utils.plot_model(cnn_transformer1, to_file='cnn_transformer_32f_4pool.png', show_shapes=True)"
   ]
  },
  {
   "cell_type": "code",
   "execution_count": 29,
   "id": "b21f6a78",
   "metadata": {},
   "outputs": [
    {
     "name": "stderr",
     "output_type": "stream",
     "text": [
      "2022-02-23 13:27:31.737544: I tensorflow/stream_executor/cuda/cuda_dnn.cc:366] Loaded cuDNN version 8201\n",
      "2022-02-23 13:27:32.362249: W tensorflow/stream_executor/gpu/asm_compiler.cc:111] *** WARNING *** You are using ptxas 10.1.243, which is older than 11.1. ptxas before 11.1 is known to miscompile XLA code, leading to incorrect results or invalid-address errors.\n",
      "\n",
      "You may not need to update to CUDA 11.1; cherry-picking the ptxas binary is often sufficient.\n"
     ]
    },
    {
     "name": "stdout",
     "output_type": "stream",
     "text": [
      "375/375 [==============================] - 94s 244ms/step - loss: 1.2558 - accuracy: 0.4573 - val_loss: 0.6798 - val_accuracy: 0.7945\n"
     ]
    }
   ],
   "source": [
    "history1 = cnn_transformer1.fit(X_train, Y_train,\n",
    "                                batch_size=4, epochs=1,\n",
    "                                validation_data=(X_test[0], Y_test[0]))"
   ]
  },
  {
   "cell_type": "markdown",
   "id": "34e9e013",
   "metadata": {},
   "source": [
    "### Test data preparation"
   ]
  },
  {
   "cell_type": "code",
   "execution_count": 13,
   "id": "f6e68299",
   "metadata": {},
   "outputs": [],
   "source": [
    "def preprocess_df_test(df_test):\n",
    "    \n",
    "    df_test['CLASS'] = df_test['CLASS'].apply(lambda x : x-1) # making the classes to start from class 0\n",
    "    y_test = df_test['CLASS']\n",
    "    \n",
    "    kmer_sequences = df_test['SEQ'].apply(lambda x: kmer_fun(x, KMER))\n",
    "    kmer_sequences = tokenizer.texts_to_sequences(kmer_sequences)\n",
    "    \n",
    "    x_test = tf.keras.preprocessing.sequence.pad_sequences(kmer_sequences, maxlen = MAXLEN)\n",
    "    return np.array(x_test), np.array(y_test)"
   ]
  },
  {
   "cell_type": "code",
   "execution_count": 14,
   "id": "dae68f5d",
   "metadata": {},
   "outputs": [
    {
     "name": "stdout",
     "output_type": "stream",
     "text": [
      "test_(2).csv  Processed , length:  1090\n",
      "test_(3).csv  Processed , length:  4000\n",
      "test_(5).csv  Processed , length:  5010\n",
      "test_(4).csv  Processed , length:  3500\n",
      "test_(1).csv  Processed , length:  3143\n"
     ]
    }
   ],
   "source": [
    "X_test , Y_test = [], []\n",
    "\n",
    "for t in os.listdir('data/covid/test'):\n",
    "    df = pd.read_csv('data/covid/test/'+t)\n",
    "    x_test, y_test = preprocess_df_test(df)\n",
    "    print(t , ' Processed', ', length: ', len(df))\n",
    "    X_test.append(x_test)\n",
    "    Y_test.append(y_test)\n",
    "    # test_size += len(df)\n",
    "    # df_list.append(df)\n"
   ]
  },
  {
   "cell_type": "code",
   "execution_count": 15,
   "id": "4dad772e",
   "metadata": {},
   "outputs": [],
   "source": [
    "with open('X_test_list_k3.pkl', 'wb') as f:\n",
    "    pickle.dump(X_test, f)\n",
    "with open('Y_test_list_k3.pkl', 'wb') as f:\n",
    "    pickle.dump(Y_test, f)"
   ]
  },
  {
   "cell_type": "code",
   "execution_count": null,
   "id": "a59a5cf4",
   "metadata": {},
   "outputs": [],
   "source": []
  },
  {
   "cell_type": "code",
   "execution_count": null,
   "id": "7f969b27",
   "metadata": {},
   "outputs": [],
   "source": []
  },
  {
   "cell_type": "code",
   "execution_count": null,
   "id": "a54cb531",
   "metadata": {},
   "outputs": [],
   "source": []
  },
  {
   "cell_type": "code",
   "execution_count": 25,
   "id": "4febe309",
   "metadata": {},
   "outputs": [],
   "source": [
    "merged_test_dfs = pd.concat(df_list)"
   ]
  },
  {
   "cell_type": "code",
   "execution_count": 26,
   "id": "13271195",
   "metadata": {},
   "outputs": [
    {
     "data": {
      "text/html": [
       "<div>\n",
       "<style scoped>\n",
       "    .dataframe tbody tr th:only-of-type {\n",
       "        vertical-align: middle;\n",
       "    }\n",
       "\n",
       "    .dataframe tbody tr th {\n",
       "        vertical-align: top;\n",
       "    }\n",
       "\n",
       "    .dataframe thead th {\n",
       "        text-align: right;\n",
       "    }\n",
       "</style>\n",
       "<table border=\"1\" class=\"dataframe\">\n",
       "  <thead>\n",
       "    <tr style=\"text-align: right;\">\n",
       "      <th></th>\n",
       "      <th>PID</th>\n",
       "      <th>CLASS</th>\n",
       "      <th>SEQ</th>\n",
       "    </tr>\n",
       "  </thead>\n",
       "  <tbody>\n",
       "    <tr>\n",
       "      <th>0</th>\n",
       "      <td>JF292909 |SARS coronavirus MA15 isolate d2ym4|...</td>\n",
       "      <td>1</td>\n",
       "      <td>CGATCTCTTGTAGATCTGTTCTCTAAACGAACTTTAAAATCTGTGT...</td>\n",
       "    </tr>\n",
       "  </tbody>\n",
       "</table>\n",
       "</div>"
      ],
      "text/plain": [
       "                                                 PID  CLASS  \\\n",
       "0  JF292909 |SARS coronavirus MA15 isolate d2ym4|...      1   \n",
       "\n",
       "                                                 SEQ  \n",
       "0  CGATCTCTTGTAGATCTGTTCTCTAAACGAACTTTAAAATCTGTGT...  "
      ]
     },
     "execution_count": 26,
     "metadata": {},
     "output_type": "execute_result"
    }
   ],
   "source": [
    "merged_test_dfs.head(1)"
   ]
  },
  {
   "cell_type": "code",
   "execution_count": 32,
   "id": "5977e875",
   "metadata": {},
   "outputs": [
    {
     "name": "stdout",
     "output_type": "stream",
     "text": [
      "Index(['PID', 'CLASS', 'SEQ'], dtype='object')\n"
     ]
    },
    {
     "data": {
      "text/html": [
       "<div>\n",
       "<style scoped>\n",
       "    .dataframe tbody tr th:only-of-type {\n",
       "        vertical-align: middle;\n",
       "    }\n",
       "\n",
       "    .dataframe tbody tr th {\n",
       "        vertical-align: top;\n",
       "    }\n",
       "\n",
       "    .dataframe thead th {\n",
       "        text-align: right;\n",
       "    }\n",
       "</style>\n",
       "<table border=\"1\" class=\"dataframe\">\n",
       "  <thead>\n",
       "    <tr style=\"text-align: right;\">\n",
       "      <th></th>\n",
       "      <th>PID</th>\n",
       "      <th>CLASS</th>\n",
       "      <th>SEQ</th>\n",
       "    </tr>\n",
       "  </thead>\n",
       "  <tbody>\n",
       "    <tr>\n",
       "      <th>0</th>\n",
       "      <td>JF292909 |SARS coronavirus MA15 isolate d2ym4|...</td>\n",
       "      <td>1</td>\n",
       "      <td>CGATCTCTTGTAGATCTGTTCTCTAAACGAACTTTAAAATCTGTGT...</td>\n",
       "    </tr>\n",
       "    <tr>\n",
       "      <th>1</th>\n",
       "      <td>JF292910 |SARS coronavirus MA15 isolate d2ym5|...</td>\n",
       "      <td>1</td>\n",
       "      <td>CGATCTCTTGTAGATCTGTTCTCTAAACGAACTTTAAAATCTGTGT...</td>\n",
       "    </tr>\n",
       "    <tr>\n",
       "      <th>2</th>\n",
       "      <td>JF292911 |SARS coronavirus MA15 isolate d4ym1|...</td>\n",
       "      <td>1</td>\n",
       "      <td>CGATCTCTTGTAGATCTGTTCTCTAAACGAACTTTAAAATCTGTGT...</td>\n",
       "    </tr>\n",
       "    <tr>\n",
       "      <th>3</th>\n",
       "      <td>JF292912 |SARS coronavirus MA15 isolate d4ym2|...</td>\n",
       "      <td>1</td>\n",
       "      <td>CGATCTCTTGTAGATCTGTTCTCTAAACGAACTTTAAAATCTGTGT...</td>\n",
       "    </tr>\n",
       "    <tr>\n",
       "      <th>4</th>\n",
       "      <td>JF292913 |SARS coronavirus MA15 isolate d4ym3|...</td>\n",
       "      <td>1</td>\n",
       "      <td>CGATCTCTTGTAGATCTGTTCTCTAAACGAACTTTAAAATCTGTGT...</td>\n",
       "    </tr>\n",
       "  </tbody>\n",
       "</table>\n",
       "</div>"
      ],
      "text/plain": [
       "                                                 PID  CLASS  \\\n",
       "0  JF292909 |SARS coronavirus MA15 isolate d2ym4|...      1   \n",
       "1  JF292910 |SARS coronavirus MA15 isolate d2ym5|...      1   \n",
       "2  JF292911 |SARS coronavirus MA15 isolate d4ym1|...      1   \n",
       "3  JF292912 |SARS coronavirus MA15 isolate d4ym2|...      1   \n",
       "4  JF292913 |SARS coronavirus MA15 isolate d4ym3|...      1   \n",
       "\n",
       "                                                 SEQ  \n",
       "0  CGATCTCTTGTAGATCTGTTCTCTAAACGAACTTTAAAATCTGTGT...  \n",
       "1  CGATCTCTTGTAGATCTGTTCTCTAAACGAACTTTAAAATCTGTGT...  \n",
       "2  CGATCTCTTGTAGATCTGTTCTCTAAACGAACTTTAAAATCTGTGT...  \n",
       "3  CGATCTCTTGTAGATCTGTTCTCTAAACGAACTTTAAAATCTGTGT...  \n",
       "4  CGATCTCTTGTAGATCTGTTCTCTAAACGAACTTTAAAATCTGTGT...  "
      ]
     },
     "execution_count": 32,
     "metadata": {},
     "output_type": "execute_result"
    }
   ],
   "source": [
    "columns = ['PID', 'CLASS', 'SEQ']\n",
    "merged_test_dfs = merged_test_dfs[columns]\n",
    "print(merged_test_dfs.columns)\n",
    "merged_test_dfs.head()"
   ]
  },
  {
   "cell_type": "code",
   "execution_count": 33,
   "id": "a1a6b467",
   "metadata": {},
   "outputs": [
    {
     "data": {
      "text/plain": [
       "16743"
      ]
     },
     "execution_count": 33,
     "metadata": {},
     "output_type": "execute_result"
    }
   ],
   "source": [
    "merged_test_dfs.dropna()\n",
    "len(merged_test_dfs)"
   ]
  },
  {
   "cell_type": "code",
   "execution_count": 34,
   "id": "c93d641e",
   "metadata": {},
   "outputs": [],
   "source": [
    "x_test, y_test = preprocess_df_test(merged_test_dfs)"
   ]
  },
  {
   "cell_type": "code",
   "execution_count": 27,
   "id": "b93cb0a8",
   "metadata": {},
   "outputs": [],
   "source": [
    "# all_data_final.to_csv('all_data.csv', index=False)"
   ]
  },
  {
   "cell_type": "code",
   "execution_count": 29,
   "id": "dcb55824",
   "metadata": {},
   "outputs": [
    {
     "data": {
      "text/plain": [
       "<AxesSubplot:xlabel='CLASS', ylabel='count'>"
      ]
     },
     "execution_count": 29,
     "metadata": {},
     "output_type": "execute_result"
    },
    {
     "data": {
      "image/png": "[encoded data removed]",
      "text/plain": [
       "<Figure size 432x288 with 1 Axes>"
      ]
     },
     "metadata": {
      "needs_background": "light"
     },
     "output_type": "display_data"
    }
   ],
   "source": [
    "sns.countplot(data= all_data_final, x = 'CLASS')"
   ]
  },
  {
   "cell_type": "code",
   "execution_count": 35,
   "id": "86f48c02",
   "metadata": {},
   "outputs": [
    {
     "data": {
      "text/plain": [
       "array([ 1.5,  0.5, -1.5, -0.5,  0. ])"
      ]
     },
     "execution_count": 35,
     "metadata": {},
     "output_type": "execute_result"
    }
   ],
   "source": []
  },
  {
   "cell_type": "code",
   "execution_count": 50,
   "id": "458c5570",
   "metadata": {},
   "outputs": [
    {
     "data": {
      "text/html": [
       "<div>\n",
       "<style scoped>\n",
       "    .dataframe tbody tr th:only-of-type {\n",
       "        vertical-align: middle;\n",
       "    }\n",
       "\n",
       "    .dataframe tbody tr th {\n",
       "        vertical-align: top;\n",
       "    }\n",
       "\n",
       "    .dataframe thead th {\n",
       "        text-align: right;\n",
       "    }\n",
       "</style>\n",
       "<table border=\"1\" class=\"dataframe\">\n",
       "  <thead>\n",
       "    <tr style=\"text-align: right;\">\n",
       "      <th></th>\n",
       "      <th>PID</th>\n",
       "      <th>CLASS</th>\n",
       "      <th>CLASSNAME</th>\n",
       "      <th>SEQ</th>\n",
       "      <th>DIG_SEQ</th>\n",
       "    </tr>\n",
       "  </thead>\n",
       "  <tbody>\n",
       "    <tr>\n",
       "      <th>0</th>\n",
       "      <td>AB257344 |SARS coronavirus Frankfurt 1 genomic...</td>\n",
       "      <td>1</td>\n",
       "      <td>SARS-COV-1</td>\n",
       "      <td>GATCTCTTGTAGATCTGTTCTCTAAACGAACTTTAAAATCTGTGTA...</td>\n",
       "      <td>[-0.5, 1.5, -1.5, 0.5, -1.5, 0.5, -1.5, -1.5, ...</td>\n",
       "    </tr>\n",
       "    <tr>\n",
       "      <th>1</th>\n",
       "      <td>AH013708 |SARS coronavirus Sin0409| partial se...</td>\n",
       "      <td>1</td>\n",
       "      <td>SARS-COV-1</td>\n",
       "      <td>CATTCAGTACGGTCGTAGCGGTATAACACTGGGAGTACTCGTGCCA...</td>\n",
       "      <td>[0.5, 1.5, -1.5, -1.5, 0.5, 1.5, -0.5, -1.5, 1...</td>\n",
       "    </tr>\n",
       "    <tr>\n",
       "      <th>2</th>\n",
       "      <td>AH013709 |SARS coronavirus Sin_WNV| partial se...</td>\n",
       "      <td>1</td>\n",
       "      <td>SARS-COV-1</td>\n",
       "      <td>CACGCGCGGGCAAGTCAATGTGCACTCTTTCCGAACAACTTGATTA...</td>\n",
       "      <td>[0.5, 1.5, 0.5, -0.5, 0.5, -0.5, 0.5, -0.5, -0...</td>\n",
       "    </tr>\n",
       "    <tr>\n",
       "      <th>3</th>\n",
       "      <td>AP006557 |SARS coronavirus TWH genomic RNA| co...</td>\n",
       "      <td>1</td>\n",
       "      <td>SARS-COV-1</td>\n",
       "      <td>ATATTAGGTTTTTACCTACCCAGGAAAAGCCAACCAACCTCGATCT...</td>\n",
       "      <td>[1.5, -1.5, 1.5, -1.5, -1.5, 1.5, -0.5, -0.5, ...</td>\n",
       "    </tr>\n",
       "    <tr>\n",
       "      <th>4</th>\n",
       "      <td>AP006558 |SARS coronavirus TWJ genomic RNA| co...</td>\n",
       "      <td>1</td>\n",
       "      <td>SARS-COV-1</td>\n",
       "      <td>ATATTAGGTTTTTACCTACCCAGGAAAAGCCAACCAACCTCGATCT...</td>\n",
       "      <td>[1.5, -1.5, 1.5, -1.5, -1.5, 1.5, -0.5, -0.5, ...</td>\n",
       "    </tr>\n",
       "  </tbody>\n",
       "</table>\n",
       "</div>"
      ],
      "text/plain": [
       "                                                 PID  CLASS   CLASSNAME  \\\n",
       "0  AB257344 |SARS coronavirus Frankfurt 1 genomic...      1  SARS-COV-1   \n",
       "1  AH013708 |SARS coronavirus Sin0409| partial se...      1  SARS-COV-1   \n",
       "2  AH013709 |SARS coronavirus Sin_WNV| partial se...      1  SARS-COV-1   \n",
       "3  AP006557 |SARS coronavirus TWH genomic RNA| co...      1  SARS-COV-1   \n",
       "4  AP006558 |SARS coronavirus TWJ genomic RNA| co...      1  SARS-COV-1   \n",
       "\n",
       "                                                 SEQ  \\\n",
       "0  GATCTCTTGTAGATCTGTTCTCTAAACGAACTTTAAAATCTGTGTA...   \n",
       "1  CATTCAGTACGGTCGTAGCGGTATAACACTGGGAGTACTCGTGCCA...   \n",
       "2  CACGCGCGGGCAAGTCAATGTGCACTCTTTCCGAACAACTTGATTA...   \n",
       "3  ATATTAGGTTTTTACCTACCCAGGAAAAGCCAACCAACCTCGATCT...   \n",
       "4  ATATTAGGTTTTTACCTACCCAGGAAAAGCCAACCAACCTCGATCT...   \n",
       "\n",
       "                                             DIG_SEQ  \n",
       "0  [-0.5, 1.5, -1.5, 0.5, -1.5, 0.5, -1.5, -1.5, ...  \n",
       "1  [0.5, 1.5, -1.5, -1.5, 0.5, 1.5, -0.5, -1.5, 1...  \n",
       "2  [0.5, 1.5, 0.5, -0.5, 0.5, -0.5, 0.5, -0.5, -0...  \n",
       "3  [1.5, -1.5, 1.5, -1.5, -1.5, 1.5, -0.5, -0.5, ...  \n",
       "4  [1.5, -1.5, 1.5, -1.5, -1.5, 1.5, -0.5, -0.5, ...  "
      ]
     },
     "execution_count": 50,
     "metadata": {},
     "output_type": "execute_result"
    }
   ],
   "source": []
  },
  {
   "cell_type": "code",
   "execution_count": null,
   "id": "8fca2d4f",
   "metadata": {},
   "outputs": [],
   "source": [
    "all_data_final"
   ]
  },
  {
   "cell_type": "code",
   "execution_count": null,
   "id": "bb2bd574",
   "metadata": {},
   "outputs": [],
   "source": [
    "# i = 0\n",
    "# for row in all_data_final.iterrows():\n",
    "#     all_data_final['SEQ'][i] = nucleotideToDigit(row[1][3])\n",
    "#     i+=1"
   ]
  },
  {
   "cell_type": "code",
   "execution_count": null,
   "id": "fa614c4d",
   "metadata": {},
   "outputs": [],
   "source": []
  },
  {
   "cell_type": "code",
   "execution_count": 36,
   "id": "6208c55a",
   "metadata": {},
   "outputs": [
    {
     "data": {
      "text/plain": [
       "array([ 0.5, -0.5,  1.5, ...,  1.5, -0.5, -1.5])"
      ]
     },
     "execution_count": 36,
     "metadata": {},
     "output_type": "execute_result"
    }
   ],
   "source": [
    "nucleotideToDigit(all_data_final['SEQ'][0])"
   ]
  },
  {
   "cell_type": "code",
   "execution_count": null,
   "id": "e304d968",
   "metadata": {},
   "outputs": [],
   "source": []
  },
  {
   "cell_type": "markdown",
   "id": "3cd92e98",
   "metadata": {},
   "source": [
    "### Ordinal Encoding"
   ]
  },
  {
   "cell_type": "code",
   "execution_count": 12,
   "id": "f5a1187a",
   "metadata": {},
   "outputs": [
    {
     "data": {
      "text/plain": [
       "array([ 1.5,  0.5, -1.5, -0.5,  0. ])"
      ]
     },
     "execution_count": 12,
     "metadata": {},
     "output_type": "execute_result"
    }
   ],
   "source": [
    "def nucleotideToDigit(seq):\n",
    "    digit_seq = []\n",
    "    seq = list(seq)\n",
    "    for n in seq:\n",
    "        if n == 'T' :\n",
    "            d = -1.5\n",
    "        elif n =='C' : \n",
    "            d = 0.5\n",
    "        elif n == 'A' :\n",
    "            d = 1.5\n",
    "        elif n == 'G' :\n",
    "            d = -0.5\n",
    "        else:\n",
    "            d = 0\n",
    "        digit_seq.append(d)\n",
    "    \n",
    "    return np.array(digit_seq)\n",
    "     \n",
    "nucleotideToDigit('ACTGN')"
   ]
  },
  {
   "cell_type": "code",
   "execution_count": 13,
   "id": "d91e05d6",
   "metadata": {},
   "outputs": [
    {
     "data": {
      "text/html": [
       "<div>\n",
       "<style scoped>\n",
       "    .dataframe tbody tr th:only-of-type {\n",
       "        vertical-align: middle;\n",
       "    }\n",
       "\n",
       "    .dataframe tbody tr th {\n",
       "        vertical-align: top;\n",
       "    }\n",
       "\n",
       "    .dataframe thead th {\n",
       "        text-align: right;\n",
       "    }\n",
       "</style>\n",
       "<table border=\"1\" class=\"dataframe\">\n",
       "  <thead>\n",
       "    <tr style=\"text-align: right;\">\n",
       "      <th></th>\n",
       "      <th>PID</th>\n",
       "      <th>CLASS</th>\n",
       "      <th>CLASSNAME</th>\n",
       "      <th>SEQ</th>\n",
       "    </tr>\n",
       "  </thead>\n",
       "  <tbody>\n",
       "    <tr>\n",
       "      <th>0</th>\n",
       "      <td>AB257344 |SARS coronavirus Frankfurt 1 genomic...</td>\n",
       "      <td>1</td>\n",
       "      <td>SARS-COV-1</td>\n",
       "      <td>GATCTCTTGTAGATCTGTTCTCTAAACGAACTTTAAAATCTGTGTA...</td>\n",
       "    </tr>\n",
       "    <tr>\n",
       "      <th>1</th>\n",
       "      <td>AH013708 |SARS coronavirus Sin0409| partial se...</td>\n",
       "      <td>1</td>\n",
       "      <td>SARS-COV-1</td>\n",
       "      <td>CATTCAGTACGGTCGTAGCGGTATAACACTGGGAGTACTCGTGCCA...</td>\n",
       "    </tr>\n",
       "    <tr>\n",
       "      <th>2</th>\n",
       "      <td>AH013709 |SARS coronavirus Sin_WNV| partial se...</td>\n",
       "      <td>1</td>\n",
       "      <td>SARS-COV-1</td>\n",
       "      <td>CACGCGCGGGCAAGTCAATGTGCACTCTTTCCGAACAACTTGATTA...</td>\n",
       "    </tr>\n",
       "    <tr>\n",
       "      <th>3</th>\n",
       "      <td>AP006557 |SARS coronavirus TWH genomic RNA| co...</td>\n",
       "      <td>1</td>\n",
       "      <td>SARS-COV-1</td>\n",
       "      <td>ATATTAGGTTTTTACCTACCCAGGAAAAGCCAACCAACCTCGATCT...</td>\n",
       "    </tr>\n",
       "    <tr>\n",
       "      <th>4</th>\n",
       "      <td>AP006558 |SARS coronavirus TWJ genomic RNA| co...</td>\n",
       "      <td>1</td>\n",
       "      <td>SARS-COV-1</td>\n",
       "      <td>ATATTAGGTTTTTACCTACCCAGGAAAAGCCAACCAACCTCGATCT...</td>\n",
       "    </tr>\n",
       "  </tbody>\n",
       "</table>\n",
       "</div>"
      ],
      "text/plain": [
       "                                                 PID  ...                                                SEQ\n",
       "0  AB257344 |SARS coronavirus Frankfurt 1 genomic...  ...  GATCTCTTGTAGATCTGTTCTCTAAACGAACTTTAAAATCTGTGTA...\n",
       "1  AH013708 |SARS coronavirus Sin0409| partial se...  ...  CATTCAGTACGGTCGTAGCGGTATAACACTGGGAGTACTCGTGCCA...\n",
       "2  AH013709 |SARS coronavirus Sin_WNV| partial se...  ...  CACGCGCGGGCAAGTCAATGTGCACTCTTTCCGAACAACTTGATTA...\n",
       "3  AP006557 |SARS coronavirus TWH genomic RNA| co...  ...  ATATTAGGTTTTTACCTACCCAGGAAAAGCCAACCAACCTCGATCT...\n",
       "4  AP006558 |SARS coronavirus TWJ genomic RNA| co...  ...  ATATTAGGTTTTTACCTACCCAGGAAAAGCCAACCAACCTCGATCT...\n",
       "\n",
       "[5 rows x 4 columns]"
      ]
     },
     "execution_count": 13,
     "metadata": {},
     "output_type": "execute_result"
    }
   ],
   "source": [
    "df_training = pd.read_csv('data/covid/training.csv')\n",
    "df_training.head()"
   ]
  },
  {
   "cell_type": "code",
   "execution_count": 14,
   "id": "c3ccb376",
   "metadata": {},
   "outputs": [
    {
     "data": {
      "text/html": [
       "<div>\n",
       "<style scoped>\n",
       "    .dataframe tbody tr th:only-of-type {\n",
       "        vertical-align: middle;\n",
       "    }\n",
       "\n",
       "    .dataframe tbody tr th {\n",
       "        vertical-align: top;\n",
       "    }\n",
       "\n",
       "    .dataframe thead th {\n",
       "        text-align: right;\n",
       "    }\n",
       "</style>\n",
       "<table border=\"1\" class=\"dataframe\">\n",
       "  <thead>\n",
       "    <tr style=\"text-align: right;\">\n",
       "      <th></th>\n",
       "      <th>PID</th>\n",
       "      <th>CLASS</th>\n",
       "      <th>CLASSNAME</th>\n",
       "      <th>SEQ</th>\n",
       "      <th>ORDINAL_SEQ</th>\n",
       "    </tr>\n",
       "  </thead>\n",
       "  <tbody>\n",
       "    <tr>\n",
       "      <th>0</th>\n",
       "      <td>AB257344 |SARS coronavirus Frankfurt 1 genomic...</td>\n",
       "      <td>1</td>\n",
       "      <td>SARS-COV-1</td>\n",
       "      <td>GATCTCTTGTAGATCTGTTCTCTAAACGAACTTTAAAATCTGTGTA...</td>\n",
       "      <td>[-0.5, 1.5, -1.5, 0.5, -1.5, 0.5, -1.5, -1.5, ...</td>\n",
       "    </tr>\n",
       "    <tr>\n",
       "      <th>1</th>\n",
       "      <td>AH013708 |SARS coronavirus Sin0409| partial se...</td>\n",
       "      <td>1</td>\n",
       "      <td>SARS-COV-1</td>\n",
       "      <td>CATTCAGTACGGTCGTAGCGGTATAACACTGGGAGTACTCGTGCCA...</td>\n",
       "      <td>[0.5, 1.5, -1.5, -1.5, 0.5, 1.5, -0.5, -1.5, 1...</td>\n",
       "    </tr>\n",
       "    <tr>\n",
       "      <th>2</th>\n",
       "      <td>AH013709 |SARS coronavirus Sin_WNV| partial se...</td>\n",
       "      <td>1</td>\n",
       "      <td>SARS-COV-1</td>\n",
       "      <td>CACGCGCGGGCAAGTCAATGTGCACTCTTTCCGAACAACTTGATTA...</td>\n",
       "      <td>[0.5, 1.5, 0.5, -0.5, 0.5, -0.5, 0.5, -0.5, -0...</td>\n",
       "    </tr>\n",
       "    <tr>\n",
       "      <th>3</th>\n",
       "      <td>AP006557 |SARS coronavirus TWH genomic RNA| co...</td>\n",
       "      <td>1</td>\n",
       "      <td>SARS-COV-1</td>\n",
       "      <td>ATATTAGGTTTTTACCTACCCAGGAAAAGCCAACCAACCTCGATCT...</td>\n",
       "      <td>[1.5, -1.5, 1.5, -1.5, -1.5, 1.5, -0.5, -0.5, ...</td>\n",
       "    </tr>\n",
       "    <tr>\n",
       "      <th>4</th>\n",
       "      <td>AP006558 |SARS coronavirus TWJ genomic RNA| co...</td>\n",
       "      <td>1</td>\n",
       "      <td>SARS-COV-1</td>\n",
       "      <td>ATATTAGGTTTTTACCTACCCAGGAAAAGCCAACCAACCTCGATCT...</td>\n",
       "      <td>[1.5, -1.5, 1.5, -1.5, -1.5, 1.5, -0.5, -0.5, ...</td>\n",
       "    </tr>\n",
       "  </tbody>\n",
       "</table>\n",
       "</div>"
      ],
      "text/plain": [
       "                                                 PID  ...                                        ORDINAL_SEQ\n",
       "0  AB257344 |SARS coronavirus Frankfurt 1 genomic...  ...  [-0.5, 1.5, -1.5, 0.5, -1.5, 0.5, -1.5, -1.5, ...\n",
       "1  AH013708 |SARS coronavirus Sin0409| partial se...  ...  [0.5, 1.5, -1.5, -1.5, 0.5, 1.5, -0.5, -1.5, 1...\n",
       "2  AH013709 |SARS coronavirus Sin_WNV| partial se...  ...  [0.5, 1.5, 0.5, -0.5, 0.5, -0.5, 0.5, -0.5, -0...\n",
       "3  AP006557 |SARS coronavirus TWH genomic RNA| co...  ...  [1.5, -1.5, 1.5, -1.5, -1.5, 1.5, -0.5, -0.5, ...\n",
       "4  AP006558 |SARS coronavirus TWJ genomic RNA| co...  ...  [1.5, -1.5, 1.5, -1.5, -1.5, 1.5, -0.5, -0.5, ...\n",
       "\n",
       "[5 rows x 5 columns]"
      ]
     },
     "execution_count": 14,
     "metadata": {},
     "output_type": "execute_result"
    }
   ],
   "source": [
    "df_training['ORDINAL_SEQ'] = df_training['SEQ'].apply(lambda x: nucleotideToDigit(x))\n",
    "df_training.head()"
   ]
  },
  {
   "cell_type": "code",
   "execution_count": 15,
   "id": "cd0186f3",
   "metadata": {},
   "outputs": [
    {
     "data": {
      "text/plain": [
       "(25665, 25665, 'AH013708 |SARS coronavirus Sin0409| partial sequence')"
      ]
     },
     "execution_count": 15,
     "metadata": {},
     "output_type": "execute_result"
    }
   ],
   "source": [
    "len(df_training.iloc[1]['SEQ']), len(df_training.iloc[1]['ORDINAL_SEQ']), df_training.iloc[1]['PID']"
   ]
  },
  {
   "cell_type": "code",
   "execution_count": 16,
   "id": "d9f820be",
   "metadata": {},
   "outputs": [
    {
     "name": "stdout",
     "output_type": "stream",
     "text": [
      "Average length of the seqeunces:  20151\n"
     ]
    },
    {
     "data": {
      "text/plain": [
       "30123"
      ]
     },
     "execution_count": 16,
     "metadata": {},
     "output_type": "execute_result"
    }
   ],
   "source": [
    "print('Average length of the seqeunces: ', int(np.mean(df_training['ORDINAL_SEQ'].str.len())))\n",
    "maxlen = np.max(df_training['ORDINAL_SEQ'].str.len())\n",
    "maxlen"
   ]
  },
  {
   "cell_type": "code",
   "execution_count": 17,
   "id": "0a642d31",
   "metadata": {},
   "outputs": [
    {
     "data": {
      "text/plain": [
       "((1500, 30123), numpy.ndarray)"
      ]
     },
     "execution_count": 17,
     "metadata": {},
     "output_type": "execute_result"
    }
   ],
   "source": [
    "x_train = tf.keras.preprocessing.sequence.pad_sequences(df_training['ORDINAL_SEQ'], maxlen = maxlen)\n",
    "x_train.shape, type(x_train)"
   ]
  },
  {
   "cell_type": "code",
   "execution_count": 26,
   "id": "d19cbd54",
   "metadata": {},
   "outputs": [
    {
     "data": {
      "text/plain": [
       "(1500, 200)"
      ]
     },
     "execution_count": 26,
     "metadata": {},
     "output_type": "execute_result"
    }
   ],
   "source": [
    "from sklearn.decomposition import PCA\n",
    "pca = PCA(n_components=200)\n",
    "x_train_smallerdim = pca.fit_transform(x_train)\n",
    "x_train_smallerdim.shape"
   ]
  },
  {
   "cell_type": "code",
   "execution_count": 27,
   "id": "32dbaf42",
   "metadata": {},
   "outputs": [
    {
     "data": {
      "text/plain": [
       "(1500,)"
      ]
     },
     "execution_count": 27,
     "metadata": {},
     "output_type": "execute_result"
    }
   ],
   "source": [
    "y_train = df_training['CLASS']\n",
    "y_train.shape"
   ]
  },
  {
   "cell_type": "code",
   "execution_count": 30,
   "id": "7a48275b",
   "metadata": {},
   "outputs": [
    {
     "name": "stdout",
     "output_type": "stream",
     "text": [
      "Model: \"sequential_9\"\n",
      "_________________________________________________________________\n",
      " Layer (type)                Output Shape              Param #   \n",
      "=================================================================\n",
      " lstm_8 (LSTM)               (None, 300)               362400    \n",
      "                                                                 \n",
      " dense_6 (Dense)             (None, 6)                 1806      \n",
      "                                                                 \n",
      "=================================================================\n",
      "Total params: 364,206\n",
      "Trainable params: 364,206\n",
      "Non-trainable params: 0\n",
      "_________________________________________________________________\n",
      "None\n",
      "Epoch 1/30\n",
      "24/24 [==============================] - 1s 15ms/step - loss: nan - accuracy: 0.0033\n",
      "Epoch 2/30\n",
      "24/24 [==============================] - 0s 13ms/step - loss: nan - accuracy: 0.0000e+00\n",
      "Epoch 3/30\n",
      "24/24 [==============================] - 0s 14ms/step - loss: nan - accuracy: 0.0000e+00\n",
      "Epoch 4/30\n",
      "24/24 [==============================] - 0s 14ms/step - loss: nan - accuracy: 0.0000e+00\n",
      "Epoch 5/30\n",
      "24/24 [==============================] - 0s 14ms/step - loss: nan - accuracy: 0.0000e+00\n",
      "Epoch 6/30\n",
      "24/24 [==============================] - 0s 13ms/step - loss: nan - accuracy: 0.0000e+00\n",
      "Epoch 7/30\n",
      "24/24 [==============================] - 0s 13ms/step - loss: nan - accuracy: 0.0000e+00\n",
      "Epoch 8/30\n",
      "24/24 [==============================] - 0s 14ms/step - loss: nan - accuracy: 0.0000e+00\n",
      "Epoch 9/30\n",
      "24/24 [==============================] - 0s 13ms/step - loss: nan - accuracy: 0.0000e+00\n",
      "Epoch 10/30\n",
      "24/24 [==============================] - 0s 13ms/step - loss: nan - accuracy: 0.0000e+00\n",
      "Epoch 11/30\n",
      "24/24 [==============================] - 0s 13ms/step - loss: nan - accuracy: 0.0000e+00\n",
      "Epoch 12/30\n",
      "24/24 [==============================] - 0s 14ms/step - loss: nan - accuracy: 0.0000e+00\n",
      "Epoch 13/30\n",
      "24/24 [==============================] - 0s 13ms/step - loss: nan - accuracy: 0.0000e+00\n",
      "Epoch 14/30\n",
      "24/24 [==============================] - 0s 13ms/step - loss: nan - accuracy: 0.0000e+00\n",
      "Epoch 15/30\n",
      "24/24 [==============================] - 0s 13ms/step - loss: nan - accuracy: 0.0000e+00\n",
      "Epoch 16/30\n",
      "24/24 [==============================] - 0s 13ms/step - loss: nan - accuracy: 0.0000e+00\n",
      "Epoch 17/30\n",
      "24/24 [==============================] - 0s 13ms/step - loss: nan - accuracy: 0.0000e+00\n",
      "Epoch 18/30\n",
      "24/24 [==============================] - 0s 13ms/step - loss: nan - accuracy: 0.0000e+00\n",
      "Epoch 19/30\n",
      "24/24 [==============================] - 0s 13ms/step - loss: nan - accuracy: 0.0000e+00\n",
      "Epoch 20/30\n",
      "24/24 [==============================] - 0s 13ms/step - loss: nan - accuracy: 0.0000e+00\n",
      "Epoch 21/30\n",
      "24/24 [==============================] - 0s 14ms/step - loss: nan - accuracy: 0.0000e+00\n",
      "Epoch 22/30\n",
      "24/24 [==============================] - 0s 13ms/step - loss: nan - accuracy: 0.0000e+00\n",
      "Epoch 23/30\n",
      "24/24 [==============================] - ETA: 0s - loss: nan - accuracy: 0.0000e+0 - 0s 13ms/step - loss: nan - accuracy: 0.0000e+00\n",
      "Epoch 24/30\n",
      "24/24 [==============================] - 0s 13ms/step - loss: nan - accuracy: 0.0000e+00\n",
      "Epoch 25/30\n",
      "24/24 [==============================] - 0s 13ms/step - loss: nan - accuracy: 0.0000e+00\n",
      "Epoch 26/30\n",
      "24/24 [==============================] - 0s 13ms/step - loss: nan - accuracy: 0.0000e+00\n",
      "Epoch 27/30\n",
      "24/24 [==============================] - 0s 13ms/step - loss: nan - accuracy: 0.0000e+00\n",
      "Epoch 28/30\n",
      "24/24 [==============================] - 0s 13ms/step - loss: nan - accuracy: 0.0000e+00\n",
      "Epoch 29/30\n",
      "24/24 [==============================] - 0s 13ms/step - loss: nan - accuracy: 0.0000e+00\n",
      "Epoch 30/30\n",
      "24/24 [==============================] - 0s 13ms/step - loss: nan - accuracy: 0.0000e+00\n"
     ]
    },
    {
     "data": {
      "text/plain": [
       "<keras.callbacks.History at 0x7fd45cd2e280>"
      ]
     },
     "execution_count": 30,
     "metadata": {},
     "output_type": "execute_result"
    }
   ],
   "source": [
    "# LSTM for sequence classification in the IMDB dataset\n",
    "from tensorflow.keras.models import Sequential\n",
    "from tensorflow.keras.layers import Dense, LSTM, Embedding, Input\n",
    "from keras.preprocessing import sequence\n",
    "\n",
    "\n",
    "model = Sequential()\n",
    "model.add(Input(shape=(x_train_smallerdim.shape[1],1)))\n",
    "model.add(LSTM(300))\n",
    "model.add(Dense(6, activation='softmax'))\n",
    "model.compile(loss='sparse_categorical_crossentropy', optimizer='adam', metrics=['accuracy'])\n",
    "print(model.summary())\n",
    "model.fit(x_train_smallerdim, y_train, epochs=30, batch_size=64)\n",
    "# Final evaluation of the model\n",
    "# scores = model.evaluate(X_test, y_test, verbose=0)\n",
    "# print(\"Accuracy: %.2f%%\" % (scores[1]*100))"
   ]
  }
 ],
 "metadata": {
  "kernelspec": {
   "display_name": "Python 3 (ipykernel)",
   "language": "python",
   "name": "python3"
  },
  "language_info": {
   "codemirror_mode": {
    "name": "ipython",
    "version": 3
   },
   "file_extension": ".py",
   "mimetype": "text/x-python",
   "name": "python",
   "nbconvert_exporter": "python",
   "pygments_lexer": "ipython3",
   "version": "3.8.12"
  }
 },
 "nbformat": 4,
 "nbformat_minor": 5
}
