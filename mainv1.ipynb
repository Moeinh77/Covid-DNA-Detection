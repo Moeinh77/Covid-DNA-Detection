{
 "cells": [
  {
   "cell_type": "code",
   "execution_count": 1,
   "id": "551814aa",
   "metadata": {},
   "outputs": [],
   "source": [
    "import pandas as pd\n",
    "import os\n",
    "import seaborn as sns\n",
    "import numpy as np"
   ]
  },
  {
   "cell_type": "code",
   "execution_count": 2,
   "id": "da637366",
   "metadata": {},
   "outputs": [],
   "source": [
    "import tensorflow as tf\n",
    "from tensorflow import keras\n",
    "from tensorflow.keras import layers\n",
    "from tensorflow.keras.preprocessing.text import Tokenizer\n",
    "from sklearn.decomposition import PCA"
   ]
  },
  {
   "cell_type": "code",
   "execution_count": 3,
   "id": "634c5f14",
   "metadata": {},
   "outputs": [],
   "source": [
    "NUM_CLASSES = 6"
   ]
  },
  {
   "cell_type": "markdown",
   "id": "21e8b950",
   "metadata": {},
   "source": [
    "### The networks"
   ]
  },
  {
   "cell_type": "markdown",
   "id": "9ebe5589",
   "metadata": {},
   "source": [
    "#### Transformer"
   ]
  },
  {
   "cell_type": "code",
   "execution_count": 4,
   "id": "be5abb89",
   "metadata": {},
   "outputs": [],
   "source": [
    "class TokenAndPositionEmbedding(layers.Layer):\n",
    "    def __init__(self, maxlen, vocab_size, embed_dim):\n",
    "        super(TokenAndPositionEmbedding, self).__init__()\n",
    "        self.embed_dim = embed_dim\n",
    "        self.token_emb = layers.Embedding(input_dim= vocab_size, output_dim= embed_dim)\n",
    "        self.maxlen = maxlen\n",
    "        # self.pos_emb = layers.Embedding(input_dim= maxlen, output_dim= embed_dim)\n",
    "\n",
    "    def get_angles(self, pos, i, embd_dim):\n",
    "        angle_rates = 1 / np.power(10000, (2 * (i//2)) / np.float32(embd_dim))\n",
    "        return pos * angle_rates\n",
    "\n",
    "    def positional_encoding(self, max_pos_enc, embd_dim):\n",
    "        angle_rads = self.get_angles(np.arange(max_pos_enc)[:, np.newaxis],\n",
    "                                np.arange(embd_dim)[np.newaxis, :],\n",
    "                                embd_dim)\n",
    "\n",
    "        # apply sin to even indices in the array; 2i\n",
    "        angle_rads[:, 0::2] = np.sin(angle_rads[:, 0::2])\n",
    "\n",
    "        # apply cos to odd indices in the array; 2i+1\n",
    "        angle_rads[:, 1::2] = np.cos(angle_rads[:, 1::2])\n",
    "\n",
    "        pos_encoding = angle_rads[np.newaxis, ...]\n",
    "\n",
    "        return tf.cast(pos_encoding, dtype=tf.float32)\n",
    "\n",
    "    def call(self, x):\n",
    "        # maxlen = tf.shape(x)[-1]\n",
    "        # print(tf.shape(x)[-1])\n",
    "        # positions = tf.range(start=0, limit=maxlen, delta=1)\n",
    "        positions = self.positional_encoding(max_pos_enc= self.maxlen, embd_dim= self.embed_dim)\n",
    "        # print(positions.shape)\n",
    "        # positions = self.pos_encoding(positions)\n",
    "        x = self.token_emb(x)\n",
    "        # print(x.shape)\n",
    "        return x + positions"
   ]
  },
  {
   "cell_type": "code",
   "execution_count": 5,
   "id": "78a66e7c",
   "metadata": {},
   "outputs": [],
   "source": [
    "class TransformerBlock(layers.Layer):\n",
    "    def __init__(self, embed_dim, num_heads, ff_dim, rate=0.1):\n",
    "        super(TransformerBlock, self).__init__()\n",
    "        self.att = layers.MultiHeadAttention(num_heads= num_heads, key_dim= embed_dim)\n",
    "        self.ffn = keras.Sequential(\n",
    "            [layers.Dense(ff_dim, activation=\"relu\"), layers.Dense(embed_dim),]\n",
    "        )\n",
    "        self.layernorm1 = layers.LayerNormalization(epsilon=1e-6)\n",
    "        self.layernorm2 = layers.LayerNormalization(epsilon=1e-6)\n",
    "        self.dropout1 = layers.Dropout(rate)\n",
    "        self.dropout2 = layers.Dropout(rate)\n",
    "\n",
    "    def call(self, inputs, training):\n",
    "        attn_output = self.att(inputs, inputs)\n",
    "        attn_output = self.dropout1(attn_output, training=training)\n",
    "        out1 = self.layernorm1(inputs + attn_output)\n",
    "        ffn_output = self.ffn(out1)\n",
    "        ffn_output = self.dropout2(ffn_output, training=training)\n",
    "        return self.layernorm2(out1 + ffn_output)"
   ]
  },
  {
   "cell_type": "code",
   "execution_count": 20,
   "id": "6a755131",
   "metadata": {},
   "outputs": [],
   "source": [
    "def create_model_transformer(maxlen = 30121, vocab_size = 259,\n",
    "                            embed_dim = 50, num_heads = 2, \n",
    "                            ff_dim = 16, dout = 0.1, \n",
    "                            extra_dense_nodes = 20):\n",
    "    '''\n",
    "    embed_dim - Embedding size for each token\n",
    "    num_heads - Number of attention heads\n",
    "    ff_dim - Hidden layer size in feed forward network inside transformer\n",
    "    '''\n",
    "    inputs = layers.Input(shape=(maxlen,))\n",
    "    embedding_layer = TokenAndPositionEmbedding(maxlen, vocab_size, embed_dim)\n",
    "    x = embedding_layer(inputs)\n",
    "    transformer_block = TransformerBlock(embed_dim, num_heads, ff_dim)\n",
    "    print(x.shape)\n",
    "    x = transformer_block(x)\n",
    "    x = layers.GlobalAveragePooling1D()(x)\n",
    "    x = layers.Dropout(dout)(x)\n",
    "    if extra_dense_nodes!= 0:\n",
    "        x = layers.Dense(extra_dense_nodes, activation= \"relu\")(x)\n",
    "        x = layers.Dropout(dout)(x)\n",
    "    outputs = layers.Dense(NUM_CLASSES, activation= \"softmax\")(x)\n",
    "\n",
    "    model= keras.Model(inputs=inputs, outputs= outputs)\n",
    "    model.summary()\n",
    "    model.compile(optimizer= \"adam\", loss= \"sparse_categorical_crossentropy\", metrics=[\"accuracy\"])\n",
    "\n",
    "    return model"
   ]
  },
  {
   "cell_type": "code",
   "execution_count": 21,
   "id": "080eb77a",
   "metadata": {},
   "outputs": [
    {
     "name": "stdout",
     "output_type": "stream",
     "text": [
      "(None, 30121, 50)\n",
      "Model: \"model\"\n",
      "_________________________________________________________________\n",
      " Layer (type)                Output Shape              Param #   \n",
      "=================================================================\n",
      " input_6 (InputLayer)        [(None, 30121)]           0         \n",
      "                                                                 \n",
      " token_and_position_embeddin  (None, 30121, 50)        12950     \n",
      " g_3 (TokenAndPositionEmbedd                                     \n",
      " ing)                                                            \n",
      "                                                                 \n",
      " transformer_block_3 (Transf  (None, 30121, 50)        12066     \n",
      " ormerBlock)                                                     \n",
      "                                                                 \n",
      " global_average_pooling1d_1   (None, 50)               0         \n",
      " (GlobalAveragePooling1D)                                        \n",
      "                                                                 \n",
      " dropout_8 (Dropout)         (None, 50)                0         \n",
      "                                                                 \n",
      " dense_8 (Dense)             (None, 20)                1020      \n",
      "                                                                 \n",
      " dropout_9 (Dropout)         (None, 20)                0         \n",
      "                                                                 \n",
      " dense_9 (Dense)             (None, 6)                 126       \n",
      "                                                                 \n",
      "=================================================================\n",
      "Total params: 26,162\n",
      "Trainable params: 26,162\n",
      "Non-trainable params: 0\n",
      "_________________________________________________________________\n"
     ]
    }
   ],
   "source": [
    "model_transformer = create_model_transformer(num_heads= 1)"
   ]
  },
  {
   "cell_type": "markdown",
   "id": "547fc7cc",
   "metadata": {},
   "source": [
    "### Transformer and CNN"
   ]
  },
  {
   "cell_type": "code",
   "execution_count": 48,
   "id": "5d7d7a84",
   "metadata": {},
   "outputs": [],
   "source": [
    "from tensorflow.keras.layers import Conv1D\n",
    "def create_model_cnn_transformer(maxlen = 30121, vocab_size = 259,\n",
    "                                embed_dim = 50, num_heads = 2, \n",
    "                                ff_dim = 16, dout = 0.1,\n",
    "                                cnn_filters = 64, cnn_window = 3,\n",
    "                                extra_dense_nodes = 20):\n",
    "    '''\n",
    "    embed_dim - Embedding size for each token\n",
    "    num_heads - Number of attention heads\n",
    "    ff_dim - Hidden layer size in feed forward network inside transformer\n",
    "    '''\n",
    "    inputs = layers.Input(shape=(maxlen,1))\n",
    "    x = Conv1D(filters= cnn_filters, kernel_size= cnn_window)(inputs)\n",
    "    x = layers.GlobalAveragePooling1D()(x)\n",
    "    embedding_layer = TokenAndPositionEmbedding(cnn_filters, vocab_size, embed_dim)\n",
    "    x = embedding_layer(x)\n",
    "    transformer_block = TransformerBlock(embed_dim, num_heads, ff_dim)\n",
    "    x = transformer_block(x)\n",
    "    x = layers.GlobalAveragePooling1D()(x)\n",
    "    x = layers.Dropout(dout)(x)\n",
    "    if extra_dense_nodes!= 0:\n",
    "        x = layers.Dense(extra_dense_nodes, activation= \"relu\")(x)\n",
    "        x = layers.Dropout(dout)(x)\n",
    "    outputs = layers.Dense(NUM_CLASSES, activation= \"softmax\")(x)\n",
    "\n",
    "    model= keras.Model(inputs=inputs, outputs= outputs)\n",
    "    model.summary()\n",
    "    model.compile(optimizer= \"adam\", loss= \"sparse_categorical_crossentropy\", metrics=[\"accuracy\"])\n",
    "    return model"
   ]
  },
  {
   "cell_type": "code",
   "execution_count": 49,
   "id": "32c8e159",
   "metadata": {},
   "outputs": [
    {
     "name": "stdout",
     "output_type": "stream",
     "text": [
      "Model: \"model_5\"\n",
      "_________________________________________________________________\n",
      " Layer (type)                Output Shape              Param #   \n",
      "=================================================================\n",
      " input_13 (InputLayer)       [(None, 30121, 1)]        0         \n",
      "                                                                 \n",
      " conv1d_9 (Conv1D)           (None, 30119, 64)         256       \n",
      "                                                                 \n",
      " global_average_pooling1d_11  (None, 64)               0         \n",
      "  (GlobalAveragePooling1D)                                       \n",
      "                                                                 \n",
      " token_and_position_embeddin  (None, 64, 50)           12950     \n",
      " g_10 (TokenAndPositionEmbed                                     \n",
      " ding)                                                           \n",
      "                                                                 \n",
      " transformer_block_8 (Transf  (None, 64, 50)           22216     \n",
      " ormerBlock)                                                     \n",
      "                                                                 \n",
      " global_average_pooling1d_12  (None, 50)               0         \n",
      "  (GlobalAveragePooling1D)                                       \n",
      "                                                                 \n",
      " dropout_28 (Dropout)        (None, 50)                0         \n",
      "                                                                 \n",
      " dense_28 (Dense)            (None, 20)                1020      \n",
      "                                                                 \n",
      " dropout_29 (Dropout)        (None, 20)                0         \n",
      "                                                                 \n",
      " dense_29 (Dense)            (None, 6)                 126       \n",
      "                                                                 \n",
      "=================================================================\n",
      "Total params: 36,568\n",
      "Trainable params: 36,568\n",
      "Non-trainable params: 0\n",
      "_________________________________________________________________\n"
     ]
    }
   ],
   "source": [
    "cnn_transformer = create_model_cnn_transformer()"
   ]
  },
  {
   "cell_type": "markdown",
   "id": "d200e781",
   "metadata": {},
   "source": [
    "#### LSTM"
   ]
  },
  {
   "cell_type": "code",
   "execution_count": 45,
   "id": "6c6d3ac1",
   "metadata": {},
   "outputs": [
    {
     "name": "stdout",
     "output_type": "stream",
     "text": [
      "Model: \"sequential_12\"\n",
      "_________________________________________________________________\n",
      " Layer (type)                Output Shape              Param #   \n",
      "=================================================================\n",
      " embedding_1 (Embedding)     (None, 30121, 50)         12950     \n",
      "                                                                 \n",
      " lstm_10 (LSTM)              (None, 100)               60400     \n",
      "                                                                 \n",
      " dense_8 (Dense)             (None, 6)                 606       \n",
      "                                                                 \n",
      "=================================================================\n",
      "Total params: 73,956\n",
      "Trainable params: 73,956\n",
      "Non-trainable params: 0\n",
      "_________________________________________________________________\n",
      "None\n"
     ]
    }
   ],
   "source": [
    "from tensorflow.keras.models import Sequential\n",
    "from tensorflow.keras.layers import Dense, LSTM, Embedding\n",
    "\n",
    "def create_LSTM_model(hidden_unit = 100, embedding_vec = 50)\n",
    "    model = Sequential()\n",
    "    model.add(Embedding(VOCAB_SIZE, embedding_vec, input_length= maxlen))\n",
    "    model.add(LSTM(hidden_unit))\n",
    "    model.add(Dense(NUM_CLASSES, activation='softmax'))\n",
    "    \n",
    "    model.compile(loss='sparse_categorical_crossentropy', optimizer='adam', metrics=['accuracy'])\n",
    "    print(model.summary())\n",
    "    return model"
   ]
  },
  {
   "cell_type": "code",
   "execution_count": null,
   "id": "5b773db4",
   "metadata": {},
   "outputs": [],
   "source": [
    "lstm_model = create_LSTM_model()"
   ]
  },
  {
   "cell_type": "markdown",
   "id": "a16735c7",
   "metadata": {},
   "source": [
    "### Kmer"
   ]
  },
  {
   "cell_type": "code",
   "execution_count": 28,
   "id": "787c8604",
   "metadata": {},
   "outputs": [],
   "source": [
    "KMER = 3"
   ]
  },
  {
   "cell_type": "code",
   "execution_count": 29,
   "id": "1e28e86c",
   "metadata": {},
   "outputs": [
    {
     "data": {
      "text/html": [
       "<div>\n",
       "<style scoped>\n",
       "    .dataframe tbody tr th:only-of-type {\n",
       "        vertical-align: middle;\n",
       "    }\n",
       "\n",
       "    .dataframe tbody tr th {\n",
       "        vertical-align: top;\n",
       "    }\n",
       "\n",
       "    .dataframe thead th {\n",
       "        text-align: right;\n",
       "    }\n",
       "</style>\n",
       "<table border=\"1\" class=\"dataframe\">\n",
       "  <thead>\n",
       "    <tr style=\"text-align: right;\">\n",
       "      <th></th>\n",
       "      <th>PID</th>\n",
       "      <th>CLASS</th>\n",
       "      <th>CLASSNAME</th>\n",
       "      <th>SEQ</th>\n",
       "    </tr>\n",
       "  </thead>\n",
       "  <tbody>\n",
       "    <tr>\n",
       "      <th>0</th>\n",
       "      <td>AB257344 |SARS coronavirus Frankfurt 1 genomic...</td>\n",
       "      <td>1</td>\n",
       "      <td>SARS-COV-1</td>\n",
       "      <td>GATCTCTTGTAGATCTGTTCTCTAAACGAACTTTAAAATCTGTGTA...</td>\n",
       "    </tr>\n",
       "    <tr>\n",
       "      <th>1</th>\n",
       "      <td>AH013708 |SARS coronavirus Sin0409| partial se...</td>\n",
       "      <td>1</td>\n",
       "      <td>SARS-COV-1</td>\n",
       "      <td>CATTCAGTACGGTCGTAGCGGTATAACACTGGGAGTACTCGTGCCA...</td>\n",
       "    </tr>\n",
       "    <tr>\n",
       "      <th>2</th>\n",
       "      <td>AH013709 |SARS coronavirus Sin_WNV| partial se...</td>\n",
       "      <td>1</td>\n",
       "      <td>SARS-COV-1</td>\n",
       "      <td>CACGCGCGGGCAAGTCAATGTGCACTCTTTCCGAACAACTTGATTA...</td>\n",
       "    </tr>\n",
       "  </tbody>\n",
       "</table>\n",
       "</div>"
      ],
      "text/plain": [
       "                                                 PID  CLASS   CLASSNAME  \\\n",
       "0  AB257344 |SARS coronavirus Frankfurt 1 genomic...      1  SARS-COV-1   \n",
       "1  AH013708 |SARS coronavirus Sin0409| partial se...      1  SARS-COV-1   \n",
       "2  AH013709 |SARS coronavirus Sin_WNV| partial se...      1  SARS-COV-1   \n",
       "\n",
       "                                                 SEQ  \n",
       "0  GATCTCTTGTAGATCTGTTCTCTAAACGAACTTTAAAATCTGTGTA...  \n",
       "1  CATTCAGTACGGTCGTAGCGGTATAACACTGGGAGTACTCGTGCCA...  \n",
       "2  CACGCGCGGGCAAGTCAATGTGCACTCTTTCCGAACAACTTGATTA...  "
      ]
     },
     "execution_count": 29,
     "metadata": {},
     "output_type": "execute_result"
    }
   ],
   "source": [
    "df_training = pd.read_csv('data/covid/training.csv')\n",
    "df_training.head(3)"
   ]
  },
  {
   "cell_type": "code",
   "execution_count": 30,
   "id": "88544304",
   "metadata": {},
   "outputs": [],
   "source": [
    "df_training['CLASS'] = df_training['CLASS'].apply(lambda x : x-1)"
   ]
  },
  {
   "cell_type": "code",
   "execution_count": 31,
   "id": "9336c1ca",
   "metadata": {},
   "outputs": [
    {
     "data": {
      "text/plain": [
       "['cca', 'cag', 'agc', 'gct', 'ctg', 'tgt']"
      ]
     },
     "execution_count": 31,
     "metadata": {},
     "output_type": "execute_result"
    }
   ],
   "source": [
    "def kmer_fun(seq, win_size = 3):\n",
    "    kmer_list = []\n",
    "    for x in range(len(seq) - win_size + 1):\n",
    "        kmer_list.append(seq[x:x+win_size].lower())\n",
    "    return kmer_list\n",
    "\n",
    "# So let’s try it out with a simple sequence\n",
    "mySeq = 'CCAGCTGT'\n",
    "kmer_fun(mySeq, win_size= KMER)"
   ]
  },
  {
   "cell_type": "code",
   "execution_count": 32,
   "id": "8511325a",
   "metadata": {},
   "outputs": [
    {
     "data": {
      "text/html": [
       "<div>\n",
       "<style scoped>\n",
       "    .dataframe tbody tr th:only-of-type {\n",
       "        vertical-align: middle;\n",
       "    }\n",
       "\n",
       "    .dataframe tbody tr th {\n",
       "        vertical-align: top;\n",
       "    }\n",
       "\n",
       "    .dataframe thead th {\n",
       "        text-align: right;\n",
       "    }\n",
       "</style>\n",
       "<table border=\"1\" class=\"dataframe\">\n",
       "  <thead>\n",
       "    <tr style=\"text-align: right;\">\n",
       "      <th></th>\n",
       "      <th>PID</th>\n",
       "      <th>CLASS</th>\n",
       "      <th>CLASSNAME</th>\n",
       "      <th>SEQ</th>\n",
       "      <th>KMER_SEQ</th>\n",
       "    </tr>\n",
       "  </thead>\n",
       "  <tbody>\n",
       "    <tr>\n",
       "      <th>0</th>\n",
       "      <td>AB257344 |SARS coronavirus Frankfurt 1 genomic...</td>\n",
       "      <td>0</td>\n",
       "      <td>SARS-COV-1</td>\n",
       "      <td>GATCTCTTGTAGATCTGTTCTCTAAACGAACTTTAAAATCTGTGTA...</td>\n",
       "      <td>[gat, atc, tct, ctc, tct, ctt, ttg, tgt, gta, ...</td>\n",
       "    </tr>\n",
       "  </tbody>\n",
       "</table>\n",
       "</div>"
      ],
      "text/plain": [
       "                                                 PID  CLASS   CLASSNAME  \\\n",
       "0  AB257344 |SARS coronavirus Frankfurt 1 genomic...      0  SARS-COV-1   \n",
       "\n",
       "                                                 SEQ  \\\n",
       "0  GATCTCTTGTAGATCTGTTCTCTAAACGAACTTTAAAATCTGTGTA...   \n",
       "\n",
       "                                            KMER_SEQ  \n",
       "0  [gat, atc, tct, ctc, tct, ctt, ttg, tgt, gta, ...  "
      ]
     },
     "execution_count": 32,
     "metadata": {},
     "output_type": "execute_result"
    }
   ],
   "source": [
    "df_training['KMER_SEQ'] = df_training['SEQ'].apply(lambda x: kmer_fun(x, KMER))\n",
    "df_training.head(1)"
   ]
  },
  {
   "cell_type": "code",
   "execution_count": 33,
   "id": "3d0219f6",
   "metadata": {},
   "outputs": [
    {
     "name": "stdout",
     "output_type": "stream",
     "text": [
      "Found 259 unique tokens\n"
     ]
    }
   ],
   "source": [
    "tokenizer = Tokenizer()\n",
    "tokenizer.fit_on_texts(df_training['KMER_SEQ'])\n",
    "word_index = tokenizer.word_index\n",
    "VOCAB_SIZE = len(word_index)\n",
    "print('Found %s unique tokens' % VOCAB_SIZE)"
   ]
  },
  {
   "cell_type": "code",
   "execution_count": 34,
   "id": "d22ce291",
   "metadata": {},
   "outputs": [
    {
     "data": {
      "text/html": [
       "<div>\n",
       "<style scoped>\n",
       "    .dataframe tbody tr th:only-of-type {\n",
       "        vertical-align: middle;\n",
       "    }\n",
       "\n",
       "    .dataframe tbody tr th {\n",
       "        vertical-align: top;\n",
       "    }\n",
       "\n",
       "    .dataframe thead th {\n",
       "        text-align: right;\n",
       "    }\n",
       "</style>\n",
       "<table border=\"1\" class=\"dataframe\">\n",
       "  <thead>\n",
       "    <tr style=\"text-align: right;\">\n",
       "      <th></th>\n",
       "      <th>PID</th>\n",
       "      <th>CLASS</th>\n",
       "      <th>CLASSNAME</th>\n",
       "      <th>SEQ</th>\n",
       "      <th>KMER_SEQ</th>\n",
       "      <th>KMER_SEQ_NUM</th>\n",
       "    </tr>\n",
       "  </thead>\n",
       "  <tbody>\n",
       "    <tr>\n",
       "      <th>0</th>\n",
       "      <td>AB257344 |SARS coronavirus Frankfurt 1 genomic...</td>\n",
       "      <td>0</td>\n",
       "      <td>SARS-COV-1</td>\n",
       "      <td>GATCTCTTGTAGATCTGTTCTCTAAACGAACTTTAAAATCTGTGTA...</td>\n",
       "      <td>[gat, atc, tct, ctc, tct, ctt, ttg, tgt, gta, ...</td>\n",
       "      <td>[32, 45, 22, 50, 22, 11, 3, 5, 41, 47, 17, 32,...</td>\n",
       "    </tr>\n",
       "  </tbody>\n",
       "</table>\n",
       "</div>"
      ],
      "text/plain": [
       "                                                 PID  CLASS   CLASSNAME  \\\n",
       "0  AB257344 |SARS coronavirus Frankfurt 1 genomic...      0  SARS-COV-1   \n",
       "\n",
       "                                                 SEQ  \\\n",
       "0  GATCTCTTGTAGATCTGTTCTCTAAACGAACTTTAAAATCTGTGTA...   \n",
       "\n",
       "                                            KMER_SEQ  \\\n",
       "0  [gat, atc, tct, ctc, tct, ctt, ttg, tgt, gta, ...   \n",
       "\n",
       "                                        KMER_SEQ_NUM  \n",
       "0  [32, 45, 22, 50, 22, 11, 3, 5, 41, 47, 17, 32,...  "
      ]
     },
     "execution_count": 34,
     "metadata": {},
     "output_type": "execute_result"
    }
   ],
   "source": [
    "df_training['KMER_SEQ_NUM'] = tokenizer.texts_to_sequences(df_training['KMER_SEQ'])\n",
    "df_training.head(1)"
   ]
  },
  {
   "cell_type": "code",
   "execution_count": 35,
   "id": "9a77d16c",
   "metadata": {},
   "outputs": [
    {
     "data": {
      "text/plain": [
       "30121"
      ]
     },
     "execution_count": 35,
     "metadata": {},
     "output_type": "execute_result"
    }
   ],
   "source": [
    "x_train = df_training['KMER_SEQ_NUM']\n",
    "maxlen = np.max(df_training['KMER_SEQ_NUM'].str.len())\n",
    "maxlen"
   ]
  },
  {
   "cell_type": "code",
   "execution_count": 36,
   "id": "7559ac48",
   "metadata": {},
   "outputs": [
    {
     "data": {
      "text/plain": [
       "30123"
      ]
     },
     "execution_count": 36,
     "metadata": {},
     "output_type": "execute_result"
    }
   ],
   "source": [
    "np.max(df_training['SEQ'].str.len())"
   ]
  },
  {
   "cell_type": "code",
   "execution_count": 37,
   "id": "97bad730",
   "metadata": {},
   "outputs": [
    {
     "data": {
      "text/plain": [
       "29644.0"
      ]
     },
     "execution_count": 37,
     "metadata": {},
     "output_type": "execute_result"
    }
   ],
   "source": [
    "np.percentile(df_training['KMER_SEQ_NUM'].str.len(), 60)"
   ]
  },
  {
   "cell_type": "code",
   "execution_count": 38,
   "id": "12703b72",
   "metadata": {},
   "outputs": [
    {
     "data": {
      "text/plain": [
       "((1500, 30121), (1500,))"
      ]
     },
     "execution_count": 38,
     "metadata": {},
     "output_type": "execute_result"
    }
   ],
   "source": [
    "x_train = tf.keras.preprocessing.sequence.pad_sequences(x_train, maxlen = maxlen)\n",
    "y_train = df_training['CLASS']\n",
    "x_train.shape, y_train.shape"
   ]
  },
  {
   "cell_type": "code",
   "execution_count": 19,
   "id": "4672c4a8",
   "metadata": {},
   "outputs": [],
   "source": [
    "# history = model_lstm.fit(x_train, y_train, epochs=4, batch_size=64)"
   ]
  },
  {
   "cell_type": "code",
   "execution_count": 39,
   "id": "2da3d1fe",
   "metadata": {},
   "outputs": [],
   "source": [
    "# history = model_transformer.fit(x_train, y_train, batch_size=1, epochs=2)"
   ]
  },
  {
   "cell_type": "code",
   "execution_count": 50,
   "id": "b21f6a78",
   "metadata": {},
   "outputs": [
    {
     "name": "stdout",
     "output_type": "stream",
     "text": [
      "Epoch 1/2\n",
      "WARNING:tensorflow:AutoGraph could not transform <function Model.make_train_function.<locals>.train_function at 0x00000268DE520A68> and will run it as-is.\n",
      "Please report this to the TensorFlow team. When filing the bug, set the verbosity to 10 (on Linux, `export AUTOGRAPH_VERBOSITY=10`) and attach the full output.\n",
      "Cause: 'arguments' object has no attribute 'posonlyargs'\n",
      "To silence this warning, decorate the function with @tf.autograph.experimental.do_not_convert\n",
      "WARNING: AutoGraph could not transform <function Model.make_train_function.<locals>.train_function at 0x00000268DE520A68> and will run it as-is.\n",
      "Please report this to the TensorFlow team. When filing the bug, set the verbosity to 10 (on Linux, `export AUTOGRAPH_VERBOSITY=10`) and attach the full output.\n",
      "Cause: 'arguments' object has no attribute 'posonlyargs'\n",
      "To silence this warning, decorate the function with @tf.autograph.experimental.do_not_convert\n",
      "WARNING:tensorflow:Gradients do not exist for variables ['conv1d_9/kernel:0', 'conv1d_9/bias:0'] when minimizing the loss. If you're using `model.compile()`, did you forget to provide a `loss`argument?\n",
      "WARNING:tensorflow:Gradients do not exist for variables ['conv1d_9/kernel:0', 'conv1d_9/bias:0'] when minimizing the loss. If you're using `model.compile()`, did you forget to provide a `loss`argument?\n",
      "1500/1500 [==============================] - 18s 7ms/step - loss: 0.8873 - accuracy: 0.6340\n",
      "Epoch 2/2\n",
      "1500/1500 [==============================] - 11s 7ms/step - loss: 0.2323 - accuracy: 0.9293 0s - loss:\n"
     ]
    }
   ],
   "source": [
    "history = cnn_transformer.fit(x_train, y_train, batch_size=1, epochs=2)"
   ]
  },
  {
   "cell_type": "markdown",
   "id": "3cd92e98",
   "metadata": {},
   "source": [
    "### Ordinal Encoding"
   ]
  },
  {
   "cell_type": "code",
   "execution_count": 12,
   "id": "f5a1187a",
   "metadata": {},
   "outputs": [
    {
     "data": {
      "text/plain": [
       "array([ 1.5,  0.5, -1.5, -0.5,  0. ])"
      ]
     },
     "execution_count": 12,
     "metadata": {},
     "output_type": "execute_result"
    }
   ],
   "source": [
    "def nucleotideToDigit(seq):\n",
    "    digit_seq = []\n",
    "    seq = list(seq)\n",
    "    for n in seq:\n",
    "        if n == 'T' :\n",
    "            d = -1.5\n",
    "        elif n =='C' : \n",
    "            d = 0.5\n",
    "        elif n == 'A' :\n",
    "            d = 1.5\n",
    "        elif n == 'G' :\n",
    "            d = -0.5\n",
    "        else:\n",
    "            d = 0\n",
    "        digit_seq.append(d)\n",
    "    \n",
    "    return np.array(digit_seq)\n",
    "     \n",
    "nucleotideToDigit('ACTGN')"
   ]
  },
  {
   "cell_type": "code",
   "execution_count": 13,
   "id": "d91e05d6",
   "metadata": {},
   "outputs": [
    {
     "data": {
      "text/html": [
       "<div>\n",
       "<style scoped>\n",
       "    .dataframe tbody tr th:only-of-type {\n",
       "        vertical-align: middle;\n",
       "    }\n",
       "\n",
       "    .dataframe tbody tr th {\n",
       "        vertical-align: top;\n",
       "    }\n",
       "\n",
       "    .dataframe thead th {\n",
       "        text-align: right;\n",
       "    }\n",
       "</style>\n",
       "<table border=\"1\" class=\"dataframe\">\n",
       "  <thead>\n",
       "    <tr style=\"text-align: right;\">\n",
       "      <th></th>\n",
       "      <th>PID</th>\n",
       "      <th>CLASS</th>\n",
       "      <th>CLASSNAME</th>\n",
       "      <th>SEQ</th>\n",
       "    </tr>\n",
       "  </thead>\n",
       "  <tbody>\n",
       "    <tr>\n",
       "      <th>0</th>\n",
       "      <td>AB257344 |SARS coronavirus Frankfurt 1 genomic...</td>\n",
       "      <td>1</td>\n",
       "      <td>SARS-COV-1</td>\n",
       "      <td>GATCTCTTGTAGATCTGTTCTCTAAACGAACTTTAAAATCTGTGTA...</td>\n",
       "    </tr>\n",
       "    <tr>\n",
       "      <th>1</th>\n",
       "      <td>AH013708 |SARS coronavirus Sin0409| partial se...</td>\n",
       "      <td>1</td>\n",
       "      <td>SARS-COV-1</td>\n",
       "      <td>CATTCAGTACGGTCGTAGCGGTATAACACTGGGAGTACTCGTGCCA...</td>\n",
       "    </tr>\n",
       "    <tr>\n",
       "      <th>2</th>\n",
       "      <td>AH013709 |SARS coronavirus Sin_WNV| partial se...</td>\n",
       "      <td>1</td>\n",
       "      <td>SARS-COV-1</td>\n",
       "      <td>CACGCGCGGGCAAGTCAATGTGCACTCTTTCCGAACAACTTGATTA...</td>\n",
       "    </tr>\n",
       "    <tr>\n",
       "      <th>3</th>\n",
       "      <td>AP006557 |SARS coronavirus TWH genomic RNA| co...</td>\n",
       "      <td>1</td>\n",
       "      <td>SARS-COV-1</td>\n",
       "      <td>ATATTAGGTTTTTACCTACCCAGGAAAAGCCAACCAACCTCGATCT...</td>\n",
       "    </tr>\n",
       "    <tr>\n",
       "      <th>4</th>\n",
       "      <td>AP006558 |SARS coronavirus TWJ genomic RNA| co...</td>\n",
       "      <td>1</td>\n",
       "      <td>SARS-COV-1</td>\n",
       "      <td>ATATTAGGTTTTTACCTACCCAGGAAAAGCCAACCAACCTCGATCT...</td>\n",
       "    </tr>\n",
       "  </tbody>\n",
       "</table>\n",
       "</div>"
      ],
      "text/plain": [
       "                                                 PID  ...                                                SEQ\n",
       "0  AB257344 |SARS coronavirus Frankfurt 1 genomic...  ...  GATCTCTTGTAGATCTGTTCTCTAAACGAACTTTAAAATCTGTGTA...\n",
       "1  AH013708 |SARS coronavirus Sin0409| partial se...  ...  CATTCAGTACGGTCGTAGCGGTATAACACTGGGAGTACTCGTGCCA...\n",
       "2  AH013709 |SARS coronavirus Sin_WNV| partial se...  ...  CACGCGCGGGCAAGTCAATGTGCACTCTTTCCGAACAACTTGATTA...\n",
       "3  AP006557 |SARS coronavirus TWH genomic RNA| co...  ...  ATATTAGGTTTTTACCTACCCAGGAAAAGCCAACCAACCTCGATCT...\n",
       "4  AP006558 |SARS coronavirus TWJ genomic RNA| co...  ...  ATATTAGGTTTTTACCTACCCAGGAAAAGCCAACCAACCTCGATCT...\n",
       "\n",
       "[5 rows x 4 columns]"
      ]
     },
     "execution_count": 13,
     "metadata": {},
     "output_type": "execute_result"
    }
   ],
   "source": [
    "df_training = pd.read_csv('data/covid/training.csv')\n",
    "df_training.head()"
   ]
  },
  {
   "cell_type": "code",
   "execution_count": 14,
   "id": "c3ccb376",
   "metadata": {},
   "outputs": [
    {
     "data": {
      "text/html": [
       "<div>\n",
       "<style scoped>\n",
       "    .dataframe tbody tr th:only-of-type {\n",
       "        vertical-align: middle;\n",
       "    }\n",
       "\n",
       "    .dataframe tbody tr th {\n",
       "        vertical-align: top;\n",
       "    }\n",
       "\n",
       "    .dataframe thead th {\n",
       "        text-align: right;\n",
       "    }\n",
       "</style>\n",
       "<table border=\"1\" class=\"dataframe\">\n",
       "  <thead>\n",
       "    <tr style=\"text-align: right;\">\n",
       "      <th></th>\n",
       "      <th>PID</th>\n",
       "      <th>CLASS</th>\n",
       "      <th>CLASSNAME</th>\n",
       "      <th>SEQ</th>\n",
       "      <th>ORDINAL_SEQ</th>\n",
       "    </tr>\n",
       "  </thead>\n",
       "  <tbody>\n",
       "    <tr>\n",
       "      <th>0</th>\n",
       "      <td>AB257344 |SARS coronavirus Frankfurt 1 genomic...</td>\n",
       "      <td>1</td>\n",
       "      <td>SARS-COV-1</td>\n",
       "      <td>GATCTCTTGTAGATCTGTTCTCTAAACGAACTTTAAAATCTGTGTA...</td>\n",
       "      <td>[-0.5, 1.5, -1.5, 0.5, -1.5, 0.5, -1.5, -1.5, ...</td>\n",
       "    </tr>\n",
       "    <tr>\n",
       "      <th>1</th>\n",
       "      <td>AH013708 |SARS coronavirus Sin0409| partial se...</td>\n",
       "      <td>1</td>\n",
       "      <td>SARS-COV-1</td>\n",
       "      <td>CATTCAGTACGGTCGTAGCGGTATAACACTGGGAGTACTCGTGCCA...</td>\n",
       "      <td>[0.5, 1.5, -1.5, -1.5, 0.5, 1.5, -0.5, -1.5, 1...</td>\n",
       "    </tr>\n",
       "    <tr>\n",
       "      <th>2</th>\n",
       "      <td>AH013709 |SARS coronavirus Sin_WNV| partial se...</td>\n",
       "      <td>1</td>\n",
       "      <td>SARS-COV-1</td>\n",
       "      <td>CACGCGCGGGCAAGTCAATGTGCACTCTTTCCGAACAACTTGATTA...</td>\n",
       "      <td>[0.5, 1.5, 0.5, -0.5, 0.5, -0.5, 0.5, -0.5, -0...</td>\n",
       "    </tr>\n",
       "    <tr>\n",
       "      <th>3</th>\n",
       "      <td>AP006557 |SARS coronavirus TWH genomic RNA| co...</td>\n",
       "      <td>1</td>\n",
       "      <td>SARS-COV-1</td>\n",
       "      <td>ATATTAGGTTTTTACCTACCCAGGAAAAGCCAACCAACCTCGATCT...</td>\n",
       "      <td>[1.5, -1.5, 1.5, -1.5, -1.5, 1.5, -0.5, -0.5, ...</td>\n",
       "    </tr>\n",
       "    <tr>\n",
       "      <th>4</th>\n",
       "      <td>AP006558 |SARS coronavirus TWJ genomic RNA| co...</td>\n",
       "      <td>1</td>\n",
       "      <td>SARS-COV-1</td>\n",
       "      <td>ATATTAGGTTTTTACCTACCCAGGAAAAGCCAACCAACCTCGATCT...</td>\n",
       "      <td>[1.5, -1.5, 1.5, -1.5, -1.5, 1.5, -0.5, -0.5, ...</td>\n",
       "    </tr>\n",
       "  </tbody>\n",
       "</table>\n",
       "</div>"
      ],
      "text/plain": [
       "                                                 PID  ...                                        ORDINAL_SEQ\n",
       "0  AB257344 |SARS coronavirus Frankfurt 1 genomic...  ...  [-0.5, 1.5, -1.5, 0.5, -1.5, 0.5, -1.5, -1.5, ...\n",
       "1  AH013708 |SARS coronavirus Sin0409| partial se...  ...  [0.5, 1.5, -1.5, -1.5, 0.5, 1.5, -0.5, -1.5, 1...\n",
       "2  AH013709 |SARS coronavirus Sin_WNV| partial se...  ...  [0.5, 1.5, 0.5, -0.5, 0.5, -0.5, 0.5, -0.5, -0...\n",
       "3  AP006557 |SARS coronavirus TWH genomic RNA| co...  ...  [1.5, -1.5, 1.5, -1.5, -1.5, 1.5, -0.5, -0.5, ...\n",
       "4  AP006558 |SARS coronavirus TWJ genomic RNA| co...  ...  [1.5, -1.5, 1.5, -1.5, -1.5, 1.5, -0.5, -0.5, ...\n",
       "\n",
       "[5 rows x 5 columns]"
      ]
     },
     "execution_count": 14,
     "metadata": {},
     "output_type": "execute_result"
    }
   ],
   "source": [
    "df_training['ORDINAL_SEQ'] = df_training['SEQ'].apply(lambda x: nucleotideToDigit(x))\n",
    "df_training.head()"
   ]
  },
  {
   "cell_type": "code",
   "execution_count": 15,
   "id": "cd0186f3",
   "metadata": {},
   "outputs": [
    {
     "data": {
      "text/plain": [
       "(25665, 25665, 'AH013708 |SARS coronavirus Sin0409| partial sequence')"
      ]
     },
     "execution_count": 15,
     "metadata": {},
     "output_type": "execute_result"
    }
   ],
   "source": [
    "len(df_training.iloc[1]['SEQ']), len(df_training.iloc[1]['ORDINAL_SEQ']), df_training.iloc[1]['PID']"
   ]
  },
  {
   "cell_type": "code",
   "execution_count": 16,
   "id": "d9f820be",
   "metadata": {},
   "outputs": [
    {
     "name": "stdout",
     "output_type": "stream",
     "text": [
      "Average length of the seqeunces:  20151\n"
     ]
    },
    {
     "data": {
      "text/plain": [
       "30123"
      ]
     },
     "execution_count": 16,
     "metadata": {},
     "output_type": "execute_result"
    }
   ],
   "source": [
    "print('Average length of the seqeunces: ', int(np.mean(df_training['ORDINAL_SEQ'].str.len())))\n",
    "maxlen = np.max(df_training['ORDINAL_SEQ'].str.len())\n",
    "maxlen"
   ]
  },
  {
   "cell_type": "code",
   "execution_count": 17,
   "id": "0a642d31",
   "metadata": {},
   "outputs": [
    {
     "data": {
      "text/plain": [
       "((1500, 30123), numpy.ndarray)"
      ]
     },
     "execution_count": 17,
     "metadata": {},
     "output_type": "execute_result"
    }
   ],
   "source": [
    "x_train = tf.keras.preprocessing.sequence.pad_sequences(df_training['ORDINAL_SEQ'], maxlen = maxlen)\n",
    "x_train.shape, type(x_train)"
   ]
  },
  {
   "cell_type": "code",
   "execution_count": 26,
   "id": "d19cbd54",
   "metadata": {},
   "outputs": [
    {
     "data": {
      "text/plain": [
       "(1500, 200)"
      ]
     },
     "execution_count": 26,
     "metadata": {},
     "output_type": "execute_result"
    }
   ],
   "source": [
    "from sklearn.decomposition import PCA\n",
    "pca = PCA(n_components=200)\n",
    "x_train_smallerdim = pca.fit_transform(x_train)\n",
    "x_train_smallerdim.shape"
   ]
  },
  {
   "cell_type": "code",
   "execution_count": 27,
   "id": "32dbaf42",
   "metadata": {},
   "outputs": [
    {
     "data": {
      "text/plain": [
       "(1500,)"
      ]
     },
     "execution_count": 27,
     "metadata": {},
     "output_type": "execute_result"
    }
   ],
   "source": [
    "y_train = df_training['CLASS']\n",
    "y_train.shape"
   ]
  },
  {
   "cell_type": "code",
   "execution_count": 30,
   "id": "7a48275b",
   "metadata": {},
   "outputs": [
    {
     "name": "stdout",
     "output_type": "stream",
     "text": [
      "Model: \"sequential_9\"\n",
      "_________________________________________________________________\n",
      " Layer (type)                Output Shape              Param #   \n",
      "=================================================================\n",
      " lstm_8 (LSTM)               (None, 300)               362400    \n",
      "                                                                 \n",
      " dense_6 (Dense)             (None, 6)                 1806      \n",
      "                                                                 \n",
      "=================================================================\n",
      "Total params: 364,206\n",
      "Trainable params: 364,206\n",
      "Non-trainable params: 0\n",
      "_________________________________________________________________\n",
      "None\n",
      "Epoch 1/30\n",
      "24/24 [==============================] - 1s 15ms/step - loss: nan - accuracy: 0.0033\n",
      "Epoch 2/30\n",
      "24/24 [==============================] - 0s 13ms/step - loss: nan - accuracy: 0.0000e+00\n",
      "Epoch 3/30\n",
      "24/24 [==============================] - 0s 14ms/step - loss: nan - accuracy: 0.0000e+00\n",
      "Epoch 4/30\n",
      "24/24 [==============================] - 0s 14ms/step - loss: nan - accuracy: 0.0000e+00\n",
      "Epoch 5/30\n",
      "24/24 [==============================] - 0s 14ms/step - loss: nan - accuracy: 0.0000e+00\n",
      "Epoch 6/30\n",
      "24/24 [==============================] - 0s 13ms/step - loss: nan - accuracy: 0.0000e+00\n",
      "Epoch 7/30\n",
      "24/24 [==============================] - 0s 13ms/step - loss: nan - accuracy: 0.0000e+00\n",
      "Epoch 8/30\n",
      "24/24 [==============================] - 0s 14ms/step - loss: nan - accuracy: 0.0000e+00\n",
      "Epoch 9/30\n",
      "24/24 [==============================] - 0s 13ms/step - loss: nan - accuracy: 0.0000e+00\n",
      "Epoch 10/30\n",
      "24/24 [==============================] - 0s 13ms/step - loss: nan - accuracy: 0.0000e+00\n",
      "Epoch 11/30\n",
      "24/24 [==============================] - 0s 13ms/step - loss: nan - accuracy: 0.0000e+00\n",
      "Epoch 12/30\n",
      "24/24 [==============================] - 0s 14ms/step - loss: nan - accuracy: 0.0000e+00\n",
      "Epoch 13/30\n",
      "24/24 [==============================] - 0s 13ms/step - loss: nan - accuracy: 0.0000e+00\n",
      "Epoch 14/30\n",
      "24/24 [==============================] - 0s 13ms/step - loss: nan - accuracy: 0.0000e+00\n",
      "Epoch 15/30\n",
      "24/24 [==============================] - 0s 13ms/step - loss: nan - accuracy: 0.0000e+00\n",
      "Epoch 16/30\n",
      "24/24 [==============================] - 0s 13ms/step - loss: nan - accuracy: 0.0000e+00\n",
      "Epoch 17/30\n",
      "24/24 [==============================] - 0s 13ms/step - loss: nan - accuracy: 0.0000e+00\n",
      "Epoch 18/30\n",
      "24/24 [==============================] - 0s 13ms/step - loss: nan - accuracy: 0.0000e+00\n",
      "Epoch 19/30\n",
      "24/24 [==============================] - 0s 13ms/step - loss: nan - accuracy: 0.0000e+00\n",
      "Epoch 20/30\n",
      "24/24 [==============================] - 0s 13ms/step - loss: nan - accuracy: 0.0000e+00\n",
      "Epoch 21/30\n",
      "24/24 [==============================] - 0s 14ms/step - loss: nan - accuracy: 0.0000e+00\n",
      "Epoch 22/30\n",
      "24/24 [==============================] - 0s 13ms/step - loss: nan - accuracy: 0.0000e+00\n",
      "Epoch 23/30\n",
      "24/24 [==============================] - ETA: 0s - loss: nan - accuracy: 0.0000e+0 - 0s 13ms/step - loss: nan - accuracy: 0.0000e+00\n",
      "Epoch 24/30\n",
      "24/24 [==============================] - 0s 13ms/step - loss: nan - accuracy: 0.0000e+00\n",
      "Epoch 25/30\n",
      "24/24 [==============================] - 0s 13ms/step - loss: nan - accuracy: 0.0000e+00\n",
      "Epoch 26/30\n",
      "24/24 [==============================] - 0s 13ms/step - loss: nan - accuracy: 0.0000e+00\n",
      "Epoch 27/30\n",
      "24/24 [==============================] - 0s 13ms/step - loss: nan - accuracy: 0.0000e+00\n",
      "Epoch 28/30\n",
      "24/24 [==============================] - 0s 13ms/step - loss: nan - accuracy: 0.0000e+00\n",
      "Epoch 29/30\n",
      "24/24 [==============================] - 0s 13ms/step - loss: nan - accuracy: 0.0000e+00\n",
      "Epoch 30/30\n",
      "24/24 [==============================] - 0s 13ms/step - loss: nan - accuracy: 0.0000e+00\n"
     ]
    },
    {
     "data": {
      "text/plain": [
       "<keras.callbacks.History at 0x7fd45cd2e280>"
      ]
     },
     "execution_count": 30,
     "metadata": {},
     "output_type": "execute_result"
    }
   ],
   "source": [
    "# LSTM for sequence classification in the IMDB dataset\n",
    "from tensorflow.keras.models import Sequential\n",
    "from tensorflow.keras.layers import Dense, LSTM, Embedding, Input\n",
    "from keras.preprocessing import sequence\n",
    "\n",
    "\n",
    "model = Sequential()\n",
    "model.add(Input(shape=(x_train_smallerdim.shape[1],1)))\n",
    "model.add(LSTM(300))\n",
    "model.add(Dense(6, activation='softmax'))\n",
    "model.compile(loss='sparse_categorical_crossentropy', optimizer='adam', metrics=['accuracy'])\n",
    "print(model.summary())\n",
    "model.fit(x_train_smallerdim, y_train, epochs=30, batch_size=64)\n",
    "# Final evaluation of the model\n",
    "# scores = model.evaluate(X_test, y_test, verbose=0)\n",
    "# print(\"Accuracy: %.2f%%\" % (scores[1]*100))"
   ]
  },
  {
   "cell_type": "markdown",
   "id": "34e9e013",
   "metadata": {},
   "source": [
    "### Test data"
   ]
  },
  {
   "cell_type": "code",
   "execution_count": 20,
   "id": "dae68f5d",
   "metadata": {},
   "outputs": [
    {
     "name": "stdout",
     "output_type": "stream",
     "text": [
      "test_(2).csv  read , length:  1090\n",
      "Index(['PID', 'CLASS', 'SEQ'], dtype='object')\n",
      "test_(3).csv  read , length:  4000\n",
      "Index(['PID', 'CLASS', 'SEQ'], dtype='object')\n",
      "test_(5).csv  read , length:  5010\n",
      "Index(['PID', 'CLASS', 'SEQ'], dtype='object')\n",
      "test_(4).csv  read , length:  3500\n",
      "Index(['PID', 'CLASS', 'SEQ'], dtype='object')\n",
      "test_(1).csv  read , length:  3143\n",
      "Index(['PID', 'CLASS', 'SEQ'], dtype='object')\n",
      "Test data size:  16743\n"
     ]
    }
   ],
   "source": [
    "df_list = []\n",
    "test_size = 0\n",
    "\n",
    "for t in os.listdir('data/covid/test'):\n",
    "    df = pd.read_csv('data/covid/test/'+t)\n",
    "    print(t , ' read', ', length: ', len(df))\n",
    "    print(df.columns)\n",
    "    test_size += len(df)\n",
    "    df_list.append(df)\n",
    "print('Test data size: ', test_size)"
   ]
  },
  {
   "cell_type": "code",
   "execution_count": 21,
   "id": "4febe309",
   "metadata": {},
   "outputs": [],
   "source": [
    "merged_test_dfs = pd.concat(df_list)"
   ]
  },
  {
   "cell_type": "code",
   "execution_count": 22,
   "id": "13271195",
   "metadata": {},
   "outputs": [
    {
     "data": {
      "text/html": [
       "<div>\n",
       "<style scoped>\n",
       "    .dataframe tbody tr th:only-of-type {\n",
       "        vertical-align: middle;\n",
       "    }\n",
       "\n",
       "    .dataframe tbody tr th {\n",
       "        vertical-align: top;\n",
       "    }\n",
       "\n",
       "    .dataframe thead th {\n",
       "        text-align: right;\n",
       "    }\n",
       "</style>\n",
       "<table border=\"1\" class=\"dataframe\">\n",
       "  <thead>\n",
       "    <tr style=\"text-align: right;\">\n",
       "      <th></th>\n",
       "      <th>PID</th>\n",
       "      <th>CLASS</th>\n",
       "      <th>SEQ</th>\n",
       "    </tr>\n",
       "  </thead>\n",
       "  <tbody>\n",
       "    <tr>\n",
       "      <th>0</th>\n",
       "      <td>JF292909 |SARS coronavirus MA15 isolate d2ym4|...</td>\n",
       "      <td>1</td>\n",
       "      <td>CGATCTCTTGTAGATCTGTTCTCTAAACGAACTTTAAAATCTGTGT...</td>\n",
       "    </tr>\n",
       "  </tbody>\n",
       "</table>\n",
       "</div>"
      ],
      "text/plain": [
       "                                                 PID  CLASS  \\\n",
       "0  JF292909 |SARS coronavirus MA15 isolate d2ym4|...      1   \n",
       "\n",
       "                                                 SEQ  \n",
       "0  CGATCTCTTGTAGATCTGTTCTCTAAACGAACTTTAAAATCTGTGT...  "
      ]
     },
     "execution_count": 22,
     "metadata": {},
     "output_type": "execute_result"
    }
   ],
   "source": [
    "merged_test_dfs.head(1)"
   ]
  },
  {
   "cell_type": "code",
   "execution_count": 23,
   "id": "5a8f1a4a",
   "metadata": {},
   "outputs": [
    {
     "data": {
      "text/plain": [
       "18243"
      ]
     },
     "execution_count": 23,
     "metadata": {},
     "output_type": "execute_result"
    }
   ],
   "source": [
    "all_data = pd.concat([merged_test_dfs, df_training])\n",
    "len(all_data)"
   ]
  },
  {
   "cell_type": "code",
   "execution_count": 24,
   "id": "5977e875",
   "metadata": {},
   "outputs": [
    {
     "name": "stdout",
     "output_type": "stream",
     "text": [
      "Index(['PID', 'CLASS', 'SEQ'], dtype='object')\n"
     ]
    },
    {
     "data": {
      "text/html": [
       "<div>\n",
       "<style scoped>\n",
       "    .dataframe tbody tr th:only-of-type {\n",
       "        vertical-align: middle;\n",
       "    }\n",
       "\n",
       "    .dataframe tbody tr th {\n",
       "        vertical-align: top;\n",
       "    }\n",
       "\n",
       "    .dataframe thead th {\n",
       "        text-align: right;\n",
       "    }\n",
       "</style>\n",
       "<table border=\"1\" class=\"dataframe\">\n",
       "  <thead>\n",
       "    <tr style=\"text-align: right;\">\n",
       "      <th></th>\n",
       "      <th>PID</th>\n",
       "      <th>CLASS</th>\n",
       "      <th>SEQ</th>\n",
       "    </tr>\n",
       "  </thead>\n",
       "  <tbody>\n",
       "    <tr>\n",
       "      <th>0</th>\n",
       "      <td>JF292909 |SARS coronavirus MA15 isolate d2ym4|...</td>\n",
       "      <td>1</td>\n",
       "      <td>CGATCTCTTGTAGATCTGTTCTCTAAACGAACTTTAAAATCTGTGT...</td>\n",
       "    </tr>\n",
       "    <tr>\n",
       "      <th>1</th>\n",
       "      <td>JF292910 |SARS coronavirus MA15 isolate d2ym5|...</td>\n",
       "      <td>1</td>\n",
       "      <td>CGATCTCTTGTAGATCTGTTCTCTAAACGAACTTTAAAATCTGTGT...</td>\n",
       "    </tr>\n",
       "    <tr>\n",
       "      <th>2</th>\n",
       "      <td>JF292911 |SARS coronavirus MA15 isolate d4ym1|...</td>\n",
       "      <td>1</td>\n",
       "      <td>CGATCTCTTGTAGATCTGTTCTCTAAACGAACTTTAAAATCTGTGT...</td>\n",
       "    </tr>\n",
       "    <tr>\n",
       "      <th>3</th>\n",
       "      <td>JF292912 |SARS coronavirus MA15 isolate d4ym2|...</td>\n",
       "      <td>1</td>\n",
       "      <td>CGATCTCTTGTAGATCTGTTCTCTAAACGAACTTTAAAATCTGTGT...</td>\n",
       "    </tr>\n",
       "    <tr>\n",
       "      <th>4</th>\n",
       "      <td>JF292913 |SARS coronavirus MA15 isolate d4ym3|...</td>\n",
       "      <td>1</td>\n",
       "      <td>CGATCTCTTGTAGATCTGTTCTCTAAACGAACTTTAAAATCTGTGT...</td>\n",
       "    </tr>\n",
       "  </tbody>\n",
       "</table>\n",
       "</div>"
      ],
      "text/plain": [
       "                                                 PID  CLASS  \\\n",
       "0  JF292909 |SARS coronavirus MA15 isolate d2ym4|...      1   \n",
       "1  JF292910 |SARS coronavirus MA15 isolate d2ym5|...      1   \n",
       "2  JF292911 |SARS coronavirus MA15 isolate d4ym1|...      1   \n",
       "3  JF292912 |SARS coronavirus MA15 isolate d4ym2|...      1   \n",
       "4  JF292913 |SARS coronavirus MA15 isolate d4ym3|...      1   \n",
       "\n",
       "                                                 SEQ  \n",
       "0  CGATCTCTTGTAGATCTGTTCTCTAAACGAACTTTAAAATCTGTGT...  \n",
       "1  CGATCTCTTGTAGATCTGTTCTCTAAACGAACTTTAAAATCTGTGT...  \n",
       "2  CGATCTCTTGTAGATCTGTTCTCTAAACGAACTTTAAAATCTGTGT...  \n",
       "3  CGATCTCTTGTAGATCTGTTCTCTAAACGAACTTTAAAATCTGTGT...  \n",
       "4  CGATCTCTTGTAGATCTGTTCTCTAAACGAACTTTAAAATCTGTGT...  "
      ]
     },
     "execution_count": 24,
     "metadata": {},
     "output_type": "execute_result"
    }
   ],
   "source": [
    "columns = ['PID', 'CLASS', 'SEQ']\n",
    "all_data_final = all_data[columns]\n",
    "print(all_data_final.columns)\n",
    "all_data_final.head()"
   ]
  },
  {
   "cell_type": "code",
   "execution_count": 25,
   "id": "a1a6b467",
   "metadata": {},
   "outputs": [
    {
     "data": {
      "text/plain": [
       "18243"
      ]
     },
     "execution_count": 25,
     "metadata": {},
     "output_type": "execute_result"
    }
   ],
   "source": [
    "all_data_final.dropna()\n",
    "len(all_data_final)"
   ]
  },
  {
   "cell_type": "code",
   "execution_count": 26,
   "id": "dd9b7ded",
   "metadata": {},
   "outputs": [],
   "source": [
    "all_data_final['CLASS'].apply(lambda x: int(x))\n",
    "all_data_final['SEQ'].apply(lambda x: str.upper(x))\n",
    "all_data_final.reset_index(inplace=True)"
   ]
  },
  {
   "cell_type": "code",
   "execution_count": 27,
   "id": "b93cb0a8",
   "metadata": {},
   "outputs": [],
   "source": [
    "# all_data_final.to_csv('all_data.csv', index=False)"
   ]
  },
  {
   "cell_type": "code",
   "execution_count": 28,
   "id": "2fcba7cb",
   "metadata": {},
   "outputs": [
    {
     "name": "stdout",
     "output_type": "stream",
     "text": [
      "Average length of the seqeunces:  24861\n"
     ]
    }
   ],
   "source": [
    "print('Average length of the seqeunces: ', int(np.mean(all_data_final['SEQ'].str.len())))"
   ]
  },
  {
   "cell_type": "code",
   "execution_count": 29,
   "id": "dcb55824",
   "metadata": {},
   "outputs": [
    {
     "data": {
      "text/plain": [
       "<AxesSubplot:xlabel='CLASS', ylabel='count'>"
      ]
     },
     "execution_count": 29,
     "metadata": {},
     "output_type": "execute_result"
    },
    {
     "data": {
      "image/png": "[encoded data removed]",
      "text/plain": [
       "<Figure size 432x288 with 1 Axes>"
      ]
     },
     "metadata": {
      "needs_background": "light"
     },
     "output_type": "display_data"
    }
   ],
   "source": [
    "sns.countplot(data= all_data_final, x = 'CLASS')"
   ]
  },
  {
   "cell_type": "code",
   "execution_count": 35,
   "id": "86f48c02",
   "metadata": {},
   "outputs": [
    {
     "data": {
      "text/plain": [
       "array([ 1.5,  0.5, -1.5, -0.5,  0. ])"
      ]
     },
     "execution_count": 35,
     "metadata": {},
     "output_type": "execute_result"
    }
   ],
   "source": []
  },
  {
   "cell_type": "code",
   "execution_count": 50,
   "id": "458c5570",
   "metadata": {},
   "outputs": [
    {
     "data": {
      "text/html": [
       "<div>\n",
       "<style scoped>\n",
       "    .dataframe tbody tr th:only-of-type {\n",
       "        vertical-align: middle;\n",
       "    }\n",
       "\n",
       "    .dataframe tbody tr th {\n",
       "        vertical-align: top;\n",
       "    }\n",
       "\n",
       "    .dataframe thead th {\n",
       "        text-align: right;\n",
       "    }\n",
       "</style>\n",
       "<table border=\"1\" class=\"dataframe\">\n",
       "  <thead>\n",
       "    <tr style=\"text-align: right;\">\n",
       "      <th></th>\n",
       "      <th>PID</th>\n",
       "      <th>CLASS</th>\n",
       "      <th>CLASSNAME</th>\n",
       "      <th>SEQ</th>\n",
       "      <th>DIG_SEQ</th>\n",
       "    </tr>\n",
       "  </thead>\n",
       "  <tbody>\n",
       "    <tr>\n",
       "      <th>0</th>\n",
       "      <td>AB257344 |SARS coronavirus Frankfurt 1 genomic...</td>\n",
       "      <td>1</td>\n",
       "      <td>SARS-COV-1</td>\n",
       "      <td>GATCTCTTGTAGATCTGTTCTCTAAACGAACTTTAAAATCTGTGTA...</td>\n",
       "      <td>[-0.5, 1.5, -1.5, 0.5, -1.5, 0.5, -1.5, -1.5, ...</td>\n",
       "    </tr>\n",
       "    <tr>\n",
       "      <th>1</th>\n",
       "      <td>AH013708 |SARS coronavirus Sin0409| partial se...</td>\n",
       "      <td>1</td>\n",
       "      <td>SARS-COV-1</td>\n",
       "      <td>CATTCAGTACGGTCGTAGCGGTATAACACTGGGAGTACTCGTGCCA...</td>\n",
       "      <td>[0.5, 1.5, -1.5, -1.5, 0.5, 1.5, -0.5, -1.5, 1...</td>\n",
       "    </tr>\n",
       "    <tr>\n",
       "      <th>2</th>\n",
       "      <td>AH013709 |SARS coronavirus Sin_WNV| partial se...</td>\n",
       "      <td>1</td>\n",
       "      <td>SARS-COV-1</td>\n",
       "      <td>CACGCGCGGGCAAGTCAATGTGCACTCTTTCCGAACAACTTGATTA...</td>\n",
       "      <td>[0.5, 1.5, 0.5, -0.5, 0.5, -0.5, 0.5, -0.5, -0...</td>\n",
       "    </tr>\n",
       "    <tr>\n",
       "      <th>3</th>\n",
       "      <td>AP006557 |SARS coronavirus TWH genomic RNA| co...</td>\n",
       "      <td>1</td>\n",
       "      <td>SARS-COV-1</td>\n",
       "      <td>ATATTAGGTTTTTACCTACCCAGGAAAAGCCAACCAACCTCGATCT...</td>\n",
       "      <td>[1.5, -1.5, 1.5, -1.5, -1.5, 1.5, -0.5, -0.5, ...</td>\n",
       "    </tr>\n",
       "    <tr>\n",
       "      <th>4</th>\n",
       "      <td>AP006558 |SARS coronavirus TWJ genomic RNA| co...</td>\n",
       "      <td>1</td>\n",
       "      <td>SARS-COV-1</td>\n",
       "      <td>ATATTAGGTTTTTACCTACCCAGGAAAAGCCAACCAACCTCGATCT...</td>\n",
       "      <td>[1.5, -1.5, 1.5, -1.5, -1.5, 1.5, -0.5, -0.5, ...</td>\n",
       "    </tr>\n",
       "  </tbody>\n",
       "</table>\n",
       "</div>"
      ],
      "text/plain": [
       "                                                 PID  CLASS   CLASSNAME  \\\n",
       "0  AB257344 |SARS coronavirus Frankfurt 1 genomic...      1  SARS-COV-1   \n",
       "1  AH013708 |SARS coronavirus Sin0409| partial se...      1  SARS-COV-1   \n",
       "2  AH013709 |SARS coronavirus Sin_WNV| partial se...      1  SARS-COV-1   \n",
       "3  AP006557 |SARS coronavirus TWH genomic RNA| co...      1  SARS-COV-1   \n",
       "4  AP006558 |SARS coronavirus TWJ genomic RNA| co...      1  SARS-COV-1   \n",
       "\n",
       "                                                 SEQ  \\\n",
       "0  GATCTCTTGTAGATCTGTTCTCTAAACGAACTTTAAAATCTGTGTA...   \n",
       "1  CATTCAGTACGGTCGTAGCGGTATAACACTGGGAGTACTCGTGCCA...   \n",
       "2  CACGCGCGGGCAAGTCAATGTGCACTCTTTCCGAACAACTTGATTA...   \n",
       "3  ATATTAGGTTTTTACCTACCCAGGAAAAGCCAACCAACCTCGATCT...   \n",
       "4  ATATTAGGTTTTTACCTACCCAGGAAAAGCCAACCAACCTCGATCT...   \n",
       "\n",
       "                                             DIG_SEQ  \n",
       "0  [-0.5, 1.5, -1.5, 0.5, -1.5, 0.5, -1.5, -1.5, ...  \n",
       "1  [0.5, 1.5, -1.5, -1.5, 0.5, 1.5, -0.5, -1.5, 1...  \n",
       "2  [0.5, 1.5, 0.5, -0.5, 0.5, -0.5, 0.5, -0.5, -0...  \n",
       "3  [1.5, -1.5, 1.5, -1.5, -1.5, 1.5, -0.5, -0.5, ...  \n",
       "4  [1.5, -1.5, 1.5, -1.5, -1.5, 1.5, -0.5, -0.5, ...  "
      ]
     },
     "execution_count": 50,
     "metadata": {},
     "output_type": "execute_result"
    }
   ],
   "source": []
  },
  {
   "cell_type": "code",
   "execution_count": null,
   "id": "8fca2d4f",
   "metadata": {},
   "outputs": [],
   "source": [
    "all_data_final"
   ]
  },
  {
   "cell_type": "code",
   "execution_count": 46,
   "id": "bb2bd574",
   "metadata": {},
   "outputs": [
    {
     "name": "stderr",
     "output_type": "stream",
     "text": [
      "/tmp/ipykernel_272407/3469598069.py:3: SettingWithCopyWarning: \n",
      "A value is trying to be set on a copy of a slice from a DataFrame\n",
      "\n",
      "See the caveats in the documentation: https://pandas.pydata.org/pandas-docs/stable/user_guide/indexing.html#returning-a-view-versus-a-copy\n",
      "  all_data_final['DIG_SEQ'][i] = nucleotideToDigit(row[1][3])\n"
     ]
    },
    {
     "ename": "ValueError",
     "evalue": "setting an array element with a sequence.",
     "output_type": "error",
     "traceback": [
      "\u001b[0;31m---------------------------------------------------------------------------\u001b[0m",
      "\u001b[0;31mTypeError\u001b[0m                                 Traceback (most recent call last)",
      "\u001b[0;31mTypeError\u001b[0m: only size-1 arrays can be converted to Python scalars",
      "\nThe above exception was the direct cause of the following exception:\n",
      "\u001b[0;31mValueError\u001b[0m                                Traceback (most recent call last)",
      "\u001b[0;32m/home/jlw742/tf/lib/python3.8/site-packages/pandas/core/series.py\u001b[0m in \u001b[0;36m__setitem__\u001b[0;34m(self, key, value)\u001b[0m\n\u001b[1;32m   1084\u001b[0m         \u001b[0;32mtry\u001b[0m\u001b[0;34m:\u001b[0m\u001b[0;34m\u001b[0m\u001b[0;34m\u001b[0m\u001b[0m\n\u001b[0;32m-> 1085\u001b[0;31m             \u001b[0mself\u001b[0m\u001b[0;34m.\u001b[0m\u001b[0m_set_with_engine\u001b[0m\u001b[0;34m(\u001b[0m\u001b[0mkey\u001b[0m\u001b[0;34m,\u001b[0m \u001b[0mvalue\u001b[0m\u001b[0;34m)\u001b[0m\u001b[0;34m\u001b[0m\u001b[0;34m\u001b[0m\u001b[0m\n\u001b[0m\u001b[1;32m   1086\u001b[0m         \u001b[0;32mexcept\u001b[0m \u001b[0;34m(\u001b[0m\u001b[0mKeyError\u001b[0m\u001b[0;34m,\u001b[0m \u001b[0mValueError\u001b[0m\u001b[0;34m)\u001b[0m\u001b[0;34m:\u001b[0m\u001b[0;34m\u001b[0m\u001b[0;34m\u001b[0m\u001b[0m\n",
      "\u001b[0;32m/home/jlw742/tf/lib/python3.8/site-packages/pandas/core/series.py\u001b[0m in \u001b[0;36m_set_with_engine\u001b[0;34m(self, key, value)\u001b[0m\n\u001b[1;32m   1148\u001b[0m         \u001b[0;31m# this is equivalent to self._values[key] = value\u001b[0m\u001b[0;34m\u001b[0m\u001b[0;34m\u001b[0m\u001b[0;34m\u001b[0m\u001b[0m\n\u001b[0;32m-> 1149\u001b[0;31m         \u001b[0mself\u001b[0m\u001b[0;34m.\u001b[0m\u001b[0m_mgr\u001b[0m\u001b[0;34m.\u001b[0m\u001b[0msetitem_inplace\u001b[0m\u001b[0;34m(\u001b[0m\u001b[0mloc\u001b[0m\u001b[0;34m,\u001b[0m \u001b[0mvalue\u001b[0m\u001b[0;34m)\u001b[0m\u001b[0;34m\u001b[0m\u001b[0;34m\u001b[0m\u001b[0m\n\u001b[0m\u001b[1;32m   1150\u001b[0m \u001b[0;34m\u001b[0m\u001b[0m\n",
      "\u001b[0;32m/home/jlw742/tf/lib/python3.8/site-packages/pandas/core/internals/base.py\u001b[0m in \u001b[0;36msetitem_inplace\u001b[0;34m(self, indexer, value)\u001b[0m\n\u001b[1;32m    189\u001b[0m \u001b[0;34m\u001b[0m\u001b[0m\n\u001b[0;32m--> 190\u001b[0;31m         \u001b[0marr\u001b[0m\u001b[0;34m[\u001b[0m\u001b[0mindexer\u001b[0m\u001b[0;34m]\u001b[0m \u001b[0;34m=\u001b[0m \u001b[0mvalue\u001b[0m\u001b[0;34m\u001b[0m\u001b[0;34m\u001b[0m\u001b[0m\n\u001b[0m\u001b[1;32m    191\u001b[0m \u001b[0;34m\u001b[0m\u001b[0m\n",
      "\u001b[0;31mValueError\u001b[0m: setting an array element with a sequence.",
      "\nDuring handling of the above exception, another exception occurred:\n",
      "\u001b[0;31mTypeError\u001b[0m                                 Traceback (most recent call last)",
      "\u001b[0;31mTypeError\u001b[0m: only size-1 arrays can be converted to Python scalars",
      "\nThe above exception was the direct cause of the following exception:\n",
      "\u001b[0;31mValueError\u001b[0m                                Traceback (most recent call last)",
      "\u001b[0;32m/tmp/ipykernel_272407/3469598069.py\u001b[0m in \u001b[0;36m<module>\u001b[0;34m\u001b[0m\n\u001b[1;32m      1\u001b[0m \u001b[0mi\u001b[0m \u001b[0;34m=\u001b[0m \u001b[0;36m0\u001b[0m\u001b[0;34m\u001b[0m\u001b[0;34m\u001b[0m\u001b[0m\n\u001b[1;32m      2\u001b[0m \u001b[0;32mfor\u001b[0m \u001b[0mrow\u001b[0m \u001b[0;32min\u001b[0m \u001b[0mall_data_final\u001b[0m\u001b[0;34m.\u001b[0m\u001b[0miterrows\u001b[0m\u001b[0;34m(\u001b[0m\u001b[0;34m)\u001b[0m\u001b[0;34m:\u001b[0m\u001b[0;34m\u001b[0m\u001b[0;34m\u001b[0m\u001b[0m\n\u001b[0;32m----> 3\u001b[0;31m     \u001b[0mall_data_final\u001b[0m\u001b[0;34m[\u001b[0m\u001b[0;34m'DIG_SEQ'\u001b[0m\u001b[0;34m]\u001b[0m\u001b[0;34m[\u001b[0m\u001b[0mi\u001b[0m\u001b[0;34m]\u001b[0m \u001b[0;34m=\u001b[0m \u001b[0mnucleotideToDigit\u001b[0m\u001b[0;34m(\u001b[0m\u001b[0mrow\u001b[0m\u001b[0;34m[\u001b[0m\u001b[0;36m1\u001b[0m\u001b[0;34m]\u001b[0m\u001b[0;34m[\u001b[0m\u001b[0;36m3\u001b[0m\u001b[0;34m]\u001b[0m\u001b[0;34m)\u001b[0m\u001b[0;34m\u001b[0m\u001b[0;34m\u001b[0m\u001b[0m\n\u001b[0m\u001b[1;32m      4\u001b[0m     \u001b[0mi\u001b[0m\u001b[0;34m+=\u001b[0m\u001b[0;36m1\u001b[0m\u001b[0;34m\u001b[0m\u001b[0;34m\u001b[0m\u001b[0m\n",
      "\u001b[0;32m/home/jlw742/tf/lib/python3.8/site-packages/pandas/core/series.py\u001b[0m in \u001b[0;36m__setitem__\u001b[0;34m(self, key, value)\u001b[0m\n\u001b[1;32m   1102\u001b[0m             \u001b[0;32melse\u001b[0m\u001b[0;34m:\u001b[0m\u001b[0;34m\u001b[0m\u001b[0;34m\u001b[0m\u001b[0m\n\u001b[1;32m   1103\u001b[0m                 \u001b[0;31m# GH#12862 adding a new key to the Series\u001b[0m\u001b[0;34m\u001b[0m\u001b[0;34m\u001b[0m\u001b[0;34m\u001b[0m\u001b[0m\n\u001b[0;32m-> 1104\u001b[0;31m                 \u001b[0mself\u001b[0m\u001b[0;34m.\u001b[0m\u001b[0mloc\u001b[0m\u001b[0;34m[\u001b[0m\u001b[0mkey\u001b[0m\u001b[0;34m]\u001b[0m \u001b[0;34m=\u001b[0m \u001b[0mvalue\u001b[0m\u001b[0;34m\u001b[0m\u001b[0;34m\u001b[0m\u001b[0m\n\u001b[0m\u001b[1;32m   1105\u001b[0m \u001b[0;34m\u001b[0m\u001b[0m\n\u001b[1;32m   1106\u001b[0m         \u001b[0;32mexcept\u001b[0m \u001b[0;34m(\u001b[0m\u001b[0mInvalidIndexError\u001b[0m\u001b[0;34m,\u001b[0m \u001b[0mTypeError\u001b[0m\u001b[0;34m)\u001b[0m \u001b[0;32mas\u001b[0m \u001b[0merr\u001b[0m\u001b[0;34m:\u001b[0m\u001b[0;34m\u001b[0m\u001b[0;34m\u001b[0m\u001b[0m\n",
      "\u001b[0;32m/home/jlw742/tf/lib/python3.8/site-packages/pandas/core/indexing.py\u001b[0m in \u001b[0;36m__setitem__\u001b[0;34m(self, key, value)\u001b[0m\n\u001b[1;32m    714\u001b[0m \u001b[0;34m\u001b[0m\u001b[0m\n\u001b[1;32m    715\u001b[0m         \u001b[0miloc\u001b[0m \u001b[0;34m=\u001b[0m \u001b[0mself\u001b[0m \u001b[0;32mif\u001b[0m \u001b[0mself\u001b[0m\u001b[0;34m.\u001b[0m\u001b[0mname\u001b[0m \u001b[0;34m==\u001b[0m \u001b[0;34m\"iloc\"\u001b[0m \u001b[0;32melse\u001b[0m \u001b[0mself\u001b[0m\u001b[0;34m.\u001b[0m\u001b[0mobj\u001b[0m\u001b[0;34m.\u001b[0m\u001b[0miloc\u001b[0m\u001b[0;34m\u001b[0m\u001b[0;34m\u001b[0m\u001b[0m\n\u001b[0;32m--> 716\u001b[0;31m         \u001b[0miloc\u001b[0m\u001b[0;34m.\u001b[0m\u001b[0m_setitem_with_indexer\u001b[0m\u001b[0;34m(\u001b[0m\u001b[0mindexer\u001b[0m\u001b[0;34m,\u001b[0m \u001b[0mvalue\u001b[0m\u001b[0;34m,\u001b[0m \u001b[0mself\u001b[0m\u001b[0;34m.\u001b[0m\u001b[0mname\u001b[0m\u001b[0;34m)\u001b[0m\u001b[0;34m\u001b[0m\u001b[0;34m\u001b[0m\u001b[0m\n\u001b[0m\u001b[1;32m    717\u001b[0m \u001b[0;34m\u001b[0m\u001b[0m\n\u001b[1;32m    718\u001b[0m     \u001b[0;32mdef\u001b[0m \u001b[0m_validate_key\u001b[0m\u001b[0;34m(\u001b[0m\u001b[0mself\u001b[0m\u001b[0;34m,\u001b[0m \u001b[0mkey\u001b[0m\u001b[0;34m,\u001b[0m \u001b[0maxis\u001b[0m\u001b[0;34m:\u001b[0m \u001b[0mint\u001b[0m\u001b[0;34m)\u001b[0m\u001b[0;34m:\u001b[0m\u001b[0;34m\u001b[0m\u001b[0;34m\u001b[0m\u001b[0m\n",
      "\u001b[0;32m/home/jlw742/tf/lib/python3.8/site-packages/pandas/core/indexing.py\u001b[0m in \u001b[0;36m_setitem_with_indexer\u001b[0;34m(self, indexer, value, name)\u001b[0m\n\u001b[1;32m   1688\u001b[0m             \u001b[0mself\u001b[0m\u001b[0;34m.\u001b[0m\u001b[0m_setitem_with_indexer_split_path\u001b[0m\u001b[0;34m(\u001b[0m\u001b[0mindexer\u001b[0m\u001b[0;34m,\u001b[0m \u001b[0mvalue\u001b[0m\u001b[0;34m,\u001b[0m \u001b[0mname\u001b[0m\u001b[0;34m)\u001b[0m\u001b[0;34m\u001b[0m\u001b[0;34m\u001b[0m\u001b[0m\n\u001b[1;32m   1689\u001b[0m         \u001b[0;32melse\u001b[0m\u001b[0;34m:\u001b[0m\u001b[0;34m\u001b[0m\u001b[0;34m\u001b[0m\u001b[0m\n\u001b[0;32m-> 1690\u001b[0;31m             \u001b[0mself\u001b[0m\u001b[0;34m.\u001b[0m\u001b[0m_setitem_single_block\u001b[0m\u001b[0;34m(\u001b[0m\u001b[0mindexer\u001b[0m\u001b[0;34m,\u001b[0m \u001b[0mvalue\u001b[0m\u001b[0;34m,\u001b[0m \u001b[0mname\u001b[0m\u001b[0;34m)\u001b[0m\u001b[0;34m\u001b[0m\u001b[0;34m\u001b[0m\u001b[0m\n\u001b[0m\u001b[1;32m   1691\u001b[0m \u001b[0;34m\u001b[0m\u001b[0m\n\u001b[1;32m   1692\u001b[0m     \u001b[0;32mdef\u001b[0m \u001b[0m_setitem_with_indexer_split_path\u001b[0m\u001b[0;34m(\u001b[0m\u001b[0mself\u001b[0m\u001b[0;34m,\u001b[0m \u001b[0mindexer\u001b[0m\u001b[0;34m,\u001b[0m \u001b[0mvalue\u001b[0m\u001b[0;34m,\u001b[0m \u001b[0mname\u001b[0m\u001b[0;34m:\u001b[0m \u001b[0mstr\u001b[0m\u001b[0;34m)\u001b[0m\u001b[0;34m:\u001b[0m\u001b[0;34m\u001b[0m\u001b[0;34m\u001b[0m\u001b[0m\n",
      "\u001b[0;32m/home/jlw742/tf/lib/python3.8/site-packages/pandas/core/indexing.py\u001b[0m in \u001b[0;36m_setitem_single_block\u001b[0;34m(self, indexer, value, name)\u001b[0m\n\u001b[1;32m   1936\u001b[0m \u001b[0;34m\u001b[0m\u001b[0m\n\u001b[1;32m   1937\u001b[0m         \u001b[0;31m# actually do the set\u001b[0m\u001b[0;34m\u001b[0m\u001b[0;34m\u001b[0m\u001b[0;34m\u001b[0m\u001b[0m\n\u001b[0;32m-> 1938\u001b[0;31m         \u001b[0mself\u001b[0m\u001b[0;34m.\u001b[0m\u001b[0mobj\u001b[0m\u001b[0;34m.\u001b[0m\u001b[0m_mgr\u001b[0m \u001b[0;34m=\u001b[0m \u001b[0mself\u001b[0m\u001b[0;34m.\u001b[0m\u001b[0mobj\u001b[0m\u001b[0;34m.\u001b[0m\u001b[0m_mgr\u001b[0m\u001b[0;34m.\u001b[0m\u001b[0msetitem\u001b[0m\u001b[0;34m(\u001b[0m\u001b[0mindexer\u001b[0m\u001b[0;34m=\u001b[0m\u001b[0mindexer\u001b[0m\u001b[0;34m,\u001b[0m \u001b[0mvalue\u001b[0m\u001b[0;34m=\u001b[0m\u001b[0mvalue\u001b[0m\u001b[0;34m)\u001b[0m\u001b[0;34m\u001b[0m\u001b[0;34m\u001b[0m\u001b[0m\n\u001b[0m\u001b[1;32m   1939\u001b[0m         \u001b[0mself\u001b[0m\u001b[0;34m.\u001b[0m\u001b[0mobj\u001b[0m\u001b[0;34m.\u001b[0m\u001b[0m_maybe_update_cacher\u001b[0m\u001b[0;34m(\u001b[0m\u001b[0mclear\u001b[0m\u001b[0;34m=\u001b[0m\u001b[0;32mTrue\u001b[0m\u001b[0;34m,\u001b[0m \u001b[0minplace\u001b[0m\u001b[0;34m=\u001b[0m\u001b[0;32mTrue\u001b[0m\u001b[0;34m)\u001b[0m\u001b[0;34m\u001b[0m\u001b[0;34m\u001b[0m\u001b[0m\n\u001b[1;32m   1940\u001b[0m \u001b[0;34m\u001b[0m\u001b[0m\n",
      "\u001b[0;32m/home/jlw742/tf/lib/python3.8/site-packages/pandas/core/internals/managers.py\u001b[0m in \u001b[0;36msetitem\u001b[0;34m(self, indexer, value)\u001b[0m\n\u001b[1;32m    335\u001b[0m         \u001b[0mFor\u001b[0m \u001b[0mSingleBlockManager\u001b[0m\u001b[0;34m,\u001b[0m \u001b[0mthis\u001b[0m \u001b[0mbacks\u001b[0m \u001b[0ms\u001b[0m\u001b[0;34m[\u001b[0m\u001b[0mindexer\u001b[0m\u001b[0;34m]\u001b[0m \u001b[0;34m=\u001b[0m \u001b[0mvalue\u001b[0m\u001b[0;34m\u001b[0m\u001b[0;34m\u001b[0m\u001b[0m\n\u001b[1;32m    336\u001b[0m         \"\"\"\n\u001b[0;32m--> 337\u001b[0;31m         \u001b[0;32mreturn\u001b[0m \u001b[0mself\u001b[0m\u001b[0;34m.\u001b[0m\u001b[0mapply\u001b[0m\u001b[0;34m(\u001b[0m\u001b[0;34m\"setitem\"\u001b[0m\u001b[0;34m,\u001b[0m \u001b[0mindexer\u001b[0m\u001b[0;34m=\u001b[0m\u001b[0mindexer\u001b[0m\u001b[0;34m,\u001b[0m \u001b[0mvalue\u001b[0m\u001b[0;34m=\u001b[0m\u001b[0mvalue\u001b[0m\u001b[0;34m)\u001b[0m\u001b[0;34m\u001b[0m\u001b[0;34m\u001b[0m\u001b[0m\n\u001b[0m\u001b[1;32m    338\u001b[0m \u001b[0;34m\u001b[0m\u001b[0m\n\u001b[1;32m    339\u001b[0m     \u001b[0;32mdef\u001b[0m \u001b[0mputmask\u001b[0m\u001b[0;34m(\u001b[0m\u001b[0mself\u001b[0m\u001b[0;34m,\u001b[0m \u001b[0mmask\u001b[0m\u001b[0;34m,\u001b[0m \u001b[0mnew\u001b[0m\u001b[0;34m,\u001b[0m \u001b[0malign\u001b[0m\u001b[0;34m:\u001b[0m \u001b[0mbool\u001b[0m \u001b[0;34m=\u001b[0m \u001b[0;32mTrue\u001b[0m\u001b[0;34m)\u001b[0m\u001b[0;34m:\u001b[0m\u001b[0;34m\u001b[0m\u001b[0;34m\u001b[0m\u001b[0m\n",
      "\u001b[0;32m/home/jlw742/tf/lib/python3.8/site-packages/pandas/core/internals/managers.py\u001b[0m in \u001b[0;36mapply\u001b[0;34m(self, f, align_keys, ignore_failures, **kwargs)\u001b[0m\n\u001b[1;32m    302\u001b[0m                     \u001b[0mapplied\u001b[0m \u001b[0;34m=\u001b[0m \u001b[0mb\u001b[0m\u001b[0;34m.\u001b[0m\u001b[0mapply\u001b[0m\u001b[0;34m(\u001b[0m\u001b[0mf\u001b[0m\u001b[0;34m,\u001b[0m \u001b[0;34m**\u001b[0m\u001b[0mkwargs\u001b[0m\u001b[0;34m)\u001b[0m\u001b[0;34m\u001b[0m\u001b[0;34m\u001b[0m\u001b[0m\n\u001b[1;32m    303\u001b[0m                 \u001b[0;32melse\u001b[0m\u001b[0;34m:\u001b[0m\u001b[0;34m\u001b[0m\u001b[0;34m\u001b[0m\u001b[0m\n\u001b[0;32m--> 304\u001b[0;31m                     \u001b[0mapplied\u001b[0m \u001b[0;34m=\u001b[0m \u001b[0mgetattr\u001b[0m\u001b[0;34m(\u001b[0m\u001b[0mb\u001b[0m\u001b[0;34m,\u001b[0m \u001b[0mf\u001b[0m\u001b[0;34m)\u001b[0m\u001b[0;34m(\u001b[0m\u001b[0;34m**\u001b[0m\u001b[0mkwargs\u001b[0m\u001b[0;34m)\u001b[0m\u001b[0;34m\u001b[0m\u001b[0;34m\u001b[0m\u001b[0m\n\u001b[0m\u001b[1;32m    305\u001b[0m             \u001b[0;32mexcept\u001b[0m \u001b[0;34m(\u001b[0m\u001b[0mTypeError\u001b[0m\u001b[0;34m,\u001b[0m \u001b[0mNotImplementedError\u001b[0m\u001b[0;34m)\u001b[0m\u001b[0;34m:\u001b[0m\u001b[0;34m\u001b[0m\u001b[0;34m\u001b[0m\u001b[0m\n\u001b[1;32m    306\u001b[0m                 \u001b[0;32mif\u001b[0m \u001b[0;32mnot\u001b[0m \u001b[0mignore_failures\u001b[0m\u001b[0;34m:\u001b[0m\u001b[0;34m\u001b[0m\u001b[0;34m\u001b[0m\u001b[0m\n",
      "\u001b[0;32m/home/jlw742/tf/lib/python3.8/site-packages/pandas/core/internals/blocks.py\u001b[0m in \u001b[0;36msetitem\u001b[0;34m(self, indexer, value)\u001b[0m\n\u001b[1;32m    935\u001b[0m             \u001b[0;31m# setting a single element for each dim and with a rhs that could\u001b[0m\u001b[0;34m\u001b[0m\u001b[0;34m\u001b[0m\u001b[0;34m\u001b[0m\u001b[0m\n\u001b[1;32m    936\u001b[0m             \u001b[0;31m#  be e.g. a list; see GH#6043\u001b[0m\u001b[0;34m\u001b[0m\u001b[0;34m\u001b[0m\u001b[0;34m\u001b[0m\u001b[0m\n\u001b[0;32m--> 937\u001b[0;31m             \u001b[0mvalues\u001b[0m\u001b[0;34m[\u001b[0m\u001b[0mindexer\u001b[0m\u001b[0;34m]\u001b[0m \u001b[0;34m=\u001b[0m \u001b[0mvalue\u001b[0m\u001b[0;34m\u001b[0m\u001b[0;34m\u001b[0m\u001b[0m\n\u001b[0m\u001b[1;32m    938\u001b[0m \u001b[0;34m\u001b[0m\u001b[0m\n\u001b[1;32m    939\u001b[0m         \u001b[0;32melse\u001b[0m\u001b[0;34m:\u001b[0m\u001b[0;34m\u001b[0m\u001b[0;34m\u001b[0m\u001b[0m\n",
      "\u001b[0;31mValueError\u001b[0m: setting an array element with a sequence."
     ]
    }
   ],
   "source": [
    "# i = 0\n",
    "# for row in all_data_final.iterrows():\n",
    "#     all_data_final['SEQ'][i] = nucleotideToDigit(row[1][3])\n",
    "#     i+=1"
   ]
  },
  {
   "cell_type": "code",
   "execution_count": null,
   "id": "fa614c4d",
   "metadata": {},
   "outputs": [],
   "source": []
  },
  {
   "cell_type": "code",
   "execution_count": 36,
   "id": "6208c55a",
   "metadata": {},
   "outputs": [
    {
     "data": {
      "text/plain": [
       "array([ 0.5, -0.5,  1.5, ...,  1.5, -0.5, -1.5])"
      ]
     },
     "execution_count": 36,
     "metadata": {},
     "output_type": "execute_result"
    }
   ],
   "source": [
    "nucleotideToDigit(all_data_final['SEQ'][0])"
   ]
  },
  {
   "cell_type": "code",
   "execution_count": null,
   "id": "e304d968",
   "metadata": {},
   "outputs": [],
   "source": []
  }
 ],
 "metadata": {
  "kernelspec": {
   "display_name": "Python 3 (ipykernel)",
   "language": "python",
   "name": "python3"
  },
  "language_info": {
   "codemirror_mode": {
    "name": "ipython",
    "version": 3
   },
   "file_extension": ".py",
   "mimetype": "text/x-python",
   "name": "python",
   "nbconvert_exporter": "python",
   "pygments_lexer": "ipython3",
   "version": "3.7.9"
  }
 },
 "nbformat": 4,
 "nbformat_minor": 5
}
