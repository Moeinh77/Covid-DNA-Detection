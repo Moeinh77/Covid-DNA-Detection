{
 "cells": [
  {
   "cell_type": "code",
   "execution_count": 1,
   "id": "551814aa",
   "metadata": {},
   "outputs": [],
   "source": [
    "import pandas as pd\n",
    "import os\n",
    "import seaborn as sns\n",
    "import numpy as np"
   ]
  },
  {
   "cell_type": "code",
   "execution_count": 2,
   "id": "da637366",
   "metadata": {},
   "outputs": [],
   "source": [
    "import tensorflow as tf\n",
    "from tensorflow import keras\n",
    "from tensorflow.keras import layers\n",
    "from tensorflow.keras.preprocessing.text import Tokenizer\n",
    "from sklearn.decomposition import PCA"
   ]
  },
  {
   "cell_type": "code",
   "execution_count": 3,
   "id": "634c5f14",
   "metadata": {},
   "outputs": [],
   "source": [
    "NUM_CLASSES = 6"
   ]
  },
  {
   "cell_type": "markdown",
   "id": "21e8b950",
   "metadata": {},
   "source": [
    "### The networks"
   ]
  },
  {
   "cell_type": "markdown",
   "id": "9ebe5589",
   "metadata": {},
   "source": [
    "#### Transformer"
   ]
  },
  {
   "cell_type": "code",
   "execution_count": 22,
   "id": "be5abb89",
   "metadata": {},
   "outputs": [],
   "source": [
    "class TokenAndPositionEmbedding(layers.Layer):\n",
    "    def __init__(self, maxlen, vocab_size, embed_dim):\n",
    "        super(TokenAndPositionEmbedding, self).__init__()\n",
    "        self.embed_dim = embed_dim\n",
    "        self.token_emb = layers.Embedding(input_dim= vocab_size, output_dim= embed_dim)\n",
    "        self.maxlen = maxlen\n",
    "        # self.pos_emb = layers.Embedding(input_dim= maxlen, output_dim= embed_dim)\n",
    "\n",
    "    def get_angles(self, pos, i, embd_dim):\n",
    "        angle_rates = 1 / np.power(10000, (2 * (i//2)) / np.float32(embd_dim))\n",
    "        return pos * angle_rates\n",
    "\n",
    "    def positional_encoding(self, max_pos_enc, embd_dim):\n",
    "        angle_rads = self.get_angles(np.arange(max_pos_enc)[:, np.newaxis],\n",
    "                                np.arange(embd_dim)[np.newaxis, :],\n",
    "                                embd_dim)\n",
    "\n",
    "        # apply sin to even indices in the array; 2i\n",
    "        angle_rads[:, 0::2] = np.sin(angle_rads[:, 0::2])\n",
    "\n",
    "        # apply cos to odd indices in the array; 2i+1\n",
    "        angle_rads[:, 1::2] = np.cos(angle_rads[:, 1::2])\n",
    "\n",
    "        pos_encoding = angle_rads[np.newaxis, ...]\n",
    "\n",
    "        return tf.cast(pos_encoding, dtype=tf.float32)\n",
    "\n",
    "    def call(self, x):\n",
    "        # maxlen = tf.shape(x)[-1]\n",
    "        # print(tf.shape(x)[-1])\n",
    "        # positions = tf.range(start=0, limit=maxlen, delta=1)\n",
    "        positions = self.positional_encoding(max_pos_enc= self.maxlen, embd_dim= self.embed_dim)\n",
    "        # print(positions.shape)\n",
    "        # positions = self.pos_encoding(positions)\n",
    "        x = self.token_emb(x)\n",
    "        # print(x.shape)\n",
    "        return x + positions"
   ]
  },
  {
   "cell_type": "code",
   "execution_count": 27,
   "id": "78a66e7c",
   "metadata": {},
   "outputs": [],
   "source": [
    "class TransformerBlock(layers.Layer):\n",
    "    def __init__(self, embed_dim, num_heads, ff_dim, rate=0.1):\n",
    "        super(TransformerBlock, self).__init__()\n",
    "        self.att = layers.MultiHeadAttention(num_heads= num_heads, key_dim= embed_dim)\n",
    "        self.ffn = keras.Sequential(\n",
    "            [layers.Dense(ff_dim, activation=\"relu\"), layers.Dense(embed_dim),]\n",
    "        )\n",
    "        self.layernorm1 = layers.LayerNormalization(epsilon=1e-6)\n",
    "        self.layernorm2 = layers.LayerNormalization(epsilon=1e-6)\n",
    "        self.dropout1 = layers.Dropout(rate)\n",
    "        self.dropout2 = layers.Dropout(rate)\n",
    "\n",
    "    def call(self, inputs, training):\n",
    "        attn_output = self.att(inputs, inputs)\n",
    "        attn_output = self.dropout1(attn_output, training=training)\n",
    "        out1 = self.layernorm1(inputs + attn_output)\n",
    "        ffn_output = self.ffn(out1)\n",
    "        ffn_output = self.dropout2(ffn_output, training=training)\n",
    "        return self.layernorm2(out1 + ffn_output)"
   ]
  },
  {
   "cell_type": "code",
   "execution_count": 32,
   "id": "6a755131",
   "metadata": {},
   "outputs": [],
   "source": [
    "def create_model_transformer(maxlen = 30121, vocab_size = 259,\n",
    "                            embed_dim = 50, num_heads = 2, \n",
    "                            ff_dim = 16, dout = 0.1, \n",
    "                            extra_dense_nodes = 20):\n",
    "    '''\n",
    "    embed_dim - Embedding size for each token\n",
    "    num_heads - Number of attention heads\n",
    "    ff_dim - Hidden layer size in feed forward network inside transformer\n",
    "    '''\n",
    "    inputs = layers.Input(shape=(maxlen,))\n",
    "    embedding_layer = TokenAndPositionEmbedding(maxlen, vocab_size, embed_dim)\n",
    "    x = embedding_layer(inputs)\n",
    "    transformer_block = TransformerBlock(embed_dim, num_heads, ff_dim)\n",
    "    x = transformer_block(x)\n",
    "    x = layers.GlobalAveragePooling1D()(x)\n",
    "    x = layers.Dropout(dout)(x)\n",
    "    if extra_dense_nodes!= 0:\n",
    "        x = layers.Dense(extra_dense_nodes, activation= \"relu\")(x)\n",
    "        x = layers.Dropout(dout)(x)\n",
    "    outputs = layers.Dense(NUM_CLASSES, activation= \"softmax\")(x)\n",
    "\n",
    "    model= keras.Model(inputs=inputs, outputs= outputs)\n",
    "    model.summary()\n",
    "    model.compile(optimizer= \"adam\", loss= \"sparse_categorical_crossentropy\", metrics=[\"accuracy\"])\n",
    "\n",
    "    return model"
   ]
  },
  {
   "cell_type": "code",
   "execution_count": 38,
   "id": "080eb77a",
   "metadata": {},
   "outputs": [
    {
     "name": "stdout",
     "output_type": "stream",
     "text": [
      "Model: \"model_8\"\n",
      "_________________________________________________________________\n",
      " Layer (type)                Output Shape              Param #   \n",
      "=================================================================\n",
      " input_9 (InputLayer)        [(None, 30121)]           0         \n",
      "                                                                 \n",
      " token_and_position_embeddin  (None, 30121, 50)        12950     \n",
      " g_8 (TokenAndPositionEmbedd                                     \n",
      " ing)                                                            \n",
      "                                                                 \n",
      " transformer_block_8 (Transf  (None, 30121, 50)        12066     \n",
      " ormerBlock)                                                     \n",
      "                                                                 \n",
      " global_average_pooling1d_8   (None, 50)               0         \n",
      " (GlobalAveragePooling1D)                                        \n",
      "                                                                 \n",
      " dropout_33 (Dropout)        (None, 50)                0         \n",
      "                                                                 \n",
      " dense_32 (Dense)            (None, 20)                1020      \n",
      "                                                                 \n",
      " dropout_34 (Dropout)        (None, 20)                0         \n",
      "                                                                 \n",
      " dense_33 (Dense)            (None, 6)                 126       \n",
      "                                                                 \n",
      "=================================================================\n",
      "Total params: 26,162\n",
      "Trainable params: 26,162\n",
      "Non-trainable params: 0\n",
      "_________________________________________________________________\n"
     ]
    }
   ],
   "source": [
    "model_transformer = create_model_transformer(num_heads= 1)"
   ]
  },
  {
   "cell_type": "markdown",
   "id": "d200e781",
   "metadata": {},
   "source": [
    "#### LSTM"
   ]
  },
  {
   "cell_type": "code",
   "execution_count": 45,
   "id": "6c6d3ac1",
   "metadata": {},
   "outputs": [
    {
     "name": "stdout",
     "output_type": "stream",
     "text": [
      "Model: \"sequential_12\"\n",
      "_________________________________________________________________\n",
      " Layer (type)                Output Shape              Param #   \n",
      "=================================================================\n",
      " embedding_1 (Embedding)     (None, 30121, 50)         12950     \n",
      "                                                                 \n",
      " lstm_10 (LSTM)              (None, 100)               60400     \n",
      "                                                                 \n",
      " dense_8 (Dense)             (None, 6)                 606       \n",
      "                                                                 \n",
      "=================================================================\n",
      "Total params: 73,956\n",
      "Trainable params: 73,956\n",
      "Non-trainable params: 0\n",
      "_________________________________________________________________\n",
      "None\n"
     ]
    }
   ],
   "source": [
    "from tensorflow.keras.models import Sequential\n",
    "from tensorflow.keras.layers import Dense, LSTM, Embedding\n",
    "\n",
    "def create_LSTM_model(hidden_unit = 100, embedding_vec = 50)\n",
    "    model = Sequential()\n",
    "    model.add(Embedding(VOCAB_SIZE, embedding_vec, input_length= maxlen))\n",
    "    model.add(LSTM(hidden_unit))\n",
    "    model.add(Dense(NUM_CLASSES, activation='softmax'))\n",
    "    \n",
    "    model.compile(loss='sparse_categorical_crossentropy', optimizer='adam', metrics=['accuracy'])\n",
    "    print(model.summary())\n",
    "    return model"
   ]
  },
  {
   "cell_type": "code",
   "execution_count": null,
   "id": "5b773db4",
   "metadata": {},
   "outputs": [],
   "source": [
    "lstm_model = create_LSTM_model()"
   ]
  },
  {
   "cell_type": "markdown",
   "id": "a16735c7",
   "metadata": {},
   "source": [
    "### Kmer"
   ]
  },
  {
   "cell_type": "code",
   "execution_count": 8,
   "id": "787c8604",
   "metadata": {},
   "outputs": [],
   "source": [
    "KMER = 3"
   ]
  },
  {
   "cell_type": "code",
   "execution_count": 9,
   "id": "1e28e86c",
   "metadata": {},
   "outputs": [
    {
     "data": {
      "text/html": [
       "<div>\n",
       "<style scoped>\n",
       "    .dataframe tbody tr th:only-of-type {\n",
       "        vertical-align: middle;\n",
       "    }\n",
       "\n",
       "    .dataframe tbody tr th {\n",
       "        vertical-align: top;\n",
       "    }\n",
       "\n",
       "    .dataframe thead th {\n",
       "        text-align: right;\n",
       "    }\n",
       "</style>\n",
       "<table border=\"1\" class=\"dataframe\">\n",
       "  <thead>\n",
       "    <tr style=\"text-align: right;\">\n",
       "      <th></th>\n",
       "      <th>PID</th>\n",
       "      <th>CLASS</th>\n",
       "      <th>CLASSNAME</th>\n",
       "      <th>SEQ</th>\n",
       "    </tr>\n",
       "  </thead>\n",
       "  <tbody>\n",
       "    <tr>\n",
       "      <th>0</th>\n",
       "      <td>AB257344 |SARS coronavirus Frankfurt 1 genomic...</td>\n",
       "      <td>1</td>\n",
       "      <td>SARS-COV-1</td>\n",
       "      <td>GATCTCTTGTAGATCTGTTCTCTAAACGAACTTTAAAATCTGTGTA...</td>\n",
       "    </tr>\n",
       "    <tr>\n",
       "      <th>1</th>\n",
       "      <td>AH013708 |SARS coronavirus Sin0409| partial se...</td>\n",
       "      <td>1</td>\n",
       "      <td>SARS-COV-1</td>\n",
       "      <td>CATTCAGTACGGTCGTAGCGGTATAACACTGGGAGTACTCGTGCCA...</td>\n",
       "    </tr>\n",
       "    <tr>\n",
       "      <th>2</th>\n",
       "      <td>AH013709 |SARS coronavirus Sin_WNV| partial se...</td>\n",
       "      <td>1</td>\n",
       "      <td>SARS-COV-1</td>\n",
       "      <td>CACGCGCGGGCAAGTCAATGTGCACTCTTTCCGAACAACTTGATTA...</td>\n",
       "    </tr>\n",
       "  </tbody>\n",
       "</table>\n",
       "</div>"
      ],
      "text/plain": [
       "                                                 PID  CLASS   CLASSNAME  \\\n",
       "0  AB257344 |SARS coronavirus Frankfurt 1 genomic...      1  SARS-COV-1   \n",
       "1  AH013708 |SARS coronavirus Sin0409| partial se...      1  SARS-COV-1   \n",
       "2  AH013709 |SARS coronavirus Sin_WNV| partial se...      1  SARS-COV-1   \n",
       "\n",
       "                                                 SEQ  \n",
       "0  GATCTCTTGTAGATCTGTTCTCTAAACGAACTTTAAAATCTGTGTA...  \n",
       "1  CATTCAGTACGGTCGTAGCGGTATAACACTGGGAGTACTCGTGCCA...  \n",
       "2  CACGCGCGGGCAAGTCAATGTGCACTCTTTCCGAACAACTTGATTA...  "
      ]
     },
     "execution_count": 9,
     "metadata": {},
     "output_type": "execute_result"
    }
   ],
   "source": [
    "df_training = pd.read_csv('data/covid/training.csv')\n",
    "df_training.head(3)"
   ]
  },
  {
   "cell_type": "code",
   "execution_count": 10,
   "id": "88544304",
   "metadata": {},
   "outputs": [],
   "source": [
    "df_training['CLASS'] = df_training['CLASS'].apply(lambda x : x-1)"
   ]
  },
  {
   "cell_type": "code",
   "execution_count": 11,
   "id": "9336c1ca",
   "metadata": {},
   "outputs": [
    {
     "data": {
      "text/plain": [
       "['cca', 'cag', 'agc', 'gct', 'ctg', 'tgt']"
      ]
     },
     "execution_count": 11,
     "metadata": {},
     "output_type": "execute_result"
    }
   ],
   "source": [
    "def kmer_fun(seq, win_size = 3):\n",
    "    kmer_list = []\n",
    "    for x in range(len(seq) - win_size + 1):\n",
    "        kmer_list.append(seq[x:x+win_size].lower())\n",
    "    return kmer_list\n",
    "\n",
    "# So let’s try it out with a simple sequence\n",
    "mySeq = 'CCAGCTGT'\n",
    "kmer_fun(mySeq, win_size= KMER)"
   ]
  },
  {
   "cell_type": "code",
   "execution_count": 12,
   "id": "8511325a",
   "metadata": {},
   "outputs": [
    {
     "data": {
      "text/html": [
       "<div>\n",
       "<style scoped>\n",
       "    .dataframe tbody tr th:only-of-type {\n",
       "        vertical-align: middle;\n",
       "    }\n",
       "\n",
       "    .dataframe tbody tr th {\n",
       "        vertical-align: top;\n",
       "    }\n",
       "\n",
       "    .dataframe thead th {\n",
       "        text-align: right;\n",
       "    }\n",
       "</style>\n",
       "<table border=\"1\" class=\"dataframe\">\n",
       "  <thead>\n",
       "    <tr style=\"text-align: right;\">\n",
       "      <th></th>\n",
       "      <th>PID</th>\n",
       "      <th>CLASS</th>\n",
       "      <th>CLASSNAME</th>\n",
       "      <th>SEQ</th>\n",
       "      <th>KMER_SEQ</th>\n",
       "    </tr>\n",
       "  </thead>\n",
       "  <tbody>\n",
       "    <tr>\n",
       "      <th>0</th>\n",
       "      <td>AB257344 |SARS coronavirus Frankfurt 1 genomic...</td>\n",
       "      <td>0</td>\n",
       "      <td>SARS-COV-1</td>\n",
       "      <td>GATCTCTTGTAGATCTGTTCTCTAAACGAACTTTAAAATCTGTGTA...</td>\n",
       "      <td>[gat, atc, tct, ctc, tct, ctt, ttg, tgt, gta, ...</td>\n",
       "    </tr>\n",
       "  </tbody>\n",
       "</table>\n",
       "</div>"
      ],
      "text/plain": [
       "                                                 PID  CLASS   CLASSNAME  \\\n",
       "0  AB257344 |SARS coronavirus Frankfurt 1 genomic...      0  SARS-COV-1   \n",
       "\n",
       "                                                 SEQ  \\\n",
       "0  GATCTCTTGTAGATCTGTTCTCTAAACGAACTTTAAAATCTGTGTA...   \n",
       "\n",
       "                                            KMER_SEQ  \n",
       "0  [gat, atc, tct, ctc, tct, ctt, ttg, tgt, gta, ...  "
      ]
     },
     "execution_count": 12,
     "metadata": {},
     "output_type": "execute_result"
    }
   ],
   "source": [
    "df_training['KMER_SEQ'] = df_training['SEQ'].apply(lambda x: kmer_fun(x, KMER))\n",
    "df_training.head(1)"
   ]
  },
  {
   "cell_type": "code",
   "execution_count": 13,
   "id": "3d0219f6",
   "metadata": {},
   "outputs": [
    {
     "name": "stdout",
     "output_type": "stream",
     "text": [
      "Found 259 unique tokens\n"
     ]
    }
   ],
   "source": [
    "tokenizer = Tokenizer()\n",
    "tokenizer.fit_on_texts(df_training['KMER_SEQ'])\n",
    "word_index = tokenizer.word_index\n",
    "VOCAB_SIZE = len(word_index)\n",
    "print('Found %s unique tokens' % VOCAB_SIZE)"
   ]
  },
  {
   "cell_type": "code",
   "execution_count": 14,
   "id": "d22ce291",
   "metadata": {},
   "outputs": [
    {
     "data": {
      "text/html": [
       "<div>\n",
       "<style scoped>\n",
       "    .dataframe tbody tr th:only-of-type {\n",
       "        vertical-align: middle;\n",
       "    }\n",
       "\n",
       "    .dataframe tbody tr th {\n",
       "        vertical-align: top;\n",
       "    }\n",
       "\n",
       "    .dataframe thead th {\n",
       "        text-align: right;\n",
       "    }\n",
       "</style>\n",
       "<table border=\"1\" class=\"dataframe\">\n",
       "  <thead>\n",
       "    <tr style=\"text-align: right;\">\n",
       "      <th></th>\n",
       "      <th>PID</th>\n",
       "      <th>CLASS</th>\n",
       "      <th>CLASSNAME</th>\n",
       "      <th>SEQ</th>\n",
       "      <th>KMER_SEQ</th>\n",
       "      <th>KMER_SEQ_NUM</th>\n",
       "    </tr>\n",
       "  </thead>\n",
       "  <tbody>\n",
       "    <tr>\n",
       "      <th>0</th>\n",
       "      <td>AB257344 |SARS coronavirus Frankfurt 1 genomic...</td>\n",
       "      <td>0</td>\n",
       "      <td>SARS-COV-1</td>\n",
       "      <td>GATCTCTTGTAGATCTGTTCTCTAAACGAACTTTAAAATCTGTGTA...</td>\n",
       "      <td>[gat, atc, tct, ctc, tct, ctt, ttg, tgt, gta, ...</td>\n",
       "      <td>[32, 45, 22, 50, 22, 11, 3, 5, 41, 47, 17, 32,...</td>\n",
       "    </tr>\n",
       "  </tbody>\n",
       "</table>\n",
       "</div>"
      ],
      "text/plain": [
       "                                                 PID  CLASS   CLASSNAME  \\\n",
       "0  AB257344 |SARS coronavirus Frankfurt 1 genomic...      0  SARS-COV-1   \n",
       "\n",
       "                                                 SEQ  \\\n",
       "0  GATCTCTTGTAGATCTGTTCTCTAAACGAACTTTAAAATCTGTGTA...   \n",
       "\n",
       "                                            KMER_SEQ  \\\n",
       "0  [gat, atc, tct, ctc, tct, ctt, ttg, tgt, gta, ...   \n",
       "\n",
       "                                        KMER_SEQ_NUM  \n",
       "0  [32, 45, 22, 50, 22, 11, 3, 5, 41, 47, 17, 32,...  "
      ]
     },
     "execution_count": 14,
     "metadata": {},
     "output_type": "execute_result"
    }
   ],
   "source": [
    "df_training['KMER_SEQ_NUM'] = tokenizer.texts_to_sequences(df_training['KMER_SEQ'])\n",
    "df_training.head(1)"
   ]
  },
  {
   "cell_type": "code",
   "execution_count": 15,
   "id": "9a77d16c",
   "metadata": {},
   "outputs": [
    {
     "data": {
      "text/plain": [
       "30121"
      ]
     },
     "execution_count": 15,
     "metadata": {},
     "output_type": "execute_result"
    }
   ],
   "source": [
    "x_train = df_training['KMER_SEQ_NUM']\n",
    "maxlen = np.max(df_training['KMER_SEQ_NUM'].str.len())\n",
    "maxlen"
   ]
  },
  {
   "cell_type": "code",
   "execution_count": 16,
   "id": "7559ac48",
   "metadata": {},
   "outputs": [
    {
     "data": {
      "text/plain": [
       "30123"
      ]
     },
     "execution_count": 16,
     "metadata": {},
     "output_type": "execute_result"
    }
   ],
   "source": [
    "np.max(df_training['SEQ'].str.len())"
   ]
  },
  {
   "cell_type": "code",
   "execution_count": 17,
   "id": "97bad730",
   "metadata": {},
   "outputs": [
    {
     "data": {
      "text/plain": [
       "29644.0"
      ]
     },
     "execution_count": 17,
     "metadata": {},
     "output_type": "execute_result"
    }
   ],
   "source": [
    "np.percentile(df_training['KMER_SEQ_NUM'].str.len(), 60)"
   ]
  },
  {
   "cell_type": "code",
   "execution_count": 18,
   "id": "12703b72",
   "metadata": {},
   "outputs": [
    {
     "data": {
      "text/plain": [
       "((1500, 30121), (1500,))"
      ]
     },
     "execution_count": 18,
     "metadata": {},
     "output_type": "execute_result"
    }
   ],
   "source": [
    "x_train = tf.keras.preprocessing.sequence.pad_sequences(x_train, maxlen = maxlen)\n",
    "y_train = df_training['CLASS']\n",
    "x_train.shape, y_train.shape"
   ]
  },
  {
   "cell_type": "code",
   "execution_count": 19,
   "id": "4672c4a8",
   "metadata": {},
   "outputs": [],
   "source": [
    "# history = model_lstm.fit(x_train, y_train, epochs=4, batch_size=64)"
   ]
  },
  {
   "cell_type": "code",
   "execution_count": 39,
   "id": "2da3d1fe",
   "metadata": {},
   "outputs": [
    {
     "name": "stdout",
     "output_type": "stream",
     "text": [
      "Epoch 1/2\n"
     ]
    },
    {
     "name": "stderr",
     "output_type": "stream",
     "text": [
      "2022-02-20 12:18:50.478567: W tensorflow/core/common_runtime/bfc_allocator.cc:462] Allocator (GPU_0_bfc) ran out of memory trying to allocate 3.38GiB (rounded to 3629098752)requested by op model_8/transformer_block_8/multi_head_attention_8/softmax/Softmax\n",
      "If the cause is memory fragmentation maybe the environment variable 'TF_GPU_ALLOCATOR=cuda_malloc_async' will improve the situation. \n",
      "Current allocation summary follows.\n",
      "Current allocation summary follows.\n",
      "2022-02-20 12:18:50.478620: I tensorflow/core/common_runtime/bfc_allocator.cc:1010] BFCAllocator dump for GPU_0_bfc\n",
      "2022-02-20 12:18:50.478634: I tensorflow/core/common_runtime/bfc_allocator.cc:1017] Bin (256): \tTotal Chunks: 270, Chunks in use: 269. 67.5KiB allocated for chunks. 67.2KiB in use in bin. 23.0KiB client-requested in use in bin.\n",
      "2022-02-20 12:18:50.478642: I tensorflow/core/common_runtime/bfc_allocator.cc:1017] Bin (512): \tTotal Chunks: 44, Chunks in use: 44. 23.2KiB allocated for chunks. 23.2KiB in use in bin. 17.6KiB client-requested in use in bin.\n",
      "2022-02-20 12:18:50.478654: I tensorflow/core/common_runtime/bfc_allocator.cc:1017] Bin (1024): \tTotal Chunks: 14, Chunks in use: 14. 15.5KiB allocated for chunks. 15.5KiB in use in bin. 14.1KiB client-requested in use in bin.\n",
      "2022-02-20 12:18:50.478679: I tensorflow/core/common_runtime/bfc_allocator.cc:1017] Bin (2048): \tTotal Chunks: 24, Chunks in use: 24. 76.2KiB allocated for chunks. 76.2KiB in use in bin. 72.7KiB client-requested in use in bin.\n",
      "2022-02-20 12:18:50.478688: I tensorflow/core/common_runtime/bfc_allocator.cc:1017] Bin (4096): \tTotal Chunks: 7, Chunks in use: 7. 29.8KiB allocated for chunks. 29.8KiB in use in bin. 27.3KiB client-requested in use in bin.\n",
      "2022-02-20 12:18:50.478710: I tensorflow/core/common_runtime/bfc_allocator.cc:1017] Bin (8192): \tTotal Chunks: 15, Chunks in use: 15. 155.5KiB allocated for chunks. 155.5KiB in use in bin. 152.3KiB client-requested in use in bin.\n",
      "2022-02-20 12:18:50.478731: I tensorflow/core/common_runtime/bfc_allocator.cc:1017] Bin (16384): \tTotal Chunks: 47, Chunks in use: 47. 941.8KiB allocated for chunks. 941.8KiB in use in bin. 910.2KiB client-requested in use in bin.\n",
      "2022-02-20 12:18:50.478739: I tensorflow/core/common_runtime/bfc_allocator.cc:1017] Bin (32768): \tTotal Chunks: 18, Chunks in use: 16. 894.5KiB allocated for chunks. 794.5KiB in use in bin. 747.3KiB client-requested in use in bin.\n",
      "2022-02-20 12:18:50.478763: I tensorflow/core/common_runtime/bfc_allocator.cc:1017] Bin (65536): \tTotal Chunks: 4, Chunks in use: 2. 418.8KiB allocated for chunks. 183.2KiB in use in bin. 168.2KiB client-requested in use in bin.\n",
      "2022-02-20 12:18:50.478770: I tensorflow/core/common_runtime/bfc_allocator.cc:1017] Bin (131072): \tTotal Chunks: 0, Chunks in use: 0. 0B allocated for chunks. 0B in use in bin. 0B client-requested in use in bin.\n",
      "2022-02-20 12:18:50.478777: I tensorflow/core/common_runtime/bfc_allocator.cc:1017] Bin (262144): \tTotal Chunks: 0, Chunks in use: 0. 0B allocated for chunks. 0B in use in bin. 0B client-requested in use in bin.\n",
      "2022-02-20 12:18:50.478796: I tensorflow/core/common_runtime/bfc_allocator.cc:1017] Bin (524288): \tTotal Chunks: 0, Chunks in use: 0. 0B allocated for chunks. 0B in use in bin. 0B client-requested in use in bin.\n",
      "2022-02-20 12:18:50.478818: I tensorflow/core/common_runtime/bfc_allocator.cc:1017] Bin (1048576): \tTotal Chunks: 1, Chunks in use: 0. 1.32MiB allocated for chunks. 0B in use in bin. 0B client-requested in use in bin.\n",
      "2022-02-20 12:18:50.478825: I tensorflow/core/common_runtime/bfc_allocator.cc:1017] Bin (2097152): \tTotal Chunks: 0, Chunks in use: 0. 0B allocated for chunks. 0B in use in bin. 0B client-requested in use in bin.\n",
      "2022-02-20 12:18:50.478833: I tensorflow/core/common_runtime/bfc_allocator.cc:1017] Bin (4194304): \tTotal Chunks: 12, Chunks in use: 12. 68.94MiB allocated for chunks. 68.94MiB in use in bin. 68.94MiB client-requested in use in bin.\n",
      "2022-02-20 12:18:50.478841: I tensorflow/core/common_runtime/bfc_allocator.cc:1017] Bin (8388608): \tTotal Chunks: 2, Chunks in use: 1. 21.38MiB allocated for chunks. 9.89MiB in use in bin. 5.75MiB client-requested in use in bin.\n",
      "2022-02-20 12:18:50.478848: I tensorflow/core/common_runtime/bfc_allocator.cc:1017] Bin (16777216): \tTotal Chunks: 0, Chunks in use: 0. 0B allocated for chunks. 0B in use in bin. 0B client-requested in use in bin.\n",
      "2022-02-20 12:18:50.478855: I tensorflow/core/common_runtime/bfc_allocator.cc:1017] Bin (33554432): \tTotal Chunks: 0, Chunks in use: 0. 0B allocated for chunks. 0B in use in bin. 0B client-requested in use in bin.\n",
      "2022-02-20 12:18:50.478861: I tensorflow/core/common_runtime/bfc_allocator.cc:1017] Bin (67108864): \tTotal Chunks: 0, Chunks in use: 0. 0B allocated for chunks. 0B in use in bin. 0B client-requested in use in bin.\n",
      "2022-02-20 12:18:50.478868: I tensorflow/core/common_runtime/bfc_allocator.cc:1017] Bin (134217728): \tTotal Chunks: 0, Chunks in use: 0. 0B allocated for chunks. 0B in use in bin. 0B client-requested in use in bin.\n",
      "2022-02-20 12:18:50.478876: I tensorflow/core/common_runtime/bfc_allocator.cc:1017] Bin (268435456): \tTotal Chunks: 3, Chunks in use: 2. 10.00GiB allocated for chunks. 6.77GiB in use in bin. 6.76GiB client-requested in use in bin.\n",
      "2022-02-20 12:18:50.478884: I tensorflow/core/common_runtime/bfc_allocator.cc:1033] Bin for 3.38GiB was 256.00MiB, Chunk State: \n",
      "2022-02-20 12:18:50.478895: I tensorflow/core/common_runtime/bfc_allocator.cc:1039]   Size: 3.23GiB | Requested Size: 0B | in_use: 0 | bin_num: 20, prev:   Size: 3.38GiB | Requested Size: 3.38GiB | in_use: 1 | bin_num: -1\n",
      "2022-02-20 12:18:50.478901: I tensorflow/core/common_runtime/bfc_allocator.cc:1046] Next region of size 10839916544\n",
      "2022-02-20 12:18:50.478908: I tensorflow/core/common_runtime/bfc_allocator.cc:1066] InUse at 7fea40000000 of size 1280 next 1\n",
      "2022-02-20 12:18:50.478915: I tensorflow/core/common_runtime/bfc_allocator.cc:1066] InUse at 7fea40000500 of size 256 next 2\n",
      "2022-02-20 12:18:50.478920: I tensorflow/core/common_runtime/bfc_allocator.cc:1066] InUse at 7fea40000600 of size 256 next 3\n",
      "2022-02-20 12:18:50.478925: I tensorflow/core/common_runtime/bfc_allocator.cc:1066] InUse at 7fea40000700 of size 256 next 4\n",
      "2022-02-20 12:18:50.478931: I tensorflow/core/common_runtime/bfc_allocator.cc:1066] InUse at 7fea40000800 of size 256 next 5\n",
      "2022-02-20 12:18:50.478936: I tensorflow/core/common_runtime/bfc_allocator.cc:1066] InUse at 7fea40000900 of size 256 next 8\n",
      "2022-02-20 12:18:50.478941: I tensorflow/core/common_runtime/bfc_allocator.cc:1066] InUse at 7fea40000a00 of size 256 next 9\n",
      "2022-02-20 12:18:50.478948: I tensorflow/core/common_runtime/bfc_allocator.cc:1066] InUse at 7fea40000b00 of size 512 next 10\n",
      "2022-02-20 12:18:50.478954: I tensorflow/core/common_runtime/bfc_allocator.cc:1066] InUse at 7fea40000d00 of size 39936 next 11\n",
      "2022-02-20 12:18:50.478959: I tensorflow/core/common_runtime/bfc_allocator.cc:1066] InUse at 7fea4000a900 of size 20224 next 12\n",
      "2022-02-20 12:18:50.478965: I tensorflow/core/common_runtime/bfc_allocator.cc:1066] InUse at 7fea4000f800 of size 512 next 13\n",
      "2022-02-20 12:18:50.478970: I tensorflow/core/common_runtime/bfc_allocator.cc:1066] InUse at 7fea4000fa00 of size 512 next 17\n",
      "2022-02-20 12:18:50.478976: I tensorflow/core/common_runtime/bfc_allocator.cc:1066] InUse at 7fea4000fc00 of size 256 next 18\n",
      "2022-02-20 12:18:50.478981: I tensorflow/core/common_runtime/bfc_allocator.cc:1066] InUse at 7fea4000fd00 of size 256 next 19\n",
      "2022-02-20 12:18:50.478989: I tensorflow/core/common_runtime/bfc_allocator.cc:1066] InUse at 7fea4000fe00 of size 256 next 21\n",
      "2022-02-20 12:18:50.478995: I tensorflow/core/common_runtime/bfc_allocator.cc:1066] InUse at 7fea4000ff00 of size 256 next 22\n",
      "2022-02-20 12:18:50.479000: I tensorflow/core/common_runtime/bfc_allocator.cc:1066] InUse at 7fea40010000 of size 256 next 23\n",
      "2022-02-20 12:18:50.479005: I tensorflow/core/common_runtime/bfc_allocator.cc:1066] InUse at 7fea40010100 of size 256 next 24\n",
      "2022-02-20 12:18:50.479010: I tensorflow/core/common_runtime/bfc_allocator.cc:1066] InUse at 7fea40010200 of size 256 next 25\n",
      "2022-02-20 12:18:50.479016: I tensorflow/core/common_runtime/bfc_allocator.cc:1066] InUse at 7fea40010300 of size 256 next 26\n",
      "2022-02-20 12:18:50.479021: I tensorflow/core/common_runtime/bfc_allocator.cc:1066] InUse at 7fea40010400 of size 256 next 27\n",
      "2022-02-20 12:18:50.479026: I tensorflow/core/common_runtime/bfc_allocator.cc:1066] InUse at 7fea40010500 of size 256 next 32\n",
      "2022-02-20 12:18:50.479031: I tensorflow/core/common_runtime/bfc_allocator.cc:1066] InUse at 7fea40010600 of size 256 next 31\n",
      "2022-02-20 12:18:50.479037: I tensorflow/core/common_runtime/bfc_allocator.cc:1066] InUse at 7fea40010700 of size 256 next 33\n",
      "2022-02-20 12:18:50.479042: I tensorflow/core/common_runtime/bfc_allocator.cc:1066] InUse at 7fea40010800 of size 256 next 34\n",
      "2022-02-20 12:18:50.479048: I tensorflow/core/common_runtime/bfc_allocator.cc:1066] InUse at 7fea40010900 of size 256 next 35\n",
      "2022-02-20 12:18:50.479053: I tensorflow/core/common_runtime/bfc_allocator.cc:1066] InUse at 7fea40010a00 of size 256 next 38\n",
      "2022-02-20 12:18:50.479058: I tensorflow/core/common_runtime/bfc_allocator.cc:1066] InUse at 7fea40010b00 of size 256 next 39\n",
      "2022-02-20 12:18:50.479077: I tensorflow/core/common_runtime/bfc_allocator.cc:1066] InUse at 7fea40010c00 of size 256 next 40\n",
      "2022-02-20 12:18:50.479082: I tensorflow/core/common_runtime/bfc_allocator.cc:1066] InUse at 7fea40010d00 of size 256 next 41\n",
      "2022-02-20 12:18:50.479087: I tensorflow/core/common_runtime/bfc_allocator.cc:1066] InUse at 7fea40010e00 of size 256 next 42\n",
      "2022-02-20 12:18:50.479092: I tensorflow/core/common_runtime/bfc_allocator.cc:1066] InUse at 7fea40010f00 of size 256 next 44\n",
      "2022-02-20 12:18:50.479098: I tensorflow/core/common_runtime/bfc_allocator.cc:1066] InUse at 7fea40011000 of size 256 next 45\n",
      "2022-02-20 12:18:50.479118: I tensorflow/core/common_runtime/bfc_allocator.cc:1066] InUse at 7fea40011100 of size 256 next 28\n",
      "2022-02-20 12:18:50.479124: I tensorflow/core/common_runtime/bfc_allocator.cc:1066] InUse at 7fea40011200 of size 3328 next 29\n",
      "2022-02-20 12:18:50.479129: I tensorflow/core/common_runtime/bfc_allocator.cc:1066] InUse at 7fea40011f00 of size 3328 next 30\n",
      "2022-02-20 12:18:50.479135: I tensorflow/core/common_runtime/bfc_allocator.cc:1066] InUse at 7fea40012c00 of size 256 next 59\n",
      "2022-02-20 12:18:50.479140: I tensorflow/core/common_runtime/bfc_allocator.cc:1066] InUse at 7fea40012d00 of size 3328 next 60\n",
      "2022-02-20 12:18:50.479145: I tensorflow/core/common_runtime/bfc_allocator.cc:1066] InUse at 7fea40013a00 of size 256 next 61\n",
      "2022-02-20 12:18:50.479151: I tensorflow/core/common_runtime/bfc_allocator.cc:1066] InUse at 7fea40013b00 of size 3328 next 14\n",
      "2022-02-20 12:18:50.479156: I tensorflow/core/common_runtime/bfc_allocator.cc:1066] InUse at 7fea40014800 of size 22016 next 6\n",
      "2022-02-20 12:18:50.479163: I tensorflow/core/common_runtime/bfc_allocator.cc:1066] InUse at 7fea40019e00 of size 51968 next 7\n",
      "2022-02-20 12:18:50.479168: I tensorflow/core/common_runtime/bfc_allocator.cc:1066] InUse at 7fea40026900 of size 512 next 43\n",
      "2022-02-20 12:18:50.479174: I tensorflow/core/common_runtime/bfc_allocator.cc:1066] InUse at 7fea40026b00 of size 256 next 46\n",
      "2022-02-20 12:18:50.479179: I tensorflow/core/common_runtime/bfc_allocator.cc:1066] InUse at 7fea40026c00 of size 256 next 47\n",
      "2022-02-20 12:18:50.479184: I tensorflow/core/common_runtime/bfc_allocator.cc:1066] InUse at 7fea40026d00 of size 256 next 48\n",
      "2022-02-20 12:18:50.479191: I tensorflow/core/common_runtime/bfc_allocator.cc:1066] InUse at 7fea40026e00 of size 256 next 49\n",
      "2022-02-20 12:18:50.479197: I tensorflow/core/common_runtime/bfc_allocator.cc:1066] InUse at 7fea40026f00 of size 256 next 50\n",
      "2022-02-20 12:18:50.479202: I tensorflow/core/common_runtime/bfc_allocator.cc:1066] InUse at 7fea40027000 of size 256 next 51\n",
      "2022-02-20 12:18:50.479207: I tensorflow/core/common_runtime/bfc_allocator.cc:1066] InUse at 7fea40027100 of size 256 next 52\n",
      "2022-02-20 12:18:50.479213: I tensorflow/core/common_runtime/bfc_allocator.cc:1066] InUse at 7fea40027200 of size 512 next 54\n",
      "2022-02-20 12:18:50.479218: I tensorflow/core/common_runtime/bfc_allocator.cc:1066] InUse at 7fea40027400 of size 512 next 56\n",
      "2022-02-20 12:18:50.479223: I tensorflow/core/common_runtime/bfc_allocator.cc:1066] InUse at 7fea40027600 of size 768 next 37\n",
      "2022-02-20 12:18:50.479229: I tensorflow/core/common_runtime/bfc_allocator.cc:1066] InUse at 7fea40027900 of size 4096 next 36\n",
      "2022-02-20 12:18:50.479234: I tensorflow/core/common_runtime/bfc_allocator.cc:1066] InUse at 7fea40028900 of size 12032 next 16\n",
      "2022-02-20 12:18:50.479239: I tensorflow/core/common_runtime/bfc_allocator.cc:1066] InUse at 7fea4002b800 of size 20224 next 15\n",
      "2022-02-20 12:18:50.479257: I tensorflow/core/common_runtime/bfc_allocator.cc:1066] InUse at 7fea40030700 of size 20224 next 20\n",
      "2022-02-20 12:18:50.479262: I tensorflow/core/common_runtime/bfc_allocator.cc:1066] InUse at 7fea40035600 of size 12032 next 126\n",
      "2022-02-20 12:18:50.479267: I tensorflow/core/common_runtime/bfc_allocator.cc:1066] InUse at 7fea40038500 of size 256 next 129\n",
      "2022-02-20 12:18:50.479287: I tensorflow/core/common_runtime/bfc_allocator.cc:1066] InUse at 7fea40038600 of size 256 next 116\n",
      "2022-02-20 12:18:50.479292: I tensorflow/core/common_runtime/bfc_allocator.cc:1066] InUse at 7fea40038700 of size 256 next 119\n",
      "2022-02-20 12:18:50.479297: I tensorflow/core/common_runtime/bfc_allocator.cc:1066] InUse at 7fea40038800 of size 256 next 108\n",
      "2022-02-20 12:18:50.479303: I tensorflow/core/common_runtime/bfc_allocator.cc:1066] InUse at 7fea40038900 of size 256 next 109\n",
      "2022-02-20 12:18:50.479308: I tensorflow/core/common_runtime/bfc_allocator.cc:1066] InUse at 7fea40038a00 of size 256 next 110\n",
      "2022-02-20 12:18:50.479314: I tensorflow/core/common_runtime/bfc_allocator.cc:1066] InUse at 7fea40038b00 of size 256 next 107\n",
      "2022-02-20 12:18:50.479319: I tensorflow/core/common_runtime/bfc_allocator.cc:1066] InUse at 7fea40038c00 of size 256 next 111\n",
      "2022-02-20 12:18:50.479324: I tensorflow/core/common_runtime/bfc_allocator.cc:1066] InUse at 7fea40038d00 of size 256 next 106\n",
      "2022-02-20 12:18:50.479329: I tensorflow/core/common_runtime/bfc_allocator.cc:1066] InUse at 7fea40038e00 of size 256 next 122\n",
      "2022-02-20 12:18:50.479335: I tensorflow/core/common_runtime/bfc_allocator.cc:1066] InUse at 7fea40038f00 of size 256 next 120\n",
      "2022-02-20 12:18:50.479340: I tensorflow/core/common_runtime/bfc_allocator.cc:1066] InUse at 7fea40039000 of size 256 next 124\n",
      "2022-02-20 12:18:50.479346: I tensorflow/core/common_runtime/bfc_allocator.cc:1066] InUse at 7fea40039100 of size 36864 next 53\n",
      "2022-02-20 12:18:50.479351: I tensorflow/core/common_runtime/bfc_allocator.cc:1066] InUse at 7fea40042100 of size 20224 next 55\n",
      "2022-02-20 12:18:50.479356: I tensorflow/core/common_runtime/bfc_allocator.cc:1066] InUse at 7fea40047000 of size 20224 next 57\n",
      "2022-02-20 12:18:50.479362: I tensorflow/core/common_runtime/bfc_allocator.cc:1066] InUse at 7fea4004bf00 of size 20224 next 58\n",
      "2022-02-20 12:18:50.479367: I tensorflow/core/common_runtime/bfc_allocator.cc:1066] InUse at 7fea40050e00 of size 256 next 62\n",
      "2022-02-20 12:18:50.479372: I tensorflow/core/common_runtime/bfc_allocator.cc:1066] InUse at 7fea40050f00 of size 256 next 63\n",
      "2022-02-20 12:18:50.479378: I tensorflow/core/common_runtime/bfc_allocator.cc:1066] InUse at 7fea40051000 of size 256 next 64\n",
      "2022-02-20 12:18:50.479383: I tensorflow/core/common_runtime/bfc_allocator.cc:1066] InUse at 7fea40051100 of size 256 next 65\n",
      "2022-02-20 12:18:50.479388: I tensorflow/core/common_runtime/bfc_allocator.cc:1066] InUse at 7fea40051200 of size 256 next 66\n",
      "2022-02-20 12:18:50.479393: I tensorflow/core/common_runtime/bfc_allocator.cc:1066] InUse at 7fea40051300 of size 4096 next 67\n",
      "2022-02-20 12:18:50.479398: I tensorflow/core/common_runtime/bfc_allocator.cc:1066] InUse at 7fea40052300 of size 256 next 68\n",
      "2022-02-20 12:18:50.479403: I tensorflow/core/common_runtime/bfc_allocator.cc:1066] InUse at 7fea40052400 of size 512 next 69\n",
      "2022-02-20 12:18:50.479409: I tensorflow/core/common_runtime/bfc_allocator.cc:1066] InUse at 7fea40052600 of size 256 next 70\n",
      "2022-02-20 12:18:50.479414: I tensorflow/core/common_runtime/bfc_allocator.cc:1066] InUse at 7fea40052700 of size 51968 next 71\n",
      "2022-02-20 12:18:50.479419: I tensorflow/core/common_runtime/bfc_allocator.cc:1066] InUse at 7fea4005f200 of size 20224 next 72\n",
      "2022-02-20 12:18:50.479425: I tensorflow/core/common_runtime/bfc_allocator.cc:1066] InUse at 7fea40064100 of size 512 next 73\n",
      "2022-02-20 12:18:50.479430: I tensorflow/core/common_runtime/bfc_allocator.cc:1066] InUse at 7fea40064300 of size 20224 next 74\n",
      "2022-02-20 12:18:50.479435: I tensorflow/core/common_runtime/bfc_allocator.cc:1066] InUse at 7fea40069200 of size 512 next 75\n",
      "2022-02-20 12:18:50.479440: I tensorflow/core/common_runtime/bfc_allocator.cc:1066] InUse at 7fea40069400 of size 20224 next 76\n",
      "2022-02-20 12:18:50.479446: I tensorflow/core/common_runtime/bfc_allocator.cc:1066] InUse at 7fea4006e300 of size 512 next 77\n",
      "2022-02-20 12:18:50.479451: I tensorflow/core/common_runtime/bfc_allocator.cc:1066] InUse at 7fea4006e500 of size 20224 next 78\n",
      "2022-02-20 12:18:50.479456: I tensorflow/core/common_runtime/bfc_allocator.cc:1066] InUse at 7fea40073400 of size 256 next 79\n",
      "2022-02-20 12:18:50.479462: I tensorflow/core/common_runtime/bfc_allocator.cc:1066] InUse at 7fea40073500 of size 3328 next 80\n",
      "2022-02-20 12:18:50.479467: I tensorflow/core/common_runtime/bfc_allocator.cc:1066] InUse at 7fea40074200 of size 256 next 81\n",
      "2022-02-20 12:18:50.479472: I tensorflow/core/common_runtime/bfc_allocator.cc:1066] InUse at 7fea40074300 of size 3328 next 82\n",
      "2022-02-20 12:18:50.479477: I tensorflow/core/common_runtime/bfc_allocator.cc:1066] InUse at 7fea40075000 of size 256 next 83\n",
      "2022-02-20 12:18:50.479483: I tensorflow/core/common_runtime/bfc_allocator.cc:1066] InUse at 7fea40075100 of size 256 next 84\n",
      "2022-02-20 12:18:50.479488: I tensorflow/core/common_runtime/bfc_allocator.cc:1066] InUse at 7fea40075200 of size 256 next 85\n",
      "2022-02-20 12:18:50.479493: I tensorflow/core/common_runtime/bfc_allocator.cc:1066] InUse at 7fea40075300 of size 256 next 86\n",
      "2022-02-20 12:18:50.479498: I tensorflow/core/common_runtime/bfc_allocator.cc:1066] InUse at 7fea40075400 of size 256 next 87\n",
      "2022-02-20 12:18:50.479504: I tensorflow/core/common_runtime/bfc_allocator.cc:1066] InUse at 7fea40075500 of size 4096 next 88\n",
      "2022-02-20 12:18:50.479509: I tensorflow/core/common_runtime/bfc_allocator.cc:1066] InUse at 7fea40076500 of size 256 next 89\n",
      "2022-02-20 12:18:50.479514: I tensorflow/core/common_runtime/bfc_allocator.cc:1066] InUse at 7fea40076600 of size 512 next 90\n",
      "2022-02-20 12:18:50.479520: I tensorflow/core/common_runtime/bfc_allocator.cc:1066] InUse at 7fea40076800 of size 256 next 91\n",
      "2022-02-20 12:18:50.479525: I tensorflow/core/common_runtime/bfc_allocator.cc:1066] InUse at 7fea40076900 of size 256 next 92\n",
      "2022-02-20 12:18:50.479530: I tensorflow/core/common_runtime/bfc_allocator.cc:1066] InUse at 7fea40076a00 of size 256 next 93\n",
      "2022-02-20 12:18:50.479535: I tensorflow/core/common_runtime/bfc_allocator.cc:1066] InUse at 7fea40076b00 of size 256 next 94\n",
      "2022-02-20 12:18:50.479541: I tensorflow/core/common_runtime/bfc_allocator.cc:1066] InUse at 7fea40076c00 of size 256 next 95\n",
      "2022-02-20 12:18:50.479546: I tensorflow/core/common_runtime/bfc_allocator.cc:1066] InUse at 7fea40076d00 of size 256 next 96\n",
      "2022-02-20 12:18:50.479552: I tensorflow/core/common_runtime/bfc_allocator.cc:1066] InUse at 7fea40076e00 of size 256 next 97\n",
      "2022-02-20 12:18:50.479557: I tensorflow/core/common_runtime/bfc_allocator.cc:1066] InUse at 7fea40076f00 of size 256 next 98\n",
      "2022-02-20 12:18:50.479563: I tensorflow/core/common_runtime/bfc_allocator.cc:1066] InUse at 7fea40077000 of size 256 next 99\n",
      "2022-02-20 12:18:50.479569: I tensorflow/core/common_runtime/bfc_allocator.cc:1066] InUse at 7fea40077100 of size 6024448 next 100\n",
      "2022-02-20 12:18:50.479574: I tensorflow/core/common_runtime/bfc_allocator.cc:1066] InUse at 7fea40635e00 of size 256 next 101\n",
      "2022-02-20 12:18:50.479580: I tensorflow/core/common_runtime/bfc_allocator.cc:1066] InUse at 7fea40635f00 of size 256 next 102\n",
      "2022-02-20 12:18:50.479585: I tensorflow/core/common_runtime/bfc_allocator.cc:1066] InUse at 7fea40636000 of size 256 next 103\n",
      "2022-02-20 12:18:50.479590: I tensorflow/core/common_runtime/bfc_allocator.cc:1066] InUse at 7fea40636100 of size 256 next 104\n",
      "2022-02-20 12:18:50.479595: I tensorflow/core/common_runtime/bfc_allocator.cc:1066] InUse at 7fea40636200 of size 256 next 105\n",
      "2022-02-20 12:18:50.479601: I tensorflow/core/common_runtime/bfc_allocator.cc:1066] InUse at 7fea40636300 of size 256 next 115\n",
      "2022-02-20 12:18:50.479606: I tensorflow/core/common_runtime/bfc_allocator.cc:1066] InUse at 7fea40636400 of size 512 next 140\n",
      "2022-02-20 12:18:50.479611: I tensorflow/core/common_runtime/bfc_allocator.cc:1066] InUse at 7fea40636600 of size 512 next 145\n",
      "2022-02-20 12:18:50.479617: I tensorflow/core/common_runtime/bfc_allocator.cc:1066] InUse at 7fea40636800 of size 512 next 148\n",
      "2022-02-20 12:18:50.479622: I tensorflow/core/common_runtime/bfc_allocator.cc:1066] InUse at 7fea40636a00 of size 256 next 147\n",
      "2022-02-20 12:18:50.479627: I tensorflow/core/common_runtime/bfc_allocator.cc:1066] InUse at 7fea40636b00 of size 256 next 113\n",
      "2022-02-20 12:18:50.479633: I tensorflow/core/common_runtime/bfc_allocator.cc:1066] InUse at 7fea40636c00 of size 256 next 130\n",
      "2022-02-20 12:18:50.479638: I tensorflow/core/common_runtime/bfc_allocator.cc:1066] InUse at 7fea40636d00 of size 256 next 128\n",
      "2022-02-20 12:18:50.479643: I tensorflow/core/common_runtime/bfc_allocator.cc:1066] InUse at 7fea40636e00 of size 256 next 143\n",
      "2022-02-20 12:18:50.479649: I tensorflow/core/common_runtime/bfc_allocator.cc:1066] InUse at 7fea40636f00 of size 256 next 136\n",
      "2022-02-20 12:18:50.479654: I tensorflow/core/common_runtime/bfc_allocator.cc:1066] InUse at 7fea40637000 of size 256 next 144\n",
      "2022-02-20 12:18:50.479659: I tensorflow/core/common_runtime/bfc_allocator.cc:1066] InUse at 7fea40637100 of size 256 next 152\n",
      "2022-02-20 12:18:50.479665: I tensorflow/core/common_runtime/bfc_allocator.cc:1066] InUse at 7fea40637200 of size 256 next 151\n",
      "2022-02-20 12:18:50.479670: I tensorflow/core/common_runtime/bfc_allocator.cc:1066] InUse at 7fea40637300 of size 512 next 153\n",
      "2022-02-20 12:18:50.479675: I tensorflow/core/common_runtime/bfc_allocator.cc:1066] InUse at 7fea40637500 of size 512 next 137\n",
      "2022-02-20 12:18:50.479681: I tensorflow/core/common_runtime/bfc_allocator.cc:1066] InUse at 7fea40637700 of size 512 next 134\n",
      "2022-02-20 12:18:50.479686: I tensorflow/core/common_runtime/bfc_allocator.cc:1066] InUse at 7fea40637900 of size 256 next 150\n",
      "2022-02-20 12:18:50.479691: I tensorflow/core/common_runtime/bfc_allocator.cc:1066] InUse at 7fea40637a00 of size 256 next 131\n",
      "2022-02-20 12:18:50.479697: I tensorflow/core/common_runtime/bfc_allocator.cc:1066] InUse at 7fea40637b00 of size 3328 next 133\n",
      "2022-02-20 12:18:50.479702: I tensorflow/core/common_runtime/bfc_allocator.cc:1066] InUse at 7fea40638800 of size 3328 next 123\n",
      "2022-02-20 12:18:50.479708: I tensorflow/core/common_runtime/bfc_allocator.cc:1066] InUse at 7fea40639500 of size 256 next 194\n",
      "2022-02-20 12:18:50.479713: I tensorflow/core/common_runtime/bfc_allocator.cc:1066] InUse at 7fea40639600 of size 256 next 197\n",
      "2022-02-20 12:18:50.479719: I tensorflow/core/common_runtime/bfc_allocator.cc:1066] InUse at 7fea40639700 of size 256 next 198\n",
      "2022-02-20 12:18:50.479724: I tensorflow/core/common_runtime/bfc_allocator.cc:1066] InUse at 7fea40639800 of size 768 next 195\n",
      "2022-02-20 12:18:50.479729: I tensorflow/core/common_runtime/bfc_allocator.cc:1066] InUse at 7fea40639b00 of size 1280 next 196\n",
      "2022-02-20 12:18:50.479734: I tensorflow/core/common_runtime/bfc_allocator.cc:1066] InUse at 7fea4063a000 of size 256 next 208\n",
      "2022-02-20 12:18:50.479739: I tensorflow/core/common_runtime/bfc_allocator.cc:1066] InUse at 7fea4063a100 of size 256 next 238\n",
      "2022-02-20 12:18:50.479744: I tensorflow/core/common_runtime/bfc_allocator.cc:1066] InUse at 7fea4063a200 of size 256 next 239\n",
      "2022-02-20 12:18:50.479749: I tensorflow/core/common_runtime/bfc_allocator.cc:1066] InUse at 7fea4063a300 of size 256 next 240\n",
      "2022-02-20 12:18:50.479755: I tensorflow/core/common_runtime/bfc_allocator.cc:1066] InUse at 7fea4063a400 of size 256 next 241\n",
      "2022-02-20 12:18:50.479760: I tensorflow/core/common_runtime/bfc_allocator.cc:1066] InUse at 7fea4063a500 of size 256 next 242\n",
      "2022-02-20 12:18:50.479765: I tensorflow/core/common_runtime/bfc_allocator.cc:1066] InUse at 7fea4063a600 of size 256 next 243\n",
      "2022-02-20 12:18:50.479771: I tensorflow/core/common_runtime/bfc_allocator.cc:1066] InUse at 7fea4063a700 of size 512 next 237\n",
      "2022-02-20 12:18:50.479776: I tensorflow/core/common_runtime/bfc_allocator.cc:1066] InUse at 7fea4063a900 of size 2816 next 117\n",
      "2022-02-20 12:18:50.479782: I tensorflow/core/common_runtime/bfc_allocator.cc:1066] InUse at 7fea4063b400 of size 20224 next 146\n",
      "2022-02-20 12:18:50.479787: I tensorflow/core/common_runtime/bfc_allocator.cc:1066] InUse at 7fea40640300 of size 512 next 158\n",
      "2022-02-20 12:18:50.479792: I tensorflow/core/common_runtime/bfc_allocator.cc:1066] InUse at 7fea40640500 of size 256 next 159\n",
      "2022-02-20 12:18:50.479798: I tensorflow/core/common_runtime/bfc_allocator.cc:1066] InUse at 7fea40640600 of size 256 next 160\n",
      "2022-02-20 12:18:50.479803: I tensorflow/core/common_runtime/bfc_allocator.cc:1066] InUse at 7fea40640700 of size 256 next 161\n",
      "2022-02-20 12:18:50.479808: I tensorflow/core/common_runtime/bfc_allocator.cc:1066] InUse at 7fea40640800 of size 256 next 162\n",
      "2022-02-20 12:18:50.479814: I tensorflow/core/common_runtime/bfc_allocator.cc:1066] InUse at 7fea40640900 of size 256 next 164\n",
      "2022-02-20 12:18:50.479819: I tensorflow/core/common_runtime/bfc_allocator.cc:1066] InUse at 7fea40640a00 of size 256 next 166\n",
      "2022-02-20 12:18:50.479825: I tensorflow/core/common_runtime/bfc_allocator.cc:1066] InUse at 7fea40640b00 of size 256 next 167\n",
      "2022-02-20 12:18:50.479830: I tensorflow/core/common_runtime/bfc_allocator.cc:1066] InUse at 7fea40640c00 of size 256 next 168\n",
      "2022-02-20 12:18:50.479835: I tensorflow/core/common_runtime/bfc_allocator.cc:1066] InUse at 7fea40640d00 of size 256 next 169\n",
      "2022-02-20 12:18:50.479840: I tensorflow/core/common_runtime/bfc_allocator.cc:1066] InUse at 7fea40640e00 of size 256 next 170\n",
      "2022-02-20 12:18:50.479846: I tensorflow/core/common_runtime/bfc_allocator.cc:1066] InUse at 7fea40640f00 of size 256 next 171\n",
      "2022-02-20 12:18:50.479851: I tensorflow/core/common_runtime/bfc_allocator.cc:1066] InUse at 7fea40641000 of size 256 next 172\n",
      "2022-02-20 12:18:50.479856: I tensorflow/core/common_runtime/bfc_allocator.cc:1066] InUse at 7fea40641100 of size 256 next 173\n",
      "2022-02-20 12:18:50.479862: I tensorflow/core/common_runtime/bfc_allocator.cc:1066] InUse at 7fea40641200 of size 256 next 139\n",
      "2022-02-20 12:18:50.479867: I tensorflow/core/common_runtime/bfc_allocator.cc:1066] InUse at 7fea40641300 of size 4096 next 138\n",
      "2022-02-20 12:18:50.479872: I tensorflow/core/common_runtime/bfc_allocator.cc:1066] InUse at 7fea40642300 of size 3328 next 163\n",
      "2022-02-20 12:18:50.479878: I tensorflow/core/common_runtime/bfc_allocator.cc:1066] InUse at 7fea40643000 of size 3328 next 165\n",
      "2022-02-20 12:18:50.479883: I tensorflow/core/common_runtime/bfc_allocator.cc:1066] InUse at 7fea40643d00 of size 512 next 177\n",
      "2022-02-20 12:18:50.479888: I tensorflow/core/common_runtime/bfc_allocator.cc:1066] InUse at 7fea40643f00 of size 512 next 179\n",
      "2022-02-20 12:18:50.479893: I tensorflow/core/common_runtime/bfc_allocator.cc:1066] InUse at 7fea40644100 of size 512 next 181\n",
      "2022-02-20 12:18:50.479899: I tensorflow/core/common_runtime/bfc_allocator.cc:1066] InUse at 7fea40644300 of size 256 next 183\n",
      "2022-02-20 12:18:50.479904: I tensorflow/core/common_runtime/bfc_allocator.cc:1066] InUse at 7fea40644400 of size 256 next 184\n",
      "2022-02-20 12:18:50.479910: I tensorflow/core/common_runtime/bfc_allocator.cc:1066] InUse at 7fea40644500 of size 256 next 185\n",
      "2022-02-20 12:18:50.479915: I tensorflow/core/common_runtime/bfc_allocator.cc:1066] InUse at 7fea40644600 of size 256 next 186\n",
      "2022-02-20 12:18:50.479920: I tensorflow/core/common_runtime/bfc_allocator.cc:1066] InUse at 7fea40644700 of size 256 next 188\n",
      "2022-02-20 12:18:50.479926: I tensorflow/core/common_runtime/bfc_allocator.cc:1066] InUse at 7fea40644800 of size 256 next 190\n",
      "2022-02-20 12:18:50.479931: I tensorflow/core/common_runtime/bfc_allocator.cc:1066] InUse at 7fea40644900 of size 256 next 191\n",
      "2022-02-20 12:18:50.479936: I tensorflow/core/common_runtime/bfc_allocator.cc:1066] InUse at 7fea40644a00 of size 256 next 192\n",
      "2022-02-20 12:18:50.479941: I tensorflow/core/common_runtime/bfc_allocator.cc:1066] InUse at 7fea40644b00 of size 256 next 193\n",
      "2022-02-20 12:18:50.479946: I tensorflow/core/common_runtime/bfc_allocator.cc:1066] InUse at 7fea40644c00 of size 512 next 203\n",
      "2022-02-20 12:18:50.479951: I tensorflow/core/common_runtime/bfc_allocator.cc:1066] InUse at 7fea40644e00 of size 512 next 205\n",
      "2022-02-20 12:18:50.479956: I tensorflow/core/common_runtime/bfc_allocator.cc:1066] InUse at 7fea40645000 of size 256 next 207\n",
      "2022-02-20 12:18:50.479961: I tensorflow/core/common_runtime/bfc_allocator.cc:1066] InUse at 7fea40645100 of size 256 next 132\n",
      "2022-02-20 12:18:50.479966: I tensorflow/core/common_runtime/bfc_allocator.cc:1066] InUse at 7fea40645200 of size 20224 next 127\n",
      "2022-02-20 12:18:50.479971: I tensorflow/core/common_runtime/bfc_allocator.cc:1066] InUse at 7fea4064a100 of size 512 next 248\n",
      "2022-02-20 12:18:50.479977: I tensorflow/core/common_runtime/bfc_allocator.cc:1066] InUse at 7fea4064a300 of size 512 next 250\n",
      "2022-02-20 12:18:50.479982: I tensorflow/core/common_runtime/bfc_allocator.cc:1066] InUse at 7fea4064a500 of size 256 next 252\n",
      "2022-02-20 12:18:50.479987: I tensorflow/core/common_runtime/bfc_allocator.cc:1066] InUse at 7fea4064a600 of size 256 next 253\n",
      "2022-02-20 12:18:50.479993: I tensorflow/core/common_runtime/bfc_allocator.cc:1066] InUse at 7fea4064a700 of size 256 next 254\n",
      "2022-02-20 12:18:50.479998: I tensorflow/core/common_runtime/bfc_allocator.cc:1066] InUse at 7fea4064a800 of size 256 next 255\n",
      "2022-02-20 12:18:50.480003: I tensorflow/core/common_runtime/bfc_allocator.cc:1066] InUse at 7fea4064a900 of size 256 next 256\n",
      "2022-02-20 12:18:50.480009: I tensorflow/core/common_runtime/bfc_allocator.cc:1066] InUse at 7fea4064aa00 of size 256 next 257\n",
      "2022-02-20 12:18:50.480014: I tensorflow/core/common_runtime/bfc_allocator.cc:1066] InUse at 7fea4064ab00 of size 256 next 262\n",
      "2022-02-20 12:18:50.480019: I tensorflow/core/common_runtime/bfc_allocator.cc:1066] InUse at 7fea4064ac00 of size 256 next 263\n",
      "2022-02-20 12:18:50.480024: I tensorflow/core/common_runtime/bfc_allocator.cc:1066] InUse at 7fea4064ad00 of size 256 next 229\n",
      "2022-02-20 12:18:50.480030: I tensorflow/core/common_runtime/bfc_allocator.cc:1066] InUse at 7fea4064ae00 of size 3328 next 228\n",
      "2022-02-20 12:18:50.480035: I tensorflow/core/common_runtime/bfc_allocator.cc:1066] InUse at 7fea4064bb00 of size 3328 next 231\n",
      "2022-02-20 12:18:50.480040: I tensorflow/core/common_runtime/bfc_allocator.cc:1066] InUse at 7fea4064c800 of size 512 next 272\n",
      "2022-02-20 12:18:50.480046: I tensorflow/core/common_runtime/bfc_allocator.cc:1066] InUse at 7fea4064ca00 of size 768 next 258\n",
      "2022-02-20 12:18:50.480051: I tensorflow/core/common_runtime/bfc_allocator.cc:1066] InUse at 7fea4064cd00 of size 1024 next 259\n",
      "2022-02-20 12:18:50.480057: I tensorflow/core/common_runtime/bfc_allocator.cc:1066] InUse at 7fea4064d100 of size 256 next 266\n",
      "2022-02-20 12:18:50.480062: I tensorflow/core/common_runtime/bfc_allocator.cc:1066] InUse at 7fea4064d200 of size 256 next 267\n",
      "2022-02-20 12:18:50.480068: I tensorflow/core/common_runtime/bfc_allocator.cc:1066] InUse at 7fea4064d300 of size 256 next 268\n",
      "2022-02-20 12:18:50.480073: I tensorflow/core/common_runtime/bfc_allocator.cc:1066] InUse at 7fea4064d400 of size 256 next 261\n",
      "2022-02-20 12:18:50.480078: I tensorflow/core/common_runtime/bfc_allocator.cc:1066] InUse at 7fea4064d500 of size 1024 next 260\n",
      "2022-02-20 12:18:50.480083: I tensorflow/core/common_runtime/bfc_allocator.cc:1066] InUse at 7fea4064d900 of size 256 next 278\n",
      "2022-02-20 12:18:50.480088: I tensorflow/core/common_runtime/bfc_allocator.cc:1066] InUse at 7fea4064da00 of size 256 next 281\n",
      "2022-02-20 12:18:50.480094: I tensorflow/core/common_runtime/bfc_allocator.cc:1066] InUse at 7fea4064db00 of size 256 next 282\n",
      "2022-02-20 12:18:50.480099: I tensorflow/core/common_runtime/bfc_allocator.cc:1066] InUse at 7fea4064dc00 of size 256 next 283\n",
      "2022-02-20 12:18:50.480104: I tensorflow/core/common_runtime/bfc_allocator.cc:1066] InUse at 7fea4064dd00 of size 256 next 279\n",
      "2022-02-20 12:18:50.480109: I tensorflow/core/common_runtime/bfc_allocator.cc:1066] InUse at 7fea4064de00 of size 1024 next 280\n",
      "2022-02-20 12:18:50.480115: I tensorflow/core/common_runtime/bfc_allocator.cc:1066] InUse at 7fea4064e200 of size 1792 next 265\n",
      "2022-02-20 12:18:50.480121: I tensorflow/core/common_runtime/bfc_allocator.cc:1066] InUse at 7fea4064e900 of size 2048 next 264\n",
      "2022-02-20 12:18:50.480127: I tensorflow/core/common_runtime/bfc_allocator.cc:1066] InUse at 7fea4064f100 of size 512 next 274\n",
      "2022-02-20 12:18:50.480132: I tensorflow/core/common_runtime/bfc_allocator.cc:1066] InUse at 7fea4064f300 of size 256 next 276\n",
      "2022-02-20 12:18:50.480137: I tensorflow/core/common_runtime/bfc_allocator.cc:1066] InUse at 7fea4064f400 of size 256 next 277\n",
      "2022-02-20 12:18:50.480143: I tensorflow/core/common_runtime/bfc_allocator.cc:1066] InUse at 7fea4064f500 of size 256 next 289\n",
      "2022-02-20 12:18:50.480148: I tensorflow/core/common_runtime/bfc_allocator.cc:1066] InUse at 7fea4064f600 of size 256 next 290\n",
      "2022-02-20 12:18:50.480154: I tensorflow/core/common_runtime/bfc_allocator.cc:1066] InUse at 7fea4064f700 of size 768 next 118\n",
      "2022-02-20 12:18:50.480159: I tensorflow/core/common_runtime/bfc_allocator.cc:1066] InUse at 7fea4064fa00 of size 6024448 next 112\n",
      "2022-02-20 12:18:50.480164: I tensorflow/core/common_runtime/bfc_allocator.cc:1066] InUse at 7fea40c0e700 of size 6024448 next 121\n",
      "2022-02-20 12:18:50.480170: I tensorflow/core/common_runtime/bfc_allocator.cc:1066] InUse at 7fea411cd400 of size 51968 next 142\n",
      "2022-02-20 12:18:50.480175: I tensorflow/core/common_runtime/bfc_allocator.cc:1066] InUse at 7fea411d9f00 of size 20224 next 149\n",
      "2022-02-20 12:18:50.480180: I tensorflow/core/common_runtime/bfc_allocator.cc:1066] InUse at 7fea411dee00 of size 3328 next 187\n",
      "2022-02-20 12:18:50.480186: I tensorflow/core/common_runtime/bfc_allocator.cc:1066] InUse at 7fea411dfb00 of size 3328 next 189\n",
      "2022-02-20 12:18:50.480192: I tensorflow/core/common_runtime/bfc_allocator.cc:1066] InUse at 7fea411e0800 of size 256 next 209\n",
      "2022-02-20 12:18:50.480197: I tensorflow/core/common_runtime/bfc_allocator.cc:1066] InUse at 7fea411e0900 of size 256 next 212\n",
      "2022-02-20 12:18:50.480202: I tensorflow/core/common_runtime/bfc_allocator.cc:1066] InUse at 7fea411e0a00 of size 256 next 214\n",
      "2022-02-20 12:18:50.480208: I tensorflow/core/common_runtime/bfc_allocator.cc:1066] InUse at 7fea411e0b00 of size 256 next 215\n",
      "2022-02-20 12:18:50.480213: I tensorflow/core/common_runtime/bfc_allocator.cc:1066] InUse at 7fea411e0c00 of size 256 next 225\n",
      "2022-02-20 12:18:50.480218: I tensorflow/core/common_runtime/bfc_allocator.cc:1066] InUse at 7fea411e0d00 of size 256 next 226\n",
      "2022-02-20 12:18:50.480224: I tensorflow/core/common_runtime/bfc_allocator.cc:1066] InUse at 7fea411e0e00 of size 256 next 227\n",
      "2022-02-20 12:18:50.480229: I tensorflow/core/common_runtime/bfc_allocator.cc:1066] InUse at 7fea411e0f00 of size 256 next 230\n",
      "2022-02-20 12:18:50.480234: I tensorflow/core/common_runtime/bfc_allocator.cc:1066] InUse at 7fea411e1000 of size 256 next 232\n",
      "2022-02-20 12:18:50.480240: I tensorflow/core/common_runtime/bfc_allocator.cc:1066] InUse at 7fea411e1100 of size 256 next 233\n",
      "2022-02-20 12:18:50.480245: I tensorflow/core/common_runtime/bfc_allocator.cc:1066] InUse at 7fea411e1200 of size 256 next 234\n",
      "2022-02-20 12:18:50.480250: I tensorflow/core/common_runtime/bfc_allocator.cc:1066] InUse at 7fea411e1300 of size 256 next 235\n",
      "2022-02-20 12:18:50.480255: I tensorflow/core/common_runtime/bfc_allocator.cc:1066] InUse at 7fea411e1400 of size 256 next 236\n",
      "2022-02-20 12:18:50.480260: I tensorflow/core/common_runtime/bfc_allocator.cc:1066] InUse at 7fea411e1500 of size 256 next 210\n",
      "2022-02-20 12:18:50.480265: I tensorflow/core/common_runtime/bfc_allocator.cc:1066] InUse at 7fea411e1600 of size 3328 next 211\n",
      "2022-02-20 12:18:50.480271: I tensorflow/core/common_runtime/bfc_allocator.cc:1066] InUse at 7fea411e2300 of size 3328 next 213\n",
      "2022-02-20 12:18:50.480276: I tensorflow/core/common_runtime/bfc_allocator.cc:1066] InUse at 7fea411e3000 of size 1280 next 216\n",
      "2022-02-20 12:18:50.480282: I tensorflow/core/common_runtime/bfc_allocator.cc:1066] InUse at 7fea411e3500 of size 256 next 217\n",
      "2022-02-20 12:18:50.480287: I tensorflow/core/common_runtime/bfc_allocator.cc:1066] InUse at 7fea411e3600 of size 512 next 218\n",
      "2022-02-20 12:18:50.480292: I tensorflow/core/common_runtime/bfc_allocator.cc:1066] InUse at 7fea411e3800 of size 512 next 222\n",
      "2022-02-20 12:18:50.480298: I tensorflow/core/common_runtime/bfc_allocator.cc:1066] InUse at 7fea411e3a00 of size 768 next 125\n",
      "2022-02-20 12:18:50.480303: I tensorflow/core/common_runtime/bfc_allocator.cc:1066] InUse at 7fea411e3d00 of size 20224 next 141\n",
      "2022-02-20 12:18:50.480309: I tensorflow/core/common_runtime/bfc_allocator.cc:1066] InUse at 7fea411e8c00 of size 20224 next 156\n",
      "2022-02-20 12:18:50.480314: I tensorflow/core/common_runtime/bfc_allocator.cc:1066] InUse at 7fea411edb00 of size 20224 next 157\n",
      "2022-02-20 12:18:50.480320: I tensorflow/core/common_runtime/bfc_allocator.cc:1066] InUse at 7fea411f2a00 of size 23040 next 155\n",
      "2022-02-20 12:18:50.480326: I tensorflow/core/common_runtime/bfc_allocator.cc:1066] InUse at 7fea411f8400 of size 51968 next 154\n",
      "2022-02-20 12:18:50.480331: I tensorflow/core/common_runtime/bfc_allocator.cc:1066] InUse at 7fea41204f00 of size 20224 next 174\n",
      "2022-02-20 12:18:50.480336: I tensorflow/core/common_runtime/bfc_allocator.cc:1066] InUse at 7fea41209e00 of size 20224 next 178\n",
      "2022-02-20 12:18:50.480342: I tensorflow/core/common_runtime/bfc_allocator.cc:1066] InUse at 7fea4120ed00 of size 20224 next 180\n",
      "2022-02-20 12:18:50.480347: I tensorflow/core/common_runtime/bfc_allocator.cc:1066] InUse at 7fea41213c00 of size 20224 next 182\n",
      "2022-02-20 12:18:50.480352: I tensorflow/core/common_runtime/bfc_allocator.cc:1066] InUse at 7fea41218b00 of size 23040 next 176\n",
      "2022-02-20 12:18:50.480358: I tensorflow/core/common_runtime/bfc_allocator.cc:1066] InUse at 7fea4121e500 of size 51968 next 175\n",
      "2022-02-20 12:18:50.480363: I tensorflow/core/common_runtime/bfc_allocator.cc:1066] InUse at 7fea4122b000 of size 20224 next 199\n",
      "2022-02-20 12:18:50.480369: I tensorflow/core/common_runtime/bfc_allocator.cc:1066] InUse at 7fea4122ff00 of size 20224 next 202\n",
      "2022-02-20 12:18:50.480374: I tensorflow/core/common_runtime/bfc_allocator.cc:1066] InUse at 7fea41234e00 of size 20224 next 204\n",
      "2022-02-20 12:18:50.480379: I tensorflow/core/common_runtime/bfc_allocator.cc:1066] InUse at 7fea41239d00 of size 20224 next 206\n",
      "2022-02-20 12:18:50.480384: I tensorflow/core/common_runtime/bfc_allocator.cc:1066] InUse at 7fea4123ec00 of size 23040 next 201\n",
      "2022-02-20 12:18:50.480390: I tensorflow/core/common_runtime/bfc_allocator.cc:1066] InUse at 7fea41244600 of size 51968 next 200\n",
      "2022-02-20 12:18:50.480395: I tensorflow/core/common_runtime/bfc_allocator.cc:1066] InUse at 7fea41251100 of size 20224 next 221\n",
      "2022-02-20 12:18:50.480400: I tensorflow/core/common_runtime/bfc_allocator.cc:1066] InUse at 7fea41256000 of size 20224 next 223\n",
      "2022-02-20 12:18:50.480406: I tensorflow/core/common_runtime/bfc_allocator.cc:1066] InUse at 7fea4125af00 of size 20224 next 224\n",
      "2022-02-20 12:18:50.480411: I tensorflow/core/common_runtime/bfc_allocator.cc:1066] InUse at 7fea4125fe00 of size 256 next 286\n",
      "2022-02-20 12:18:50.480417: I tensorflow/core/common_runtime/bfc_allocator.cc:1066] InUse at 7fea4125ff00 of size 256 next 287\n",
      "2022-02-20 12:18:50.480422: I tensorflow/core/common_runtime/bfc_allocator.cc:1066] InUse at 7fea41260000 of size 256 next 288\n",
      "2022-02-20 12:18:50.480427: I tensorflow/core/common_runtime/bfc_allocator.cc:1066] InUse at 7fea41260100 of size 256 next 284\n",
      "2022-02-20 12:18:50.480432: I tensorflow/core/common_runtime/bfc_allocator.cc:1066] InUse at 7fea41260200 of size 1024 next 285\n",
      "2022-02-20 12:18:50.480438: I tensorflow/core/common_runtime/bfc_allocator.cc:1066] InUse at 7fea41260600 of size 18176 next 247\n",
      "2022-02-20 12:18:50.480443: I tensorflow/core/common_runtime/bfc_allocator.cc:1066] InUse at 7fea41264d00 of size 23040 next 220\n",
      "2022-02-20 12:18:50.480448: I tensorflow/core/common_runtime/bfc_allocator.cc:1066] InUse at 7fea4126a700 of size 51968 next 219\n",
      "2022-02-20 12:18:50.480453: I tensorflow/core/common_runtime/bfc_allocator.cc:1066] InUse at 7fea41277200 of size 20224 next 244\n",
      "2022-02-20 12:18:50.480458: I tensorflow/core/common_runtime/bfc_allocator.cc:1066] InUse at 7fea4127c100 of size 20224 next 249\n",
      "2022-02-20 12:18:50.480463: I tensorflow/core/common_runtime/bfc_allocator.cc:1066] InUse at 7fea41281000 of size 20224 next 251\n",
      "2022-02-20 12:18:50.480468: I tensorflow/core/common_runtime/bfc_allocator.cc:1066] InUse at 7fea41285f00 of size 20224 next 269\n",
      "2022-02-20 12:18:50.480473: I tensorflow/core/common_runtime/bfc_allocator.cc:1066] InUse at 7fea4128ae00 of size 23040 next 246\n",
      "2022-02-20 12:18:50.480479: I tensorflow/core/common_runtime/bfc_allocator.cc:1066] InUse at 7fea41290800 of size 51968 next 245\n",
      "2022-02-20 12:18:50.480484: I tensorflow/core/common_runtime/bfc_allocator.cc:1066] InUse at 7fea4129d300 of size 20224 next 273\n",
      "2022-02-20 12:18:50.480489: I tensorflow/core/common_runtime/bfc_allocator.cc:1066] InUse at 7fea412a2200 of size 20224 next 275\n",
      "2022-02-20 12:18:50.480495: I tensorflow/core/common_runtime/bfc_allocator.cc:1066] InUse at 7fea412a7100 of size 3328 next 362\n",
      "2022-02-20 12:18:50.480500: I tensorflow/core/common_runtime/bfc_allocator.cc:1066] InUse at 7fea412a7e00 of size 256 next 349\n",
      "2022-02-20 12:18:50.480505: I tensorflow/core/common_runtime/bfc_allocator.cc:1066] InUse at 7fea412a7f00 of size 256 next 370\n",
      "2022-02-20 12:18:50.480511: I tensorflow/core/common_runtime/bfc_allocator.cc:1066] InUse at 7fea412a8000 of size 256 next 371\n",
      "2022-02-20 12:18:50.480516: I tensorflow/core/common_runtime/bfc_allocator.cc:1066] InUse at 7fea412a8100 of size 256 next 373\n",
      "2022-02-20 12:18:50.480521: I tensorflow/core/common_runtime/bfc_allocator.cc:1066] InUse at 7fea412a8200 of size 256 next 369\n",
      "2022-02-20 12:18:50.480527: I tensorflow/core/common_runtime/bfc_allocator.cc:1066] InUse at 7fea412a8300 of size 256 next 379\n",
      "2022-02-20 12:18:50.480532: I tensorflow/core/common_runtime/bfc_allocator.cc:1066] InUse at 7fea412a8400 of size 256 next 377\n",
      "2022-02-20 12:18:50.480537: I tensorflow/core/common_runtime/bfc_allocator.cc:1066] InUse at 7fea412a8500 of size 256 next 381\n",
      "2022-02-20 12:18:50.480542: I tensorflow/core/common_runtime/bfc_allocator.cc:1066] InUse at 7fea412a8600 of size 256 next 383\n",
      "2022-02-20 12:18:50.480548: I tensorflow/core/common_runtime/bfc_allocator.cc:1066] InUse at 7fea412a8700 of size 256 next 366\n",
      "2022-02-20 12:18:50.480553: I tensorflow/core/common_runtime/bfc_allocator.cc:1066] InUse at 7fea412a8800 of size 512 next 372\n",
      "2022-02-20 12:18:50.480558: I tensorflow/core/common_runtime/bfc_allocator.cc:1066] InUse at 7fea412a8a00 of size 256 next 378\n",
      "2022-02-20 12:18:50.480563: I tensorflow/core/common_runtime/bfc_allocator.cc:1066] InUse at 7fea412a8b00 of size 256 next 359\n",
      "2022-02-20 12:18:50.480568: I tensorflow/core/common_runtime/bfc_allocator.cc:1066] InUse at 7fea412a8c00 of size 3328 next 348\n",
      "2022-02-20 12:18:50.480574: I tensorflow/core/common_runtime/bfc_allocator.cc:1066] InUse at 7fea412a9900 of size 10240 next 353\n",
      "2022-02-20 12:18:50.480579: I tensorflow/core/common_runtime/bfc_allocator.cc:1066] InUse at 7fea412ac100 of size 12032 next 376\n",
      "2022-02-20 12:18:50.480584: I tensorflow/core/common_runtime/bfc_allocator.cc:1066] InUse at 7fea412af000 of size 10240 next 380\n",
      "2022-02-20 12:18:50.480590: I tensorflow/core/common_runtime/bfc_allocator.cc:1066] InUse at 7fea412b1800 of size 10240 next 382\n",
      "2022-02-20 12:18:50.480595: I tensorflow/core/common_runtime/bfc_allocator.cc:1066] InUse at 7fea412b4000 of size 10496 next 270\n",
      "2022-02-20 12:18:50.480601: I tensorflow/core/common_runtime/bfc_allocator.cc:1066] InUse at 7fea412b6900 of size 51968 next 271\n",
      "2022-02-20 12:18:50.480606: I tensorflow/core/common_runtime/bfc_allocator.cc:1066] InUse at 7fea412c3400 of size 20224 next 291\n",
      "2022-02-20 12:18:50.480611: I tensorflow/core/common_runtime/bfc_allocator.cc:1066] InUse at 7fea412c8300 of size 512 next 292\n",
      "2022-02-20 12:18:50.480617: I tensorflow/core/common_runtime/bfc_allocator.cc:1066] InUse at 7fea412c8500 of size 20224 next 293\n",
      "2022-02-20 12:18:50.480622: I tensorflow/core/common_runtime/bfc_allocator.cc:1066] InUse at 7fea412cd400 of size 512 next 294\n",
      "2022-02-20 12:18:50.480628: I tensorflow/core/common_runtime/bfc_allocator.cc:1066] InUse at 7fea412cd600 of size 20224 next 295\n",
      "2022-02-20 12:18:50.480633: I tensorflow/core/common_runtime/bfc_allocator.cc:1066] InUse at 7fea412d2500 of size 1024 next 296\n",
      "2022-02-20 12:18:50.480638: I tensorflow/core/common_runtime/bfc_allocator.cc:1066] InUse at 7fea412d2900 of size 256 next 297\n",
      "2022-02-20 12:18:50.480643: I tensorflow/core/common_runtime/bfc_allocator.cc:1066] InUse at 7fea412d2a00 of size 1024 next 298\n",
      "2022-02-20 12:18:50.480649: I tensorflow/core/common_runtime/bfc_allocator.cc:1066] InUse at 7fea412d2e00 of size 256 next 299\n",
      "2022-02-20 12:18:50.480654: I tensorflow/core/common_runtime/bfc_allocator.cc:1066] InUse at 7fea412d2f00 of size 256 next 300\n",
      "2022-02-20 12:18:50.480659: I tensorflow/core/common_runtime/bfc_allocator.cc:1066] InUse at 7fea412d3000 of size 256 next 301\n",
      "2022-02-20 12:18:50.480665: I tensorflow/core/common_runtime/bfc_allocator.cc:1066] InUse at 7fea412d3100 of size 256 next 302\n",
      "2022-02-20 12:18:50.480670: I tensorflow/core/common_runtime/bfc_allocator.cc:1066] InUse at 7fea412d3200 of size 256 next 303\n",
      "2022-02-20 12:18:50.480675: I tensorflow/core/common_runtime/bfc_allocator.cc:1066] InUse at 7fea412d3300 of size 1024 next 304\n",
      "2022-02-20 12:18:50.480680: I tensorflow/core/common_runtime/bfc_allocator.cc:1066] InUse at 7fea412d3700 of size 256 next 305\n",
      "2022-02-20 12:18:50.480685: I tensorflow/core/common_runtime/bfc_allocator.cc:1066] InUse at 7fea412d3800 of size 256 next 306\n",
      "2022-02-20 12:18:50.480691: I tensorflow/core/common_runtime/bfc_allocator.cc:1066] InUse at 7fea412d3900 of size 256 next 307\n",
      "2022-02-20 12:18:50.480696: I tensorflow/core/common_runtime/bfc_allocator.cc:1066] InUse at 7fea412d3a00 of size 256 next 352\n",
      "2022-02-20 12:18:50.480701: I tensorflow/core/common_runtime/bfc_allocator.cc:1066] InUse at 7fea412d3b00 of size 256 next 357\n",
      "2022-02-20 12:18:50.480707: I tensorflow/core/common_runtime/bfc_allocator.cc:1066] InUse at 7fea412d3c00 of size 256 next 358\n",
      "2022-02-20 12:18:50.480712: I tensorflow/core/common_runtime/bfc_allocator.cc:1066] InUse at 7fea412d3d00 of size 256 next 356\n",
      "2022-02-20 12:18:50.480718: I tensorflow/core/common_runtime/bfc_allocator.cc:1066] InUse at 7fea412d3e00 of size 3328 next 388\n",
      "2022-02-20 12:18:50.480723: I tensorflow/core/common_runtime/bfc_allocator.cc:1066] InUse at 7fea412d4b00 of size 5888 next 347\n",
      "2022-02-20 12:18:50.480729: I tensorflow/core/common_runtime/bfc_allocator.cc:1066] InUse at 7fea412d6200 of size 10240 next 355\n",
      "2022-02-20 12:18:50.480734: I tensorflow/core/common_runtime/bfc_allocator.cc:1066] InUse at 7fea412d8a00 of size 10240 next 354\n",
      "2022-02-20 12:18:50.480739: I tensorflow/core/common_runtime/bfc_allocator.cc:1066] InUse at 7fea412db200 of size 10240 next 368\n",
      "2022-02-20 12:18:50.480744: I tensorflow/core/common_runtime/bfc_allocator.cc:1066] InUse at 7fea412dda00 of size 4096 next 374\n",
      "2022-02-20 12:18:50.480749: I tensorflow/core/common_runtime/bfc_allocator.cc:1066] InUse at 7fea412dea00 of size 256 next 385\n",
      "2022-02-20 12:18:50.480754: I tensorflow/core/common_runtime/bfc_allocator.cc:1066] InUse at 7fea412deb00 of size 3328 next 386\n",
      "2022-02-20 12:18:50.480759: I tensorflow/core/common_runtime/bfc_allocator.cc:1066] InUse at 7fea412df800 of size 256 next 387\n",
      "2022-02-20 12:18:50.480765: I tensorflow/core/common_runtime/bfc_allocator.cc:1066] InUse at 7fea412df900 of size 256 next 389\n",
      "2022-02-20 12:18:50.480770: I tensorflow/core/common_runtime/bfc_allocator.cc:1066] InUse at 7fea412dfa00 of size 256 next 390\n",
      "2022-02-20 12:18:50.480775: I tensorflow/core/common_runtime/bfc_allocator.cc:1066] InUse at 7fea412dfb00 of size 256 next 391\n",
      "2022-02-20 12:18:50.480780: I tensorflow/core/common_runtime/bfc_allocator.cc:1066] InUse at 7fea412dfc00 of size 256 next 392\n",
      "2022-02-20 12:18:50.480786: I tensorflow/core/common_runtime/bfc_allocator.cc:1066] InUse at 7fea412dfd00 of size 256 next 393\n",
      "2022-02-20 12:18:50.480791: I tensorflow/core/common_runtime/bfc_allocator.cc:1066] InUse at 7fea412dfe00 of size 256 next 394\n",
      "2022-02-20 12:18:50.480797: I tensorflow/core/common_runtime/bfc_allocator.cc:1066] InUse at 7fea412dff00 of size 512 next 395\n",
      "2022-02-20 12:18:50.480802: I tensorflow/core/common_runtime/bfc_allocator.cc:1066] InUse at 7fea412e0100 of size 256 next 396\n",
      "2022-02-20 12:18:50.480808: I tensorflow/core/common_runtime/bfc_allocator.cc:1066] InUse at 7fea412e0200 of size 256 next 399\n",
      "2022-02-20 12:18:50.480813: I tensorflow/core/common_runtime/bfc_allocator.cc:1066] InUse at 7fea412e0300 of size 256 next 401\n",
      "2022-02-20 12:18:50.480819: I tensorflow/core/common_runtime/bfc_allocator.cc:1066] InUse at 7fea412e0400 of size 256 next 308\n",
      "2022-02-20 12:18:50.480824: I tensorflow/core/common_runtime/bfc_allocator.cc:1066] InUse at 7fea412e0500 of size 20224 next 309\n",
      "2022-02-20 12:18:50.480829: I tensorflow/core/common_runtime/bfc_allocator.cc:1066] InUse at 7fea412e5400 of size 512 next 310\n",
      "2022-02-20 12:18:50.480834: I tensorflow/core/common_runtime/bfc_allocator.cc:1066] InUse at 7fea412e5600 of size 20224 next 311\n",
      "2022-02-20 12:18:50.480840: I tensorflow/core/common_runtime/bfc_allocator.cc:1066] InUse at 7fea412ea500 of size 512 next 312\n",
      "2022-02-20 12:18:50.480845: I tensorflow/core/common_runtime/bfc_allocator.cc:1066] InUse at 7fea412ea700 of size 20224 next 313\n",
      "2022-02-20 12:18:50.480851: I tensorflow/core/common_runtime/bfc_allocator.cc:1066] InUse at 7fea412ef600 of size 512 next 314\n",
      "2022-02-20 12:18:50.480856: I tensorflow/core/common_runtime/bfc_allocator.cc:1066] InUse at 7fea412ef800 of size 20224 next 315\n",
      "2022-02-20 12:18:50.480861: I tensorflow/core/common_runtime/bfc_allocator.cc:1066] InUse at 7fea412f4700 of size 256 next 316\n",
      "2022-02-20 12:18:50.480867: I tensorflow/core/common_runtime/bfc_allocator.cc:1066] InUse at 7fea412f4800 of size 1024 next 317\n",
      "2022-02-20 12:18:50.480873: I tensorflow/core/common_runtime/bfc_allocator.cc:1066] InUse at 7fea412f4c00 of size 256 next 318\n",
      "2022-02-20 12:18:50.480878: I tensorflow/core/common_runtime/bfc_allocator.cc:1066] InUse at 7fea412f4d00 of size 1024 next 319\n",
      "2022-02-20 12:18:50.480884: I tensorflow/core/common_runtime/bfc_allocator.cc:1066] InUse at 7fea412f5100 of size 256 next 320\n",
      "2022-02-20 12:18:50.480889: I tensorflow/core/common_runtime/bfc_allocator.cc:1066] InUse at 7fea412f5200 of size 256 next 321\n",
      "2022-02-20 12:18:50.480894: I tensorflow/core/common_runtime/bfc_allocator.cc:1066] InUse at 7fea412f5300 of size 256 next 322\n",
      "2022-02-20 12:18:50.480899: I tensorflow/core/common_runtime/bfc_allocator.cc:1066] InUse at 7fea412f5400 of size 256 next 323\n",
      "2022-02-20 12:18:50.480904: I tensorflow/core/common_runtime/bfc_allocator.cc:1066] InUse at 7fea412f5500 of size 256 next 324\n",
      "2022-02-20 12:18:50.480909: I tensorflow/core/common_runtime/bfc_allocator.cc:1066] InUse at 7fea412f5600 of size 1024 next 325\n",
      "2022-02-20 12:18:50.480915: I tensorflow/core/common_runtime/bfc_allocator.cc:1066] InUse at 7fea412f5a00 of size 256 next 326\n",
      "2022-02-20 12:18:50.480920: I tensorflow/core/common_runtime/bfc_allocator.cc:1066] InUse at 7fea412f5b00 of size 256 next 327\n",
      "2022-02-20 12:18:50.480925: I tensorflow/core/common_runtime/bfc_allocator.cc:1066] InUse at 7fea412f5c00 of size 256 next 328\n",
      "2022-02-20 12:18:50.480931: I tensorflow/core/common_runtime/bfc_allocator.cc:1066] InUse at 7fea412f5d00 of size 256 next 329\n",
      "2022-02-20 12:18:50.480936: I tensorflow/core/common_runtime/bfc_allocator.cc:1066] InUse at 7fea412f5e00 of size 256 next 330\n",
      "2022-02-20 12:18:50.480942: I tensorflow/core/common_runtime/bfc_allocator.cc:1066] InUse at 7fea412f5f00 of size 256 next 331\n",
      "2022-02-20 12:18:50.480947: I tensorflow/core/common_runtime/bfc_allocator.cc:1066] InUse at 7fea412f6000 of size 256 next 332\n",
      "2022-02-20 12:18:50.480953: I tensorflow/core/common_runtime/bfc_allocator.cc:1066] InUse at 7fea412f6100 of size 256 next 333\n",
      "2022-02-20 12:18:50.480958: I tensorflow/core/common_runtime/bfc_allocator.cc:1066] InUse at 7fea412f6200 of size 256 next 334\n",
      "2022-02-20 12:18:50.480964: I tensorflow/core/common_runtime/bfc_allocator.cc:1066] InUse at 7fea412f6300 of size 256 next 335\n",
      "2022-02-20 12:18:50.480969: I tensorflow/core/common_runtime/bfc_allocator.cc:1066] InUse at 7fea412f6400 of size 256 next 336\n",
      "2022-02-20 12:18:50.480974: I tensorflow/core/common_runtime/bfc_allocator.cc:1066] InUse at 7fea412f6500 of size 256 next 337\n",
      "2022-02-20 12:18:50.480980: I tensorflow/core/common_runtime/bfc_allocator.cc:1066] InUse at 7fea412f6600 of size 256 next 338\n",
      "2022-02-20 12:18:50.480985: I tensorflow/core/common_runtime/bfc_allocator.cc:1066] InUse at 7fea412f6700 of size 256 next 339\n",
      "2022-02-20 12:18:50.480991: I tensorflow/core/common_runtime/bfc_allocator.cc:1066] InUse at 7fea412f6800 of size 256 next 341\n",
      "2022-02-20 12:18:50.480996: I tensorflow/core/common_runtime/bfc_allocator.cc:1066] InUse at 7fea412f6900 of size 256 next 342\n",
      "2022-02-20 12:18:50.481001: I tensorflow/core/common_runtime/bfc_allocator.cc:1066] InUse at 7fea412f6a00 of size 256 next 343\n",
      "2022-02-20 12:18:50.481007: I tensorflow/core/common_runtime/bfc_allocator.cc:1066] InUse at 7fea412f6b00 of size 256 next 345\n",
      "2022-02-20 12:18:50.481012: I tensorflow/core/common_runtime/bfc_allocator.cc:1066] InUse at 7fea412f6c00 of size 256 next 364\n",
      "2022-02-20 12:18:50.481017: I tensorflow/core/common_runtime/bfc_allocator.cc:1066] InUse at 7fea412f6d00 of size 256 next 351\n",
      "2022-02-20 12:18:50.481023: I tensorflow/core/common_runtime/bfc_allocator.cc:1066] InUse at 7fea412f6e00 of size 256 next 361\n",
      "2022-02-20 12:18:50.481028: I tensorflow/core/common_runtime/bfc_allocator.cc:1066] InUse at 7fea412f6f00 of size 256 next 367\n",
      "2022-02-20 12:18:50.481033: I tensorflow/core/common_runtime/bfc_allocator.cc:1066] InUse at 7fea412f7000 of size 256 next 365\n",
      "2022-02-20 12:18:50.481038: I tensorflow/core/common_runtime/bfc_allocator.cc:1066] InUse at 7fea412f7100 of size 256 next 350\n",
      "2022-02-20 12:18:50.481044: I tensorflow/core/common_runtime/bfc_allocator.cc:1066] InUse at 7fea412f7200 of size 51968 next 360\n",
      "2022-02-20 12:18:50.481050: I tensorflow/core/common_runtime/bfc_allocator.cc:1066] InUse at 7fea41303d00 of size 67072 next 346\n",
      "2022-02-20 12:18:50.481055: I tensorflow/core/common_runtime/bfc_allocator.cc:1066] InUse at 7fea41314300 of size 51968 next 363\n",
      "2022-02-20 12:18:50.481061: I tensorflow/core/common_runtime/bfc_allocator.cc:1066] InUse at 7fea41320e00 of size 256 next 449\n",
      "2022-02-20 12:18:50.481066: I tensorflow/core/common_runtime/bfc_allocator.cc:1066] InUse at 7fea41320f00 of size 256 next 452\n",
      "2022-02-20 12:18:50.481071: I tensorflow/core/common_runtime/bfc_allocator.cc:1066] Free  at 7fea41321000 of size 256 next 453\n",
      "2022-02-20 12:18:50.481077: I tensorflow/core/common_runtime/bfc_allocator.cc:1066] InUse at 7fea41321100 of size 256 next 454\n",
      "2022-02-20 12:18:50.481082: I tensorflow/core/common_runtime/bfc_allocator.cc:1066] InUse at 7fea41321200 of size 512 next 460\n",
      "2022-02-20 12:18:50.481088: I tensorflow/core/common_runtime/bfc_allocator.cc:1066] Free  at 7fea41321400 of size 50432 next 375\n",
      "2022-02-20 12:18:50.481093: I tensorflow/core/common_runtime/bfc_allocator.cc:1066] InUse at 7fea4132d900 of size 10240 next 384\n",
      "2022-02-20 12:18:50.481098: I tensorflow/core/common_runtime/bfc_allocator.cc:1066] Free  at 7fea41330100 of size 51968 next 397\n",
      "2022-02-20 12:18:50.481104: I tensorflow/core/common_runtime/bfc_allocator.cc:1066] InUse at 7fea4133cc00 of size 10240 next 398\n",
      "2022-02-20 12:18:50.481109: I tensorflow/core/common_runtime/bfc_allocator.cc:1066] InUse at 7fea4133f400 of size 10240 next 400\n",
      "2022-02-20 12:18:50.481115: I tensorflow/core/common_runtime/bfc_allocator.cc:1066] InUse at 7fea41341c00 of size 10240 next 402\n",
      "2022-02-20 12:18:50.481120: I tensorflow/core/common_runtime/bfc_allocator.cc:1066] InUse at 7fea41344400 of size 10240 next 403\n",
      "2022-02-20 12:18:50.481125: I tensorflow/core/common_runtime/bfc_allocator.cc:1066] InUse at 7fea41346c00 of size 256 next 404\n",
      "2022-02-20 12:18:50.481131: I tensorflow/core/common_runtime/bfc_allocator.cc:1066] InUse at 7fea41346d00 of size 3328 next 405\n",
      "2022-02-20 12:18:50.481136: I tensorflow/core/common_runtime/bfc_allocator.cc:1066] InUse at 7fea41347a00 of size 256 next 406\n",
      "2022-02-20 12:18:50.481142: I tensorflow/core/common_runtime/bfc_allocator.cc:1066] InUse at 7fea41347b00 of size 3328 next 407\n",
      "2022-02-20 12:18:50.481147: I tensorflow/core/common_runtime/bfc_allocator.cc:1066] InUse at 7fea41348800 of size 256 next 408\n",
      "2022-02-20 12:18:50.481152: I tensorflow/core/common_runtime/bfc_allocator.cc:1066] InUse at 7fea41348900 of size 256 next 409\n",
      "2022-02-20 12:18:50.481157: I tensorflow/core/common_runtime/bfc_allocator.cc:1066] InUse at 7fea41348a00 of size 256 next 410\n",
      "2022-02-20 12:18:50.481163: I tensorflow/core/common_runtime/bfc_allocator.cc:1066] InUse at 7fea41348b00 of size 256 next 411\n",
      "2022-02-20 12:18:50.481168: I tensorflow/core/common_runtime/bfc_allocator.cc:1066] InUse at 7fea41348c00 of size 256 next 412\n",
      "2022-02-20 12:18:50.481173: I tensorflow/core/common_runtime/bfc_allocator.cc:1066] InUse at 7fea41348d00 of size 4096 next 413\n",
      "2022-02-20 12:18:50.481178: I tensorflow/core/common_runtime/bfc_allocator.cc:1066] InUse at 7fea41349d00 of size 256 next 414\n",
      "2022-02-20 12:18:50.481183: I tensorflow/core/common_runtime/bfc_allocator.cc:1066] InUse at 7fea41349e00 of size 512 next 415\n",
      "2022-02-20 12:18:50.481189: I tensorflow/core/common_runtime/bfc_allocator.cc:1066] InUse at 7fea4134a000 of size 256 next 416\n",
      "2022-02-20 12:18:50.481194: I tensorflow/core/common_runtime/bfc_allocator.cc:1066] InUse at 7fea4134a100 of size 256 next 417\n",
      "2022-02-20 12:18:50.481199: I tensorflow/core/common_runtime/bfc_allocator.cc:1066] InUse at 7fea4134a200 of size 256 next 418\n",
      "2022-02-20 12:18:50.481204: I tensorflow/core/common_runtime/bfc_allocator.cc:1066] InUse at 7fea4134a300 of size 256 next 419\n",
      "2022-02-20 12:18:50.481210: I tensorflow/core/common_runtime/bfc_allocator.cc:1066] InUse at 7fea4134a400 of size 256 next 420\n",
      "2022-02-20 12:18:50.481215: I tensorflow/core/common_runtime/bfc_allocator.cc:1066] InUse at 7fea4134a500 of size 256 next 421\n",
      "2022-02-20 12:18:50.481220: I tensorflow/core/common_runtime/bfc_allocator.cc:1066] InUse at 7fea4134a600 of size 256 next 422\n",
      "2022-02-20 12:18:50.481225: I tensorflow/core/common_runtime/bfc_allocator.cc:1066] InUse at 7fea4134a700 of size 256 next 423\n",
      "2022-02-20 12:18:50.481231: I tensorflow/core/common_runtime/bfc_allocator.cc:1066] InUse at 7fea4134a800 of size 256 next 424\n",
      "2022-02-20 12:18:50.481236: I tensorflow/core/common_runtime/bfc_allocator.cc:1066] InUse at 7fea4134a900 of size 256 next 425\n",
      "2022-02-20 12:18:50.481241: I tensorflow/core/common_runtime/bfc_allocator.cc:1066] InUse at 7fea4134aa00 of size 256 next 426\n",
      "2022-02-20 12:18:50.481246: I tensorflow/core/common_runtime/bfc_allocator.cc:1066] InUse at 7fea4134ab00 of size 256 next 427\n",
      "2022-02-20 12:18:50.481252: I tensorflow/core/common_runtime/bfc_allocator.cc:1066] InUse at 7fea4134ac00 of size 256 next 429\n",
      "2022-02-20 12:18:50.481258: I tensorflow/core/common_runtime/bfc_allocator.cc:1066] InUse at 7fea4134ad00 of size 256 next 430\n",
      "2022-02-20 12:18:50.481263: I tensorflow/core/common_runtime/bfc_allocator.cc:1066] InUse at 7fea4134ae00 of size 256 next 431\n",
      "2022-02-20 12:18:50.481268: I tensorflow/core/common_runtime/bfc_allocator.cc:1066] InUse at 7fea4134af00 of size 256 next 433\n",
      "2022-02-20 12:18:50.481274: I tensorflow/core/common_runtime/bfc_allocator.cc:1066] InUse at 7fea4134b000 of size 256 next 434\n",
      "2022-02-20 12:18:50.481279: I tensorflow/core/common_runtime/bfc_allocator.cc:1066] InUse at 7fea4134b100 of size 256 next 435\n",
      "2022-02-20 12:18:50.481284: I tensorflow/core/common_runtime/bfc_allocator.cc:1066] InUse at 7fea4134b200 of size 256 next 437\n",
      "2022-02-20 12:18:50.481289: I tensorflow/core/common_runtime/bfc_allocator.cc:1066] InUse at 7fea4134b300 of size 256 next 440\n",
      "2022-02-20 12:18:50.481295: I tensorflow/core/common_runtime/bfc_allocator.cc:1066] InUse at 7fea4134b400 of size 256 next 441\n",
      "2022-02-20 12:18:50.481300: I tensorflow/core/common_runtime/bfc_allocator.cc:1066] InUse at 7fea4134b500 of size 256 next 442\n",
      "2022-02-20 12:18:50.481305: I tensorflow/core/common_runtime/bfc_allocator.cc:1066] InUse at 7fea4134b600 of size 256 next 443\n",
      "2022-02-20 12:18:50.481311: I tensorflow/core/common_runtime/bfc_allocator.cc:1066] InUse at 7fea4134b700 of size 256 next 444\n",
      "2022-02-20 12:18:50.481317: I tensorflow/core/common_runtime/bfc_allocator.cc:1066] InUse at 7fea4134b800 of size 61184 next 114\n",
      "2022-02-20 12:18:50.481322: I tensorflow/core/common_runtime/bfc_allocator.cc:1066] InUse at 7fea4135a700 of size 51968 next 135\n",
      "2022-02-20 12:18:50.481328: I tensorflow/core/common_runtime/bfc_allocator.cc:1066] InUse at 7fea41367200 of size 6024448 next 340\n",
      "2022-02-20 12:18:50.481333: I tensorflow/core/common_runtime/bfc_allocator.cc:1066] InUse at 7fea41925f00 of size 6024448 next 344\n",
      "2022-02-20 12:18:50.481338: I tensorflow/core/common_runtime/bfc_allocator.cc:1066] InUse at 7fea41ee4c00 of size 6024448 next 428\n",
      "2022-02-20 12:18:50.481344: I tensorflow/core/common_runtime/bfc_allocator.cc:1066] InUse at 7fea424a3900 of size 6024448 next 432\n",
      "2022-02-20 12:18:50.481349: I tensorflow/core/common_runtime/bfc_allocator.cc:1066] Free  at 7fea42a62600 of size 120576 next 436\n",
      "2022-02-20 12:18:50.481355: I tensorflow/core/common_runtime/bfc_allocator.cc:1066] InUse at 7fea42a7fd00 of size 120576 next 458\n",
      "2022-02-20 12:18:50.481361: I tensorflow/core/common_runtime/bfc_allocator.cc:1066] Free  at 7fea42a9d400 of size 1385728 next 446\n",
      "2022-02-20 12:18:50.481366: I tensorflow/core/common_runtime/bfc_allocator.cc:1066] InUse at 7fea42bef900 of size 51968 next 438\n",
      "2022-02-20 12:18:50.481371: I tensorflow/core/common_runtime/bfc_allocator.cc:1066] Free  at 7fea42bfc400 of size 120576 next 447\n",
      "2022-02-20 12:18:50.481376: I tensorflow/core/common_runtime/bfc_allocator.cc:1066] InUse at 7fea42c19b00 of size 10370048 next 439\n",
      "2022-02-20 12:18:50.481382: I tensorflow/core/common_runtime/bfc_allocator.cc:1066] InUse at 7fea435fd700 of size 6024448 next 445\n",
      "2022-02-20 12:18:50.481387: I tensorflow/core/common_runtime/bfc_allocator.cc:1066] InUse at 7fea43bbc400 of size 6024448 next 448\n",
      "2022-02-20 12:18:50.481392: I tensorflow/core/common_runtime/bfc_allocator.cc:1066] InUse at 7fea4417b100 of size 6024448 next 450\n",
      "2022-02-20 12:18:50.481397: I tensorflow/core/common_runtime/bfc_allocator.cc:1066] InUse at 7fea44739e00 of size 6024448 next 451\n",
      "2022-02-20 12:18:50.481402: I tensorflow/core/common_runtime/bfc_allocator.cc:1066] Free  at 7fea44cf8b00 of size 12048896 next 456\n",
      "2022-02-20 12:18:50.481407: I tensorflow/core/common_runtime/bfc_allocator.cc:1066] InUse at 7fea45876500 of size 6024448 next 457\n",
      "2022-02-20 12:18:50.481413: I tensorflow/core/common_runtime/bfc_allocator.cc:1066] InUse at 7fea45e35200 of size 3641147648 next 466\n",
      "2022-02-20 12:18:50.481419: I tensorflow/core/common_runtime/bfc_allocator.cc:1066] InUse at 7feb1eead300 of size 3629098752 next 467\n",
      "2022-02-20 12:18:50.481424: I tensorflow/core/common_runtime/bfc_allocator.cc:1066] Free  at 7febf73a7a00 of size 3470886400 next 18446744073709551615\n",
      "2022-02-20 12:18:50.481430: I tensorflow/core/common_runtime/bfc_allocator.cc:1071]      Summary of in-use Chunks by size: \n",
      "2022-02-20 12:18:50.481439: I tensorflow/core/common_runtime/bfc_allocator.cc:1074] 269 Chunks of size 256 totalling 67.2KiB\n",
      "2022-02-20 12:18:50.481446: I tensorflow/core/common_runtime/bfc_allocator.cc:1074] 39 Chunks of size 512 totalling 19.5KiB\n",
      "2022-02-20 12:18:50.481452: I tensorflow/core/common_runtime/bfc_allocator.cc:1074] 5 Chunks of size 768 totalling 3.8KiB\n",
      "2022-02-20 12:18:50.481459: I tensorflow/core/common_runtime/bfc_allocator.cc:1074] 10 Chunks of size 1024 totalling 10.0KiB\n",
      "2022-02-20 12:18:50.481465: I tensorflow/core/common_runtime/bfc_allocator.cc:1074] 3 Chunks of size 1280 totalling 3.8KiB\n",
      "2022-02-20 12:18:50.481471: I tensorflow/core/common_runtime/bfc_allocator.cc:1074] 1 Chunks of size 1792 totalling 1.8KiB\n",
      "2022-02-20 12:18:50.481477: I tensorflow/core/common_runtime/bfc_allocator.cc:1074] 1 Chunks of size 2048 totalling 2.0KiB\n",
      "2022-02-20 12:18:50.481483: I tensorflow/core/common_runtime/bfc_allocator.cc:1074] 1 Chunks of size 2816 totalling 2.8KiB\n",
      "2022-02-20 12:18:50.481490: I tensorflow/core/common_runtime/bfc_allocator.cc:1074] 22 Chunks of size 3328 totalling 71.5KiB\n",
      "2022-02-20 12:18:50.481496: I tensorflow/core/common_runtime/bfc_allocator.cc:1074] 6 Chunks of size 4096 totalling 24.0KiB\n",
      "2022-02-20 12:18:50.481502: I tensorflow/core/common_runtime/bfc_allocator.cc:1074] 1 Chunks of size 5888 totalling 5.8KiB\n",
      "2022-02-20 12:18:50.481509: I tensorflow/core/common_runtime/bfc_allocator.cc:1074] 11 Chunks of size 10240 totalling 110.0KiB\n",
      "2022-02-20 12:18:50.481515: I tensorflow/core/common_runtime/bfc_allocator.cc:1074] 1 Chunks of size 10496 totalling 10.2KiB\n",
      "2022-02-20 12:18:50.481521: I tensorflow/core/common_runtime/bfc_allocator.cc:1074] 3 Chunks of size 12032 totalling 35.2KiB\n",
      "2022-02-20 12:18:50.481528: I tensorflow/core/common_runtime/bfc_allocator.cc:1074] 1 Chunks of size 18176 totalling 17.8KiB\n",
      "2022-02-20 12:18:50.481534: I tensorflow/core/common_runtime/bfc_allocator.cc:1074] 40 Chunks of size 20224 totalling 790.0KiB\n",
      "2022-02-20 12:18:50.481540: I tensorflow/core/common_runtime/bfc_allocator.cc:1074] 1 Chunks of size 22016 totalling 21.5KiB\n",
      "2022-02-20 12:18:50.481547: I tensorflow/core/common_runtime/bfc_allocator.cc:1074] 5 Chunks of size 23040 totalling 112.5KiB\n",
      "2022-02-20 12:18:50.481553: I tensorflow/core/common_runtime/bfc_allocator.cc:1074] 1 Chunks of size 36864 totalling 36.0KiB\n",
      "2022-02-20 12:18:50.481560: I tensorflow/core/common_runtime/bfc_allocator.cc:1074] 1 Chunks of size 39936 totalling 39.0KiB\n",
      "2022-02-20 12:18:50.481566: I tensorflow/core/common_runtime/bfc_allocator.cc:1074] 13 Chunks of size 51968 totalling 659.8KiB\n",
      "2022-02-20 12:18:50.481572: I tensorflow/core/common_runtime/bfc_allocator.cc:1074] 1 Chunks of size 61184 totalling 59.8KiB\n",
      "2022-02-20 12:18:50.481579: I tensorflow/core/common_runtime/bfc_allocator.cc:1074] 1 Chunks of size 67072 totalling 65.5KiB\n",
      "2022-02-20 12:18:50.481585: I tensorflow/core/common_runtime/bfc_allocator.cc:1074] 1 Chunks of size 120576 totalling 117.8KiB\n",
      "2022-02-20 12:18:50.481592: I tensorflow/core/common_runtime/bfc_allocator.cc:1074] 12 Chunks of size 6024448 totalling 68.94MiB\n",
      "2022-02-20 12:18:50.481598: I tensorflow/core/common_runtime/bfc_allocator.cc:1074] 1 Chunks of size 10370048 totalling 9.89MiB\n",
      "2022-02-20 12:18:50.481605: I tensorflow/core/common_runtime/bfc_allocator.cc:1074] 1 Chunks of size 3629098752 totalling 3.38GiB\n",
      "2022-02-20 12:18:50.481611: I tensorflow/core/common_runtime/bfc_allocator.cc:1074] 1 Chunks of size 3641147648 totalling 3.39GiB\n",
      "2022-02-20 12:18:50.481617: I tensorflow/core/common_runtime/bfc_allocator.cc:1078] Sum Total of in-use chunks: 6.85GiB\n",
      "2022-02-20 12:18:50.481623: I tensorflow/core/common_runtime/bfc_allocator.cc:1080] total_region_allocated_bytes_: 10839916544 memory_limit_: 10839916544 available bytes: 0 curr_region_allocation_bytes_: 21679833088\n",
      "2022-02-20 12:18:50.481633: I tensorflow/core/common_runtime/bfc_allocator.cc:1086] Stats: \n",
      "Limit:                     10839916544\n",
      "InUse:                      7355251712\n",
      "MaxInUse:                   7385602816\n",
      "NumAllocs:                         873\n",
      "MaxAllocSize:               7258197248\n",
      "Reserved:                            0\n",
      "PeakReserved:                        0\n",
      "LargestFreeBlock:                    0\n",
      "\n",
      "2022-02-20 12:18:50.481664: W tensorflow/core/common_runtime/bfc_allocator.cc:474] ********************************************************************________________________________\n",
      "2022-02-20 12:18:50.481695: W tensorflow/core/framework/op_kernel.cc:1745] OP_REQUIRES failed at softmax_op_gpu.cu.cc:224 : RESOURCE_EXHAUSTED: OOM when allocating tensor with shape[1,1,30121,30121] and type float on /job:localhost/replica:0/task:0/device:GPU:0 by allocator GPU_0_bfc\n"
     ]
    },
    {
     "ename": "ResourceExhaustedError",
     "evalue": " OOM when allocating tensor with shape[1,1,30121,30121] and type float on /job:localhost/replica:0/task:0/device:GPU:0 by allocator GPU_0_bfc\n\t [[node model_8/transformer_block_8/multi_head_attention_8/softmax/Softmax\n (defined at /home/jlw742/tf/lib/python3.8/site-packages/keras/backend.py:4914)\n]]\nHint: If you want to see a list of allocated tensors when OOM happens, add report_tensor_allocations_upon_oom to RunOptions for current allocation info. This isn't available when running in Eager mode.\n [Op:__inference_train_function_8879]\n\nErrors may have originated from an input operation.\nInput Source operations connected to node model_8/transformer_block_8/multi_head_attention_8/softmax/Softmax:\nIn[0] model_8/transformer_block_8/multi_head_attention_8/einsum/Einsum (defined at /home/jlw742/tf/lib/python3.8/site-packages/keras/layers/multi_head_attention.py:465)\n\nOperation defined at: (most recent call last)\n>>>   File \"/home/jlw742/tf/lib/python3.8/runpy.py\", line 194, in _run_module_as_main\n>>>     return _run_code(code, main_globals, None,\n>>> \n>>>   File \"/home/jlw742/tf/lib/python3.8/runpy.py\", line 87, in _run_code\n>>>     exec(code, run_globals)\n>>> \n>>>   File \"/home/jlw742/tf/lib/python3.8/site-packages/ipykernel_launcher.py\", line 16, in <module>\n>>>     app.launch_new_instance()\n>>> \n>>>   File \"/home/jlw742/tf/lib/python3.8/site-packages/traitlets/config/application.py\", line 846, in launch_instance\n>>>     app.start()\n>>> \n>>>   File \"/home/jlw742/tf/lib/python3.8/site-packages/ipykernel/kernelapp.py\", line 677, in start\n>>>     self.io_loop.start()\n>>> \n>>>   File \"/home/jlw742/tf/lib/python3.8/site-packages/tornado/platform/asyncio.py\", line 199, in start\n>>>     self.asyncio_loop.run_forever()\n>>> \n>>>   File \"/home/jlw742/tf/lib/python3.8/asyncio/base_events.py\", line 570, in run_forever\n>>>     self._run_once()\n>>> \n>>>   File \"/home/jlw742/tf/lib/python3.8/asyncio/base_events.py\", line 1859, in _run_once\n>>>     handle._run()\n>>> \n>>>   File \"/home/jlw742/tf/lib/python3.8/asyncio/events.py\", line 81, in _run\n>>>     self._context.run(self._callback, *self._args)\n>>> \n>>>   File \"/home/jlw742/tf/lib/python3.8/site-packages/ipykernel/kernelbase.py\", line 457, in dispatch_queue\n>>>     await self.process_one()\n>>> \n>>>   File \"/home/jlw742/tf/lib/python3.8/site-packages/ipykernel/kernelbase.py\", line 446, in process_one\n>>>     await dispatch(*args)\n>>> \n>>>   File \"/home/jlw742/tf/lib/python3.8/site-packages/ipykernel/kernelbase.py\", line 353, in dispatch_shell\n>>>     await result\n>>> \n>>>   File \"/home/jlw742/tf/lib/python3.8/site-packages/ipykernel/kernelbase.py\", line 648, in execute_request\n>>>     reply_content = await reply_content\n>>> \n>>>   File \"/home/jlw742/tf/lib/python3.8/site-packages/ipykernel/ipkernel.py\", line 353, in do_execute\n>>>     res = shell.run_cell(code, store_history=store_history, silent=silent)\n>>> \n>>>   File \"/home/jlw742/tf/lib/python3.8/site-packages/ipykernel/zmqshell.py\", line 533, in run_cell\n>>>     return super(ZMQInteractiveShell, self).run_cell(*args, **kwargs)\n>>> \n>>>   File \"/home/jlw742/tf/lib/python3.8/site-packages/IPython/core/interactiveshell.py\", line 2898, in run_cell\n>>>     result = self._run_cell(\n>>> \n>>>   File \"/home/jlw742/tf/lib/python3.8/site-packages/IPython/core/interactiveshell.py\", line 2944, in _run_cell\n>>>     return runner(coro)\n>>> \n>>>   File \"/home/jlw742/tf/lib/python3.8/site-packages/IPython/core/async_helpers.py\", line 68, in _pseudo_sync_runner\n>>>     coro.send(None)\n>>> \n>>>   File \"/home/jlw742/tf/lib/python3.8/site-packages/IPython/core/interactiveshell.py\", line 3169, in run_cell_async\n>>>     has_raised = await self.run_ast_nodes(code_ast.body, cell_name,\n>>> \n>>>   File \"/home/jlw742/tf/lib/python3.8/site-packages/IPython/core/interactiveshell.py\", line 3361, in run_ast_nodes\n>>>     if (await self.run_code(code, result,  async_=asy)):\n>>> \n>>>   File \"/home/jlw742/tf/lib/python3.8/site-packages/IPython/core/interactiveshell.py\", line 3441, in run_code\n>>>     exec(code_obj, self.user_global_ns, self.user_ns)\n>>> \n>>>   File \"/tmp/ipykernel_507380/1289239314.py\", line 1, in <module>\n>>>     history = model_transformer.fit(x_train, y_train, batch_size=1, epochs=2)\n>>> \n>>>   File \"/home/jlw742/tf/lib/python3.8/site-packages/keras/utils/traceback_utils.py\", line 64, in error_handler\n>>>     return fn(*args, **kwargs)\n>>> \n>>>   File \"/home/jlw742/tf/lib/python3.8/site-packages/keras/engine/training.py\", line 1216, in fit\n>>>     tmp_logs = self.train_function(iterator)\n>>> \n>>>   File \"/home/jlw742/tf/lib/python3.8/site-packages/keras/engine/training.py\", line 878, in train_function\n>>>     return step_function(self, iterator)\n>>> \n>>>   File \"/home/jlw742/tf/lib/python3.8/site-packages/keras/engine/training.py\", line 867, in step_function\n>>>     outputs = model.distribute_strategy.run(run_step, args=(data,))\n>>> \n>>>   File \"/home/jlw742/tf/lib/python3.8/site-packages/keras/engine/training.py\", line 860, in run_step\n>>>     outputs = model.train_step(data)\n>>> \n>>>   File \"/home/jlw742/tf/lib/python3.8/site-packages/keras/engine/training.py\", line 808, in train_step\n>>>     y_pred = self(x, training=True)\n>>> \n>>>   File \"/home/jlw742/tf/lib/python3.8/site-packages/keras/utils/traceback_utils.py\", line 64, in error_handler\n>>>     return fn(*args, **kwargs)\n>>> \n>>>   File \"/home/jlw742/tf/lib/python3.8/site-packages/keras/engine/base_layer.py\", line 1083, in __call__\n>>>     outputs = call_fn(inputs, *args, **kwargs)\n>>> \n>>>   File \"/home/jlw742/tf/lib/python3.8/site-packages/keras/utils/traceback_utils.py\", line 92, in error_handler\n>>>     return fn(*args, **kwargs)\n>>> \n>>>   File \"/home/jlw742/tf/lib/python3.8/site-packages/keras/engine/functional.py\", line 451, in call\n>>>     return self._run_internal_graph(\n>>> \n>>>   File \"/home/jlw742/tf/lib/python3.8/site-packages/keras/engine/functional.py\", line 589, in _run_internal_graph\n>>>     outputs = node.layer(*args, **kwargs)\n>>> \n>>>   File \"/home/jlw742/tf/lib/python3.8/site-packages/keras/utils/traceback_utils.py\", line 64, in error_handler\n>>>     return fn(*args, **kwargs)\n>>> \n>>>   File \"/home/jlw742/tf/lib/python3.8/site-packages/keras/engine/base_layer.py\", line 1083, in __call__\n>>>     outputs = call_fn(inputs, *args, **kwargs)\n>>> \n>>>   File \"/home/jlw742/tf/lib/python3.8/site-packages/keras/utils/traceback_utils.py\", line 92, in error_handler\n>>>     return fn(*args, **kwargs)\n>>> \n>>>   File \"/tmp/ipykernel_507380/1159442329.py\", line 14, in call\n>>>     attn_output = self.att(inputs, inputs)\n>>> \n>>>   File \"/home/jlw742/tf/lib/python3.8/site-packages/keras/utils/traceback_utils.py\", line 64, in error_handler\n>>>     return fn(*args, **kwargs)\n>>> \n>>>   File \"/home/jlw742/tf/lib/python3.8/site-packages/keras/engine/base_layer.py\", line 1083, in __call__\n>>>     outputs = call_fn(inputs, *args, **kwargs)\n>>> \n>>>   File \"/home/jlw742/tf/lib/python3.8/site-packages/keras/utils/traceback_utils.py\", line 92, in error_handler\n>>>     return fn(*args, **kwargs)\n>>> \n>>>   File \"/home/jlw742/tf/lib/python3.8/site-packages/keras/layers/multi_head_attention.py\", line 503, in call\n>>>     attention_output, attention_scores = self._compute_attention(\n>>> \n>>>   File \"/home/jlw742/tf/lib/python3.8/site-packages/keras/layers/multi_head_attention.py\", line 468, in _compute_attention\n>>>     attention_scores = self._masked_softmax(attention_scores, attention_mask)\n>>> \n>>>   File \"/home/jlw742/tf/lib/python3.8/site-packages/keras/layers/multi_head_attention.py\", line 431, in _masked_softmax\n>>>     return self._softmax(attention_scores, attention_mask)\n>>> \n>>>   File \"/home/jlw742/tf/lib/python3.8/site-packages/keras/utils/traceback_utils.py\", line 64, in error_handler\n>>>     return fn(*args, **kwargs)\n>>> \n>>>   File \"/home/jlw742/tf/lib/python3.8/site-packages/keras/engine/base_layer.py\", line 1083, in __call__\n>>>     outputs = call_fn(inputs, *args, **kwargs)\n>>> \n>>>   File \"/home/jlw742/tf/lib/python3.8/site-packages/keras/utils/traceback_utils.py\", line 92, in error_handler\n>>>     return fn(*args, **kwargs)\n>>> \n>>>   File \"/home/jlw742/tf/lib/python3.8/site-packages/keras/layers/advanced_activations.py\", line 349, in call\n>>>     return backend.softmax(inputs, axis=self.axis[0])\n>>> \n>>>   File \"/home/jlw742/tf/lib/python3.8/site-packages/keras/backend.py\", line 4914, in softmax\n>>>     return tf.nn.softmax(x, axis=axis)\n>>> ",
     "output_type": "error",
     "traceback": [
      "\u001b[0;31m---------------------------------------------------------------------------\u001b[0m",
      "\u001b[0;31mResourceExhaustedError\u001b[0m                    Traceback (most recent call last)",
      "\u001b[0;32m/tmp/ipykernel_507380/1289239314.py\u001b[0m in \u001b[0;36m<module>\u001b[0;34m\u001b[0m\n\u001b[0;32m----> 1\u001b[0;31m \u001b[0mhistory\u001b[0m \u001b[0;34m=\u001b[0m \u001b[0mmodel_transformer\u001b[0m\u001b[0;34m.\u001b[0m\u001b[0mfit\u001b[0m\u001b[0;34m(\u001b[0m\u001b[0mx_train\u001b[0m\u001b[0;34m,\u001b[0m \u001b[0my_train\u001b[0m\u001b[0;34m,\u001b[0m \u001b[0mbatch_size\u001b[0m\u001b[0;34m=\u001b[0m\u001b[0;36m1\u001b[0m\u001b[0;34m,\u001b[0m \u001b[0mepochs\u001b[0m\u001b[0;34m=\u001b[0m\u001b[0;36m2\u001b[0m\u001b[0;34m)\u001b[0m\u001b[0;34m\u001b[0m\u001b[0;34m\u001b[0m\u001b[0m\n\u001b[0m",
      "\u001b[0;32m/home/jlw742/tf/lib/python3.8/site-packages/keras/utils/traceback_utils.py\u001b[0m in \u001b[0;36merror_handler\u001b[0;34m(*args, **kwargs)\u001b[0m\n\u001b[1;32m     65\u001b[0m     \u001b[0;32mexcept\u001b[0m \u001b[0mException\u001b[0m \u001b[0;32mas\u001b[0m \u001b[0me\u001b[0m\u001b[0;34m:\u001b[0m  \u001b[0;31m# pylint: disable=broad-except\u001b[0m\u001b[0;34m\u001b[0m\u001b[0;34m\u001b[0m\u001b[0m\n\u001b[1;32m     66\u001b[0m       \u001b[0mfiltered_tb\u001b[0m \u001b[0;34m=\u001b[0m \u001b[0m_process_traceback_frames\u001b[0m\u001b[0;34m(\u001b[0m\u001b[0me\u001b[0m\u001b[0;34m.\u001b[0m\u001b[0m__traceback__\u001b[0m\u001b[0;34m)\u001b[0m\u001b[0;34m\u001b[0m\u001b[0;34m\u001b[0m\u001b[0m\n\u001b[0;32m---> 67\u001b[0;31m       \u001b[0;32mraise\u001b[0m \u001b[0me\u001b[0m\u001b[0;34m.\u001b[0m\u001b[0mwith_traceback\u001b[0m\u001b[0;34m(\u001b[0m\u001b[0mfiltered_tb\u001b[0m\u001b[0;34m)\u001b[0m \u001b[0;32mfrom\u001b[0m \u001b[0;32mNone\u001b[0m\u001b[0;34m\u001b[0m\u001b[0;34m\u001b[0m\u001b[0m\n\u001b[0m\u001b[1;32m     68\u001b[0m     \u001b[0;32mfinally\u001b[0m\u001b[0;34m:\u001b[0m\u001b[0;34m\u001b[0m\u001b[0;34m\u001b[0m\u001b[0m\n\u001b[1;32m     69\u001b[0m       \u001b[0;32mdel\u001b[0m \u001b[0mfiltered_tb\u001b[0m\u001b[0;34m\u001b[0m\u001b[0;34m\u001b[0m\u001b[0m\n",
      "\u001b[0;32m/home/jlw742/tf/lib/python3.8/site-packages/tensorflow/python/eager/execute.py\u001b[0m in \u001b[0;36mquick_execute\u001b[0;34m(op_name, num_outputs, inputs, attrs, ctx, name)\u001b[0m\n\u001b[1;32m     56\u001b[0m   \u001b[0;32mtry\u001b[0m\u001b[0;34m:\u001b[0m\u001b[0;34m\u001b[0m\u001b[0;34m\u001b[0m\u001b[0m\n\u001b[1;32m     57\u001b[0m     \u001b[0mctx\u001b[0m\u001b[0;34m.\u001b[0m\u001b[0mensure_initialized\u001b[0m\u001b[0;34m(\u001b[0m\u001b[0;34m)\u001b[0m\u001b[0;34m\u001b[0m\u001b[0;34m\u001b[0m\u001b[0m\n\u001b[0;32m---> 58\u001b[0;31m     tensors = pywrap_tfe.TFE_Py_Execute(ctx._handle, device_name, op_name,\n\u001b[0m\u001b[1;32m     59\u001b[0m                                         inputs, attrs, num_outputs)\n\u001b[1;32m     60\u001b[0m   \u001b[0;32mexcept\u001b[0m \u001b[0mcore\u001b[0m\u001b[0;34m.\u001b[0m\u001b[0m_NotOkStatusException\u001b[0m \u001b[0;32mas\u001b[0m \u001b[0me\u001b[0m\u001b[0;34m:\u001b[0m\u001b[0;34m\u001b[0m\u001b[0;34m\u001b[0m\u001b[0m\n",
      "\u001b[0;31mResourceExhaustedError\u001b[0m:  OOM when allocating tensor with shape[1,1,30121,30121] and type float on /job:localhost/replica:0/task:0/device:GPU:0 by allocator GPU_0_bfc\n\t [[node model_8/transformer_block_8/multi_head_attention_8/softmax/Softmax\n (defined at /home/jlw742/tf/lib/python3.8/site-packages/keras/backend.py:4914)\n]]\nHint: If you want to see a list of allocated tensors when OOM happens, add report_tensor_allocations_upon_oom to RunOptions for current allocation info. This isn't available when running in Eager mode.\n [Op:__inference_train_function_8879]\n\nErrors may have originated from an input operation.\nInput Source operations connected to node model_8/transformer_block_8/multi_head_attention_8/softmax/Softmax:\nIn[0] model_8/transformer_block_8/multi_head_attention_8/einsum/Einsum (defined at /home/jlw742/tf/lib/python3.8/site-packages/keras/layers/multi_head_attention.py:465)\n\nOperation defined at: (most recent call last)\n>>>   File \"/home/jlw742/tf/lib/python3.8/runpy.py\", line 194, in _run_module_as_main\n>>>     return _run_code(code, main_globals, None,\n>>> \n>>>   File \"/home/jlw742/tf/lib/python3.8/runpy.py\", line 87, in _run_code\n>>>     exec(code, run_globals)\n>>> \n>>>   File \"/home/jlw742/tf/lib/python3.8/site-packages/ipykernel_launcher.py\", line 16, in <module>\n>>>     app.launch_new_instance()\n>>> \n>>>   File \"/home/jlw742/tf/lib/python3.8/site-packages/traitlets/config/application.py\", line 846, in launch_instance\n>>>     app.start()\n>>> \n>>>   File \"/home/jlw742/tf/lib/python3.8/site-packages/ipykernel/kernelapp.py\", line 677, in start\n>>>     self.io_loop.start()\n>>> \n>>>   File \"/home/jlw742/tf/lib/python3.8/site-packages/tornado/platform/asyncio.py\", line 199, in start\n>>>     self.asyncio_loop.run_forever()\n>>> \n>>>   File \"/home/jlw742/tf/lib/python3.8/asyncio/base_events.py\", line 570, in run_forever\n>>>     self._run_once()\n>>> \n>>>   File \"/home/jlw742/tf/lib/python3.8/asyncio/base_events.py\", line 1859, in _run_once\n>>>     handle._run()\n>>> \n>>>   File \"/home/jlw742/tf/lib/python3.8/asyncio/events.py\", line 81, in _run\n>>>     self._context.run(self._callback, *self._args)\n>>> \n>>>   File \"/home/jlw742/tf/lib/python3.8/site-packages/ipykernel/kernelbase.py\", line 457, in dispatch_queue\n>>>     await self.process_one()\n>>> \n>>>   File \"/home/jlw742/tf/lib/python3.8/site-packages/ipykernel/kernelbase.py\", line 446, in process_one\n>>>     await dispatch(*args)\n>>> \n>>>   File \"/home/jlw742/tf/lib/python3.8/site-packages/ipykernel/kernelbase.py\", line 353, in dispatch_shell\n>>>     await result\n>>> \n>>>   File \"/home/jlw742/tf/lib/python3.8/site-packages/ipykernel/kernelbase.py\", line 648, in execute_request\n>>>     reply_content = await reply_content\n>>> \n>>>   File \"/home/jlw742/tf/lib/python3.8/site-packages/ipykernel/ipkernel.py\", line 353, in do_execute\n>>>     res = shell.run_cell(code, store_history=store_history, silent=silent)\n>>> \n>>>   File \"/home/jlw742/tf/lib/python3.8/site-packages/ipykernel/zmqshell.py\", line 533, in run_cell\n>>>     return super(ZMQInteractiveShell, self).run_cell(*args, **kwargs)\n>>> \n>>>   File \"/home/jlw742/tf/lib/python3.8/site-packages/IPython/core/interactiveshell.py\", line 2898, in run_cell\n>>>     result = self._run_cell(\n>>> \n>>>   File \"/home/jlw742/tf/lib/python3.8/site-packages/IPython/core/interactiveshell.py\", line 2944, in _run_cell\n>>>     return runner(coro)\n>>> \n>>>   File \"/home/jlw742/tf/lib/python3.8/site-packages/IPython/core/async_helpers.py\", line 68, in _pseudo_sync_runner\n>>>     coro.send(None)\n>>> \n>>>   File \"/home/jlw742/tf/lib/python3.8/site-packages/IPython/core/interactiveshell.py\", line 3169, in run_cell_async\n>>>     has_raised = await self.run_ast_nodes(code_ast.body, cell_name,\n>>> \n>>>   File \"/home/jlw742/tf/lib/python3.8/site-packages/IPython/core/interactiveshell.py\", line 3361, in run_ast_nodes\n>>>     if (await self.run_code(code, result,  async_=asy)):\n>>> \n>>>   File \"/home/jlw742/tf/lib/python3.8/site-packages/IPython/core/interactiveshell.py\", line 3441, in run_code\n>>>     exec(code_obj, self.user_global_ns, self.user_ns)\n>>> \n>>>   File \"/tmp/ipykernel_507380/1289239314.py\", line 1, in <module>\n>>>     history = model_transformer.fit(x_train, y_train, batch_size=1, epochs=2)\n>>> \n>>>   File \"/home/jlw742/tf/lib/python3.8/site-packages/keras/utils/traceback_utils.py\", line 64, in error_handler\n>>>     return fn(*args, **kwargs)\n>>> \n>>>   File \"/home/jlw742/tf/lib/python3.8/site-packages/keras/engine/training.py\", line 1216, in fit\n>>>     tmp_logs = self.train_function(iterator)\n>>> \n>>>   File \"/home/jlw742/tf/lib/python3.8/site-packages/keras/engine/training.py\", line 878, in train_function\n>>>     return step_function(self, iterator)\n>>> \n>>>   File \"/home/jlw742/tf/lib/python3.8/site-packages/keras/engine/training.py\", line 867, in step_function\n>>>     outputs = model.distribute_strategy.run(run_step, args=(data,))\n>>> \n>>>   File \"/home/jlw742/tf/lib/python3.8/site-packages/keras/engine/training.py\", line 860, in run_step\n>>>     outputs = model.train_step(data)\n>>> \n>>>   File \"/home/jlw742/tf/lib/python3.8/site-packages/keras/engine/training.py\", line 808, in train_step\n>>>     y_pred = self(x, training=True)\n>>> \n>>>   File \"/home/jlw742/tf/lib/python3.8/site-packages/keras/utils/traceback_utils.py\", line 64, in error_handler\n>>>     return fn(*args, **kwargs)\n>>> \n>>>   File \"/home/jlw742/tf/lib/python3.8/site-packages/keras/engine/base_layer.py\", line 1083, in __call__\n>>>     outputs = call_fn(inputs, *args, **kwargs)\n>>> \n>>>   File \"/home/jlw742/tf/lib/python3.8/site-packages/keras/utils/traceback_utils.py\", line 92, in error_handler\n>>>     return fn(*args, **kwargs)\n>>> \n>>>   File \"/home/jlw742/tf/lib/python3.8/site-packages/keras/engine/functional.py\", line 451, in call\n>>>     return self._run_internal_graph(\n>>> \n>>>   File \"/home/jlw742/tf/lib/python3.8/site-packages/keras/engine/functional.py\", line 589, in _run_internal_graph\n>>>     outputs = node.layer(*args, **kwargs)\n>>> \n>>>   File \"/home/jlw742/tf/lib/python3.8/site-packages/keras/utils/traceback_utils.py\", line 64, in error_handler\n>>>     return fn(*args, **kwargs)\n>>> \n>>>   File \"/home/jlw742/tf/lib/python3.8/site-packages/keras/engine/base_layer.py\", line 1083, in __call__\n>>>     outputs = call_fn(inputs, *args, **kwargs)\n>>> \n>>>   File \"/home/jlw742/tf/lib/python3.8/site-packages/keras/utils/traceback_utils.py\", line 92, in error_handler\n>>>     return fn(*args, **kwargs)\n>>> \n>>>   File \"/tmp/ipykernel_507380/1159442329.py\", line 14, in call\n>>>     attn_output = self.att(inputs, inputs)\n>>> \n>>>   File \"/home/jlw742/tf/lib/python3.8/site-packages/keras/utils/traceback_utils.py\", line 64, in error_handler\n>>>     return fn(*args, **kwargs)\n>>> \n>>>   File \"/home/jlw742/tf/lib/python3.8/site-packages/keras/engine/base_layer.py\", line 1083, in __call__\n>>>     outputs = call_fn(inputs, *args, **kwargs)\n>>> \n>>>   File \"/home/jlw742/tf/lib/python3.8/site-packages/keras/utils/traceback_utils.py\", line 92, in error_handler\n>>>     return fn(*args, **kwargs)\n>>> \n>>>   File \"/home/jlw742/tf/lib/python3.8/site-packages/keras/layers/multi_head_attention.py\", line 503, in call\n>>>     attention_output, attention_scores = self._compute_attention(\n>>> \n>>>   File \"/home/jlw742/tf/lib/python3.8/site-packages/keras/layers/multi_head_attention.py\", line 468, in _compute_attention\n>>>     attention_scores = self._masked_softmax(attention_scores, attention_mask)\n>>> \n>>>   File \"/home/jlw742/tf/lib/python3.8/site-packages/keras/layers/multi_head_attention.py\", line 431, in _masked_softmax\n>>>     return self._softmax(attention_scores, attention_mask)\n>>> \n>>>   File \"/home/jlw742/tf/lib/python3.8/site-packages/keras/utils/traceback_utils.py\", line 64, in error_handler\n>>>     return fn(*args, **kwargs)\n>>> \n>>>   File \"/home/jlw742/tf/lib/python3.8/site-packages/keras/engine/base_layer.py\", line 1083, in __call__\n>>>     outputs = call_fn(inputs, *args, **kwargs)\n>>> \n>>>   File \"/home/jlw742/tf/lib/python3.8/site-packages/keras/utils/traceback_utils.py\", line 92, in error_handler\n>>>     return fn(*args, **kwargs)\n>>> \n>>>   File \"/home/jlw742/tf/lib/python3.8/site-packages/keras/layers/advanced_activations.py\", line 349, in call\n>>>     return backend.softmax(inputs, axis=self.axis[0])\n>>> \n>>>   File \"/home/jlw742/tf/lib/python3.8/site-packages/keras/backend.py\", line 4914, in softmax\n>>>     return tf.nn.softmax(x, axis=axis)\n>>> "
     ]
    }
   ],
   "source": [
    "history = model_transformer.fit(x_train, y_train, batch_size=1, epochs=2)"
   ]
  },
  {
   "cell_type": "code",
   "execution_count": null,
   "id": "b21f6a78",
   "metadata": {},
   "outputs": [],
   "source": []
  },
  {
   "cell_type": "markdown",
   "id": "3cd92e98",
   "metadata": {},
   "source": [
    "### Ordinal Encoding"
   ]
  },
  {
   "cell_type": "code",
   "execution_count": 12,
   "id": "f5a1187a",
   "metadata": {},
   "outputs": [
    {
     "data": {
      "text/plain": [
       "array([ 1.5,  0.5, -1.5, -0.5,  0. ])"
      ]
     },
     "execution_count": 12,
     "metadata": {},
     "output_type": "execute_result"
    }
   ],
   "source": [
    "def nucleotideToDigit(seq):\n",
    "    digit_seq = []\n",
    "    seq = list(seq)\n",
    "    for n in seq:\n",
    "        if n == 'T' :\n",
    "            d = -1.5\n",
    "        elif n =='C' : \n",
    "            d = 0.5\n",
    "        elif n == 'A' :\n",
    "            d = 1.5\n",
    "        elif n == 'G' :\n",
    "            d = -0.5\n",
    "        else:\n",
    "            d = 0\n",
    "        digit_seq.append(d)\n",
    "    \n",
    "    return np.array(digit_seq)\n",
    "     \n",
    "nucleotideToDigit('ACTGN')"
   ]
  },
  {
   "cell_type": "code",
   "execution_count": 13,
   "id": "d91e05d6",
   "metadata": {},
   "outputs": [
    {
     "data": {
      "text/html": [
       "<div>\n",
       "<style scoped>\n",
       "    .dataframe tbody tr th:only-of-type {\n",
       "        vertical-align: middle;\n",
       "    }\n",
       "\n",
       "    .dataframe tbody tr th {\n",
       "        vertical-align: top;\n",
       "    }\n",
       "\n",
       "    .dataframe thead th {\n",
       "        text-align: right;\n",
       "    }\n",
       "</style>\n",
       "<table border=\"1\" class=\"dataframe\">\n",
       "  <thead>\n",
       "    <tr style=\"text-align: right;\">\n",
       "      <th></th>\n",
       "      <th>PID</th>\n",
       "      <th>CLASS</th>\n",
       "      <th>CLASSNAME</th>\n",
       "      <th>SEQ</th>\n",
       "    </tr>\n",
       "  </thead>\n",
       "  <tbody>\n",
       "    <tr>\n",
       "      <th>0</th>\n",
       "      <td>AB257344 |SARS coronavirus Frankfurt 1 genomic...</td>\n",
       "      <td>1</td>\n",
       "      <td>SARS-COV-1</td>\n",
       "      <td>GATCTCTTGTAGATCTGTTCTCTAAACGAACTTTAAAATCTGTGTA...</td>\n",
       "    </tr>\n",
       "    <tr>\n",
       "      <th>1</th>\n",
       "      <td>AH013708 |SARS coronavirus Sin0409| partial se...</td>\n",
       "      <td>1</td>\n",
       "      <td>SARS-COV-1</td>\n",
       "      <td>CATTCAGTACGGTCGTAGCGGTATAACACTGGGAGTACTCGTGCCA...</td>\n",
       "    </tr>\n",
       "    <tr>\n",
       "      <th>2</th>\n",
       "      <td>AH013709 |SARS coronavirus Sin_WNV| partial se...</td>\n",
       "      <td>1</td>\n",
       "      <td>SARS-COV-1</td>\n",
       "      <td>CACGCGCGGGCAAGTCAATGTGCACTCTTTCCGAACAACTTGATTA...</td>\n",
       "    </tr>\n",
       "    <tr>\n",
       "      <th>3</th>\n",
       "      <td>AP006557 |SARS coronavirus TWH genomic RNA| co...</td>\n",
       "      <td>1</td>\n",
       "      <td>SARS-COV-1</td>\n",
       "      <td>ATATTAGGTTTTTACCTACCCAGGAAAAGCCAACCAACCTCGATCT...</td>\n",
       "    </tr>\n",
       "    <tr>\n",
       "      <th>4</th>\n",
       "      <td>AP006558 |SARS coronavirus TWJ genomic RNA| co...</td>\n",
       "      <td>1</td>\n",
       "      <td>SARS-COV-1</td>\n",
       "      <td>ATATTAGGTTTTTACCTACCCAGGAAAAGCCAACCAACCTCGATCT...</td>\n",
       "    </tr>\n",
       "  </tbody>\n",
       "</table>\n",
       "</div>"
      ],
      "text/plain": [
       "                                                 PID  ...                                                SEQ\n",
       "0  AB257344 |SARS coronavirus Frankfurt 1 genomic...  ...  GATCTCTTGTAGATCTGTTCTCTAAACGAACTTTAAAATCTGTGTA...\n",
       "1  AH013708 |SARS coronavirus Sin0409| partial se...  ...  CATTCAGTACGGTCGTAGCGGTATAACACTGGGAGTACTCGTGCCA...\n",
       "2  AH013709 |SARS coronavirus Sin_WNV| partial se...  ...  CACGCGCGGGCAAGTCAATGTGCACTCTTTCCGAACAACTTGATTA...\n",
       "3  AP006557 |SARS coronavirus TWH genomic RNA| co...  ...  ATATTAGGTTTTTACCTACCCAGGAAAAGCCAACCAACCTCGATCT...\n",
       "4  AP006558 |SARS coronavirus TWJ genomic RNA| co...  ...  ATATTAGGTTTTTACCTACCCAGGAAAAGCCAACCAACCTCGATCT...\n",
       "\n",
       "[5 rows x 4 columns]"
      ]
     },
     "execution_count": 13,
     "metadata": {},
     "output_type": "execute_result"
    }
   ],
   "source": [
    "df_training = pd.read_csv('data/covid/training.csv')\n",
    "df_training.head()"
   ]
  },
  {
   "cell_type": "code",
   "execution_count": 14,
   "id": "c3ccb376",
   "metadata": {},
   "outputs": [
    {
     "data": {
      "text/html": [
       "<div>\n",
       "<style scoped>\n",
       "    .dataframe tbody tr th:only-of-type {\n",
       "        vertical-align: middle;\n",
       "    }\n",
       "\n",
       "    .dataframe tbody tr th {\n",
       "        vertical-align: top;\n",
       "    }\n",
       "\n",
       "    .dataframe thead th {\n",
       "        text-align: right;\n",
       "    }\n",
       "</style>\n",
       "<table border=\"1\" class=\"dataframe\">\n",
       "  <thead>\n",
       "    <tr style=\"text-align: right;\">\n",
       "      <th></th>\n",
       "      <th>PID</th>\n",
       "      <th>CLASS</th>\n",
       "      <th>CLASSNAME</th>\n",
       "      <th>SEQ</th>\n",
       "      <th>ORDINAL_SEQ</th>\n",
       "    </tr>\n",
       "  </thead>\n",
       "  <tbody>\n",
       "    <tr>\n",
       "      <th>0</th>\n",
       "      <td>AB257344 |SARS coronavirus Frankfurt 1 genomic...</td>\n",
       "      <td>1</td>\n",
       "      <td>SARS-COV-1</td>\n",
       "      <td>GATCTCTTGTAGATCTGTTCTCTAAACGAACTTTAAAATCTGTGTA...</td>\n",
       "      <td>[-0.5, 1.5, -1.5, 0.5, -1.5, 0.5, -1.5, -1.5, ...</td>\n",
       "    </tr>\n",
       "    <tr>\n",
       "      <th>1</th>\n",
       "      <td>AH013708 |SARS coronavirus Sin0409| partial se...</td>\n",
       "      <td>1</td>\n",
       "      <td>SARS-COV-1</td>\n",
       "      <td>CATTCAGTACGGTCGTAGCGGTATAACACTGGGAGTACTCGTGCCA...</td>\n",
       "      <td>[0.5, 1.5, -1.5, -1.5, 0.5, 1.5, -0.5, -1.5, 1...</td>\n",
       "    </tr>\n",
       "    <tr>\n",
       "      <th>2</th>\n",
       "      <td>AH013709 |SARS coronavirus Sin_WNV| partial se...</td>\n",
       "      <td>1</td>\n",
       "      <td>SARS-COV-1</td>\n",
       "      <td>CACGCGCGGGCAAGTCAATGTGCACTCTTTCCGAACAACTTGATTA...</td>\n",
       "      <td>[0.5, 1.5, 0.5, -0.5, 0.5, -0.5, 0.5, -0.5, -0...</td>\n",
       "    </tr>\n",
       "    <tr>\n",
       "      <th>3</th>\n",
       "      <td>AP006557 |SARS coronavirus TWH genomic RNA| co...</td>\n",
       "      <td>1</td>\n",
       "      <td>SARS-COV-1</td>\n",
       "      <td>ATATTAGGTTTTTACCTACCCAGGAAAAGCCAACCAACCTCGATCT...</td>\n",
       "      <td>[1.5, -1.5, 1.5, -1.5, -1.5, 1.5, -0.5, -0.5, ...</td>\n",
       "    </tr>\n",
       "    <tr>\n",
       "      <th>4</th>\n",
       "      <td>AP006558 |SARS coronavirus TWJ genomic RNA| co...</td>\n",
       "      <td>1</td>\n",
       "      <td>SARS-COV-1</td>\n",
       "      <td>ATATTAGGTTTTTACCTACCCAGGAAAAGCCAACCAACCTCGATCT...</td>\n",
       "      <td>[1.5, -1.5, 1.5, -1.5, -1.5, 1.5, -0.5, -0.5, ...</td>\n",
       "    </tr>\n",
       "  </tbody>\n",
       "</table>\n",
       "</div>"
      ],
      "text/plain": [
       "                                                 PID  ...                                        ORDINAL_SEQ\n",
       "0  AB257344 |SARS coronavirus Frankfurt 1 genomic...  ...  [-0.5, 1.5, -1.5, 0.5, -1.5, 0.5, -1.5, -1.5, ...\n",
       "1  AH013708 |SARS coronavirus Sin0409| partial se...  ...  [0.5, 1.5, -1.5, -1.5, 0.5, 1.5, -0.5, -1.5, 1...\n",
       "2  AH013709 |SARS coronavirus Sin_WNV| partial se...  ...  [0.5, 1.5, 0.5, -0.5, 0.5, -0.5, 0.5, -0.5, -0...\n",
       "3  AP006557 |SARS coronavirus TWH genomic RNA| co...  ...  [1.5, -1.5, 1.5, -1.5, -1.5, 1.5, -0.5, -0.5, ...\n",
       "4  AP006558 |SARS coronavirus TWJ genomic RNA| co...  ...  [1.5, -1.5, 1.5, -1.5, -1.5, 1.5, -0.5, -0.5, ...\n",
       "\n",
       "[5 rows x 5 columns]"
      ]
     },
     "execution_count": 14,
     "metadata": {},
     "output_type": "execute_result"
    }
   ],
   "source": [
    "df_training['ORDINAL_SEQ'] = df_training['SEQ'].apply(lambda x: nucleotideToDigit(x))\n",
    "df_training.head()"
   ]
  },
  {
   "cell_type": "code",
   "execution_count": 15,
   "id": "cd0186f3",
   "metadata": {},
   "outputs": [
    {
     "data": {
      "text/plain": [
       "(25665, 25665, 'AH013708 |SARS coronavirus Sin0409| partial sequence')"
      ]
     },
     "execution_count": 15,
     "metadata": {},
     "output_type": "execute_result"
    }
   ],
   "source": [
    "len(df_training.iloc[1]['SEQ']), len(df_training.iloc[1]['ORDINAL_SEQ']), df_training.iloc[1]['PID']"
   ]
  },
  {
   "cell_type": "code",
   "execution_count": 16,
   "id": "d9f820be",
   "metadata": {},
   "outputs": [
    {
     "name": "stdout",
     "output_type": "stream",
     "text": [
      "Average length of the seqeunces:  20151\n"
     ]
    },
    {
     "data": {
      "text/plain": [
       "30123"
      ]
     },
     "execution_count": 16,
     "metadata": {},
     "output_type": "execute_result"
    }
   ],
   "source": [
    "print('Average length of the seqeunces: ', int(np.mean(df_training['ORDINAL_SEQ'].str.len())))\n",
    "maxlen = np.max(df_training['ORDINAL_SEQ'].str.len())\n",
    "maxlen"
   ]
  },
  {
   "cell_type": "code",
   "execution_count": 17,
   "id": "0a642d31",
   "metadata": {},
   "outputs": [
    {
     "data": {
      "text/plain": [
       "((1500, 30123), numpy.ndarray)"
      ]
     },
     "execution_count": 17,
     "metadata": {},
     "output_type": "execute_result"
    }
   ],
   "source": [
    "x_train = tf.keras.preprocessing.sequence.pad_sequences(df_training['ORDINAL_SEQ'], maxlen = maxlen)\n",
    "x_train.shape, type(x_train)"
   ]
  },
  {
   "cell_type": "code",
   "execution_count": 26,
   "id": "d19cbd54",
   "metadata": {},
   "outputs": [
    {
     "data": {
      "text/plain": [
       "(1500, 200)"
      ]
     },
     "execution_count": 26,
     "metadata": {},
     "output_type": "execute_result"
    }
   ],
   "source": [
    "from sklearn.decomposition import PCA\n",
    "pca = PCA(n_components=200)\n",
    "x_train_smallerdim = pca.fit_transform(x_train)\n",
    "x_train_smallerdim.shape"
   ]
  },
  {
   "cell_type": "code",
   "execution_count": 27,
   "id": "32dbaf42",
   "metadata": {},
   "outputs": [
    {
     "data": {
      "text/plain": [
       "(1500,)"
      ]
     },
     "execution_count": 27,
     "metadata": {},
     "output_type": "execute_result"
    }
   ],
   "source": [
    "y_train = df_training['CLASS']\n",
    "y_train.shape"
   ]
  },
  {
   "cell_type": "code",
   "execution_count": 30,
   "id": "7a48275b",
   "metadata": {},
   "outputs": [
    {
     "name": "stdout",
     "output_type": "stream",
     "text": [
      "Model: \"sequential_9\"\n",
      "_________________________________________________________________\n",
      " Layer (type)                Output Shape              Param #   \n",
      "=================================================================\n",
      " lstm_8 (LSTM)               (None, 300)               362400    \n",
      "                                                                 \n",
      " dense_6 (Dense)             (None, 6)                 1806      \n",
      "                                                                 \n",
      "=================================================================\n",
      "Total params: 364,206\n",
      "Trainable params: 364,206\n",
      "Non-trainable params: 0\n",
      "_________________________________________________________________\n",
      "None\n",
      "Epoch 1/30\n",
      "24/24 [==============================] - 1s 15ms/step - loss: nan - accuracy: 0.0033\n",
      "Epoch 2/30\n",
      "24/24 [==============================] - 0s 13ms/step - loss: nan - accuracy: 0.0000e+00\n",
      "Epoch 3/30\n",
      "24/24 [==============================] - 0s 14ms/step - loss: nan - accuracy: 0.0000e+00\n",
      "Epoch 4/30\n",
      "24/24 [==============================] - 0s 14ms/step - loss: nan - accuracy: 0.0000e+00\n",
      "Epoch 5/30\n",
      "24/24 [==============================] - 0s 14ms/step - loss: nan - accuracy: 0.0000e+00\n",
      "Epoch 6/30\n",
      "24/24 [==============================] - 0s 13ms/step - loss: nan - accuracy: 0.0000e+00\n",
      "Epoch 7/30\n",
      "24/24 [==============================] - 0s 13ms/step - loss: nan - accuracy: 0.0000e+00\n",
      "Epoch 8/30\n",
      "24/24 [==============================] - 0s 14ms/step - loss: nan - accuracy: 0.0000e+00\n",
      "Epoch 9/30\n",
      "24/24 [==============================] - 0s 13ms/step - loss: nan - accuracy: 0.0000e+00\n",
      "Epoch 10/30\n",
      "24/24 [==============================] - 0s 13ms/step - loss: nan - accuracy: 0.0000e+00\n",
      "Epoch 11/30\n",
      "24/24 [==============================] - 0s 13ms/step - loss: nan - accuracy: 0.0000e+00\n",
      "Epoch 12/30\n",
      "24/24 [==============================] - 0s 14ms/step - loss: nan - accuracy: 0.0000e+00\n",
      "Epoch 13/30\n",
      "24/24 [==============================] - 0s 13ms/step - loss: nan - accuracy: 0.0000e+00\n",
      "Epoch 14/30\n",
      "24/24 [==============================] - 0s 13ms/step - loss: nan - accuracy: 0.0000e+00\n",
      "Epoch 15/30\n",
      "24/24 [==============================] - 0s 13ms/step - loss: nan - accuracy: 0.0000e+00\n",
      "Epoch 16/30\n",
      "24/24 [==============================] - 0s 13ms/step - loss: nan - accuracy: 0.0000e+00\n",
      "Epoch 17/30\n",
      "24/24 [==============================] - 0s 13ms/step - loss: nan - accuracy: 0.0000e+00\n",
      "Epoch 18/30\n",
      "24/24 [==============================] - 0s 13ms/step - loss: nan - accuracy: 0.0000e+00\n",
      "Epoch 19/30\n",
      "24/24 [==============================] - 0s 13ms/step - loss: nan - accuracy: 0.0000e+00\n",
      "Epoch 20/30\n",
      "24/24 [==============================] - 0s 13ms/step - loss: nan - accuracy: 0.0000e+00\n",
      "Epoch 21/30\n",
      "24/24 [==============================] - 0s 14ms/step - loss: nan - accuracy: 0.0000e+00\n",
      "Epoch 22/30\n",
      "24/24 [==============================] - 0s 13ms/step - loss: nan - accuracy: 0.0000e+00\n",
      "Epoch 23/30\n",
      "24/24 [==============================] - ETA: 0s - loss: nan - accuracy: 0.0000e+0 - 0s 13ms/step - loss: nan - accuracy: 0.0000e+00\n",
      "Epoch 24/30\n",
      "24/24 [==============================] - 0s 13ms/step - loss: nan - accuracy: 0.0000e+00\n",
      "Epoch 25/30\n",
      "24/24 [==============================] - 0s 13ms/step - loss: nan - accuracy: 0.0000e+00\n",
      "Epoch 26/30\n",
      "24/24 [==============================] - 0s 13ms/step - loss: nan - accuracy: 0.0000e+00\n",
      "Epoch 27/30\n",
      "24/24 [==============================] - 0s 13ms/step - loss: nan - accuracy: 0.0000e+00\n",
      "Epoch 28/30\n",
      "24/24 [==============================] - 0s 13ms/step - loss: nan - accuracy: 0.0000e+00\n",
      "Epoch 29/30\n",
      "24/24 [==============================] - 0s 13ms/step - loss: nan - accuracy: 0.0000e+00\n",
      "Epoch 30/30\n",
      "24/24 [==============================] - 0s 13ms/step - loss: nan - accuracy: 0.0000e+00\n"
     ]
    },
    {
     "data": {
      "text/plain": [
       "<keras.callbacks.History at 0x7fd45cd2e280>"
      ]
     },
     "execution_count": 30,
     "metadata": {},
     "output_type": "execute_result"
    }
   ],
   "source": [
    "# LSTM for sequence classification in the IMDB dataset\n",
    "from tensorflow.keras.models import Sequential\n",
    "from tensorflow.keras.layers import Dense, LSTM, Embedding, Input\n",
    "from keras.preprocessing import sequence\n",
    "\n",
    "\n",
    "model = Sequential()\n",
    "model.add(Input(shape=(x_train_smallerdim.shape[1],1)))\n",
    "model.add(LSTM(300))\n",
    "model.add(Dense(6, activation='softmax'))\n",
    "model.compile(loss='sparse_categorical_crossentropy', optimizer='adam', metrics=['accuracy'])\n",
    "print(model.summary())\n",
    "model.fit(x_train_smallerdim, y_train, epochs=30, batch_size=64)\n",
    "# Final evaluation of the model\n",
    "# scores = model.evaluate(X_test, y_test, verbose=0)\n",
    "# print(\"Accuracy: %.2f%%\" % (scores[1]*100))"
   ]
  },
  {
   "cell_type": "markdown",
   "id": "34e9e013",
   "metadata": {},
   "source": [
    "### Test data"
   ]
  },
  {
   "cell_type": "code",
   "execution_count": 20,
   "id": "dae68f5d",
   "metadata": {},
   "outputs": [
    {
     "name": "stdout",
     "output_type": "stream",
     "text": [
      "test_(2).csv  read , length:  1090\n",
      "Index(['PID', 'CLASS', 'SEQ'], dtype='object')\n",
      "test_(3).csv  read , length:  4000\n",
      "Index(['PID', 'CLASS', 'SEQ'], dtype='object')\n",
      "test_(5).csv  read , length:  5010\n",
      "Index(['PID', 'CLASS', 'SEQ'], dtype='object')\n",
      "test_(4).csv  read , length:  3500\n",
      "Index(['PID', 'CLASS', 'SEQ'], dtype='object')\n",
      "test_(1).csv  read , length:  3143\n",
      "Index(['PID', 'CLASS', 'SEQ'], dtype='object')\n",
      "Test data size:  16743\n"
     ]
    }
   ],
   "source": [
    "df_list = []\n",
    "test_size = 0\n",
    "\n",
    "for t in os.listdir('data/covid/test'):\n",
    "    df = pd.read_csv('data/covid/test/'+t)\n",
    "    print(t , ' read', ', length: ', len(df))\n",
    "    print(df.columns)\n",
    "    test_size += len(df)\n",
    "    df_list.append(df)\n",
    "print('Test data size: ', test_size)"
   ]
  },
  {
   "cell_type": "code",
   "execution_count": 21,
   "id": "4febe309",
   "metadata": {},
   "outputs": [],
   "source": [
    "merged_test_dfs = pd.concat(df_list)"
   ]
  },
  {
   "cell_type": "code",
   "execution_count": 22,
   "id": "13271195",
   "metadata": {},
   "outputs": [
    {
     "data": {
      "text/html": [
       "<div>\n",
       "<style scoped>\n",
       "    .dataframe tbody tr th:only-of-type {\n",
       "        vertical-align: middle;\n",
       "    }\n",
       "\n",
       "    .dataframe tbody tr th {\n",
       "        vertical-align: top;\n",
       "    }\n",
       "\n",
       "    .dataframe thead th {\n",
       "        text-align: right;\n",
       "    }\n",
       "</style>\n",
       "<table border=\"1\" class=\"dataframe\">\n",
       "  <thead>\n",
       "    <tr style=\"text-align: right;\">\n",
       "      <th></th>\n",
       "      <th>PID</th>\n",
       "      <th>CLASS</th>\n",
       "      <th>SEQ</th>\n",
       "    </tr>\n",
       "  </thead>\n",
       "  <tbody>\n",
       "    <tr>\n",
       "      <th>0</th>\n",
       "      <td>JF292909 |SARS coronavirus MA15 isolate d2ym4|...</td>\n",
       "      <td>1</td>\n",
       "      <td>CGATCTCTTGTAGATCTGTTCTCTAAACGAACTTTAAAATCTGTGT...</td>\n",
       "    </tr>\n",
       "  </tbody>\n",
       "</table>\n",
       "</div>"
      ],
      "text/plain": [
       "                                                 PID  CLASS  \\\n",
       "0  JF292909 |SARS coronavirus MA15 isolate d2ym4|...      1   \n",
       "\n",
       "                                                 SEQ  \n",
       "0  CGATCTCTTGTAGATCTGTTCTCTAAACGAACTTTAAAATCTGTGT...  "
      ]
     },
     "execution_count": 22,
     "metadata": {},
     "output_type": "execute_result"
    }
   ],
   "source": [
    "merged_test_dfs.head(1)"
   ]
  },
  {
   "cell_type": "code",
   "execution_count": 23,
   "id": "5a8f1a4a",
   "metadata": {},
   "outputs": [
    {
     "data": {
      "text/plain": [
       "18243"
      ]
     },
     "execution_count": 23,
     "metadata": {},
     "output_type": "execute_result"
    }
   ],
   "source": [
    "all_data = pd.concat([merged_test_dfs, df_training])\n",
    "len(all_data)"
   ]
  },
  {
   "cell_type": "code",
   "execution_count": 24,
   "id": "5977e875",
   "metadata": {},
   "outputs": [
    {
     "name": "stdout",
     "output_type": "stream",
     "text": [
      "Index(['PID', 'CLASS', 'SEQ'], dtype='object')\n"
     ]
    },
    {
     "data": {
      "text/html": [
       "<div>\n",
       "<style scoped>\n",
       "    .dataframe tbody tr th:only-of-type {\n",
       "        vertical-align: middle;\n",
       "    }\n",
       "\n",
       "    .dataframe tbody tr th {\n",
       "        vertical-align: top;\n",
       "    }\n",
       "\n",
       "    .dataframe thead th {\n",
       "        text-align: right;\n",
       "    }\n",
       "</style>\n",
       "<table border=\"1\" class=\"dataframe\">\n",
       "  <thead>\n",
       "    <tr style=\"text-align: right;\">\n",
       "      <th></th>\n",
       "      <th>PID</th>\n",
       "      <th>CLASS</th>\n",
       "      <th>SEQ</th>\n",
       "    </tr>\n",
       "  </thead>\n",
       "  <tbody>\n",
       "    <tr>\n",
       "      <th>0</th>\n",
       "      <td>JF292909 |SARS coronavirus MA15 isolate d2ym4|...</td>\n",
       "      <td>1</td>\n",
       "      <td>CGATCTCTTGTAGATCTGTTCTCTAAACGAACTTTAAAATCTGTGT...</td>\n",
       "    </tr>\n",
       "    <tr>\n",
       "      <th>1</th>\n",
       "      <td>JF292910 |SARS coronavirus MA15 isolate d2ym5|...</td>\n",
       "      <td>1</td>\n",
       "      <td>CGATCTCTTGTAGATCTGTTCTCTAAACGAACTTTAAAATCTGTGT...</td>\n",
       "    </tr>\n",
       "    <tr>\n",
       "      <th>2</th>\n",
       "      <td>JF292911 |SARS coronavirus MA15 isolate d4ym1|...</td>\n",
       "      <td>1</td>\n",
       "      <td>CGATCTCTTGTAGATCTGTTCTCTAAACGAACTTTAAAATCTGTGT...</td>\n",
       "    </tr>\n",
       "    <tr>\n",
       "      <th>3</th>\n",
       "      <td>JF292912 |SARS coronavirus MA15 isolate d4ym2|...</td>\n",
       "      <td>1</td>\n",
       "      <td>CGATCTCTTGTAGATCTGTTCTCTAAACGAACTTTAAAATCTGTGT...</td>\n",
       "    </tr>\n",
       "    <tr>\n",
       "      <th>4</th>\n",
       "      <td>JF292913 |SARS coronavirus MA15 isolate d4ym3|...</td>\n",
       "      <td>1</td>\n",
       "      <td>CGATCTCTTGTAGATCTGTTCTCTAAACGAACTTTAAAATCTGTGT...</td>\n",
       "    </tr>\n",
       "  </tbody>\n",
       "</table>\n",
       "</div>"
      ],
      "text/plain": [
       "                                                 PID  CLASS  \\\n",
       "0  JF292909 |SARS coronavirus MA15 isolate d2ym4|...      1   \n",
       "1  JF292910 |SARS coronavirus MA15 isolate d2ym5|...      1   \n",
       "2  JF292911 |SARS coronavirus MA15 isolate d4ym1|...      1   \n",
       "3  JF292912 |SARS coronavirus MA15 isolate d4ym2|...      1   \n",
       "4  JF292913 |SARS coronavirus MA15 isolate d4ym3|...      1   \n",
       "\n",
       "                                                 SEQ  \n",
       "0  CGATCTCTTGTAGATCTGTTCTCTAAACGAACTTTAAAATCTGTGT...  \n",
       "1  CGATCTCTTGTAGATCTGTTCTCTAAACGAACTTTAAAATCTGTGT...  \n",
       "2  CGATCTCTTGTAGATCTGTTCTCTAAACGAACTTTAAAATCTGTGT...  \n",
       "3  CGATCTCTTGTAGATCTGTTCTCTAAACGAACTTTAAAATCTGTGT...  \n",
       "4  CGATCTCTTGTAGATCTGTTCTCTAAACGAACTTTAAAATCTGTGT...  "
      ]
     },
     "execution_count": 24,
     "metadata": {},
     "output_type": "execute_result"
    }
   ],
   "source": [
    "columns = ['PID', 'CLASS', 'SEQ']\n",
    "all_data_final = all_data[columns]\n",
    "print(all_data_final.columns)\n",
    "all_data_final.head()"
   ]
  },
  {
   "cell_type": "code",
   "execution_count": 25,
   "id": "a1a6b467",
   "metadata": {},
   "outputs": [
    {
     "data": {
      "text/plain": [
       "18243"
      ]
     },
     "execution_count": 25,
     "metadata": {},
     "output_type": "execute_result"
    }
   ],
   "source": [
    "all_data_final.dropna()\n",
    "len(all_data_final)"
   ]
  },
  {
   "cell_type": "code",
   "execution_count": 26,
   "id": "dd9b7ded",
   "metadata": {},
   "outputs": [],
   "source": [
    "all_data_final['CLASS'].apply(lambda x: int(x))\n",
    "all_data_final['SEQ'].apply(lambda x: str.upper(x))\n",
    "all_data_final.reset_index(inplace=True)"
   ]
  },
  {
   "cell_type": "code",
   "execution_count": 27,
   "id": "b93cb0a8",
   "metadata": {},
   "outputs": [],
   "source": [
    "# all_data_final.to_csv('all_data.csv', index=False)"
   ]
  },
  {
   "cell_type": "code",
   "execution_count": 28,
   "id": "2fcba7cb",
   "metadata": {},
   "outputs": [
    {
     "name": "stdout",
     "output_type": "stream",
     "text": [
      "Average length of the seqeunces:  24861\n"
     ]
    }
   ],
   "source": [
    "print('Average length of the seqeunces: ', int(np.mean(all_data_final['SEQ'].str.len())))"
   ]
  },
  {
   "cell_type": "code",
   "execution_count": 29,
   "id": "dcb55824",
   "metadata": {},
   "outputs": [
    {
     "data": {
      "text/plain": [
       "<AxesSubplot:xlabel='CLASS', ylabel='count'>"
      ]
     },
     "execution_count": 29,
     "metadata": {},
     "output_type": "execute_result"
    },
    {
     "data": {
      "image/png": "[encoded data removed]",
      "text/plain": [
       "<Figure size 432x288 with 1 Axes>"
      ]
     },
     "metadata": {
      "needs_background": "light"
     },
     "output_type": "display_data"
    }
   ],
   "source": [
    "sns.countplot(data= all_data_final, x = 'CLASS')"
   ]
  },
  {
   "cell_type": "code",
   "execution_count": 35,
   "id": "86f48c02",
   "metadata": {},
   "outputs": [
    {
     "data": {
      "text/plain": [
       "array([ 1.5,  0.5, -1.5, -0.5,  0. ])"
      ]
     },
     "execution_count": 35,
     "metadata": {},
     "output_type": "execute_result"
    }
   ],
   "source": []
  },
  {
   "cell_type": "code",
   "execution_count": 50,
   "id": "458c5570",
   "metadata": {},
   "outputs": [
    {
     "data": {
      "text/html": [
       "<div>\n",
       "<style scoped>\n",
       "    .dataframe tbody tr th:only-of-type {\n",
       "        vertical-align: middle;\n",
       "    }\n",
       "\n",
       "    .dataframe tbody tr th {\n",
       "        vertical-align: top;\n",
       "    }\n",
       "\n",
       "    .dataframe thead th {\n",
       "        text-align: right;\n",
       "    }\n",
       "</style>\n",
       "<table border=\"1\" class=\"dataframe\">\n",
       "  <thead>\n",
       "    <tr style=\"text-align: right;\">\n",
       "      <th></th>\n",
       "      <th>PID</th>\n",
       "      <th>CLASS</th>\n",
       "      <th>CLASSNAME</th>\n",
       "      <th>SEQ</th>\n",
       "      <th>DIG_SEQ</th>\n",
       "    </tr>\n",
       "  </thead>\n",
       "  <tbody>\n",
       "    <tr>\n",
       "      <th>0</th>\n",
       "      <td>AB257344 |SARS coronavirus Frankfurt 1 genomic...</td>\n",
       "      <td>1</td>\n",
       "      <td>SARS-COV-1</td>\n",
       "      <td>GATCTCTTGTAGATCTGTTCTCTAAACGAACTTTAAAATCTGTGTA...</td>\n",
       "      <td>[-0.5, 1.5, -1.5, 0.5, -1.5, 0.5, -1.5, -1.5, ...</td>\n",
       "    </tr>\n",
       "    <tr>\n",
       "      <th>1</th>\n",
       "      <td>AH013708 |SARS coronavirus Sin0409| partial se...</td>\n",
       "      <td>1</td>\n",
       "      <td>SARS-COV-1</td>\n",
       "      <td>CATTCAGTACGGTCGTAGCGGTATAACACTGGGAGTACTCGTGCCA...</td>\n",
       "      <td>[0.5, 1.5, -1.5, -1.5, 0.5, 1.5, -0.5, -1.5, 1...</td>\n",
       "    </tr>\n",
       "    <tr>\n",
       "      <th>2</th>\n",
       "      <td>AH013709 |SARS coronavirus Sin_WNV| partial se...</td>\n",
       "      <td>1</td>\n",
       "      <td>SARS-COV-1</td>\n",
       "      <td>CACGCGCGGGCAAGTCAATGTGCACTCTTTCCGAACAACTTGATTA...</td>\n",
       "      <td>[0.5, 1.5, 0.5, -0.5, 0.5, -0.5, 0.5, -0.5, -0...</td>\n",
       "    </tr>\n",
       "    <tr>\n",
       "      <th>3</th>\n",
       "      <td>AP006557 |SARS coronavirus TWH genomic RNA| co...</td>\n",
       "      <td>1</td>\n",
       "      <td>SARS-COV-1</td>\n",
       "      <td>ATATTAGGTTTTTACCTACCCAGGAAAAGCCAACCAACCTCGATCT...</td>\n",
       "      <td>[1.5, -1.5, 1.5, -1.5, -1.5, 1.5, -0.5, -0.5, ...</td>\n",
       "    </tr>\n",
       "    <tr>\n",
       "      <th>4</th>\n",
       "      <td>AP006558 |SARS coronavirus TWJ genomic RNA| co...</td>\n",
       "      <td>1</td>\n",
       "      <td>SARS-COV-1</td>\n",
       "      <td>ATATTAGGTTTTTACCTACCCAGGAAAAGCCAACCAACCTCGATCT...</td>\n",
       "      <td>[1.5, -1.5, 1.5, -1.5, -1.5, 1.5, -0.5, -0.5, ...</td>\n",
       "    </tr>\n",
       "  </tbody>\n",
       "</table>\n",
       "</div>"
      ],
      "text/plain": [
       "                                                 PID  CLASS   CLASSNAME  \\\n",
       "0  AB257344 |SARS coronavirus Frankfurt 1 genomic...      1  SARS-COV-1   \n",
       "1  AH013708 |SARS coronavirus Sin0409| partial se...      1  SARS-COV-1   \n",
       "2  AH013709 |SARS coronavirus Sin_WNV| partial se...      1  SARS-COV-1   \n",
       "3  AP006557 |SARS coronavirus TWH genomic RNA| co...      1  SARS-COV-1   \n",
       "4  AP006558 |SARS coronavirus TWJ genomic RNA| co...      1  SARS-COV-1   \n",
       "\n",
       "                                                 SEQ  \\\n",
       "0  GATCTCTTGTAGATCTGTTCTCTAAACGAACTTTAAAATCTGTGTA...   \n",
       "1  CATTCAGTACGGTCGTAGCGGTATAACACTGGGAGTACTCGTGCCA...   \n",
       "2  CACGCGCGGGCAAGTCAATGTGCACTCTTTCCGAACAACTTGATTA...   \n",
       "3  ATATTAGGTTTTTACCTACCCAGGAAAAGCCAACCAACCTCGATCT...   \n",
       "4  ATATTAGGTTTTTACCTACCCAGGAAAAGCCAACCAACCTCGATCT...   \n",
       "\n",
       "                                             DIG_SEQ  \n",
       "0  [-0.5, 1.5, -1.5, 0.5, -1.5, 0.5, -1.5, -1.5, ...  \n",
       "1  [0.5, 1.5, -1.5, -1.5, 0.5, 1.5, -0.5, -1.5, 1...  \n",
       "2  [0.5, 1.5, 0.5, -0.5, 0.5, -0.5, 0.5, -0.5, -0...  \n",
       "3  [1.5, -1.5, 1.5, -1.5, -1.5, 1.5, -0.5, -0.5, ...  \n",
       "4  [1.5, -1.5, 1.5, -1.5, -1.5, 1.5, -0.5, -0.5, ...  "
      ]
     },
     "execution_count": 50,
     "metadata": {},
     "output_type": "execute_result"
    }
   ],
   "source": []
  },
  {
   "cell_type": "code",
   "execution_count": null,
   "id": "8fca2d4f",
   "metadata": {},
   "outputs": [],
   "source": [
    "all_data_final"
   ]
  },
  {
   "cell_type": "code",
   "execution_count": 46,
   "id": "bb2bd574",
   "metadata": {},
   "outputs": [
    {
     "name": "stderr",
     "output_type": "stream",
     "text": [
      "/tmp/ipykernel_272407/3469598069.py:3: SettingWithCopyWarning: \n",
      "A value is trying to be set on a copy of a slice from a DataFrame\n",
      "\n",
      "See the caveats in the documentation: https://pandas.pydata.org/pandas-docs/stable/user_guide/indexing.html#returning-a-view-versus-a-copy\n",
      "  all_data_final['DIG_SEQ'][i] = nucleotideToDigit(row[1][3])\n"
     ]
    },
    {
     "ename": "ValueError",
     "evalue": "setting an array element with a sequence.",
     "output_type": "error",
     "traceback": [
      "\u001b[0;31m---------------------------------------------------------------------------\u001b[0m",
      "\u001b[0;31mTypeError\u001b[0m                                 Traceback (most recent call last)",
      "\u001b[0;31mTypeError\u001b[0m: only size-1 arrays can be converted to Python scalars",
      "\nThe above exception was the direct cause of the following exception:\n",
      "\u001b[0;31mValueError\u001b[0m                                Traceback (most recent call last)",
      "\u001b[0;32m/home/jlw742/tf/lib/python3.8/site-packages/pandas/core/series.py\u001b[0m in \u001b[0;36m__setitem__\u001b[0;34m(self, key, value)\u001b[0m\n\u001b[1;32m   1084\u001b[0m         \u001b[0;32mtry\u001b[0m\u001b[0;34m:\u001b[0m\u001b[0;34m\u001b[0m\u001b[0;34m\u001b[0m\u001b[0m\n\u001b[0;32m-> 1085\u001b[0;31m             \u001b[0mself\u001b[0m\u001b[0;34m.\u001b[0m\u001b[0m_set_with_engine\u001b[0m\u001b[0;34m(\u001b[0m\u001b[0mkey\u001b[0m\u001b[0;34m,\u001b[0m \u001b[0mvalue\u001b[0m\u001b[0;34m)\u001b[0m\u001b[0;34m\u001b[0m\u001b[0;34m\u001b[0m\u001b[0m\n\u001b[0m\u001b[1;32m   1086\u001b[0m         \u001b[0;32mexcept\u001b[0m \u001b[0;34m(\u001b[0m\u001b[0mKeyError\u001b[0m\u001b[0;34m,\u001b[0m \u001b[0mValueError\u001b[0m\u001b[0;34m)\u001b[0m\u001b[0;34m:\u001b[0m\u001b[0;34m\u001b[0m\u001b[0;34m\u001b[0m\u001b[0m\n",
      "\u001b[0;32m/home/jlw742/tf/lib/python3.8/site-packages/pandas/core/series.py\u001b[0m in \u001b[0;36m_set_with_engine\u001b[0;34m(self, key, value)\u001b[0m\n\u001b[1;32m   1148\u001b[0m         \u001b[0;31m# this is equivalent to self._values[key] = value\u001b[0m\u001b[0;34m\u001b[0m\u001b[0;34m\u001b[0m\u001b[0;34m\u001b[0m\u001b[0m\n\u001b[0;32m-> 1149\u001b[0;31m         \u001b[0mself\u001b[0m\u001b[0;34m.\u001b[0m\u001b[0m_mgr\u001b[0m\u001b[0;34m.\u001b[0m\u001b[0msetitem_inplace\u001b[0m\u001b[0;34m(\u001b[0m\u001b[0mloc\u001b[0m\u001b[0;34m,\u001b[0m \u001b[0mvalue\u001b[0m\u001b[0;34m)\u001b[0m\u001b[0;34m\u001b[0m\u001b[0;34m\u001b[0m\u001b[0m\n\u001b[0m\u001b[1;32m   1150\u001b[0m \u001b[0;34m\u001b[0m\u001b[0m\n",
      "\u001b[0;32m/home/jlw742/tf/lib/python3.8/site-packages/pandas/core/internals/base.py\u001b[0m in \u001b[0;36msetitem_inplace\u001b[0;34m(self, indexer, value)\u001b[0m\n\u001b[1;32m    189\u001b[0m \u001b[0;34m\u001b[0m\u001b[0m\n\u001b[0;32m--> 190\u001b[0;31m         \u001b[0marr\u001b[0m\u001b[0;34m[\u001b[0m\u001b[0mindexer\u001b[0m\u001b[0;34m]\u001b[0m \u001b[0;34m=\u001b[0m \u001b[0mvalue\u001b[0m\u001b[0;34m\u001b[0m\u001b[0;34m\u001b[0m\u001b[0m\n\u001b[0m\u001b[1;32m    191\u001b[0m \u001b[0;34m\u001b[0m\u001b[0m\n",
      "\u001b[0;31mValueError\u001b[0m: setting an array element with a sequence.",
      "\nDuring handling of the above exception, another exception occurred:\n",
      "\u001b[0;31mTypeError\u001b[0m                                 Traceback (most recent call last)",
      "\u001b[0;31mTypeError\u001b[0m: only size-1 arrays can be converted to Python scalars",
      "\nThe above exception was the direct cause of the following exception:\n",
      "\u001b[0;31mValueError\u001b[0m                                Traceback (most recent call last)",
      "\u001b[0;32m/tmp/ipykernel_272407/3469598069.py\u001b[0m in \u001b[0;36m<module>\u001b[0;34m\u001b[0m\n\u001b[1;32m      1\u001b[0m \u001b[0mi\u001b[0m \u001b[0;34m=\u001b[0m \u001b[0;36m0\u001b[0m\u001b[0;34m\u001b[0m\u001b[0;34m\u001b[0m\u001b[0m\n\u001b[1;32m      2\u001b[0m \u001b[0;32mfor\u001b[0m \u001b[0mrow\u001b[0m \u001b[0;32min\u001b[0m \u001b[0mall_data_final\u001b[0m\u001b[0;34m.\u001b[0m\u001b[0miterrows\u001b[0m\u001b[0;34m(\u001b[0m\u001b[0;34m)\u001b[0m\u001b[0;34m:\u001b[0m\u001b[0;34m\u001b[0m\u001b[0;34m\u001b[0m\u001b[0m\n\u001b[0;32m----> 3\u001b[0;31m     \u001b[0mall_data_final\u001b[0m\u001b[0;34m[\u001b[0m\u001b[0;34m'DIG_SEQ'\u001b[0m\u001b[0;34m]\u001b[0m\u001b[0;34m[\u001b[0m\u001b[0mi\u001b[0m\u001b[0;34m]\u001b[0m \u001b[0;34m=\u001b[0m \u001b[0mnucleotideToDigit\u001b[0m\u001b[0;34m(\u001b[0m\u001b[0mrow\u001b[0m\u001b[0;34m[\u001b[0m\u001b[0;36m1\u001b[0m\u001b[0;34m]\u001b[0m\u001b[0;34m[\u001b[0m\u001b[0;36m3\u001b[0m\u001b[0;34m]\u001b[0m\u001b[0;34m)\u001b[0m\u001b[0;34m\u001b[0m\u001b[0;34m\u001b[0m\u001b[0m\n\u001b[0m\u001b[1;32m      4\u001b[0m     \u001b[0mi\u001b[0m\u001b[0;34m+=\u001b[0m\u001b[0;36m1\u001b[0m\u001b[0;34m\u001b[0m\u001b[0;34m\u001b[0m\u001b[0m\n",
      "\u001b[0;32m/home/jlw742/tf/lib/python3.8/site-packages/pandas/core/series.py\u001b[0m in \u001b[0;36m__setitem__\u001b[0;34m(self, key, value)\u001b[0m\n\u001b[1;32m   1102\u001b[0m             \u001b[0;32melse\u001b[0m\u001b[0;34m:\u001b[0m\u001b[0;34m\u001b[0m\u001b[0;34m\u001b[0m\u001b[0m\n\u001b[1;32m   1103\u001b[0m                 \u001b[0;31m# GH#12862 adding a new key to the Series\u001b[0m\u001b[0;34m\u001b[0m\u001b[0;34m\u001b[0m\u001b[0;34m\u001b[0m\u001b[0m\n\u001b[0;32m-> 1104\u001b[0;31m                 \u001b[0mself\u001b[0m\u001b[0;34m.\u001b[0m\u001b[0mloc\u001b[0m\u001b[0;34m[\u001b[0m\u001b[0mkey\u001b[0m\u001b[0;34m]\u001b[0m \u001b[0;34m=\u001b[0m \u001b[0mvalue\u001b[0m\u001b[0;34m\u001b[0m\u001b[0;34m\u001b[0m\u001b[0m\n\u001b[0m\u001b[1;32m   1105\u001b[0m \u001b[0;34m\u001b[0m\u001b[0m\n\u001b[1;32m   1106\u001b[0m         \u001b[0;32mexcept\u001b[0m \u001b[0;34m(\u001b[0m\u001b[0mInvalidIndexError\u001b[0m\u001b[0;34m,\u001b[0m \u001b[0mTypeError\u001b[0m\u001b[0;34m)\u001b[0m \u001b[0;32mas\u001b[0m \u001b[0merr\u001b[0m\u001b[0;34m:\u001b[0m\u001b[0;34m\u001b[0m\u001b[0;34m\u001b[0m\u001b[0m\n",
      "\u001b[0;32m/home/jlw742/tf/lib/python3.8/site-packages/pandas/core/indexing.py\u001b[0m in \u001b[0;36m__setitem__\u001b[0;34m(self, key, value)\u001b[0m\n\u001b[1;32m    714\u001b[0m \u001b[0;34m\u001b[0m\u001b[0m\n\u001b[1;32m    715\u001b[0m         \u001b[0miloc\u001b[0m \u001b[0;34m=\u001b[0m \u001b[0mself\u001b[0m \u001b[0;32mif\u001b[0m \u001b[0mself\u001b[0m\u001b[0;34m.\u001b[0m\u001b[0mname\u001b[0m \u001b[0;34m==\u001b[0m \u001b[0;34m\"iloc\"\u001b[0m \u001b[0;32melse\u001b[0m \u001b[0mself\u001b[0m\u001b[0;34m.\u001b[0m\u001b[0mobj\u001b[0m\u001b[0;34m.\u001b[0m\u001b[0miloc\u001b[0m\u001b[0;34m\u001b[0m\u001b[0;34m\u001b[0m\u001b[0m\n\u001b[0;32m--> 716\u001b[0;31m         \u001b[0miloc\u001b[0m\u001b[0;34m.\u001b[0m\u001b[0m_setitem_with_indexer\u001b[0m\u001b[0;34m(\u001b[0m\u001b[0mindexer\u001b[0m\u001b[0;34m,\u001b[0m \u001b[0mvalue\u001b[0m\u001b[0;34m,\u001b[0m \u001b[0mself\u001b[0m\u001b[0;34m.\u001b[0m\u001b[0mname\u001b[0m\u001b[0;34m)\u001b[0m\u001b[0;34m\u001b[0m\u001b[0;34m\u001b[0m\u001b[0m\n\u001b[0m\u001b[1;32m    717\u001b[0m \u001b[0;34m\u001b[0m\u001b[0m\n\u001b[1;32m    718\u001b[0m     \u001b[0;32mdef\u001b[0m \u001b[0m_validate_key\u001b[0m\u001b[0;34m(\u001b[0m\u001b[0mself\u001b[0m\u001b[0;34m,\u001b[0m \u001b[0mkey\u001b[0m\u001b[0;34m,\u001b[0m \u001b[0maxis\u001b[0m\u001b[0;34m:\u001b[0m \u001b[0mint\u001b[0m\u001b[0;34m)\u001b[0m\u001b[0;34m:\u001b[0m\u001b[0;34m\u001b[0m\u001b[0;34m\u001b[0m\u001b[0m\n",
      "\u001b[0;32m/home/jlw742/tf/lib/python3.8/site-packages/pandas/core/indexing.py\u001b[0m in \u001b[0;36m_setitem_with_indexer\u001b[0;34m(self, indexer, value, name)\u001b[0m\n\u001b[1;32m   1688\u001b[0m             \u001b[0mself\u001b[0m\u001b[0;34m.\u001b[0m\u001b[0m_setitem_with_indexer_split_path\u001b[0m\u001b[0;34m(\u001b[0m\u001b[0mindexer\u001b[0m\u001b[0;34m,\u001b[0m \u001b[0mvalue\u001b[0m\u001b[0;34m,\u001b[0m \u001b[0mname\u001b[0m\u001b[0;34m)\u001b[0m\u001b[0;34m\u001b[0m\u001b[0;34m\u001b[0m\u001b[0m\n\u001b[1;32m   1689\u001b[0m         \u001b[0;32melse\u001b[0m\u001b[0;34m:\u001b[0m\u001b[0;34m\u001b[0m\u001b[0;34m\u001b[0m\u001b[0m\n\u001b[0;32m-> 1690\u001b[0;31m             \u001b[0mself\u001b[0m\u001b[0;34m.\u001b[0m\u001b[0m_setitem_single_block\u001b[0m\u001b[0;34m(\u001b[0m\u001b[0mindexer\u001b[0m\u001b[0;34m,\u001b[0m \u001b[0mvalue\u001b[0m\u001b[0;34m,\u001b[0m \u001b[0mname\u001b[0m\u001b[0;34m)\u001b[0m\u001b[0;34m\u001b[0m\u001b[0;34m\u001b[0m\u001b[0m\n\u001b[0m\u001b[1;32m   1691\u001b[0m \u001b[0;34m\u001b[0m\u001b[0m\n\u001b[1;32m   1692\u001b[0m     \u001b[0;32mdef\u001b[0m \u001b[0m_setitem_with_indexer_split_path\u001b[0m\u001b[0;34m(\u001b[0m\u001b[0mself\u001b[0m\u001b[0;34m,\u001b[0m \u001b[0mindexer\u001b[0m\u001b[0;34m,\u001b[0m \u001b[0mvalue\u001b[0m\u001b[0;34m,\u001b[0m \u001b[0mname\u001b[0m\u001b[0;34m:\u001b[0m \u001b[0mstr\u001b[0m\u001b[0;34m)\u001b[0m\u001b[0;34m:\u001b[0m\u001b[0;34m\u001b[0m\u001b[0;34m\u001b[0m\u001b[0m\n",
      "\u001b[0;32m/home/jlw742/tf/lib/python3.8/site-packages/pandas/core/indexing.py\u001b[0m in \u001b[0;36m_setitem_single_block\u001b[0;34m(self, indexer, value, name)\u001b[0m\n\u001b[1;32m   1936\u001b[0m \u001b[0;34m\u001b[0m\u001b[0m\n\u001b[1;32m   1937\u001b[0m         \u001b[0;31m# actually do the set\u001b[0m\u001b[0;34m\u001b[0m\u001b[0;34m\u001b[0m\u001b[0;34m\u001b[0m\u001b[0m\n\u001b[0;32m-> 1938\u001b[0;31m         \u001b[0mself\u001b[0m\u001b[0;34m.\u001b[0m\u001b[0mobj\u001b[0m\u001b[0;34m.\u001b[0m\u001b[0m_mgr\u001b[0m \u001b[0;34m=\u001b[0m \u001b[0mself\u001b[0m\u001b[0;34m.\u001b[0m\u001b[0mobj\u001b[0m\u001b[0;34m.\u001b[0m\u001b[0m_mgr\u001b[0m\u001b[0;34m.\u001b[0m\u001b[0msetitem\u001b[0m\u001b[0;34m(\u001b[0m\u001b[0mindexer\u001b[0m\u001b[0;34m=\u001b[0m\u001b[0mindexer\u001b[0m\u001b[0;34m,\u001b[0m \u001b[0mvalue\u001b[0m\u001b[0;34m=\u001b[0m\u001b[0mvalue\u001b[0m\u001b[0;34m)\u001b[0m\u001b[0;34m\u001b[0m\u001b[0;34m\u001b[0m\u001b[0m\n\u001b[0m\u001b[1;32m   1939\u001b[0m         \u001b[0mself\u001b[0m\u001b[0;34m.\u001b[0m\u001b[0mobj\u001b[0m\u001b[0;34m.\u001b[0m\u001b[0m_maybe_update_cacher\u001b[0m\u001b[0;34m(\u001b[0m\u001b[0mclear\u001b[0m\u001b[0;34m=\u001b[0m\u001b[0;32mTrue\u001b[0m\u001b[0;34m,\u001b[0m \u001b[0minplace\u001b[0m\u001b[0;34m=\u001b[0m\u001b[0;32mTrue\u001b[0m\u001b[0;34m)\u001b[0m\u001b[0;34m\u001b[0m\u001b[0;34m\u001b[0m\u001b[0m\n\u001b[1;32m   1940\u001b[0m \u001b[0;34m\u001b[0m\u001b[0m\n",
      "\u001b[0;32m/home/jlw742/tf/lib/python3.8/site-packages/pandas/core/internals/managers.py\u001b[0m in \u001b[0;36msetitem\u001b[0;34m(self, indexer, value)\u001b[0m\n\u001b[1;32m    335\u001b[0m         \u001b[0mFor\u001b[0m \u001b[0mSingleBlockManager\u001b[0m\u001b[0;34m,\u001b[0m \u001b[0mthis\u001b[0m \u001b[0mbacks\u001b[0m \u001b[0ms\u001b[0m\u001b[0;34m[\u001b[0m\u001b[0mindexer\u001b[0m\u001b[0;34m]\u001b[0m \u001b[0;34m=\u001b[0m \u001b[0mvalue\u001b[0m\u001b[0;34m\u001b[0m\u001b[0;34m\u001b[0m\u001b[0m\n\u001b[1;32m    336\u001b[0m         \"\"\"\n\u001b[0;32m--> 337\u001b[0;31m         \u001b[0;32mreturn\u001b[0m \u001b[0mself\u001b[0m\u001b[0;34m.\u001b[0m\u001b[0mapply\u001b[0m\u001b[0;34m(\u001b[0m\u001b[0;34m\"setitem\"\u001b[0m\u001b[0;34m,\u001b[0m \u001b[0mindexer\u001b[0m\u001b[0;34m=\u001b[0m\u001b[0mindexer\u001b[0m\u001b[0;34m,\u001b[0m \u001b[0mvalue\u001b[0m\u001b[0;34m=\u001b[0m\u001b[0mvalue\u001b[0m\u001b[0;34m)\u001b[0m\u001b[0;34m\u001b[0m\u001b[0;34m\u001b[0m\u001b[0m\n\u001b[0m\u001b[1;32m    338\u001b[0m \u001b[0;34m\u001b[0m\u001b[0m\n\u001b[1;32m    339\u001b[0m     \u001b[0;32mdef\u001b[0m \u001b[0mputmask\u001b[0m\u001b[0;34m(\u001b[0m\u001b[0mself\u001b[0m\u001b[0;34m,\u001b[0m \u001b[0mmask\u001b[0m\u001b[0;34m,\u001b[0m \u001b[0mnew\u001b[0m\u001b[0;34m,\u001b[0m \u001b[0malign\u001b[0m\u001b[0;34m:\u001b[0m \u001b[0mbool\u001b[0m \u001b[0;34m=\u001b[0m \u001b[0;32mTrue\u001b[0m\u001b[0;34m)\u001b[0m\u001b[0;34m:\u001b[0m\u001b[0;34m\u001b[0m\u001b[0;34m\u001b[0m\u001b[0m\n",
      "\u001b[0;32m/home/jlw742/tf/lib/python3.8/site-packages/pandas/core/internals/managers.py\u001b[0m in \u001b[0;36mapply\u001b[0;34m(self, f, align_keys, ignore_failures, **kwargs)\u001b[0m\n\u001b[1;32m    302\u001b[0m                     \u001b[0mapplied\u001b[0m \u001b[0;34m=\u001b[0m \u001b[0mb\u001b[0m\u001b[0;34m.\u001b[0m\u001b[0mapply\u001b[0m\u001b[0;34m(\u001b[0m\u001b[0mf\u001b[0m\u001b[0;34m,\u001b[0m \u001b[0;34m**\u001b[0m\u001b[0mkwargs\u001b[0m\u001b[0;34m)\u001b[0m\u001b[0;34m\u001b[0m\u001b[0;34m\u001b[0m\u001b[0m\n\u001b[1;32m    303\u001b[0m                 \u001b[0;32melse\u001b[0m\u001b[0;34m:\u001b[0m\u001b[0;34m\u001b[0m\u001b[0;34m\u001b[0m\u001b[0m\n\u001b[0;32m--> 304\u001b[0;31m                     \u001b[0mapplied\u001b[0m \u001b[0;34m=\u001b[0m \u001b[0mgetattr\u001b[0m\u001b[0;34m(\u001b[0m\u001b[0mb\u001b[0m\u001b[0;34m,\u001b[0m \u001b[0mf\u001b[0m\u001b[0;34m)\u001b[0m\u001b[0;34m(\u001b[0m\u001b[0;34m**\u001b[0m\u001b[0mkwargs\u001b[0m\u001b[0;34m)\u001b[0m\u001b[0;34m\u001b[0m\u001b[0;34m\u001b[0m\u001b[0m\n\u001b[0m\u001b[1;32m    305\u001b[0m             \u001b[0;32mexcept\u001b[0m \u001b[0;34m(\u001b[0m\u001b[0mTypeError\u001b[0m\u001b[0;34m,\u001b[0m \u001b[0mNotImplementedError\u001b[0m\u001b[0;34m)\u001b[0m\u001b[0;34m:\u001b[0m\u001b[0;34m\u001b[0m\u001b[0;34m\u001b[0m\u001b[0m\n\u001b[1;32m    306\u001b[0m                 \u001b[0;32mif\u001b[0m \u001b[0;32mnot\u001b[0m \u001b[0mignore_failures\u001b[0m\u001b[0;34m:\u001b[0m\u001b[0;34m\u001b[0m\u001b[0;34m\u001b[0m\u001b[0m\n",
      "\u001b[0;32m/home/jlw742/tf/lib/python3.8/site-packages/pandas/core/internals/blocks.py\u001b[0m in \u001b[0;36msetitem\u001b[0;34m(self, indexer, value)\u001b[0m\n\u001b[1;32m    935\u001b[0m             \u001b[0;31m# setting a single element for each dim and with a rhs that could\u001b[0m\u001b[0;34m\u001b[0m\u001b[0;34m\u001b[0m\u001b[0;34m\u001b[0m\u001b[0m\n\u001b[1;32m    936\u001b[0m             \u001b[0;31m#  be e.g. a list; see GH#6043\u001b[0m\u001b[0;34m\u001b[0m\u001b[0;34m\u001b[0m\u001b[0;34m\u001b[0m\u001b[0m\n\u001b[0;32m--> 937\u001b[0;31m             \u001b[0mvalues\u001b[0m\u001b[0;34m[\u001b[0m\u001b[0mindexer\u001b[0m\u001b[0;34m]\u001b[0m \u001b[0;34m=\u001b[0m \u001b[0mvalue\u001b[0m\u001b[0;34m\u001b[0m\u001b[0;34m\u001b[0m\u001b[0m\n\u001b[0m\u001b[1;32m    938\u001b[0m \u001b[0;34m\u001b[0m\u001b[0m\n\u001b[1;32m    939\u001b[0m         \u001b[0;32melse\u001b[0m\u001b[0;34m:\u001b[0m\u001b[0;34m\u001b[0m\u001b[0;34m\u001b[0m\u001b[0m\n",
      "\u001b[0;31mValueError\u001b[0m: setting an array element with a sequence."
     ]
    }
   ],
   "source": [
    "# i = 0\n",
    "# for row in all_data_final.iterrows():\n",
    "#     all_data_final['SEQ'][i] = nucleotideToDigit(row[1][3])\n",
    "#     i+=1"
   ]
  },
  {
   "cell_type": "code",
   "execution_count": null,
   "id": "fa614c4d",
   "metadata": {},
   "outputs": [],
   "source": []
  },
  {
   "cell_type": "code",
   "execution_count": 36,
   "id": "6208c55a",
   "metadata": {},
   "outputs": [
    {
     "data": {
      "text/plain": [
       "array([ 0.5, -0.5,  1.5, ...,  1.5, -0.5, -1.5])"
      ]
     },
     "execution_count": 36,
     "metadata": {},
     "output_type": "execute_result"
    }
   ],
   "source": [
    "nucleotideToDigit(all_data_final['SEQ'][0])"
   ]
  },
  {
   "cell_type": "code",
   "execution_count": null,
   "id": "e304d968",
   "metadata": {},
   "outputs": [],
   "source": []
  }
 ],
 "metadata": {
  "kernelspec": {
   "display_name": "Python 3 (ipykernel)",
   "language": "python",
   "name": "python3"
  },
  "language_info": {
   "codemirror_mode": {
    "name": "ipython",
    "version": 3
   },
   "file_extension": ".py",
   "mimetype": "text/x-python",
   "name": "python",
   "nbconvert_exporter": "python",
   "pygments_lexer": "ipython3",
   "version": "3.8.12"
  }
 },
 "nbformat": 4,
 "nbformat_minor": 5
}
