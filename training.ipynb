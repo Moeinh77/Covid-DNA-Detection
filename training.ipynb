{
 "cells": [
  {
   "cell_type": "code",
   "execution_count": 1,
   "id": "551814aa",
   "metadata": {},
   "outputs": [],
   "source": [
    "import seaborn as sns\n",
    "import numpy as np\n",
    "import pickle\n",
    "import matplotlib.pyplot as plt\n",
    "from sklearn.metrics import f1_score"
   ]
  },
  {
   "cell_type": "code",
   "execution_count": 2,
   "id": "da637366",
   "metadata": {},
   "outputs": [
    {
     "name": "stderr",
     "output_type": "stream",
     "text": [
      "2022-02-25 13:39:45.469412: I tensorflow/stream_executor/cuda/cuda_gpu_executor.cc:939] successful NUMA node read from SysFS had negative value (-1), but there must be at least one NUMA node, so returning NUMA node zero\n",
      "2022-02-25 13:39:45.474889: I tensorflow/stream_executor/cuda/cuda_gpu_executor.cc:939] successful NUMA node read from SysFS had negative value (-1), but there must be at least one NUMA node, so returning NUMA node zero\n",
      "2022-02-25 13:39:45.475204: I tensorflow/stream_executor/cuda/cuda_gpu_executor.cc:939] successful NUMA node read from SysFS had negative value (-1), but there must be at least one NUMA node, so returning NUMA node zero\n"
     ]
    }
   ],
   "source": [
    "import tensorflow as tf\n",
    "from tensorflow import keras\n",
    "from tensorflow.keras import layers\n",
    "\n",
    "gpu_devices = tf.config.experimental.list_physical_devices('GPU')\n",
    "for device in gpu_devices:\n",
    "    tf.config.experimental.set_memory_growth(device, True)"
   ]
  },
  {
   "cell_type": "code",
   "execution_count": 3,
   "id": "634c5f14",
   "metadata": {},
   "outputs": [],
   "source": [
    "NUM_CLASSES = 6"
   ]
  },
  {
   "cell_type": "markdown",
   "id": "21e8b950",
   "metadata": {},
   "source": [
    "### The networks"
   ]
  },
  {
   "cell_type": "markdown",
   "id": "9ebe5589",
   "metadata": {},
   "source": [
    "#### Transformer"
   ]
  },
  {
   "cell_type": "code",
   "execution_count": 4,
   "id": "be5abb89",
   "metadata": {},
   "outputs": [],
   "source": [
    "class TokenAndPositionEmbedding(layers.Layer):\n",
    "    def __init__(self, maxlen, vocab_size, embed_dim):\n",
    "        super(TokenAndPositionEmbedding, self).__init__()\n",
    "        self.embed_dim = embed_dim\n",
    "        self.token_emb = layers.Embedding(input_dim= vocab_size, output_dim= embed_dim)\n",
    "        self.maxlen = maxlen\n",
    "        # self.pos_emb = layers.Embedding(input_dim= maxlen, output_dim= embed_dim)\n",
    "\n",
    "    def get_angles(self, pos, i, embd_dim):\n",
    "        angle_rates = 1 / np.power(10000, (2 * (i//2)) / np.float32(embd_dim))\n",
    "        return pos * angle_rates\n",
    "\n",
    "    def positional_encoding(self, max_pos_enc, embd_dim):\n",
    "        angle_rads = self.get_angles(np.arange(max_pos_enc)[:, np.newaxis],\n",
    "                                np.arange(embd_dim)[np.newaxis, :],\n",
    "                                embd_dim)\n",
    "\n",
    "        # apply sin to even indices in the array; 2i\n",
    "        angle_rads[:, 0::2] = np.sin(angle_rads[:, 0::2])\n",
    "\n",
    "        # apply cos to odd indices in the array; 2i+1\n",
    "        angle_rads[:, 1::2] = np.cos(angle_rads[:, 1::2])\n",
    "\n",
    "        pos_encoding = angle_rads[np.newaxis, ...]\n",
    "\n",
    "        return tf.cast(pos_encoding, dtype=tf.float32)\n",
    "\n",
    "    def call(self, x):\n",
    "        # positions = tf.range(start=0, limit=maxlen, delta=1)\n",
    "        positions = self.positional_encoding(max_pos_enc= self.maxlen, embd_dim= self.embed_dim)\n",
    "        # print(positions.shape)\n",
    "        # positions = self.pos_encoding(positions)\n",
    "        x = self.token_emb(x)\n",
    "        # print(x.shape)\n",
    "        return x + positions"
   ]
  },
  {
   "cell_type": "code",
   "execution_count": 5,
   "id": "78a66e7c",
   "metadata": {},
   "outputs": [],
   "source": [
    "class TransformerBlock(layers.Layer):\n",
    "    def __init__(self, embed_dim, num_heads, ff_dim, rate=0.1):\n",
    "        super(TransformerBlock, self).__init__()\n",
    "        self.att = layers.MultiHeadAttention(num_heads= num_heads, key_dim= embed_dim)\n",
    "        self.ffn = keras.Sequential(\n",
    "            [layers.Dense(ff_dim, activation=\"relu\"), layers.Dense(embed_dim),]\n",
    "        )\n",
    "        self.layernorm1 = layers.LayerNormalization(epsilon=1e-6)\n",
    "        self.layernorm2 = layers.LayerNormalization(epsilon=1e-6)\n",
    "        self.dropout1 = layers.Dropout(rate)\n",
    "        self.dropout2 = layers.Dropout(rate)\n",
    "\n",
    "    def call(self, inputs, training):\n",
    "        attn_output = self.att(inputs, inputs)\n",
    "        attn_output = self.dropout1(attn_output, training=training)\n",
    "        out1 = self.layernorm1(inputs + attn_output)\n",
    "        # print('out1.shape:', out1.shape)\n",
    "        ffn_output = self.ffn(out1)\n",
    "        ffn_output = self.dropout2(ffn_output, training=training)\n",
    "        # print('ffn_output.shape:', ffn_output.shape)\n",
    "        return self.layernorm2(out1 + ffn_output)"
   ]
  },
  {
   "cell_type": "code",
   "execution_count": 6,
   "id": "6a755131",
   "metadata": {},
   "outputs": [],
   "source": [
    "# def create_model_transformer(maxlen = 30121, vocab_size = 259,\n",
    "#                             embed_dim = 50, num_heads = 2, \n",
    "#                             ff_dim = 16, dout = 0.1, \n",
    "#                             extra_dense_nodes = 20):\n",
    "#     '''\n",
    "#     embed_dim - Embedding size for each token\n",
    "#     num_heads - Number of attention heads\n",
    "#     ff_dim - Hidden layer size in feed forward network inside transformer\n",
    "#     '''\n",
    "#     inputs = layers.Input(shape=(maxlen,))\n",
    "#     embedding_layer = TokenAndPositionEmbedding(maxlen, vocab_size, embed_dim)\n",
    "#     x = embedding_layer(inputs)\n",
    "#     transformer_block = TransformerBlock(embed_dim, num_heads, ff_dim)\n",
    "#     print(x.shape)\n",
    "#     x = transformer_block(x)\n",
    "#     x = layers.GlobalAveragePooling1D()(x)\n",
    "#     x = layers.Dropout(dout)(x)\n",
    "#     if extra_dense_nodes!= 0:\n",
    "#         x = layers.Dense(extra_dense_nodes, activation= \"relu\")(x)\n",
    "#         x = layers.Dropout(dout)(x)\n",
    "#     outputs = layers.Dense(NUM_CLASSES, activation= \"softmax\")(x)\n",
    "\n",
    "#     model= keras.Model(inputs=inputs, outputs= outputs)\n",
    "#     model.summary()\n",
    "\n",
    "#     return model"
   ]
  },
  {
   "cell_type": "markdown",
   "id": "547fc7cc",
   "metadata": {},
   "source": [
    "### Transformer and CNN"
   ]
  },
  {
   "cell_type": "code",
   "execution_count": 7,
   "id": "5d7d7a84",
   "metadata": {},
   "outputs": [],
   "source": [
    "from tensorflow.keras.layers import Conv1D\n",
    " \n",
    "@tf.autograph.experimental.do_not_convert # added to silence a warning related to TF\n",
    "def create_model_cnn_transformer(maxlen = 30121, vocab_size = 259,\n",
    "                                embed_dim = 50, num_heads = 2, \n",
    "                                ff_dim = 16, dout = 0.1,\n",
    "                                cnn_filters = 64, cnn_window = 3, \n",
    "                                pool_window = 2, extra_dense_nodes = 20,\n",
    "                                summary = False):\n",
    "    '''\n",
    "    embed_dim - Embedding size for each token\n",
    "    num_heads - Number of attention heads\n",
    "    ff_dim - Hidden layer size in feed forward network inside transformer\n",
    "    '''\n",
    "    # input\n",
    "    inputs = layers.Input(shape=(maxlen,))\n",
    "    # embeddding\n",
    "    embedding_layer = TokenAndPositionEmbedding(inputs.shape[1], vocab_size, embed_dim)\n",
    "    x = embedding_layer(inputs)\n",
    "    # print('embedding output shape:', x.shape)\n",
    "    # convolution\n",
    "    x = Conv1D(filters= cnn_filters, kernel_size= cnn_window)(x)\n",
    "    x = layers.MaxPooling1D(pool_size=pool_window)(x)\n",
    "    # transformer\n",
    "    transformer_block = TransformerBlock(x.shape[2], num_heads, ff_dim)\n",
    "    # print('transformer_block input shape:', x.shape)\n",
    "    x = transformer_block(x)\n",
    "    # extra dense layers\n",
    "    x = layers.GlobalAveragePooling1D()(x)\n",
    "    x = layers.Dropout(dout)(x)\n",
    "    if extra_dense_nodes!= 0:\n",
    "        x = layers.Dense(extra_dense_nodes, activation= \"relu\")(x)\n",
    "        x = layers.Dropout(dout)(x)\n",
    "    # output\n",
    "    outputs = layers.Dense(NUM_CLASSES, activation= \"softmax\")(x)\n",
    "\n",
    "    model= keras.Model(inputs=inputs, outputs= outputs)\n",
    "    if summary:\n",
    "        model.summary()\n",
    "    \n",
    "    return model"
   ]
  },
  {
   "cell_type": "markdown",
   "id": "d200e781",
   "metadata": {},
   "source": [
    "### LSTM"
   ]
  },
  {
   "cell_type": "code",
   "execution_count": 8,
   "id": "6c6d3ac1",
   "metadata": {},
   "outputs": [],
   "source": [
    "# from tensorflow.keras.models import Sequential\n",
    "# from tensorflow.keras.layers import Dense, LSTM, Embedding\n",
    "\n",
    "# def create_LSTM_model(hidden_unit = 100, embedding_vec = 50):\n",
    "#     model = Sequential()\n",
    "#     model.add(Embedding(VOCAB_SIZE, embedding_vec, input_length= maxlen))\n",
    "#     model.add(LSTM(hidden_unit))\n",
    "#     model.add(Dense(NUM_CLASSES, activation='softmax'))\n",
    "    \n",
    "#     model.compile(loss='sparse_categorical_crossentropy', optimizer='adam', metrics=['accuracy'])\n",
    "#     model.summary()\n",
    "#     return model"
   ]
  },
  {
   "cell_type": "markdown",
   "id": "a16735c7",
   "metadata": {},
   "source": [
    "### Kmer method"
   ]
  },
  {
   "cell_type": "markdown",
   "id": "f27ca049",
   "metadata": {},
   "source": [
    "#### Loading the saved data"
   ]
  },
  {
   "cell_type": "code",
   "execution_count": 9,
   "id": "368a5d21",
   "metadata": {},
   "outputs": [
    {
     "data": {
      "text/plain": [
       "((1500, 30121), (1500,))"
      ]
     },
     "execution_count": 9,
     "metadata": {},
     "output_type": "execute_result"
    }
   ],
   "source": [
    "with open('X_train_k3.pkl', 'rb') as f:\n",
    "    X_train = pickle.load(f)\n",
    "with open('Y_train_k3.pkl', 'rb') as f:\n",
    "    Y_train = pickle.load(f)\n",
    "    \n",
    "X_train.shape, Y_train.shape"
   ]
  },
  {
   "cell_type": "code",
   "execution_count": 10,
   "id": "d554919b",
   "metadata": {},
   "outputs": [
    {
     "data": {
      "text/plain": [
       "((1090, 30121), (1090,))"
      ]
     },
     "execution_count": 10,
     "metadata": {},
     "output_type": "execute_result"
    }
   ],
   "source": [
    "with open('X_test_list_k3.pkl', 'rb') as f:\n",
    "    X_test = pickle.load(f)\n",
    "with open('Y_test_list_k3.pkl', 'rb') as f:\n",
    "    Y_test = pickle.load(f)\n",
    "\n",
    "X_test[0].shape, Y_test[0].shape    "
   ]
  },
  {
   "cell_type": "code",
   "execution_count": 11,
   "id": "4a7db454",
   "metadata": {},
   "outputs": [
    {
     "data": {
      "image/png": "[encoded data removed]",
      "text/plain": [
       "<Figure size 432x288 with 1 Axes>"
      ]
     },
     "metadata": {
      "needs_background": "light"
     },
     "output_type": "display_data"
    }
   ],
   "source": [
    "sns.countplot(x = Y_train)\n",
    "plt.title('Class distribution in training')\n",
    "plt.show()"
   ]
  },
  {
   "cell_type": "code",
   "execution_count": 12,
   "id": "64a3a99a",
   "metadata": {},
   "outputs": [
    {
     "data": {
      "image/png": "[encoded data removed]",
      "text/plain": [
       "<Figure size 432x288 with 5 Axes>"
      ]
     },
     "metadata": {
      "needs_background": "light"
     },
     "output_type": "display_data"
    }
   ],
   "source": [
    "test_indicies = [2,3,4,5,1]\n",
    "tests_order = [4,0,1,2,3] # the order that test sets are saved in Y_test\n",
    "fig, ax= plt.subplots(1,len(Y_test))\n",
    "fig.tight_layout()\n",
    "\n",
    "for i in range(len(Y_test)):\n",
    "    ax[i].set_title('test set '+ str(i+1))   \n",
    "    sns.countplot(x = Y_test[tests_order[i]], ax=ax[i])\n",
    "\n",
    "# plt.title('Class distribution in test sets', loc = 'left')\n",
    "fig.show()"
   ]
  },
  {
   "cell_type": "markdown",
   "id": "1d95cf66",
   "metadata": {},
   "source": [
    "#### Training helpers"
   ]
  },
  {
   "cell_type": "code",
   "execution_count": 36,
   "id": "2cb8ebdf",
   "metadata": {},
   "outputs": [],
   "source": [
    "model_names = ['transformer_cnn_k3_32f_4pool',\n",
    "            'transformer_cnn_k3_64f_4pool',\n",
    "            'transformer_cnn_k3_128f_4pool']"
   ]
  },
  {
   "cell_type": "code",
   "execution_count": 37,
   "id": "341f9cb5",
   "metadata": {},
   "outputs": [],
   "source": [
    "lr_decay = tf.keras.callbacks.ReduceLROnPlateau(\n",
    "    monitor=\"val_loss\",\n",
    "    factor=0.5,\n",
    "    patience=5,\n",
    "    verbose= 1\n",
    "    )\n",
    "\n",
    "es = tf.keras.callbacks.EarlyStopping(\n",
    "    monitor=\"val_loss\",\n",
    "    verbose=1,\n",
    "    patience=5,\n",
    "    mode=\"auto\",\n",
    "    restore_best_weights=True,\n",
    ")\n",
    "\n",
    "adam_opt = tf.keras.optimizers.Adam(learning_rate= 3e-3)"
   ]
  },
  {
   "cell_type": "code",
   "execution_count": 38,
   "id": "92772731",
   "metadata": {},
   "outputs": [],
   "source": [
    "def evaluate_model(model, model_name):\n",
    "    model.load_weights('weights/'+model_name) # loads the best weight before evaluating\n",
    "    for i in range(5):\n",
    "        print('Test set {} F1 score:'.format(test_indicies[i]))\n",
    "        preds = np.argmax(model.predict(X_test[i], batch_size=4), axis = 1)\n",
    "        score = f1_score(Y_test[i], preds, average = 'weighted')\n",
    "        print(score)\n",
    "        with open('results/'+model_name+'_test_results.txt','a') as f:\n",
    "            f.write('Test set '+str(test_indicies[i])+'F1 score:')\n",
    "            f.write('\\n'+str(score))\n",
    "            f.write('\\n')"
   ]
  },
  {
   "cell_type": "code",
   "execution_count": 39,
   "id": "9ecab02a",
   "metadata": {},
   "outputs": [],
   "source": [
    "# def evaluate_model(model, model_name):\n",
    "#     model.load_weights('weights/'+model_name)\n",
    "#     for i in range(5):\n",
    "#         print('Test set {} results:'.format(test_indicies[i]))\n",
    "#         with open(model_name+'_test_results.txt','a') as f:\n",
    "#             f.write('Test set '+str(test_indicies[i])+' results:')\n",
    "#             f.write('\\n'+str(model.evaluate(X_test[i], Y_test[i], batch_size=4)))\n",
    "#             f.write('\\n')"
   ]
  },
  {
   "cell_type": "code",
   "execution_count": 40,
   "id": "947a5b50",
   "metadata": {},
   "outputs": [],
   "source": [
    "def plot_history(history, model_name):\n",
    "    print('Highest train acc: {:.3f} epoch: {}\\nHighest val acc: {:.3f} epoch: {}'\\\n",
    "        .format(max(history.history['accuracy']), np.argmax(np.array(history.history['accuracy'])),\n",
    "                max(history.history['val_accuracy']), np.argmax(np.array(history.history['val_accuracy']))))\n",
    "\n",
    "    plt.title('Training history of '+ model_name)\n",
    "    plt.plot(history.history['accuracy'],'ro-')\n",
    "    plt.plot(history.history['val_accuracy'],'bx-')\n",
    "    plt.legend(['accuracy','val_accuracy'])\n",
    "    plt.savefig('results/'+model_name+'.png')\n",
    "    plt.show()"
   ]
  },
  {
   "cell_type": "code",
   "execution_count": 41,
   "id": "521252fd",
   "metadata": {},
   "outputs": [],
   "source": [
    "def make_checkpointer(model_name):\n",
    "    return tf.keras.callbacks.ModelCheckpoint(\n",
    "    'weights/' + model_name, monitor='val_loss', verbose=0, save_best_only=True,\n",
    "    save_weights_only=True)"
   ]
  },
  {
   "cell_type": "code",
   "execution_count": 42,
   "id": "1190aff9",
   "metadata": {},
   "outputs": [],
   "source": [
    "metrics = ['accuracy']"
   ]
  },
  {
   "cell_type": "markdown",
   "id": "72b3e254",
   "metadata": {},
   "source": [
    "#### CNN_Transformer"
   ]
  },
  {
   "cell_type": "markdown",
   "id": "b2a1aadc",
   "metadata": {},
   "source": [
    "pool size smaller than 4 cannot be run by my GPU"
   ]
  },
  {
   "cell_type": "code",
   "execution_count": 32,
   "id": "d989b9f0",
   "metadata": {},
   "outputs": [],
   "source": [
    "eps = 20 #15"
   ]
  },
  {
   "cell_type": "code",
   "execution_count": 43,
   "id": "9009084d",
   "metadata": {},
   "outputs": [
    {
     "name": "stdout",
     "output_type": "stream",
     "text": [
      "transformer_cnn_k3_32f_4pool\n",
      "Epoch 1/20\n",
      "375/375 [==============================] - 92s 245ms/step - loss: 0.8892 - accuracy: 0.5807 - val_loss: 0.6242 - val_accuracy: 0.7248 - lr: 0.0030\n",
      "Epoch 2/20\n",
      "375/375 [==============================] - 91s 244ms/step - loss: 0.5927 - accuracy: 0.6727 - val_loss: 0.6545 - val_accuracy: 0.8028 - lr: 0.0030\n",
      "Epoch 3/20\n",
      "375/375 [==============================] - 92s 244ms/step - loss: 0.4341 - accuracy: 0.7720 - val_loss: 0.4142 - val_accuracy: 0.7945 - lr: 0.0030\n",
      "Epoch 4/20\n",
      "375/375 [==============================] - 92s 245ms/step - loss: 0.3417 - accuracy: 0.8060 - val_loss: 0.4278 - val_accuracy: 0.8670 - lr: 0.0030\n",
      "Epoch 5/20\n",
      "375/375 [==============================] - 92s 245ms/step - loss: 0.2987 - accuracy: 0.8467 - val_loss: 0.4101 - val_accuracy: 0.9202 - lr: 0.0030\n",
      "Epoch 6/20\n",
      "375/375 [==============================] - 92s 245ms/step - loss: 0.2939 - accuracy: 0.8827 - val_loss: 0.8633 - val_accuracy: 0.7688 - lr: 0.0030\n",
      "Epoch 7/20\n",
      "375/375 [==============================] - 92s 245ms/step - loss: 0.1990 - accuracy: 0.9253 - val_loss: 0.4451 - val_accuracy: 0.9138 - lr: 0.0030\n",
      "Epoch 8/20\n",
      "375/375 [==============================] - 92s 245ms/step - loss: 0.1506 - accuracy: 0.9467 - val_loss: 0.4653 - val_accuracy: 0.9073 - lr: 0.0030\n",
      "Epoch 9/20\n",
      "375/375 [==============================] - 92s 245ms/step - loss: 0.1181 - accuracy: 0.9580 - val_loss: 0.3266 - val_accuracy: 0.9321 - lr: 0.0030\n",
      "Epoch 10/20\n",
      "375/375 [==============================] - 92s 245ms/step - loss: 0.0882 - accuracy: 0.9687 - val_loss: 0.3571 - val_accuracy: 0.9798 - lr: 0.0030\n",
      "Epoch 11/20\n",
      "375/375 [==============================] - 92s 245ms/step - loss: 0.0920 - accuracy: 0.9687 - val_loss: 0.2414 - val_accuracy: 0.9752 - lr: 0.0030\n",
      "Epoch 12/20\n",
      "375/375 [==============================] - 92s 245ms/step - loss: 0.0618 - accuracy: 0.9813 - val_loss: 0.3569 - val_accuracy: 0.9550 - lr: 0.0030\n",
      "Epoch 13/20\n",
      "375/375 [==============================] - 92s 245ms/step - loss: 0.0449 - accuracy: 0.9867 - val_loss: 0.3287 - val_accuracy: 0.9807 - lr: 0.0030\n",
      "Epoch 14/20\n",
      "375/375 [==============================] - 92s 245ms/step - loss: 0.0580 - accuracy: 0.9773 - val_loss: 0.3893 - val_accuracy: 0.9468 - lr: 0.0030\n",
      "Epoch 15/20\n",
      "375/375 [==============================] - 92s 245ms/step - loss: 0.0433 - accuracy: 0.9853 - val_loss: 1.0794 - val_accuracy: 0.8716 - lr: 0.0030\n",
      "Epoch 16/20\n",
      "375/375 [==============================] - ETA: 0s - loss: 0.0508 - accuracy: 0.9833\n",
      "Epoch 00016: ReduceLROnPlateau reducing learning rate to 0.001500000013038516.\n",
      "375/375 [==============================] - 92s 245ms/step - loss: 0.0508 - accuracy: 0.9833 - val_loss: 0.8601 - val_accuracy: 0.8972 - lr: 0.0030\n",
      "Epoch 17/20\n",
      "375/375 [==============================] - 92s 245ms/step - loss: 0.0285 - accuracy: 0.9920 - val_loss: 0.9158 - val_accuracy: 0.8706 - lr: 0.0015\n",
      "Epoch 18/20\n",
      "375/375 [==============================] - 92s 245ms/step - loss: 0.0177 - accuracy: 0.9947 - val_loss: 0.7980 - val_accuracy: 0.8917 - lr: 0.0015\n",
      "Epoch 19/20\n",
      "375/375 [==============================] - 92s 245ms/step - loss: 0.0166 - accuracy: 0.9947 - val_loss: 0.6034 - val_accuracy: 0.9239 - lr: 0.0015\n",
      "Epoch 20/20\n",
      "375/375 [==============================] - 92s 245ms/step - loss: 0.0064 - accuracy: 0.9980 - val_loss: 0.5386 - val_accuracy: 0.9349 - lr: 0.0015\n",
      "Highest train acc: 0.998 epoch: 19\n",
      "Highest val acc: 0.981 epoch: 12\n"
     ]
    },
    {
     "data": {
      "image/png": "[encoded data removed]",
      "text/plain": [
       "<Figure size 432x288 with 1 Axes>"
      ]
     },
     "metadata": {
      "needs_background": "light"
     },
     "output_type": "display_data"
    },
    {
     "name": "stdout",
     "output_type": "stream",
     "text": [
      "Test set 2 F1 score:\n",
      "0.9751986427186882\n",
      "Test set 3 F1 score:\n",
      "0.9902582521030951\n",
      "Test set 4 F1 score:\n",
      "0.9945917627482705\n",
      "Test set 5 F1 score:\n",
      "0.9885778765600799\n",
      "Test set 1 F1 score:\n",
      "0.978563568443893\n"
     ]
    }
   ],
   "source": [
    "model_name = model_names[0]\n",
    "print(model_name)\n",
    "\n",
    "check_point = make_checkpointer(model_name)\n",
    "model = create_model_cnn_transformer(cnn_filters=32, pool_window=4)\n",
    "\n",
    "model.compile(optimizer= adam_opt, loss= \"sparse_categorical_crossentropy\", metrics= metrics)\n",
    "\n",
    "history = model.fit(X_train, Y_train,\n",
    "                    batch_size=4, epochs=eps,\n",
    "                    validation_data=(X_test[0], Y_test[0]),\n",
    "                    callbacks = [check_point, lr_decay])\n",
    "\n",
    "plot_history(history, model_name)\n",
    "evaluate_model(model, model_name)\n",
    "# tf.keras.utils.plot_model(cnn_transformer1, to_file='cnn_transformer_32f_4pool.png', show_shapes=True)"
   ]
  },
  {
   "cell_type": "code",
   "execution_count": 44,
   "id": "5e9187e7",
   "metadata": {},
   "outputs": [
    {
     "name": "stdout",
     "output_type": "stream",
     "text": [
      "transformer_cnn_k3_64f_4pool\n",
      "Epoch 1/20\n",
      "375/375 [==============================] - 102s 270ms/step - loss: 1.2368 - accuracy: 0.4327 - val_loss: 0.8511 - val_accuracy: 0.7248 - lr: 0.0030\n",
      "Epoch 2/20\n",
      "375/375 [==============================] - 101s 268ms/step - loss: 0.8395 - accuracy: 0.6087 - val_loss: 0.7092 - val_accuracy: 0.7239 - lr: 0.0030\n",
      "Epoch 3/20\n",
      "375/375 [==============================] - 101s 268ms/step - loss: 0.7446 - accuracy: 0.6153 - val_loss: 0.6833 - val_accuracy: 0.7339 - lr: 0.0030\n",
      "Epoch 4/20\n",
      "375/375 [==============================] - 101s 268ms/step - loss: 0.6689 - accuracy: 0.6427 - val_loss: 0.7860 - val_accuracy: 0.6303 - lr: 0.0030\n",
      "Epoch 5/20\n",
      "375/375 [==============================] - 101s 269ms/step - loss: 0.6513 - accuracy: 0.6560 - val_loss: 0.8346 - val_accuracy: 0.7239 - lr: 0.0030\n",
      "Epoch 6/20\n",
      "375/375 [==============================] - 101s 269ms/step - loss: 0.6492 - accuracy: 0.6467 - val_loss: 0.8134 - val_accuracy: 0.7229 - lr: 0.0030\n",
      "Epoch 7/20\n",
      "375/375 [==============================] - 101s 269ms/step - loss: 0.6347 - accuracy: 0.6693 - val_loss: 0.8119 - val_accuracy: 0.8477 - lr: 0.0030\n",
      "Epoch 8/20\n",
      "375/375 [==============================] - 101s 269ms/step - loss: 0.6009 - accuracy: 0.7127 - val_loss: 0.6660 - val_accuracy: 0.7963 - lr: 0.0030\n",
      "Epoch 9/20\n",
      "375/375 [==============================] - 101s 269ms/step - loss: 0.4753 - accuracy: 0.7613 - val_loss: 0.6160 - val_accuracy: 0.9239 - lr: 0.0030\n",
      "Epoch 10/20\n",
      "375/375 [==============================] - 101s 269ms/step - loss: 0.4364 - accuracy: 0.7773 - val_loss: 0.5568 - val_accuracy: 0.8945 - lr: 0.0030\n",
      "Epoch 11/20\n",
      "375/375 [==============================] - 101s 269ms/step - loss: 0.4234 - accuracy: 0.7953 - val_loss: 0.5640 - val_accuracy: 0.8835 - lr: 0.0030\n",
      "Epoch 12/20\n",
      "375/375 [==============================] - 101s 269ms/step - loss: 0.3576 - accuracy: 0.8547 - val_loss: 0.5753 - val_accuracy: 0.9679 - lr: 0.0030\n",
      "Epoch 13/20\n",
      "375/375 [==============================] - 101s 269ms/step - loss: 0.3266 - accuracy: 0.8740 - val_loss: 0.5322 - val_accuracy: 0.9330 - lr: 0.0030\n",
      "Epoch 14/20\n",
      "375/375 [==============================] - 101s 269ms/step - loss: 0.3297 - accuracy: 0.8580 - val_loss: 0.5163 - val_accuracy: 0.9257 - lr: 0.0030\n",
      "Epoch 15/20\n",
      "375/375 [==============================] - 101s 269ms/step - loss: 0.3809 - accuracy: 0.8440 - val_loss: 0.6596 - val_accuracy: 0.8972 - lr: 0.0030\n",
      "Epoch 16/20\n",
      "375/375 [==============================] - 101s 269ms/step - loss: 0.2832 - accuracy: 0.8873 - val_loss: 0.6923 - val_accuracy: 0.9468 - lr: 0.0030\n",
      "Epoch 17/20\n",
      "375/375 [==============================] - 101s 269ms/step - loss: 0.2619 - accuracy: 0.8987 - val_loss: 0.7534 - val_accuracy: 0.8927 - lr: 0.0030\n",
      "Epoch 18/20\n",
      "375/375 [==============================] - 101s 269ms/step - loss: 0.2484 - accuracy: 0.9067 - val_loss: 0.7093 - val_accuracy: 0.9514 - lr: 0.0030\n",
      "Epoch 19/20\n",
      "375/375 [==============================] - ETA: 0s - loss: 0.2511 - accuracy: 0.9040\n",
      "Epoch 00019: ReduceLROnPlateau reducing learning rate to 0.001500000013038516.\n",
      "375/375 [==============================] - 101s 269ms/step - loss: 0.2511 - accuracy: 0.9040 - val_loss: 0.6627 - val_accuracy: 0.9661 - lr: 0.0030\n",
      "Epoch 20/20\n",
      "375/375 [==============================] - 101s 269ms/step - loss: 0.1610 - accuracy: 0.9400 - val_loss: 0.6667 - val_accuracy: 0.9367 - lr: 0.0015\n",
      "Highest train acc: 0.940 epoch: 19\n",
      "Highest val acc: 0.968 epoch: 11\n"
     ]
    },
    {
     "data": {
      "image/png": "[encoded data removed]",
      "text/plain": [
       "<Figure size 432x288 with 1 Axes>"
      ]
     },
     "metadata": {
      "needs_background": "light"
     },
     "output_type": "display_data"
    },
    {
     "name": "stdout",
     "output_type": "stream",
     "text": [
      "Test set 2 F1 score:\n",
      "0.919684662084589\n",
      "Test set 3 F1 score:\n",
      "0.9405898605980496\n",
      "Test set 4 F1 score:\n",
      "0.9241338494641917\n",
      "Test set 5 F1 score:\n",
      "0.9419528254280054\n",
      "Test set 1 F1 score:\n",
      "0.8451301391772945\n"
     ]
    }
   ],
   "source": [
    "model_name = model_names[1]\n",
    "print(model_name)\n",
    "check_point = make_checkpointer(model_name)\n",
    "\n",
    "\n",
    "model = create_model_cnn_transformer(cnn_filters=64, pool_window=4)\n",
    "\n",
    "model.compile(optimizer= adam_opt, loss= \"sparse_categorical_crossentropy\", metrics=metrics)\n",
    "\n",
    "history = model.fit(X_train, Y_train,\n",
    "                    batch_size=4, epochs=eps,\n",
    "                    validation_data=(X_test[0], Y_test[0]),\n",
    "                    callbacks = [check_point, lr_decay])\n",
    "\n",
    "plot_history(history, model_name)\n",
    "evaluate_model(model, model_name)\n",
    "\n",
    "# tf.keras.utils.plot_model(cnn_transformer1, to_file='cnn_transformer_32f_4pool.png', show_shapes=True)"
   ]
  },
  {
   "cell_type": "code",
   "execution_count": 45,
   "id": "09c8f3f2",
   "metadata": {},
   "outputs": [
    {
     "name": "stdout",
     "output_type": "stream",
     "text": [
      "transformer_cnn_k3_128f_4pool\n",
      "Epoch 1/20\n",
      "375/375 [==============================] - 118s 312ms/step - loss: 1.8129 - accuracy: 0.1567 - val_loss: 1.7871 - val_accuracy: 0.1835 - lr: 0.0030\n",
      "Epoch 2/20\n",
      "375/375 [==============================] - 117s 312ms/step - loss: 1.7938 - accuracy: 0.1613 - val_loss: 1.7907 - val_accuracy: 0.1835 - lr: 0.0030\n",
      "Epoch 3/20\n",
      "375/375 [==============================] - 117s 312ms/step - loss: 1.7935 - accuracy: 0.1627 - val_loss: 1.7912 - val_accuracy: 0.1835 - lr: 0.0030\n",
      "Epoch 4/20\n",
      "375/375 [==============================] - 117s 312ms/step - loss: 1.7935 - accuracy: 0.1533 - val_loss: 1.7913 - val_accuracy: 0.1835 - lr: 0.0030\n",
      "Epoch 5/20\n",
      "375/375 [==============================] - 117s 312ms/step - loss: 1.7932 - accuracy: 0.1493 - val_loss: 1.7909 - val_accuracy: 0.1835 - lr: 0.0030\n",
      "Epoch 6/20\n",
      "375/375 [==============================] - ETA: 0s - loss: 1.7933 - accuracy: 0.1527\n",
      "Epoch 00006: ReduceLROnPlateau reducing learning rate to 0.001500000013038516.\n",
      "375/375 [==============================] - 117s 312ms/step - loss: 1.7933 - accuracy: 0.1527 - val_loss: 1.7930 - val_accuracy: 0.0826 - lr: 0.0030\n",
      "Epoch 7/20\n",
      "375/375 [==============================] - 117s 312ms/step - loss: 1.7926 - accuracy: 0.1460 - val_loss: 1.7925 - val_accuracy: 0.0826 - lr: 0.0015\n",
      "Epoch 8/20\n",
      "375/375 [==============================] - 117s 312ms/step - loss: 1.7925 - accuracy: 0.1453 - val_loss: 1.7921 - val_accuracy: 0.1835 - lr: 0.0015\n",
      "Epoch 9/20\n",
      "375/375 [==============================] - 117s 312ms/step - loss: 1.7926 - accuracy: 0.1560 - val_loss: 1.7913 - val_accuracy: 0.1835 - lr: 0.0015\n",
      "Epoch 10/20\n",
      "375/375 [==============================] - 117s 312ms/step - loss: 1.7925 - accuracy: 0.1500 - val_loss: 1.7914 - val_accuracy: 0.1835 - lr: 0.0015\n",
      "Epoch 11/20\n",
      "375/375 [==============================] - ETA: 0s - loss: 1.7926 - accuracy: 0.1533\n",
      "Epoch 00011: ReduceLROnPlateau reducing learning rate to 0.000750000006519258.\n",
      "375/375 [==============================] - 117s 312ms/step - loss: 1.7926 - accuracy: 0.1533 - val_loss: 1.7923 - val_accuracy: 0.0826 - lr: 0.0015\n",
      "Epoch 12/20\n",
      "375/375 [==============================] - 117s 312ms/step - loss: 1.7921 - accuracy: 0.1600 - val_loss: 1.7922 - val_accuracy: 0.0826 - lr: 7.5000e-04\n",
      "Epoch 13/20\n",
      "375/375 [==============================] - ETA: 0s - loss: 1.7922 - accuracy: 0.1507"
     ]
    },
    {
     "ename": "KeyboardInterrupt",
     "evalue": "",
     "output_type": "error",
     "traceback": [
      "\u001b[0;31m---------------------------------------------------------------------------\u001b[0m",
      "\u001b[0;31mKeyboardInterrupt\u001b[0m                         Traceback (most recent call last)",
      "\u001b[0;32m/tmp/ipykernel_31122/3599356565.py\u001b[0m in \u001b[0;36m<module>\u001b[0;34m\u001b[0m\n\u001b[1;32m      7\u001b[0m \u001b[0mmodel\u001b[0m\u001b[0;34m.\u001b[0m\u001b[0mcompile\u001b[0m\u001b[0;34m(\u001b[0m\u001b[0moptimizer\u001b[0m\u001b[0;34m=\u001b[0m \u001b[0madam_opt\u001b[0m\u001b[0;34m,\u001b[0m \u001b[0mloss\u001b[0m\u001b[0;34m=\u001b[0m \u001b[0;34m\"sparse_categorical_crossentropy\"\u001b[0m\u001b[0;34m,\u001b[0m \u001b[0mmetrics\u001b[0m\u001b[0;34m=\u001b[0m\u001b[0mmetrics\u001b[0m\u001b[0;34m)\u001b[0m\u001b[0;34m\u001b[0m\u001b[0;34m\u001b[0m\u001b[0m\n\u001b[1;32m      8\u001b[0m \u001b[0;34m\u001b[0m\u001b[0m\n\u001b[0;32m----> 9\u001b[0;31m history = model.fit(X_train, Y_train,\n\u001b[0m\u001b[1;32m     10\u001b[0m                     \u001b[0mbatch_size\u001b[0m\u001b[0;34m=\u001b[0m\u001b[0;36m4\u001b[0m\u001b[0;34m,\u001b[0m \u001b[0mepochs\u001b[0m\u001b[0;34m=\u001b[0m\u001b[0meps\u001b[0m\u001b[0;34m,\u001b[0m\u001b[0;34m\u001b[0m\u001b[0;34m\u001b[0m\u001b[0m\n\u001b[1;32m     11\u001b[0m                     \u001b[0mvalidation_data\u001b[0m\u001b[0;34m=\u001b[0m\u001b[0;34m(\u001b[0m\u001b[0mX_test\u001b[0m\u001b[0;34m[\u001b[0m\u001b[0;36m0\u001b[0m\u001b[0;34m]\u001b[0m\u001b[0;34m,\u001b[0m \u001b[0mY_test\u001b[0m\u001b[0;34m[\u001b[0m\u001b[0;36m0\u001b[0m\u001b[0;34m]\u001b[0m\u001b[0;34m)\u001b[0m\u001b[0;34m,\u001b[0m\u001b[0;34m\u001b[0m\u001b[0;34m\u001b[0m\u001b[0m\n",
      "\u001b[0;32m/home/jlw742/tf/lib/python3.8/site-packages/keras/utils/traceback_utils.py\u001b[0m in \u001b[0;36merror_handler\u001b[0;34m(*args, **kwargs)\u001b[0m\n\u001b[1;32m     62\u001b[0m     \u001b[0mfiltered_tb\u001b[0m \u001b[0;34m=\u001b[0m \u001b[0;32mNone\u001b[0m\u001b[0;34m\u001b[0m\u001b[0;34m\u001b[0m\u001b[0m\n\u001b[1;32m     63\u001b[0m     \u001b[0;32mtry\u001b[0m\u001b[0;34m:\u001b[0m\u001b[0;34m\u001b[0m\u001b[0;34m\u001b[0m\u001b[0m\n\u001b[0;32m---> 64\u001b[0;31m       \u001b[0;32mreturn\u001b[0m \u001b[0mfn\u001b[0m\u001b[0;34m(\u001b[0m\u001b[0;34m*\u001b[0m\u001b[0margs\u001b[0m\u001b[0;34m,\u001b[0m \u001b[0;34m**\u001b[0m\u001b[0mkwargs\u001b[0m\u001b[0;34m)\u001b[0m\u001b[0;34m\u001b[0m\u001b[0;34m\u001b[0m\u001b[0m\n\u001b[0m\u001b[1;32m     65\u001b[0m     \u001b[0;32mexcept\u001b[0m \u001b[0mException\u001b[0m \u001b[0;32mas\u001b[0m \u001b[0me\u001b[0m\u001b[0;34m:\u001b[0m  \u001b[0;31m# pylint: disable=broad-except\u001b[0m\u001b[0;34m\u001b[0m\u001b[0;34m\u001b[0m\u001b[0m\n\u001b[1;32m     66\u001b[0m       \u001b[0mfiltered_tb\u001b[0m \u001b[0;34m=\u001b[0m \u001b[0m_process_traceback_frames\u001b[0m\u001b[0;34m(\u001b[0m\u001b[0me\u001b[0m\u001b[0;34m.\u001b[0m\u001b[0m__traceback__\u001b[0m\u001b[0;34m)\u001b[0m\u001b[0;34m\u001b[0m\u001b[0;34m\u001b[0m\u001b[0m\n",
      "\u001b[0;32m/home/jlw742/tf/lib/python3.8/site-packages/keras/engine/training.py\u001b[0m in \u001b[0;36mfit\u001b[0;34m(self, x, y, batch_size, epochs, verbose, callbacks, validation_split, validation_data, shuffle, class_weight, sample_weight, initial_epoch, steps_per_epoch, validation_steps, validation_batch_size, validation_freq, max_queue_size, workers, use_multiprocessing)\u001b[0m\n\u001b[1;32m   1250\u001b[0m                 \u001b[0mmodel\u001b[0m\u001b[0;34m=\u001b[0m\u001b[0mself\u001b[0m\u001b[0;34m,\u001b[0m\u001b[0;34m\u001b[0m\u001b[0;34m\u001b[0m\u001b[0m\n\u001b[1;32m   1251\u001b[0m                 steps_per_execution=self._steps_per_execution)\n\u001b[0;32m-> 1252\u001b[0;31m           val_logs = self.evaluate(\n\u001b[0m\u001b[1;32m   1253\u001b[0m               \u001b[0mx\u001b[0m\u001b[0;34m=\u001b[0m\u001b[0mval_x\u001b[0m\u001b[0;34m,\u001b[0m\u001b[0;34m\u001b[0m\u001b[0;34m\u001b[0m\u001b[0m\n\u001b[1;32m   1254\u001b[0m               \u001b[0my\u001b[0m\u001b[0;34m=\u001b[0m\u001b[0mval_y\u001b[0m\u001b[0;34m,\u001b[0m\u001b[0;34m\u001b[0m\u001b[0;34m\u001b[0m\u001b[0m\n",
      "\u001b[0;32m/home/jlw742/tf/lib/python3.8/site-packages/keras/utils/traceback_utils.py\u001b[0m in \u001b[0;36merror_handler\u001b[0;34m(*args, **kwargs)\u001b[0m\n\u001b[1;32m     62\u001b[0m     \u001b[0mfiltered_tb\u001b[0m \u001b[0;34m=\u001b[0m \u001b[0;32mNone\u001b[0m\u001b[0;34m\u001b[0m\u001b[0;34m\u001b[0m\u001b[0m\n\u001b[1;32m     63\u001b[0m     \u001b[0;32mtry\u001b[0m\u001b[0;34m:\u001b[0m\u001b[0;34m\u001b[0m\u001b[0;34m\u001b[0m\u001b[0m\n\u001b[0;32m---> 64\u001b[0;31m       \u001b[0;32mreturn\u001b[0m \u001b[0mfn\u001b[0m\u001b[0;34m(\u001b[0m\u001b[0;34m*\u001b[0m\u001b[0margs\u001b[0m\u001b[0;34m,\u001b[0m \u001b[0;34m**\u001b[0m\u001b[0mkwargs\u001b[0m\u001b[0;34m)\u001b[0m\u001b[0;34m\u001b[0m\u001b[0;34m\u001b[0m\u001b[0m\n\u001b[0m\u001b[1;32m     65\u001b[0m     \u001b[0;32mexcept\u001b[0m \u001b[0mException\u001b[0m \u001b[0;32mas\u001b[0m \u001b[0me\u001b[0m\u001b[0;34m:\u001b[0m  \u001b[0;31m# pylint: disable=broad-except\u001b[0m\u001b[0;34m\u001b[0m\u001b[0;34m\u001b[0m\u001b[0m\n\u001b[1;32m     66\u001b[0m       \u001b[0mfiltered_tb\u001b[0m \u001b[0;34m=\u001b[0m \u001b[0m_process_traceback_frames\u001b[0m\u001b[0;34m(\u001b[0m\u001b[0me\u001b[0m\u001b[0;34m.\u001b[0m\u001b[0m__traceback__\u001b[0m\u001b[0;34m)\u001b[0m\u001b[0;34m\u001b[0m\u001b[0;34m\u001b[0m\u001b[0m\n",
      "\u001b[0;32m/home/jlw742/tf/lib/python3.8/site-packages/keras/engine/training.py\u001b[0m in \u001b[0;36mevaluate\u001b[0;34m(self, x, y, batch_size, verbose, sample_weight, steps, callbacks, max_queue_size, workers, use_multiprocessing, return_dict, **kwargs)\u001b[0m\n\u001b[1;32m   1535\u001b[0m             \u001b[0;32mwith\u001b[0m \u001b[0mtf\u001b[0m\u001b[0;34m.\u001b[0m\u001b[0mprofiler\u001b[0m\u001b[0;34m.\u001b[0m\u001b[0mexperimental\u001b[0m\u001b[0;34m.\u001b[0m\u001b[0mTrace\u001b[0m\u001b[0;34m(\u001b[0m\u001b[0;34m'test'\u001b[0m\u001b[0;34m,\u001b[0m \u001b[0mstep_num\u001b[0m\u001b[0;34m=\u001b[0m\u001b[0mstep\u001b[0m\u001b[0;34m,\u001b[0m \u001b[0m_r\u001b[0m\u001b[0;34m=\u001b[0m\u001b[0;36m1\u001b[0m\u001b[0;34m)\u001b[0m\u001b[0;34m:\u001b[0m\u001b[0;34m\u001b[0m\u001b[0;34m\u001b[0m\u001b[0m\n\u001b[1;32m   1536\u001b[0m               \u001b[0mcallbacks\u001b[0m\u001b[0;34m.\u001b[0m\u001b[0mon_test_batch_begin\u001b[0m\u001b[0;34m(\u001b[0m\u001b[0mstep\u001b[0m\u001b[0;34m)\u001b[0m\u001b[0;34m\u001b[0m\u001b[0;34m\u001b[0m\u001b[0m\n\u001b[0;32m-> 1537\u001b[0;31m               \u001b[0mtmp_logs\u001b[0m \u001b[0;34m=\u001b[0m \u001b[0mself\u001b[0m\u001b[0;34m.\u001b[0m\u001b[0mtest_function\u001b[0m\u001b[0;34m(\u001b[0m\u001b[0miterator\u001b[0m\u001b[0;34m)\u001b[0m\u001b[0;34m\u001b[0m\u001b[0;34m\u001b[0m\u001b[0m\n\u001b[0m\u001b[1;32m   1538\u001b[0m               \u001b[0;32mif\u001b[0m \u001b[0mdata_handler\u001b[0m\u001b[0;34m.\u001b[0m\u001b[0mshould_sync\u001b[0m\u001b[0;34m:\u001b[0m\u001b[0;34m\u001b[0m\u001b[0;34m\u001b[0m\u001b[0m\n\u001b[1;32m   1539\u001b[0m                 \u001b[0mcontext\u001b[0m\u001b[0;34m.\u001b[0m\u001b[0masync_wait\u001b[0m\u001b[0;34m(\u001b[0m\u001b[0;34m)\u001b[0m\u001b[0;34m\u001b[0m\u001b[0;34m\u001b[0m\u001b[0m\n",
      "\u001b[0;32m/home/jlw742/tf/lib/python3.8/site-packages/tensorflow/python/util/traceback_utils.py\u001b[0m in \u001b[0;36merror_handler\u001b[0;34m(*args, **kwargs)\u001b[0m\n\u001b[1;32m    148\u001b[0m     \u001b[0mfiltered_tb\u001b[0m \u001b[0;34m=\u001b[0m \u001b[0;32mNone\u001b[0m\u001b[0;34m\u001b[0m\u001b[0;34m\u001b[0m\u001b[0m\n\u001b[1;32m    149\u001b[0m     \u001b[0;32mtry\u001b[0m\u001b[0;34m:\u001b[0m\u001b[0;34m\u001b[0m\u001b[0;34m\u001b[0m\u001b[0m\n\u001b[0;32m--> 150\u001b[0;31m       \u001b[0;32mreturn\u001b[0m \u001b[0mfn\u001b[0m\u001b[0;34m(\u001b[0m\u001b[0;34m*\u001b[0m\u001b[0margs\u001b[0m\u001b[0;34m,\u001b[0m \u001b[0;34m**\u001b[0m\u001b[0mkwargs\u001b[0m\u001b[0;34m)\u001b[0m\u001b[0;34m\u001b[0m\u001b[0;34m\u001b[0m\u001b[0m\n\u001b[0m\u001b[1;32m    151\u001b[0m     \u001b[0;32mexcept\u001b[0m \u001b[0mException\u001b[0m \u001b[0;32mas\u001b[0m \u001b[0me\u001b[0m\u001b[0;34m:\u001b[0m\u001b[0;34m\u001b[0m\u001b[0;34m\u001b[0m\u001b[0m\n\u001b[1;32m    152\u001b[0m       \u001b[0mfiltered_tb\u001b[0m \u001b[0;34m=\u001b[0m \u001b[0m_process_traceback_frames\u001b[0m\u001b[0;34m(\u001b[0m\u001b[0me\u001b[0m\u001b[0;34m.\u001b[0m\u001b[0m__traceback__\u001b[0m\u001b[0;34m)\u001b[0m\u001b[0;34m\u001b[0m\u001b[0;34m\u001b[0m\u001b[0m\n",
      "\u001b[0;32m/home/jlw742/tf/lib/python3.8/site-packages/tensorflow/python/eager/def_function.py\u001b[0m in \u001b[0;36m__call__\u001b[0;34m(self, *args, **kwds)\u001b[0m\n\u001b[1;32m    908\u001b[0m \u001b[0;34m\u001b[0m\u001b[0m\n\u001b[1;32m    909\u001b[0m       \u001b[0;32mwith\u001b[0m \u001b[0mOptionalXlaContext\u001b[0m\u001b[0;34m(\u001b[0m\u001b[0mself\u001b[0m\u001b[0;34m.\u001b[0m\u001b[0m_jit_compile\u001b[0m\u001b[0;34m)\u001b[0m\u001b[0;34m:\u001b[0m\u001b[0;34m\u001b[0m\u001b[0;34m\u001b[0m\u001b[0m\n\u001b[0;32m--> 910\u001b[0;31m         \u001b[0mresult\u001b[0m \u001b[0;34m=\u001b[0m \u001b[0mself\u001b[0m\u001b[0;34m.\u001b[0m\u001b[0m_call\u001b[0m\u001b[0;34m(\u001b[0m\u001b[0;34m*\u001b[0m\u001b[0margs\u001b[0m\u001b[0;34m,\u001b[0m \u001b[0;34m**\u001b[0m\u001b[0mkwds\u001b[0m\u001b[0;34m)\u001b[0m\u001b[0;34m\u001b[0m\u001b[0;34m\u001b[0m\u001b[0m\n\u001b[0m\u001b[1;32m    911\u001b[0m \u001b[0;34m\u001b[0m\u001b[0m\n\u001b[1;32m    912\u001b[0m       \u001b[0mnew_tracing_count\u001b[0m \u001b[0;34m=\u001b[0m \u001b[0mself\u001b[0m\u001b[0;34m.\u001b[0m\u001b[0mexperimental_get_tracing_count\u001b[0m\u001b[0;34m(\u001b[0m\u001b[0;34m)\u001b[0m\u001b[0;34m\u001b[0m\u001b[0;34m\u001b[0m\u001b[0m\n",
      "\u001b[0;32m/home/jlw742/tf/lib/python3.8/site-packages/tensorflow/python/eager/def_function.py\u001b[0m in \u001b[0;36m_call\u001b[0;34m(self, *args, **kwds)\u001b[0m\n\u001b[1;32m    947\u001b[0m       \u001b[0;31m# In this case we have not created variables on the first call. So we can\u001b[0m\u001b[0;34m\u001b[0m\u001b[0;34m\u001b[0m\u001b[0;34m\u001b[0m\u001b[0m\n\u001b[1;32m    948\u001b[0m       \u001b[0;31m# run the first trace but we should fail if variables are created.\u001b[0m\u001b[0;34m\u001b[0m\u001b[0;34m\u001b[0m\u001b[0;34m\u001b[0m\u001b[0m\n\u001b[0;32m--> 949\u001b[0;31m       \u001b[0mresults\u001b[0m \u001b[0;34m=\u001b[0m \u001b[0mself\u001b[0m\u001b[0;34m.\u001b[0m\u001b[0m_stateful_fn\u001b[0m\u001b[0;34m(\u001b[0m\u001b[0;34m*\u001b[0m\u001b[0margs\u001b[0m\u001b[0;34m,\u001b[0m \u001b[0;34m**\u001b[0m\u001b[0mkwds\u001b[0m\u001b[0;34m)\u001b[0m\u001b[0;34m\u001b[0m\u001b[0;34m\u001b[0m\u001b[0m\n\u001b[0m\u001b[1;32m    950\u001b[0m       \u001b[0;32mif\u001b[0m \u001b[0mself\u001b[0m\u001b[0;34m.\u001b[0m\u001b[0m_created_variables\u001b[0m \u001b[0;32mand\u001b[0m \u001b[0;32mnot\u001b[0m \u001b[0mALLOW_DYNAMIC_VARIABLE_CREATION\u001b[0m\u001b[0;34m:\u001b[0m\u001b[0;34m\u001b[0m\u001b[0;34m\u001b[0m\u001b[0m\n\u001b[1;32m    951\u001b[0m         raise ValueError(\"Creating variables on a non-first call to a function\"\n",
      "\u001b[0;32m/home/jlw742/tf/lib/python3.8/site-packages/tensorflow/python/eager/function.py\u001b[0m in \u001b[0;36m__call__\u001b[0;34m(self, *args, **kwargs)\u001b[0m\n\u001b[1;32m   3128\u001b[0m       (graph_function,\n\u001b[1;32m   3129\u001b[0m        filtered_flat_args) = self._maybe_define_function(args, kwargs)\n\u001b[0;32m-> 3130\u001b[0;31m     return graph_function._call_flat(\n\u001b[0m\u001b[1;32m   3131\u001b[0m         filtered_flat_args, captured_inputs=graph_function.captured_inputs)  # pylint: disable=protected-access\n\u001b[1;32m   3132\u001b[0m \u001b[0;34m\u001b[0m\u001b[0m\n",
      "\u001b[0;32m/home/jlw742/tf/lib/python3.8/site-packages/tensorflow/python/eager/function.py\u001b[0m in \u001b[0;36m_call_flat\u001b[0;34m(self, args, captured_inputs, cancellation_manager)\u001b[0m\n\u001b[1;32m   1957\u001b[0m         and executing_eagerly):\n\u001b[1;32m   1958\u001b[0m       \u001b[0;31m# No tape is watching; skip to running the function.\u001b[0m\u001b[0;34m\u001b[0m\u001b[0;34m\u001b[0m\u001b[0;34m\u001b[0m\u001b[0m\n\u001b[0;32m-> 1959\u001b[0;31m       return self._build_call_outputs(self._inference_function.call(\n\u001b[0m\u001b[1;32m   1960\u001b[0m           ctx, args, cancellation_manager=cancellation_manager))\n\u001b[1;32m   1961\u001b[0m     forward_backward = self._select_forward_and_backward_functions(\n",
      "\u001b[0;32m/home/jlw742/tf/lib/python3.8/site-packages/tensorflow/python/eager/function.py\u001b[0m in \u001b[0;36mcall\u001b[0;34m(self, ctx, args, cancellation_manager)\u001b[0m\n\u001b[1;32m    596\u001b[0m       \u001b[0;32mwith\u001b[0m \u001b[0m_InterpolateFunctionError\u001b[0m\u001b[0;34m(\u001b[0m\u001b[0mself\u001b[0m\u001b[0;34m)\u001b[0m\u001b[0;34m:\u001b[0m\u001b[0;34m\u001b[0m\u001b[0;34m\u001b[0m\u001b[0m\n\u001b[1;32m    597\u001b[0m         \u001b[0;32mif\u001b[0m \u001b[0mcancellation_manager\u001b[0m \u001b[0;32mis\u001b[0m \u001b[0;32mNone\u001b[0m\u001b[0;34m:\u001b[0m\u001b[0;34m\u001b[0m\u001b[0;34m\u001b[0m\u001b[0m\n\u001b[0;32m--> 598\u001b[0;31m           outputs = execute.execute(\n\u001b[0m\u001b[1;32m    599\u001b[0m               \u001b[0mstr\u001b[0m\u001b[0;34m(\u001b[0m\u001b[0mself\u001b[0m\u001b[0;34m.\u001b[0m\u001b[0msignature\u001b[0m\u001b[0;34m.\u001b[0m\u001b[0mname\u001b[0m\u001b[0;34m)\u001b[0m\u001b[0;34m,\u001b[0m\u001b[0;34m\u001b[0m\u001b[0;34m\u001b[0m\u001b[0m\n\u001b[1;32m    600\u001b[0m               \u001b[0mnum_outputs\u001b[0m\u001b[0;34m=\u001b[0m\u001b[0mself\u001b[0m\u001b[0;34m.\u001b[0m\u001b[0m_num_outputs\u001b[0m\u001b[0;34m,\u001b[0m\u001b[0;34m\u001b[0m\u001b[0;34m\u001b[0m\u001b[0m\n",
      "\u001b[0;32m/home/jlw742/tf/lib/python3.8/site-packages/tensorflow/python/eager/execute.py\u001b[0m in \u001b[0;36mquick_execute\u001b[0;34m(op_name, num_outputs, inputs, attrs, ctx, name)\u001b[0m\n\u001b[1;32m     56\u001b[0m   \u001b[0;32mtry\u001b[0m\u001b[0;34m:\u001b[0m\u001b[0;34m\u001b[0m\u001b[0;34m\u001b[0m\u001b[0m\n\u001b[1;32m     57\u001b[0m     \u001b[0mctx\u001b[0m\u001b[0;34m.\u001b[0m\u001b[0mensure_initialized\u001b[0m\u001b[0;34m(\u001b[0m\u001b[0;34m)\u001b[0m\u001b[0;34m\u001b[0m\u001b[0;34m\u001b[0m\u001b[0m\n\u001b[0;32m---> 58\u001b[0;31m     tensors = pywrap_tfe.TFE_Py_Execute(ctx._handle, device_name, op_name,\n\u001b[0m\u001b[1;32m     59\u001b[0m                                         inputs, attrs, num_outputs)\n\u001b[1;32m     60\u001b[0m   \u001b[0;32mexcept\u001b[0m \u001b[0mcore\u001b[0m\u001b[0;34m.\u001b[0m\u001b[0m_NotOkStatusException\u001b[0m \u001b[0;32mas\u001b[0m \u001b[0me\u001b[0m\u001b[0;34m:\u001b[0m\u001b[0;34m\u001b[0m\u001b[0;34m\u001b[0m\u001b[0m\n",
      "\u001b[0;31mKeyboardInterrupt\u001b[0m: "
     ]
    }
   ],
   "source": [
    "model_name = model_names[2]\n",
    "print(model_name)\n",
    "check_point = make_checkpointer(model_name)\n",
    "\n",
    "model = create_model_cnn_transformer(cnn_filters=128, pool_window=4)\n",
    "\n",
    "model.compile(optimizer= adam_opt, loss= \"sparse_categorical_crossentropy\", metrics=metrics)\n",
    "\n",
    "history = model.fit(X_train, Y_train,\n",
    "                    batch_size=4, epochs=eps,\n",
    "                    validation_data=(X_test[0], Y_test[0]),\n",
    "                    callbacks = [check_point, lr_decay])\n",
    "\n",
    "plot_history(history, model_name)\n",
    "evaluate_model(model, model_name)\n",
    "\n",
    "# tf.keras.utils.plot_model(cnn_transformer1, to_file='cnn_transformer_32f_4pool.png', show_shapes=True)"
   ]
  },
  {
   "cell_type": "code",
   "execution_count": 47,
   "id": "74048277",
   "metadata": {},
   "outputs": [
    {
     "name": "stdout",
     "output_type": "stream",
     "text": [
      "Test set 2 F1 score:\n",
      "0.05689495768437522\n",
      "Test set 3 F1 score:\n",
      "0.005734597156398105\n",
      "Test set 4 F1 score:\n",
      "0.004743364981064487\n",
      "Test set 5 F1 score:\n",
      "0.009523809523809525\n",
      "Test set 1 F1 score:\n",
      "0.00033595435017914904\n"
     ]
    }
   ],
   "source": [
    "evaluate_model(model, model_name)\n"
   ]
  }
 ],
 "metadata": {
  "kernelspec": {
   "display_name": "Python 3 (ipykernel)",
   "language": "python",
   "name": "python3"
  },
  "language_info": {
   "codemirror_mode": {
    "name": "ipython",
    "version": 3
   },
   "file_extension": ".py",
   "mimetype": "text/x-python",
   "name": "python",
   "nbconvert_exporter": "python",
   "pygments_lexer": "ipython3",
   "version": "3.8.12"
  }
 },
 "nbformat": 4,
 "nbformat_minor": 5
}
