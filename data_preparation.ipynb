{
 "cells": [
  {
   "cell_type": "code",
   "execution_count": 3,
   "id": "551814aa",
   "metadata": {},
   "outputs": [],
   "source": [
    "import pandas as pd\n",
    "import os\n",
    "import numpy as np\n",
    "import pickle\n",
    "from sklearn.decomposition import PCA\n",
    "from tensorflow.keras.preprocessing.text import Tokenizer\n",
    "from tensorflow.keras.preprocessing.sequence import pad_sequences"
   ]
  },
  {
   "cell_type": "markdown",
   "id": "a16735c7",
   "metadata": {},
   "source": [
    "### Kmer method"
   ]
  },
  {
   "cell_type": "markdown",
   "id": "edcf9a1e",
   "metadata": {},
   "source": [
    "#### preparing data"
   ]
  },
  {
   "cell_type": "code",
   "execution_count": 4,
   "id": "787c8604",
   "metadata": {},
   "outputs": [],
   "source": [
    "# creating kmers of size 3 from the input\n",
    "KMER = 3"
   ]
  },
  {
   "cell_type": "code",
   "execution_count": 5,
   "id": "1e28e86c",
   "metadata": {},
   "outputs": [
    {
     "data": {
      "text/html": [
       "<div>\n",
       "<style scoped>\n",
       "    .dataframe tbody tr th:only-of-type {\n",
       "        vertical-align: middle;\n",
       "    }\n",
       "\n",
       "    .dataframe tbody tr th {\n",
       "        vertical-align: top;\n",
       "    }\n",
       "\n",
       "    .dataframe thead th {\n",
       "        text-align: right;\n",
       "    }\n",
       "</style>\n",
       "<table border=\"1\" class=\"dataframe\">\n",
       "  <thead>\n",
       "    <tr style=\"text-align: right;\">\n",
       "      <th></th>\n",
       "      <th>PID</th>\n",
       "      <th>CLASS</th>\n",
       "      <th>CLASSNAME</th>\n",
       "      <th>SEQ</th>\n",
       "    </tr>\n",
       "  </thead>\n",
       "  <tbody>\n",
       "    <tr>\n",
       "      <th>0</th>\n",
       "      <td>AB257344 |SARS coronavirus Frankfurt 1 genomic...</td>\n",
       "      <td>1</td>\n",
       "      <td>SARS-COV-1</td>\n",
       "      <td>GATCTCTTGTAGATCTGTTCTCTAAACGAACTTTAAAATCTGTGTA...</td>\n",
       "    </tr>\n",
       "    <tr>\n",
       "      <th>1</th>\n",
       "      <td>AH013708 |SARS coronavirus Sin0409| partial se...</td>\n",
       "      <td>1</td>\n",
       "      <td>SARS-COV-1</td>\n",
       "      <td>CATTCAGTACGGTCGTAGCGGTATAACACTGGGAGTACTCGTGCCA...</td>\n",
       "    </tr>\n",
       "    <tr>\n",
       "      <th>2</th>\n",
       "      <td>AH013709 |SARS coronavirus Sin_WNV| partial se...</td>\n",
       "      <td>1</td>\n",
       "      <td>SARS-COV-1</td>\n",
       "      <td>CACGCGCGGGCAAGTCAATGTGCACTCTTTCCGAACAACTTGATTA...</td>\n",
       "    </tr>\n",
       "  </tbody>\n",
       "</table>\n",
       "</div>"
      ],
      "text/plain": [
       "                                                 PID  CLASS   CLASSNAME  \\\n",
       "0  AB257344 |SARS coronavirus Frankfurt 1 genomic...      1  SARS-COV-1   \n",
       "1  AH013708 |SARS coronavirus Sin0409| partial se...      1  SARS-COV-1   \n",
       "2  AH013709 |SARS coronavirus Sin_WNV| partial se...      1  SARS-COV-1   \n",
       "\n",
       "                                                 SEQ  \n",
       "0  GATCTCTTGTAGATCTGTTCTCTAAACGAACTTTAAAATCTGTGTA...  \n",
       "1  CATTCAGTACGGTCGTAGCGGTATAACACTGGGAGTACTCGTGCCA...  \n",
       "2  CACGCGCGGGCAAGTCAATGTGCACTCTTTCCGAACAACTTGATTA...  "
      ]
     },
     "execution_count": 5,
     "metadata": {},
     "output_type": "execute_result"
    }
   ],
   "source": [
    "df_training = pd.read_csv('data/covid/training.csv')\n",
    "df_training.head(3)"
   ]
  },
  {
   "cell_type": "code",
   "execution_count": 6,
   "id": "88544304",
   "metadata": {},
   "outputs": [],
   "source": [
    "df_training['CLASS'] = df_training['CLASS'].apply(lambda x : x-1)"
   ]
  },
  {
   "cell_type": "code",
   "execution_count": 7,
   "id": "9336c1ca",
   "metadata": {},
   "outputs": [
    {
     "data": {
      "text/plain": [
       "['cca', 'cag', 'agc', 'gct', 'ctg', 'tgt']"
      ]
     },
     "execution_count": 7,
     "metadata": {},
     "output_type": "execute_result"
    }
   ],
   "source": [
    "def kmer_fun(seq, K = 3):\n",
    "    '''this function outputs the kmers of a sequence'''\n",
    "    \n",
    "    kmer_list = []\n",
    "    for x in range(len(seq) - K + 1):\n",
    "        kmer_list.append(seq[x:x+K].lower())\n",
    "    return kmer_list\n",
    "\n",
    "# a simple example of kmer\n",
    "mySeq = 'CCAGCTGT'\n",
    "kmer_fun(mySeq, K= KMER)"
   ]
  },
  {
   "cell_type": "code",
   "execution_count": 8,
   "id": "8511325a",
   "metadata": {},
   "outputs": [
    {
     "data": {
      "text/plain": [
       "0    [gat, atc, tct, ctc, tct, ctt, ttg, tgt, gta, ...\n",
       "1    [cat, att, ttc, tca, cag, agt, gta, tac, acg, ...\n",
       "2    [cac, acg, cgc, gcg, cgc, gcg, cgg, ggg, ggc, ...\n",
       "3    [ata, tat, att, tta, tag, agg, ggt, gtt, ttt, ...\n",
       "4    [ata, tat, att, tta, tag, agg, ggt, gtt, ttt, ...\n",
       "Name: SEQ, dtype: object"
      ]
     },
     "execution_count": 8,
     "metadata": {},
     "output_type": "execute_result"
    }
   ],
   "source": [
    "kmer_seqs = df_training['SEQ'].apply(lambda x: kmer_fun(x, KMER))\n",
    "kmer_seqs[:5]"
   ]
  },
  {
   "cell_type": "code",
   "execution_count": 9,
   "id": "3d0219f6",
   "metadata": {},
   "outputs": [
    {
     "name": "stdout",
     "output_type": "stream",
     "text": [
      "Found 259 unique tokens\n"
     ]
    }
   ],
   "source": [
    "tokenizer = Tokenizer()\n",
    "tokenizer.fit_on_texts(kmer_seqs)\n",
    "word_index = tokenizer.word_index\n",
    "VOCAB_SIZE = len(word_index)\n",
    "print('Found %s unique tokens' % VOCAB_SIZE)"
   ]
  },
  {
   "cell_type": "code",
   "execution_count": 10,
   "id": "d22ce291",
   "metadata": {},
   "outputs": [
    {
     "data": {
      "text/plain": [
       "[32, 45, 22, 50, 22]"
      ]
     },
     "execution_count": 10,
     "metadata": {},
     "output_type": "execute_result"
    }
   ],
   "source": [
    "kmer_num_seqs = tokenizer.texts_to_sequences(kmer_seqs)\n",
    "kmer_num_seqs[0][:5]"
   ]
  },
  {
   "cell_type": "code",
   "execution_count": 11,
   "id": "9a77d16c",
   "metadata": {},
   "outputs": [
    {
     "data": {
      "text/plain": [
       "30121"
      ]
     },
     "execution_count": 11,
     "metadata": {},
     "output_type": "execute_result"
    }
   ],
   "source": [
    "x_train = kmer_num_seqs\n",
    "kmer_seqs_lens = [len(l) for l in kmer_num_seqs]\n",
    "MAXLEN = max(kmer_seqs_lens)\n",
    "MAXLEN"
   ]
  },
  {
   "cell_type": "code",
   "execution_count": 12,
   "id": "12703b72",
   "metadata": {},
   "outputs": [
    {
     "data": {
      "text/plain": [
       "((1500, 30121), (1500,))"
      ]
     },
     "execution_count": 12,
     "metadata": {},
     "output_type": "execute_result"
    }
   ],
   "source": [
    "X_train = pad_sequences(x_train, maxlen = MAXLEN)\n",
    "Y_train = df_training['CLASS']\n",
    "X_train.shape, Y_train.shape"
   ]
  },
  {
   "cell_type": "code",
   "execution_count": 13,
   "id": "bc9a4a51",
   "metadata": {},
   "outputs": [],
   "source": [
    "with open('X_train_k'+str(KMER)+'.pkl', 'wb') as f:\n",
    "    pickle.dump(X_train, f)\n",
    "with open('Y_train_k'+str(KMER)+'.pkl', 'wb') as f:\n",
    "    pickle.dump(Y_train, f)"
   ]
  },
  {
   "cell_type": "markdown",
   "id": "6577c6df",
   "metadata": {},
   "source": [
    "#### Visualization"
   ]
  },
  {
   "cell_type": "markdown",
   "metadata": {},
   "source": [
    "##### Class Dists"
   ]
  },
  {
   "cell_type": "code",
   "execution_count": 1,
   "id": "486c0c02",
   "metadata": {},
   "outputs": [],
   "source": [
    "import numpy as np\n",
    "from sklearn.manifold import TSNE\n",
    "import matplotlib.pyplot as plt\n",
    "from sklearn.decomposition import PCA\n",
    "import pickle\n",
    "import seaborn as sns"
   ]
  },
  {
   "cell_type": "code",
   "execution_count": 2,
   "id": "5720e18c",
   "metadata": {},
   "outputs": [],
   "source": [
    "labels = ['SARS-COV-1', 'MERS', 'SARS-COV-2', 'Ebola', 'Dengue', 'Influenza']"
   ]
  },
  {
   "cell_type": "code",
   "execution_count": 3,
   "id": "8cfef732",
   "metadata": {},
   "outputs": [
    {
     "data": {
      "text/plain": [
       "((1500, 30121), (1500,))"
      ]
     },
     "execution_count": 3,
     "metadata": {},
     "output_type": "execute_result"
    }
   ],
   "source": [
    "with open('X_train_k3.pkl', 'rb') as f:\n",
    "    X_train = pickle.load(f)\n",
    "with open('Y_train_k3.pkl', 'rb') as f:\n",
    "    Y_train = pickle.load(f)\n",
    "    \n",
    "X_train.shape, Y_train.shape"
   ]
  },
  {
   "cell_type": "code",
   "execution_count": 4,
   "id": "841747c3",
   "metadata": {},
   "outputs": [
    {
     "data": {
      "text/plain": [
       "['SARS-COV-1', 'MERS', 'SARS-COV-2', 'Ebola', 'Dengue', 'Influenza']"
      ]
     },
     "execution_count": 4,
     "metadata": {},
     "output_type": "execute_result"
    }
   ],
   "source": [
    "labels"
   ]
  },
  {
   "cell_type": "code",
   "execution_count": 5,
   "id": "c3517e68",
   "metadata": {},
   "outputs": [
    {
     "data": {
      "image/png": "[encoded data removed]",
      "text/plain": [
       "<Figure size 432x288 with 1 Axes>"
      ]
     },
     "metadata": {
      "needs_background": "light"
     },
     "output_type": "display_data"
    }
   ],
   "source": [
    "sns.countplot(x = Y_train)\n",
    "plt.title('Class dist in training set')\n",
    "plt.show()"
   ]
  },
  {
   "cell_type": "code",
   "execution_count": 6,
   "id": "12e8276d",
   "metadata": {},
   "outputs": [
    {
     "data": {
      "text/plain": [
       "((1090, 30121), (1090,))"
      ]
     },
     "execution_count": 6,
     "metadata": {},
     "output_type": "execute_result"
    }
   ],
   "source": [
    "with open('X_test_list_k3.pkl', 'rb') as f:\n",
    "    X_test = pickle.load(f)\n",
    "with open('Y_test_list_k3.pkl', 'rb') as f:\n",
    "    Y_test = pickle.load(f)\n",
    "\n",
    "X_test[0].shape, Y_test[0].shape    "
   ]
  },
  {
   "cell_type": "code",
   "execution_count": 7,
   "id": "8185d26f",
   "metadata": {},
   "outputs": [
    {
     "data": {
      "image/png": "[encoded data removed]",
      "text/plain": [
       "<Figure size 1080x360 with 5 Axes>"
      ]
     },
     "metadata": {
      "needs_background": "light"
     },
     "output_type": "display_data"
    }
   ],
   "source": [
    "test_indicies = [2,3,4,5,1]\n",
    "tests_order = [4,0,1,2,3] # the order that test sets are saved in Y_test\n",
    "fig, ax= plt.subplots(1, len(Y_test), figsize= (15,5))\n",
    "fig.tight_layout(pad=3)\n",
    "\n",
    "for i in range(len(Y_test)):\n",
    "    ax[i].set_title('Class Dist in test set '+ str(i+1))   \n",
    "    sns.countplot(x = Y_test[tests_order[i]], ax=ax[i])\n",
    "\n",
    "fig.show()"
   ]
  },
  {
   "cell_type": "markdown",
   "id": "8939d78b",
   "metadata": {},
   "source": [
    "##### Dim reduction"
   ]
  },
  {
   "cell_type": "code",
   "execution_count": 8,
   "id": "569f9cf8",
   "metadata": {},
   "outputs": [
    {
     "name": "stderr",
     "output_type": "stream",
     "text": [
      "/home/jlw742/tf/lib/python3.8/site-packages/sklearn/manifold/_t_sne.py:790: FutureWarning: The default learning rate in TSNE will change from 200.0 to 'auto' in 1.2.\n",
      "  warnings.warn(\n"
     ]
    },
    {
     "data": {
      "text/plain": [
       "(1500, 2)"
      ]
     },
     "execution_count": 8,
     "metadata": {},
     "output_type": "execute_result"
    }
   ],
   "source": [
    "X_embedded_tsne = TSNE(n_components=2, n_iter = 2000 , init='random').fit_transform(X_train)\n",
    "X_embedded_tsne.shape"
   ]
  },
  {
   "cell_type": "code",
   "execution_count": 9,
   "id": "31f2ec10",
   "metadata": {},
   "outputs": [
    {
     "data": {
      "text/plain": [
       "<matplotlib.legend.Legend at 0x7f1aefd99910>"
      ]
     },
     "execution_count": 9,
     "metadata": {},
     "output_type": "execute_result"
    },
    {
     "data": {
      "image/png": "[encoded data removed]",
      "text/plain": [
       "<Figure size 432x288 with 1 Axes>"
      ]
     },
     "metadata": {
      "needs_background": "light"
     },
     "output_type": "display_data"
    }
   ],
   "source": [
    "lower_bound = 0\n",
    "for k in range(1,7):\n",
    "    upper_bound= 250*k\n",
    "    plt.scatter(X_embedded_tsne[lower_bound:upper_bound,0],\n",
    "                X_embedded_tsne[lower_bound:upper_bound,1]\n",
    "                )\n",
    "    lower_bound = upper_bound\n",
    "\n",
    "plt.title('TSNE - Training data 2D')\n",
    "plt.legend(labels)"
   ]
  },
  {
   "cell_type": "code",
   "execution_count": 10,
   "id": "0967eba9",
   "metadata": {},
   "outputs": [],
   "source": [
    "X_embedded_pca = PCA(n_components=2).fit_transform(X_train)"
   ]
  },
  {
   "cell_type": "code",
   "execution_count": 11,
   "id": "cc62ebd4",
   "metadata": {},
   "outputs": [
    {
     "data": {
      "text/plain": [
       "<matplotlib.legend.Legend at 0x7f1aefdef280>"
      ]
     },
     "execution_count": 11,
     "metadata": {},
     "output_type": "execute_result"
    },
    {
     "data": {
      "image/png": "[encoded data removed]",
      "text/plain": [
       "<Figure size 432x288 with 1 Axes>"
      ]
     },
     "metadata": {
      "needs_background": "light"
     },
     "output_type": "display_data"
    }
   ],
   "source": [
    "lower_bound = 0\n",
    "for k in range(1,7):\n",
    "    upper_bound= 250*k\n",
    "    plt.scatter(X_embedded_pca[lower_bound:upper_bound,0],\n",
    "                X_embedded_pca[lower_bound:upper_bound,1]\n",
    "                )\n",
    "    lower_bound = upper_bound\n",
    "\n",
    "plt.title('PCA - Training data 2D')\n",
    "plt.legend(labels, loc = 'upper left')"
   ]
  },
  {
   "cell_type": "code",
   "execution_count": 12,
   "id": "e1c29dd6",
   "metadata": {},
   "outputs": [
    {
     "name": "stderr",
     "output_type": "stream",
     "text": [
      "/home/jlw742/tf/lib/python3.8/site-packages/sklearn/manifold/_t_sne.py:790: FutureWarning: The default learning rate in TSNE will change from 200.0 to 'auto' in 1.2.\n",
      "  warnings.warn(\n"
     ]
    }
   ],
   "source": [
    "X_val_embedded_tsne = TSNE(n_components=2, n_iter= 2000, init='random').fit_transform(X_test[0])"
   ]
  },
  {
   "cell_type": "code",
   "execution_count": 13,
   "id": "7a412296",
   "metadata": {},
   "outputs": [],
   "source": [
    "X_val_embedded_pca = PCA(n_components=2).fit_transform(X_test[0])"
   ]
  },
  {
   "cell_type": "code",
   "execution_count": 40,
   "id": "96717640",
   "metadata": {},
   "outputs": [
    {
     "data": {
      "text/plain": [
       "<matplotlib.legend.Legend at 0x7f2757851520>"
      ]
     },
     "execution_count": 40,
     "metadata": {},
     "output_type": "execute_result"
    },
    {
     "data": {
      "image/png": "[encoded data removed]",
      "text/plain": [
       "<Figure size 432x288 with 1 Axes>"
      ]
     },
     "metadata": {
      "needs_background": "light"
     },
     "output_type": "display_data"
    }
   ],
   "source": [
    "plt.scatter(X_val_embedded_tsne[:90,0],\n",
    "                X_val_embedded_tsne[:90,1]\n",
    "                )\n",
    "\n",
    "lower_bound = 90\n",
    "for k in range(1,6):\n",
    "    upper_bound= 200 + lower_bound\n",
    "    plt.scatter(X_val_embedded_tsne[lower_bound:upper_bound,0],\n",
    "                X_val_embedded_tsne[lower_bound:upper_bound,1]\n",
    "                )\n",
    "    lower_bound = upper_bound\n",
    "\n",
    "plt.title('TSNE - validation data 2D')\n",
    "plt.legend(labels, loc = 'upper left')"
   ]
  },
  {
   "cell_type": "code",
   "execution_count": 41,
   "id": "e6a9e0cb",
   "metadata": {},
   "outputs": [
    {
     "data": {
      "text/plain": [
       "<matplotlib.legend.Legend at 0x7f2757843070>"
      ]
     },
     "execution_count": 41,
     "metadata": {},
     "output_type": "execute_result"
    },
    {
     "data": {
      "image/png": "[encoded data removed]",
      "text/plain": [
       "<Figure size 432x288 with 1 Axes>"
      ]
     },
     "metadata": {
      "needs_background": "light"
     },
     "output_type": "display_data"
    }
   ],
   "source": [
    "plt.scatter(X_val_embedded_pca[:90,0],\n",
    "                X_val_embedded_pca[:90,1]\n",
    "                )\n",
    "\n",
    "lower_bound = 90\n",
    "for k in range(1,6):\n",
    "    upper_bound= 200 + lower_bound\n",
    "    plt.scatter(X_val_embedded_pca[lower_bound:upper_bound,0],\n",
    "                X_val_embedded_pca[lower_bound:upper_bound,1]\n",
    "                )\n",
    "    lower_bound = upper_bound\n",
    "\n",
    "plt.title('TSNE - validation data 2D')\n",
    "plt.legend(labels, loc = 'upper left')"
   ]
  },
  {
   "cell_type": "markdown",
   "id": "34e9e013",
   "metadata": {},
   "source": [
    "### Test data preparation"
   ]
  },
  {
   "cell_type": "code",
   "execution_count": 21,
   "id": "f6e68299",
   "metadata": {},
   "outputs": [],
   "source": [
    "def preprocess_df_test(df_test):\n",
    "    \n",
    "    df_test['CLASS'] = df_test['CLASS'].apply(lambda x : x-1) # making the classes to start from class 0\n",
    "    y_test = df_test['CLASS']\n",
    "    \n",
    "    kmer_sequences = df_test['SEQ'].apply(lambda x: kmer_fun(x, KMER))\n",
    "    kmer_sequences = tokenizer.texts_to_sequences(kmer_sequences)\n",
    "    \n",
    "    x_test = pad_sequences(kmer_sequences, maxlen = MAXLEN)\n",
    "    return np.array(x_test), np.array(y_test)"
   ]
  },
  {
   "cell_type": "code",
   "execution_count": null,
   "id": "dae68f5d",
   "metadata": {},
   "outputs": [
    {
     "name": "stdout",
     "output_type": "stream",
     "text": [
      "test_(2).csv  Processed , length:  1090\n",
      "test_(3).csv  Processed , length:  4000\n",
      "test_(5).csv  Processed , length:  5010\n",
      "test_(4).csv  Processed , length:  3500\n",
      "test_(1).csv  Processed , length:  3143\n"
     ]
    }
   ],
   "source": [
    "X_test , Y_test = [], []\n",
    "\n",
    "for t in os.listdir('data/covid/test'):\n",
    "    df = pd.read_csv('data/covid/test/'+t)\n",
    "    x_test, y_test = preprocess_df_test(df)\n",
    "    print(t , ' Processed', ', length: ', len(df))\n",
    "    X_test.append(x_test)\n",
    "    Y_test.append(y_test)"
   ]
  },
  {
   "cell_type": "code",
   "execution_count": null,
   "id": "4dad772e",
   "metadata": {},
   "outputs": [],
   "source": [
    "with open('X_test_list_k3.pkl', 'wb') as f:\n",
    "    pickle.dump(X_test, f)\n",
    "with open('Y_test_list_k3.pkl', 'wb') as f:\n",
    "    pickle.dump(Y_test, f)"
   ]
  },
  {
   "cell_type": "markdown",
   "id": "3cd92e98",
   "metadata": {},
   "source": [
    "### Ordinal Encoding"
   ]
  },
  {
   "cell_type": "code",
   "execution_count": null,
   "id": "f5a1187a",
   "metadata": {},
   "outputs": [
    {
     "data": {
      "text/plain": [
       "array([ 1.5,  0.5, -1.5, -0.5,  0. ])"
      ]
     },
     "execution_count": 12,
     "metadata": {},
     "output_type": "execute_result"
    }
   ],
   "source": [
    "def nucleotideToDigit(seq):\n",
    "    digit_seq = []\n",
    "    seq = list(seq)\n",
    "    for n in seq:\n",
    "        if n == 'T' :\n",
    "            d = -1.5\n",
    "        elif n =='C' : \n",
    "            d = 0.5\n",
    "        elif n == 'A' :\n",
    "            d = 1.5\n",
    "        elif n == 'G' :\n",
    "            d = -0.5\n",
    "        else:\n",
    "            d = 0\n",
    "        digit_seq.append(d)\n",
    "    \n",
    "    return np.array(digit_seq)\n",
    "     \n",
    "nucleotideToDigit('ACTGN')"
   ]
  },
  {
   "cell_type": "code",
   "execution_count": null,
   "id": "d91e05d6",
   "metadata": {},
   "outputs": [
    {
     "data": {
      "text/html": [
       "<div>\n",
       "<style scoped>\n",
       "    .dataframe tbody tr th:only-of-type {\n",
       "        vertical-align: middle;\n",
       "    }\n",
       "\n",
       "    .dataframe tbody tr th {\n",
       "        vertical-align: top;\n",
       "    }\n",
       "\n",
       "    .dataframe thead th {\n",
       "        text-align: right;\n",
       "    }\n",
       "</style>\n",
       "<table border=\"1\" class=\"dataframe\">\n",
       "  <thead>\n",
       "    <tr style=\"text-align: right;\">\n",
       "      <th></th>\n",
       "      <th>PID</th>\n",
       "      <th>CLASS</th>\n",
       "      <th>CLASSNAME</th>\n",
       "      <th>SEQ</th>\n",
       "    </tr>\n",
       "  </thead>\n",
       "  <tbody>\n",
       "    <tr>\n",
       "      <th>0</th>\n",
       "      <td>AB257344 |SARS coronavirus Frankfurt 1 genomic...</td>\n",
       "      <td>1</td>\n",
       "      <td>SARS-COV-1</td>\n",
       "      <td>GATCTCTTGTAGATCTGTTCTCTAAACGAACTTTAAAATCTGTGTA...</td>\n",
       "    </tr>\n",
       "    <tr>\n",
       "      <th>1</th>\n",
       "      <td>AH013708 |SARS coronavirus Sin0409| partial se...</td>\n",
       "      <td>1</td>\n",
       "      <td>SARS-COV-1</td>\n",
       "      <td>CATTCAGTACGGTCGTAGCGGTATAACACTGGGAGTACTCGTGCCA...</td>\n",
       "    </tr>\n",
       "    <tr>\n",
       "      <th>2</th>\n",
       "      <td>AH013709 |SARS coronavirus Sin_WNV| partial se...</td>\n",
       "      <td>1</td>\n",
       "      <td>SARS-COV-1</td>\n",
       "      <td>CACGCGCGGGCAAGTCAATGTGCACTCTTTCCGAACAACTTGATTA...</td>\n",
       "    </tr>\n",
       "    <tr>\n",
       "      <th>3</th>\n",
       "      <td>AP006557 |SARS coronavirus TWH genomic RNA| co...</td>\n",
       "      <td>1</td>\n",
       "      <td>SARS-COV-1</td>\n",
       "      <td>ATATTAGGTTTTTACCTACCCAGGAAAAGCCAACCAACCTCGATCT...</td>\n",
       "    </tr>\n",
       "    <tr>\n",
       "      <th>4</th>\n",
       "      <td>AP006558 |SARS coronavirus TWJ genomic RNA| co...</td>\n",
       "      <td>1</td>\n",
       "      <td>SARS-COV-1</td>\n",
       "      <td>ATATTAGGTTTTTACCTACCCAGGAAAAGCCAACCAACCTCGATCT...</td>\n",
       "    </tr>\n",
       "  </tbody>\n",
       "</table>\n",
       "</div>"
      ],
      "text/plain": [
       "                                                 PID  ...                                                SEQ\n",
       "0  AB257344 |SARS coronavirus Frankfurt 1 genomic...  ...  GATCTCTTGTAGATCTGTTCTCTAAACGAACTTTAAAATCTGTGTA...\n",
       "1  AH013708 |SARS coronavirus Sin0409| partial se...  ...  CATTCAGTACGGTCGTAGCGGTATAACACTGGGAGTACTCGTGCCA...\n",
       "2  AH013709 |SARS coronavirus Sin_WNV| partial se...  ...  CACGCGCGGGCAAGTCAATGTGCACTCTTTCCGAACAACTTGATTA...\n",
       "3  AP006557 |SARS coronavirus TWH genomic RNA| co...  ...  ATATTAGGTTTTTACCTACCCAGGAAAAGCCAACCAACCTCGATCT...\n",
       "4  AP006558 |SARS coronavirus TWJ genomic RNA| co...  ...  ATATTAGGTTTTTACCTACCCAGGAAAAGCCAACCAACCTCGATCT...\n",
       "\n",
       "[5 rows x 4 columns]"
      ]
     },
     "execution_count": 13,
     "metadata": {},
     "output_type": "execute_result"
    }
   ],
   "source": [
    "df_training = pd.read_csv('data/covid/training.csv')\n",
    "df_training.head()"
   ]
  },
  {
   "cell_type": "code",
   "execution_count": null,
   "id": "c3ccb376",
   "metadata": {},
   "outputs": [
    {
     "data": {
      "text/html": [
       "<div>\n",
       "<style scoped>\n",
       "    .dataframe tbody tr th:only-of-type {\n",
       "        vertical-align: middle;\n",
       "    }\n",
       "\n",
       "    .dataframe tbody tr th {\n",
       "        vertical-align: top;\n",
       "    }\n",
       "\n",
       "    .dataframe thead th {\n",
       "        text-align: right;\n",
       "    }\n",
       "</style>\n",
       "<table border=\"1\" class=\"dataframe\">\n",
       "  <thead>\n",
       "    <tr style=\"text-align: right;\">\n",
       "      <th></th>\n",
       "      <th>PID</th>\n",
       "      <th>CLASS</th>\n",
       "      <th>CLASSNAME</th>\n",
       "      <th>SEQ</th>\n",
       "      <th>ORDINAL_SEQ</th>\n",
       "    </tr>\n",
       "  </thead>\n",
       "  <tbody>\n",
       "    <tr>\n",
       "      <th>0</th>\n",
       "      <td>AB257344 |SARS coronavirus Frankfurt 1 genomic...</td>\n",
       "      <td>1</td>\n",
       "      <td>SARS-COV-1</td>\n",
       "      <td>GATCTCTTGTAGATCTGTTCTCTAAACGAACTTTAAAATCTGTGTA...</td>\n",
       "      <td>[-0.5, 1.5, -1.5, 0.5, -1.5, 0.5, -1.5, -1.5, ...</td>\n",
       "    </tr>\n",
       "    <tr>\n",
       "      <th>1</th>\n",
       "      <td>AH013708 |SARS coronavirus Sin0409| partial se...</td>\n",
       "      <td>1</td>\n",
       "      <td>SARS-COV-1</td>\n",
       "      <td>CATTCAGTACGGTCGTAGCGGTATAACACTGGGAGTACTCGTGCCA...</td>\n",
       "      <td>[0.5, 1.5, -1.5, -1.5, 0.5, 1.5, -0.5, -1.5, 1...</td>\n",
       "    </tr>\n",
       "    <tr>\n",
       "      <th>2</th>\n",
       "      <td>AH013709 |SARS coronavirus Sin_WNV| partial se...</td>\n",
       "      <td>1</td>\n",
       "      <td>SARS-COV-1</td>\n",
       "      <td>CACGCGCGGGCAAGTCAATGTGCACTCTTTCCGAACAACTTGATTA...</td>\n",
       "      <td>[0.5, 1.5, 0.5, -0.5, 0.5, -0.5, 0.5, -0.5, -0...</td>\n",
       "    </tr>\n",
       "    <tr>\n",
       "      <th>3</th>\n",
       "      <td>AP006557 |SARS coronavirus TWH genomic RNA| co...</td>\n",
       "      <td>1</td>\n",
       "      <td>SARS-COV-1</td>\n",
       "      <td>ATATTAGGTTTTTACCTACCCAGGAAAAGCCAACCAACCTCGATCT...</td>\n",
       "      <td>[1.5, -1.5, 1.5, -1.5, -1.5, 1.5, -0.5, -0.5, ...</td>\n",
       "    </tr>\n",
       "    <tr>\n",
       "      <th>4</th>\n",
       "      <td>AP006558 |SARS coronavirus TWJ genomic RNA| co...</td>\n",
       "      <td>1</td>\n",
       "      <td>SARS-COV-1</td>\n",
       "      <td>ATATTAGGTTTTTACCTACCCAGGAAAAGCCAACCAACCTCGATCT...</td>\n",
       "      <td>[1.5, -1.5, 1.5, -1.5, -1.5, 1.5, -0.5, -0.5, ...</td>\n",
       "    </tr>\n",
       "  </tbody>\n",
       "</table>\n",
       "</div>"
      ],
      "text/plain": [
       "                                                 PID  ...                                        ORDINAL_SEQ\n",
       "0  AB257344 |SARS coronavirus Frankfurt 1 genomic...  ...  [-0.5, 1.5, -1.5, 0.5, -1.5, 0.5, -1.5, -1.5, ...\n",
       "1  AH013708 |SARS coronavirus Sin0409| partial se...  ...  [0.5, 1.5, -1.5, -1.5, 0.5, 1.5, -0.5, -1.5, 1...\n",
       "2  AH013709 |SARS coronavirus Sin_WNV| partial se...  ...  [0.5, 1.5, 0.5, -0.5, 0.5, -0.5, 0.5, -0.5, -0...\n",
       "3  AP006557 |SARS coronavirus TWH genomic RNA| co...  ...  [1.5, -1.5, 1.5, -1.5, -1.5, 1.5, -0.5, -0.5, ...\n",
       "4  AP006558 |SARS coronavirus TWJ genomic RNA| co...  ...  [1.5, -1.5, 1.5, -1.5, -1.5, 1.5, -0.5, -0.5, ...\n",
       "\n",
       "[5 rows x 5 columns]"
      ]
     },
     "execution_count": 14,
     "metadata": {},
     "output_type": "execute_result"
    }
   ],
   "source": [
    "df_training['ORDINAL_SEQ'] = df_training['SEQ'].apply(lambda x: nucleotideToDigit(x))\n",
    "df_training.head()"
   ]
  },
  {
   "cell_type": "code",
   "execution_count": null,
   "id": "cd0186f3",
   "metadata": {},
   "outputs": [
    {
     "data": {
      "text/plain": [
       "(25665, 25665, 'AH013708 |SARS coronavirus Sin0409| partial sequence')"
      ]
     },
     "execution_count": 15,
     "metadata": {},
     "output_type": "execute_result"
    }
   ],
   "source": [
    "len(df_training.iloc[1]['SEQ']), len(df_training.iloc[1]['ORDINAL_SEQ']), df_training.iloc[1]['PID']"
   ]
  },
  {
   "cell_type": "code",
   "execution_count": null,
   "id": "d9f820be",
   "metadata": {},
   "outputs": [
    {
     "name": "stdout",
     "output_type": "stream",
     "text": [
      "Average length of the seqeunces:  20151\n"
     ]
    },
    {
     "data": {
      "text/plain": [
       "30123"
      ]
     },
     "execution_count": 16,
     "metadata": {},
     "output_type": "execute_result"
    }
   ],
   "source": [
    "print('Average length of the seqeunces: ', int(np.mean(df_training['ORDINAL_SEQ'].str.len())))\n",
    "maxlen = np.max(df_training['ORDINAL_SEQ'].str.len())\n",
    "maxlen"
   ]
  },
  {
   "cell_type": "code",
   "execution_count": null,
   "id": "0a642d31",
   "metadata": {},
   "outputs": [
    {
     "data": {
      "text/plain": [
       "((1500, 30123), numpy.ndarray)"
      ]
     },
     "execution_count": 17,
     "metadata": {},
     "output_type": "execute_result"
    }
   ],
   "source": [
    "x_train = tf.keras.preprocessing.sequence.pad_sequences(df_training['ORDINAL_SEQ'], maxlen = maxlen)\n",
    "x_train.shape, type(x_train)"
   ]
  },
  {
   "cell_type": "code",
   "execution_count": null,
   "id": "d19cbd54",
   "metadata": {},
   "outputs": [
    {
     "data": {
      "text/plain": [
       "(1500, 200)"
      ]
     },
     "execution_count": 26,
     "metadata": {},
     "output_type": "execute_result"
    }
   ],
   "source": [
    "from sklearn.decomposition import PCA\n",
    "pca = PCA(n_components=200)\n",
    "x_train_smallerdim = pca.fit_transform(x_train)\n",
    "x_train_smallerdim.shape"
   ]
  },
  {
   "cell_type": "code",
   "execution_count": null,
   "id": "32dbaf42",
   "metadata": {},
   "outputs": [
    {
     "data": {
      "text/plain": [
       "(1500,)"
      ]
     },
     "execution_count": 27,
     "metadata": {},
     "output_type": "execute_result"
    }
   ],
   "source": [
    "y_train = df_training['CLASS']\n",
    "y_train.shape"
   ]
  }
 ],
 "metadata": {
  "kernelspec": {
   "display_name": "Python 3 (ipykernel)",
   "language": "python",
   "name": "python3"
  },
  "language_info": {
   "codemirror_mode": {
    "name": "ipython",
    "version": 3
   },
   "file_extension": ".py",
   "mimetype": "text/x-python",
   "name": "python",
   "nbconvert_exporter": "python",
   "pygments_lexer": "ipython3",
   "version": "3.8.12"
  }
 },
 "nbformat": 4,
 "nbformat_minor": 5
}
